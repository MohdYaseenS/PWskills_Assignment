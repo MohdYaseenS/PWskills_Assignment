{
 "cells": [
  {
   "cell_type": "markdown",
   "id": "0fb470e0-cfd2-452c-b7c4-affd3b314bc4",
   "metadata": {},
   "source": [
    "# Problem 1.Given an array of n numbers, give an algorithm which gives the element appearing maximum number of times?"
   ]
  },
  {
   "cell_type": "code",
   "execution_count": 17,
   "id": "ca4ee4ac-c6c5-4740-9692-ddd9f3dfc8dd",
   "metadata": {},
   "outputs": [
    {
     "data": {
      "text/plain": [
       "(2, [1, 1, 2, 2, 2, 2, 4, 4, 4, 6, 7], 4)"
      ]
     },
     "execution_count": 17,
     "metadata": {},
     "output_type": "execute_result"
    }
   ],
   "source": [
    "def max_no_of_times(a):\n",
    "    x=0\n",
    "    N=len(a)\n",
    "    n=0\n",
    "    max_no_=1\n",
    "    #start of selection sort\n",
    "    for i in range(len(a)):\n",
    "        min_idx=i\n",
    "        for j in range(i+1,len(a)):\n",
    "            if a[j]<=a[min_idx]:\n",
    "                min_idx=j\n",
    "        a[min_idx],a[i]=a[i],a[min_idx]\n",
    "        if a[(i-1+N)%N]==a[i]:            # comparing previous == current if true incerement n by 1,else we move to count the new integer by assigning n=1 while storing the current max_no_ and its index i in x.\n",
    "            n+=1\n",
    "        else:\n",
    "            n=1\n",
    "        if n>max_no_:\n",
    "            max_no_=n\n",
    "            x=i\n",
    "    return a[x],a,max_no_\n",
    "a=[1,4,4,6,2,2,1,4,7,2,2]\n",
    "max_no_of_times(a)"
   ]
  },
  {
   "cell_type": "markdown",
   "id": "16e533e6-cfec-497e-8dd2-a8fbe16a67f1",
   "metadata": {},
   "source": [
    "# Problem 2 : We are given a list of n-1 integers and these integers are in the range of 1 to n . There are no\n",
    "# duplicates in the list. One of the integers is missing in the list. Give an algorithm to find that element Ex:\n",
    "# [1,2,4,6,3,7,8] 5 is the missing num."
   ]
  },
  {
   "cell_type": "code",
   "execution_count": 28,
   "id": "facb3d3d-7632-4ca0-883b-debd6ce12740",
   "metadata": {},
   "outputs": [
    {
     "data": {
      "text/plain": [
       "7"
      ]
     },
     "execution_count": 28,
     "metadata": {},
     "output_type": "execute_result"
    }
   ],
   "source": [
    "def bubblesort(a):\n",
    "    for i in range(len(a)-1):\n",
    "        for j in range(0,len(a)-i-1):\n",
    "            if a[j]>=a[j+1]:\n",
    "                a[j],a[j+1]=a[j+1],a[j]\n",
    "    return a\n",
    "a=[1,2,4,6,5,3,8]\n",
    "def find_missing(a):\n",
    "    a=bubblesort(a)\n",
    "    for i in range(len(a)):\n",
    "        if a[i+1]!=a[i]+1:\n",
    "            return a[i]+1\n",
    "        else:\n",
    "            continue\n",
    "find_missing(a)"
   ]
  },
  {
   "cell_type": "markdown",
   "id": "dda8571f-2233-4ece-ab4b-2e5f1205a07e",
   "metadata": {},
   "source": [
    "# Problem 3 : Given an array of n positive numbers. All numbers occurs even number of times except 1 which occurs odd number of times. Find that number in O(n) time and O(1) space. Ex: [1,2,3,2,3,1,3]. 3 is repeats odd times."
   ]
  },
  {
   "cell_type": "code",
   "execution_count": 32,
   "id": "c8c40978-200e-4be4-9393-ad23332969d5",
   "metadata": {},
   "outputs": [
    {
     "data": {
      "text/plain": [
       "2"
      ]
     },
     "execution_count": 32,
     "metadata": {},
     "output_type": "execute_result"
    }
   ],
   "source": [
    "# we use the XOR operator for this task\n",
    "def get_odd_occ(a):\n",
    "    x=0\n",
    "    for i in a:\n",
    "        x=x^i\n",
    "    return x\n",
    "a=[1,2,3,2,3,1,3,3,2]\n",
    "get_odd_occ(a)"
   ]
  },
  {
   "cell_type": "markdown",
   "id": "92517799-14ce-448e-97a1-2d42ed81b085",
   "metadata": {},
   "source": [
    "# Problem 4 : Given an array of n elements. Find two elements in the array such that their sum is equal to given element K."
   ]
  },
  {
   "cell_type": "code",
   "execution_count": 34,
   "id": "c2ffbe90-d740-4b18-a82e-fcb98926c108",
   "metadata": {},
   "outputs": [
    {
     "data": {
      "text/plain": [
       "[0, 3]"
      ]
     },
     "execution_count": 34,
     "metadata": {},
     "output_type": "execute_result"
    }
   ],
   "source": [
    "def get_sum(a,k):\n",
    "    for i in range(len(a)):\n",
    "        for j in range(i+1,len(a)):\n",
    "            if a[i]+a[j]==k:\n",
    "                return [i,j]\n",
    "    return -1\n",
    "\n",
    "a=[2,7,11,15]\n",
    "k=17\n",
    "get_sum(a,k)"
   ]
  },
  {
   "cell_type": "code",
   "execution_count": 50,
   "id": "a68351a3-bceb-4b4c-950c-ee40b1c763fb",
   "metadata": {},
   "outputs": [
    {
     "data": {
      "text/plain": [
       "(2, 15)"
      ]
     },
     "execution_count": 50,
     "metadata": {},
     "output_type": "execute_result"
    }
   ],
   "source": [
    "# using two pointers\n",
    "def get_sum(a,k):\n",
    "    a=sorted(a)\n",
    "    s=0\n",
    "    l=0\n",
    "    r=len(a)-1\n",
    "    found=False\n",
    "    while True:\n",
    "        if l>r:\n",
    "            break\n",
    "        else:\n",
    "            s=a[l]+a[r]\n",
    "            if s<k:\n",
    "                l+=1\n",
    "            elif s>k:\n",
    "                r-=1\n",
    "            elif s==k:\n",
    "                found=True\n",
    "                break\n",
    "    if found==True:\n",
    "        return a[l],a[r]\n",
    "    else:\n",
    "        return -1\n",
    "    \n",
    "a=[2,7,11,15,-10]\n",
    "k=17\n",
    "get_sum(a,k)"
   ]
  },
  {
   "cell_type": "markdown",
   "id": "6d9d1f29-f92e-4fef-8601-a1bc73390039",
   "metadata": {},
   "source": [
    "# Problem 5 : Given an array of both positive and negative numbers, find two numbers such that their sum is closest to 0. Ex: [ 1 ,60 ,-10, 70, -80,85]. Ans : -80,85."
   ]
  },
  {
   "cell_type": "code",
   "execution_count": 35,
   "id": "af42bc25-d50e-46bb-bca9-369ef8f648af",
   "metadata": {},
   "outputs": [
    {
     "data": {
      "text/plain": [
       "(-80, 85)"
      ]
     },
     "execution_count": 35,
     "metadata": {},
     "output_type": "execute_result"
    }
   ],
   "source": [
    "def get_sum(a):\n",
    "    x=0\n",
    "    y=1\n",
    "    min_=a[0]+a[1]\n",
    "    min_=min_**2\n",
    "    for i in range(len(a)):\n",
    "        for j in range(i+1,len(a)):\n",
    "            if (a[i]+a[j])**2<min_:\n",
    "                x,y=i,j\n",
    "    return a[x],a[y]\n",
    "a=[ 1 ,60 ,-10, 70, -80,85]\n",
    "get_sum(a)"
   ]
  },
  {
   "cell_type": "code",
   "execution_count": 58,
   "id": "92e69433-f67f-4b74-8e2c-bf721b18dc5a",
   "metadata": {},
   "outputs": [
    {
     "name": "stdout",
     "output_type": "stream",
     "text": [
      "[-60, -10, 1, 70, 80, 85]\n"
     ]
    },
    {
     "data": {
      "text/plain": [
       "(-10, 1)"
      ]
     },
     "execution_count": 58,
     "metadata": {},
     "output_type": "execute_result"
    }
   ],
   "source": [
    "def get_sum(a):\n",
    "    a=sorted(a)\n",
    "    l=0\n",
    "    r=len(a)-1\n",
    "    x=l\n",
    "    y=r\n",
    "    min_abs=abs(a[l]+a[r])\n",
    "    while l<r:\n",
    "        s=a[l]+a[r]\n",
    "        s_abs=abs(s)\n",
    "        if s_abs<min_abs:\n",
    "            x,y=l,r\n",
    "        if s>0:\n",
    "            r-=1\n",
    "        elif s<0:\n",
    "            l+=1\n",
    "    return a[x],a[y]\n",
    "a=[ 1 ,-60 ,-10, 70, 80,85]\n",
    "print(sorted(a))\n",
    "get_sum(a)"
   ]
  },
  {
   "cell_type": "markdown",
   "id": "80c2607c-3b47-4a34-b461-3f69e89201a2",
   "metadata": {},
   "source": [
    "# Problem 6 : Given an array of n elements . Find three elements such that their sum is equal to the given number."
   ]
  },
  {
   "cell_type": "code",
   "execution_count": 2,
   "id": "26f2d94a-cabf-4255-a1b4-d7a67f24550d",
   "metadata": {},
   "outputs": [
    {
     "data": {
      "text/plain": [
       "(2, 5, 10)"
      ]
     },
     "execution_count": 2,
     "metadata": {},
     "output_type": "execute_result"
    }
   ],
   "source": [
    "def find_sum_3(a,k):\n",
    "    a=sorted(a)\n",
    "    n=len(a)\n",
    "    for i in range(0,n-2):\n",
    "        l=i+1\n",
    "        r=n-1\n",
    "        while(l<r):\n",
    "            if a[l]+a[r]+a[i]==k:\n",
    "                return a[i],a[l],a[r]\n",
    "            elif a[l]+a[r]+a[i]<k:\n",
    "                l+=1\n",
    "            elif a[l]+a[r]+a[i]>k:\n",
    "                r-=1\n",
    "    return -1\n",
    "\n",
    "a=[4,2,7,10,5,3]\n",
    "k=17\n",
    "find_sum_3(a,k)"
   ]
  },
  {
   "cell_type": "markdown",
   "id": "706faff7-7514-40f7-b821-54688e173f30",
   "metadata": {},
   "source": [
    "# Problem 7 : Given an array of n elements . Find three elements i, j, k in the array such that i * i + j * j = k*k."
   ]
  },
  {
   "cell_type": "code",
   "execution_count": 18,
   "id": "d4a46a5b-d336-4510-b0f7-2989ee2a2c7c",
   "metadata": {},
   "outputs": [
    {
     "data": {
      "text/plain": [
       "(5, 4, 3)"
      ]
     },
     "execution_count": 18,
     "metadata": {},
     "output_type": "execute_result"
    }
   ],
   "source": [
    "def find_nums(a):\n",
    "    a=sorted(a,reverse=True)\n",
    "    n=len(a)\n",
    "    for i in range(0,n-2):\n",
    "        l=i+1\n",
    "        r=n-1\n",
    "        while l<r:\n",
    "            if a[i]**2==a[l]**2+a[r]**2:\n",
    "                return a[i],a[l],a[r]\n",
    "            elif a[i]**2>a[l]**2+a[r]**2:\n",
    "                r-=1\n",
    "            elif a[i]**2<a[l]**2+a[r]**2:\n",
    "                l+=1\n",
    "    return -1\n",
    "a=[2,3,5,4,1,10,11,17]\n",
    "find_nums(a)            "
   ]
  },
  {
   "cell_type": "markdown",
   "id": "74d2dacd-bb53-44bf-9ea2-d8da3debb737",
   "metadata": {},
   "source": [
    "# Problem 8 : An element is a majority if it appears more than n/2 times. Give an algorithm takes an array of n element as argument and identifies a majority (if it exists)."
   ]
  },
  {
   "cell_type": "code",
   "execution_count": 10,
   "id": "d498ea88-5587-41d8-bee5-d81b6cf8d14e",
   "metadata": {},
   "outputs": [
    {
     "data": {
      "text/plain": [
       "5"
      ]
     },
     "execution_count": 10,
     "metadata": {},
     "output_type": "execute_result"
    }
   ],
   "source": [
    "def majority_num(a):\n",
    "    x=0\n",
    "    N=len(a)\n",
    "    n=0\n",
    "    max_no_=1\n",
    "    #start of selection sort\n",
    "    for i in range(len(a)):\n",
    "        min_idx=i\n",
    "        for j in range(i+1,len(a)):\n",
    "            if a[j]<=a[min_idx]:\n",
    "                min_idx=j\n",
    "        a[min_idx],a[i]=a[i],a[min_idx]\n",
    "        if a[(i-1+N)%N]==a[i]:          \n",
    "            n+=1\n",
    "        else:\n",
    "            n=1\n",
    "        if n>max_no_:\n",
    "            max_no_=n\n",
    "            x=i\n",
    "    if max_no_>N//2:\n",
    "        return a[x]\n",
    "    else:\n",
    "        return -1\n",
    "\n",
    "a=[5,7,3,5,2,5,27,5,3,9,5,5,5,5]\n",
    "majority_num(a)"
   ]
  },
  {
   "cell_type": "markdown",
   "id": "4253374b-6bdc-423a-b57a-0b3684cc0728",
   "metadata": {},
   "source": [
    "# Problem 9 : Given n × n matrix, and in each row all 1’s are followed by 0’s. Find the row with the maximum number of 0’s."
   ]
  },
  {
   "cell_type": "code",
   "execution_count": null,
   "id": "024d7591-b0ed-44bc-b7b1-54815522d2f2",
   "metadata": {},
   "outputs": [],
   "source": []
  },
  {
   "cell_type": "markdown",
   "id": "8b229b58-0c85-49d9-bf80-b53b904a7585",
   "metadata": {},
   "source": [
    "# Sort an array of 0’s, 1’s and 2’s [or R’s, G’s and B’s]: Given an array A[] consisting of 0’s, 1’s and 2’s, give an algorithm for sorting A[].The algorithm should put all 0’s first, then all 1’s and finally all 2’s at the end. Example Input = {0,1,1,0,1,2,1,2,0,0,0,1}, Output = {0,0,0,0,0,1,1,1,1,1,2,2}"
   ]
  },
  {
   "cell_type": "code",
   "execution_count": 14,
   "id": "f2addf66-0271-4b2f-b012-9f7d974a0f49",
   "metadata": {},
   "outputs": [
    {
     "name": "stdout",
     "output_type": "stream",
     "text": [
      "[0, 0, 0, 0, 0, 1, 1, 1, 1, 1, 2, 2]\n"
     ]
    }
   ],
   "source": [
    "a=[0,1,1,0,1,2,1,2,0,0,0,1]\n",
    "def selection_sort(a):\n",
    "    for i in range(len(a)):\n",
    "        min_idx=i\n",
    "        for j in range(i,len(a)):\n",
    "            if a[j]<a[min_idx]:\n",
    "                min_idx=j\n",
    "        a[i],a[min_idx]=a[min_idx],a[i]\n",
    "selection_sort(a)\n",
    "print(a)        "
   ]
  }
 ],
 "metadata": {
  "kernelspec": {
   "display_name": "Python 3 (ipykernel)",
   "language": "python",
   "name": "python3"
  },
  "language_info": {
   "codemirror_mode": {
    "name": "ipython",
    "version": 3
   },
   "file_extension": ".py",
   "mimetype": "text/x-python",
   "name": "python",
   "nbconvert_exporter": "python",
   "pygments_lexer": "ipython3",
   "version": "3.10.8"
  }
 },
 "nbformat": 4,
 "nbformat_minor": 5
}
