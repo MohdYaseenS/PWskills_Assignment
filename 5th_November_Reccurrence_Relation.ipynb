{
 "cells": [
  {
   "cell_type": "markdown",
   "id": "5ea0e5e3-ff2a-4ab8-bb3b-aa437c07c159",
   "metadata": {},
   "source": [
    "# 1. Find the value of T(2) for the recurrence relation T(n) = 3T(n-1) + 12n, given that T(0)=5."
   ]
  },
  {
   "cell_type": "raw",
   "id": "0fdca78b-d82f-474f-942a-52ec8f0430e5",
   "metadata": {},
   "source": [
    "T(n)=3T(n-1)+12n\n",
    "for n=1:\n",
    "    T(1)=3*T(1-1)+12*1\n",
    "    T(1)=3*5+12=27\n",
    "for n=2:\n",
    "    T(2)=3*T(2-1)+12*2\n",
    "    T(2)=3*27+12*2\n",
    "    T(2)=81+24\n",
    "    T(2)=105\n",
    "T(2)=105"
   ]
  },
  {
   "cell_type": "markdown",
   "id": "fad4b767-087d-4e7a-a6a7-5c281f3c711b",
   "metadata": {},
   "source": [
    "# 2. Given a recurrence relation, solve it using the substitution method:\n"
   ]
  },
  {
   "cell_type": "markdown",
   "id": "d7629539-78b0-4d76-9ebb-4afad77c57bd",
   "metadata": {},
   "source": [
    "# a. T(n) = T(n-1) + c"
   ]
  },
  {
   "cell_type": "raw",
   "id": "c7c271fe-43b7-484c-8ab7-f8116a005f2b",
   "metadata": {},
   "source": [
    "T(n)=T(n-1)+c\n",
    "T(n-1)=T(n-2)+c\n",
    "therefore,\n",
    "T(n)=T(n-2)+c+c\n",
    "Iterating K times:\n",
    "    T(n)=T(n-k)+kc\n",
    "    this loops till k=n\n",
    "    T(n)==> 0 + nc\n",
    "    that is Time Complexity = O(n)"
   ]
  },
  {
   "cell_type": "markdown",
   "id": "5dd420e4-035f-42d9-914f-901c83c3b6d6",
   "metadata": {},
   "source": [
    "# b. T(n) = 2T(n/2) + n"
   ]
  },
  {
   "cell_type": "raw",
   "id": "d2d10eb1-a1c1-4613-8f97-5dd5ac20f495",
   "metadata": {},
   "source": [
    "T(n)=2T(n/2)+n\n",
    "T(n/2)=2T(n/4)+(n/2)\n",
    "therefore,\n",
    "T(n)=2*(2T(n/4)+(n/2))+n\n",
    "Iterating K times:\n",
    "    T(n)=(2**k)*T(n/(2**k))+(nk)\n",
    "    this loops till 2^k=n\n",
    "    k=log n to base 2\n",
    "    T(n)==> n+n(log n)\n",
    "    that is Time complexity = O(n log2(n)) ## n*(log n to the base n)\n",
    "    "
   ]
  },
  {
   "cell_type": "markdown",
   "id": "03d55a26-7289-4c8b-809c-a80663b167c0",
   "metadata": {},
   "source": [
    "# c. T(n) = 2T(n/2) + c"
   ]
  },
  {
   "cell_type": "raw",
   "id": "1e81a0e1-08ac-4b05-bdb6-297913a235c0",
   "metadata": {},
   "source": [
    "T(n)=2T(n/2)+c\n",
    "T(n/2)=2T(n/4)+c\n",
    "T(n)=2*(2T(n/4)+c)+c\n",
    "For k times:\n",
    "    T(n)=2^k(T(n/2^k)+(2^(k-1)*c)\n",
    "    2^k=n\n",
    "    k=log n\n",
    "    T(n)=n+(n/2)*c\n",
    "    Therefore, Time complexity==> O(n)"
   ]
  },
  {
   "cell_type": "markdown",
   "id": "32d394f4-5290-4c51-812e-a6489c196a06",
   "metadata": {},
   "source": [
    "# d. T(n) = T(n/2) + c"
   ]
  },
  {
   "cell_type": "raw",
   "id": "30767bd5-e9b0-4bf8-867a-4cff7af113ce",
   "metadata": {},
   "source": [
    "T(n)=T(n/2)+c\n",
    "T(n/2)=T(n/4)+c\n",
    "T(n)=T(n/4)+2c\n",
    "for k times:\n",
    "    T(n)=T(n/2^k)+kc\n",
    "    2^k=n\n",
    "    k=log n\n",
    "    T(n)==> O(log n)"
   ]
  },
  {
   "cell_type": "markdown",
   "id": "291914c8-a2a8-4358-ae03-356513294508",
   "metadata": {},
   "source": [
    "# 3. Given a rec%rrence relation, solve it %sing the rec%rsive tree approach:"
   ]
  },
  {
   "cell_type": "markdown",
   "id": "cf6bb713-d85f-4dda-8c08-9603cecdfcdb",
   "metadata": {},
   "source": [
    "# a. T(n) = 2T(n-1) +1"
   ]
  },
  {
   "cell_type": "raw",
   "id": "baf2a109-66fe-4c9f-9496-37ecb6f68a4a",
   "metadata": {},
   "source": [
    "                        T(n)\n",
    "              T(n-1)              T(n-1)\n",
    "         T(n-2)   T(n-2)    T(n-2)       T(n-2)\n",
    "      T(n-3) T(n-3)  ...............................\n",
    "At the k th level no of function calls = 2^k\n",
    "k will continue till k=n\n",
    "For each function call Time taken =C\n",
    "Total time taken = C(2^0+2^1+.....+2^n)\n",
    "                 == c*(2^n-1)\n",
    "                 == Time complexity = O(2^n)"
   ]
  },
  {
   "cell_type": "markdown",
   "id": "4ccc7ada-5f42-4df2-85b1-83054fd9b598",
   "metadata": {},
   "source": [
    "# T(n) = 2T(n/2) + n"
   ]
  },
  {
   "cell_type": "raw",
   "id": "a5def91c-0c5a-48ec-9a63-2af2e322b0ef",
   "metadata": {},
   "source": [
    "                          T(n)\n",
    "            T(n/2)                   T(n/2)\n",
    "        T(n/4)  T(n/4)           T(n/4)   T(n/4)\n",
    "At k th level no of function calls = 2^k\n",
    "k will continue till 2^k=n\n",
    "for each function call time taken = n\n",
    "Total Time taken = (n+n+n+n+....n)\n",
    "                 = n*\n",
    "                 = n*("
   ]
  }
 ],
 "metadata": {
  "kernelspec": {
   "display_name": "Python 3 (ipykernel)",
   "language": "python",
   "name": "python3"
  },
  "language_info": {
   "codemirror_mode": {
    "name": "ipython",
    "version": 3
   },
   "file_extension": ".py",
   "mimetype": "text/x-python",
   "name": "python",
   "nbconvert_exporter": "python",
   "pygments_lexer": "ipython3",
   "version": "3.10.8"
  }
 },
 "nbformat": 4,
 "nbformat_minor": 5
}
