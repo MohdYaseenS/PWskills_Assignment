{
 "cells": [
  {
   "cell_type": "markdown",
   "id": "5f7180f8-f98a-4945-8d59-a751ab81fd24",
   "metadata": {
    "tags": []
   },
   "source": [
    "# 1. What is a Python library? Why do we use Python libraries?"
   ]
  },
  {
   "cell_type": "raw",
   "id": "8cb55836-64b6-4837-b31f-7cbd224a3dcb",
   "metadata": {},
   "source": [
    "A Python library is a collection of pre-written and reusable code modules or functions that can be easily imported and used in your Python programs. Libraries provide a set of tools, functions, and utilities that help developers perform specific tasks without having to write the code from scratch. These libraries can cover a wide range of functionalities, from handling mathematical operations to working with data, handling web requests, and much more.\n",
    "\n",
    "Some reasons why libraries are useful are:\n",
    "1. Code reusability\n",
    "2. Efficiency\n",
    "3. Standardisation\n",
    "4. Scalability"
   ]
  },
  {
   "cell_type": "markdown",
   "id": "90b4a8a0-d850-4c66-99b9-467eb5ca6183",
   "metadata": {},
   "source": [
    "# 2. What is the difference between Numpy array an^ List?"
   ]
  },
  {
   "cell_type": "raw",
   "id": "88fedf53-a9c1-4b66-a2c7-17084716977e",
   "metadata": {},
   "source": [
    "1. Numpy arrays are homogeneous\n",
    "   List can contain all types of datas\n",
    "2. NumPy arrays are more efficient for numerical operations and large datasets due to their homogeneous nature and optimized, contiguous memory layout.\n",
    "   Lists are less efficient for numerical operations and large datasets, as they are more flexible and dynamic, leading to overhead in terms of memory and        computation.\n",
    "\n",
    "3. NumPy arrays are more memory-efficient because of their fixed and homogeneous nature.\n",
    "   Lists may consume more memory due to their dynamic and heterogeneous nature.\n",
    "\n",
    "4. NumPy provides a wide range of mathematical functions and operations that can be applied directly to arrays. It supports element-wise operations and broadcasting.\n",
    "   Lists have fewer built-in mathematical functions and operations compared to NumPy arrays. Operations on lists usually require explicit loops.\n",
    "\n",
    "5. NumPy arrays can be multi-dimensional (e.g., 1D, 2D, 3D). This is particularly useful for handling matrices and tensors.\n",
    "   Lists are one-dimensional, and to achieve multi-dimensional structures, nested lists are required."
   ]
  },
  {
   "cell_type": "markdown",
   "id": "a1fc7031-f10c-4794-b42d-1402b8f1811d",
   "metadata": {},
   "source": [
    "# 3. Fin^ the shape, size an^ ^imension of the following array?"
   ]
  },
  {
   "cell_type": "code",
   "execution_count": 1,
   "id": "27ec025e-4018-4b7e-8fb3-d0220d452529",
   "metadata": {},
   "outputs": [],
   "source": [
    "import numpy as np"
   ]
  },
  {
   "cell_type": "code",
   "execution_count": 4,
   "id": "329f957f-ff45-4a5d-b091-3e5d3345697b",
   "metadata": {},
   "outputs": [],
   "source": [
    "arr=np.array([[1, 2, 3, 4],\n",
    "            [5, 6, 7, 8],\n",
    "            [9, 10, 11, 12]])"
   ]
  },
  {
   "cell_type": "code",
   "execution_count": 5,
   "id": "fd7e2437-4c29-4b3a-893b-b7718b12ac17",
   "metadata": {},
   "outputs": [
    {
     "data": {
      "text/plain": [
       "(3, 4)"
      ]
     },
     "execution_count": 5,
     "metadata": {},
     "output_type": "execute_result"
    }
   ],
   "source": [
    "np.shape(arr)"
   ]
  },
  {
   "cell_type": "code",
   "execution_count": 6,
   "id": "3864b4c5-313a-4c80-ae8a-c0fca0400e14",
   "metadata": {},
   "outputs": [
    {
     "data": {
      "text/plain": [
       "12"
      ]
     },
     "execution_count": 6,
     "metadata": {},
     "output_type": "execute_result"
    }
   ],
   "source": [
    "np.size(arr)"
   ]
  },
  {
   "cell_type": "code",
   "execution_count": 13,
   "id": "751d745f-4636-4a2f-b122-87b72b8399cc",
   "metadata": {},
   "outputs": [
    {
     "data": {
      "text/plain": [
       "(3, 4)"
      ]
     },
     "execution_count": 13,
     "metadata": {},
     "output_type": "execute_result"
    }
   ],
   "source": [
    "arr.shape"
   ]
  },
  {
   "cell_type": "code",
   "execution_count": 8,
   "id": "12a52ae9-3517-49b6-8558-547e408f7d58",
   "metadata": {},
   "outputs": [
    {
     "data": {
      "text/plain": [
       "12"
      ]
     },
     "execution_count": 8,
     "metadata": {},
     "output_type": "execute_result"
    }
   ],
   "source": [
    "arr.size"
   ]
  },
  {
   "cell_type": "code",
   "execution_count": 10,
   "id": "7f95e5db-1ff8-48c3-a1f4-dfbe753b7769",
   "metadata": {},
   "outputs": [
    {
     "data": {
      "text/plain": [
       "2"
      ]
     },
     "execution_count": 10,
     "metadata": {},
     "output_type": "execute_result"
    }
   ],
   "source": [
    "np.ndim(arr)"
   ]
  },
  {
   "cell_type": "code",
   "execution_count": 11,
   "id": "7645ca27-678b-43f1-b4f3-9149ff25f508",
   "metadata": {},
   "outputs": [
    {
     "data": {
      "text/plain": [
       "2"
      ]
     },
     "execution_count": 11,
     "metadata": {},
     "output_type": "execute_result"
    }
   ],
   "source": [
    "arr.ndim"
   ]
  },
  {
   "cell_type": "markdown",
   "id": "0c59c5dd-5b1d-42fe-9900-208c228d667d",
   "metadata": {},
   "source": [
    "# 4. Write python co^e to access the first row of the following array?"
   ]
  },
  {
   "cell_type": "code",
   "execution_count": 19,
   "id": "c22ac71e-db0b-4626-81f5-59eb17ce15e2",
   "metadata": {},
   "outputs": [
    {
     "name": "stdout",
     "output_type": "stream",
     "text": [
      "[1 2 3 4]\n"
     ]
    }
   ],
   "source": [
    "arr=np.array([[1, 2, 3, 4],\n",
    "            [5, 6, 7, 8],\n",
    "            [9, 10, 11, 12]])\n",
    "element=arr[0,:]\n",
    "print(element)"
   ]
  },
  {
   "cell_type": "markdown",
   "id": "3b4b74e9-3009-46b9-9623-5dc611521b35",
   "metadata": {},
   "source": [
    "# 5. How ^o you access the element at the thir^ row an^ fourth column from the given numpy array?"
   ]
  },
  {
   "cell_type": "code",
   "execution_count": 21,
   "id": "8e9b594a-5139-4b1d-b1bb-1dbd9750123f",
   "metadata": {},
   "outputs": [
    {
     "name": "stdout",
     "output_type": "stream",
     "text": [
      "[ 3  7 11]\n",
      "[ 4  8 12]\n"
     ]
    }
   ],
   "source": [
    "arr=np.array([[1, 2, 3, 4],\n",
    "            [5, 6, 7, 8],\n",
    "            [9, 10, 11, 12]])\n",
    "print(arr[:,2])\n",
    "print(arr[:,3])"
   ]
  },
  {
   "cell_type": "markdown",
   "id": "3f18b48d-dfef-400c-9ea3-a82b9f7ada07",
   "metadata": {},
   "source": [
    "# 6. Write co^e to extract all o^^-in^exe^ elements from the given numpy array?"
   ]
  },
  {
   "cell_type": "code",
   "execution_count": 29,
   "id": "5d4e9ca5-ac63-4d2d-9ecd-8d74657731dc",
   "metadata": {},
   "outputs": [
    {
     "name": "stdout",
     "output_type": "stream",
     "text": [
      "[[6 8]]\n"
     ]
    }
   ],
   "source": [
    "arr=np.array([[1, 2, 3, 4],\n",
    "            [5, 6, 7, 8],\n",
    "            [9, 10, 11, 12]])\n",
    "print(arr[1::2,1::2])"
   ]
  },
  {
   "cell_type": "markdown",
   "id": "e16aa25a-21fb-4359-a592-5b7e7d09724e",
   "metadata": {},
   "source": [
    "# 7.How can you generate a ran^om 3x3 matrix with values between 0 an^ 1?"
   ]
  },
  {
   "cell_type": "code",
   "execution_count": 39,
   "id": "c4d69f4a-ffce-4127-89b7-afaff9f765cc",
   "metadata": {},
   "outputs": [
    {
     "name": "stdout",
     "output_type": "stream",
     "text": [
      "[[0.98298749 0.28974713 0.46889665]\n",
      " [0.91773745 0.62194839 0.95587722]\n",
      " [0.56982017 0.04461298 0.45103229]]\n"
     ]
    }
   ],
   "source": [
    "arr=np.random.rand(3,3)\n",
    "print(arr)"
   ]
  },
  {
   "cell_type": "markdown",
   "id": "f2a2816c-c8d7-480f-9625-43446a4e0704",
   "metadata": {},
   "source": [
    "# 8. Describe the ^ifference between np.ran^om.ran^ an^ np.ran^om.ran^n?"
   ]
  },
  {
   "cell_type": "raw",
   "id": "775f5cb1-3d46-49c7-b7dd-c0454bbefb41",
   "metadata": {},
   "source": [
    "The np.random.rand function generates random numbers from a uniform distribution over the interval [0, 1).\n",
    "The np.random.randn function generates random numbers from a standard normal distribution (mean=0, standard deviation=1)."
   ]
  },
  {
   "cell_type": "markdown",
   "id": "1884282f-e988-429c-ada9-89b704313bf9",
   "metadata": {},
   "source": [
    "# 9. Write co^e to increase the ^imension of the following array?"
   ]
  },
  {
   "cell_type": "code",
   "execution_count": 40,
   "id": "54a8464e-7713-488d-a855-cc60be0e7ead",
   "metadata": {},
   "outputs": [
    {
     "data": {
      "text/plain": [
       "2"
      ]
     },
     "execution_count": 40,
     "metadata": {},
     "output_type": "execute_result"
    }
   ],
   "source": [
    "arr=np.array([[1, 2, 3, 4],\n",
    "            [5, 6, 7, 8],\n",
    "            [9, 10, 11, 12]])\n",
    "arr.ndim"
   ]
  },
  {
   "cell_type": "code",
   "execution_count": 41,
   "id": "18b0fd5b-39e1-40ca-999c-470413d0b2cc",
   "metadata": {},
   "outputs": [
    {
     "data": {
      "text/plain": [
       "array([[[ 1,  2,  3,  4],\n",
       "        [ 5,  6,  7,  8],\n",
       "        [ 9, 10, 11, 12]]])"
      ]
     },
     "execution_count": 41,
     "metadata": {},
     "output_type": "execute_result"
    }
   ],
   "source": [
    "np.expand_dims(arr,axis=0)"
   ]
  },
  {
   "cell_type": "code",
   "execution_count": 42,
   "id": "8dc403b0-3a41-4c41-8132-f04f5b305c25",
   "metadata": {},
   "outputs": [
    {
     "data": {
      "text/plain": [
       "array([[[ 1,  2,  3,  4]],\n",
       "\n",
       "       [[ 5,  6,  7,  8]],\n",
       "\n",
       "       [[ 9, 10, 11, 12]]])"
      ]
     },
     "execution_count": 42,
     "metadata": {},
     "output_type": "execute_result"
    }
   ],
   "source": [
    "np.expand_dims(arr,axis=1)"
   ]
  },
  {
   "cell_type": "markdown",
   "id": "cd019db8-a035-4ec7-9a64-57a6c7322d94",
   "metadata": {},
   "source": [
    "# 10. How to transpose the following array in NumPy?"
   ]
  },
  {
   "cell_type": "code",
   "execution_count": 44,
   "id": "c281fd2a-32b3-4e4c-8f56-2c15d424a1a6",
   "metadata": {},
   "outputs": [
    {
     "name": "stdout",
     "output_type": "stream",
     "text": [
      "[[ 1  5  9]\n",
      " [ 2  6 10]\n",
      " [ 3  7 11]\n",
      " [ 4  8 12]]\n",
      "[[ 1  5  9]\n",
      " [ 2  6 10]\n",
      " [ 3  7 11]\n",
      " [ 4  8 12]]\n"
     ]
    }
   ],
   "source": [
    "arr=np.array([[1, 2, 3, 4],\n",
    "            [5, 6, 7, 8],\n",
    "            [9, 10, 11, 12]])\n",
    "print(np.transpose(arr))\n",
    "print(arr.T)"
   ]
  },
  {
   "cell_type": "raw",
   "id": "a2f2ff40-ad30-4828-80d6-521b8decf733",
   "metadata": {},
   "source": [
    "11. Consi^er the following matrix:\n",
    "Matrix A2 [[1, 2, 3, 4] [5, 6, 7, 8],[9, 10, 11, 12]]\n",
    "Matrix B2 [[1, 2, 3, 4] [5, 6, 7, 8],[9, 10, 11, 12]]\n",
    "Perform the following operation using Python1\n",
    ",+ I(dex wiLe multiplicatio'\n",
    "]+ Matix multiplicatio'\n",
    "+ Add both the maticK\n",
    "-+ Subtact matix B om \n",
    "+ Diide Matix B by A"
   ]
  },
  {
   "cell_type": "code",
   "execution_count": 45,
   "id": "5eae14e3-004f-4305-8a32-69d788ee0e51",
   "metadata": {},
   "outputs": [],
   "source": [
    "a=np.array([[1, 2, 3, 4],\n",
    "            [5, 6, 7, 8],\n",
    "            [9, 10, 11, 12]])\n",
    "b=np.array([[1, 2, 3, 4],\n",
    "            [5, 6, 7, 8],\n",
    "            [9, 10, 11, 12]])"
   ]
  },
  {
   "cell_type": "code",
   "execution_count": 46,
   "id": "9023ddc2-b6d0-4248-a7b0-40776e6020bc",
   "metadata": {},
   "outputs": [
    {
     "data": {
      "text/plain": [
       "array([[  1,   4,   9,  16],\n",
       "       [ 25,  36,  49,  64],\n",
       "       [ 81, 100, 121, 144]])"
      ]
     },
     "execution_count": 46,
     "metadata": {},
     "output_type": "execute_result"
    }
   ],
   "source": [
    "a*b"
   ]
  },
  {
   "cell_type": "code",
   "execution_count": 52,
   "id": "970c9132-aab0-48a4-b602-6f9ba648f64f",
   "metadata": {},
   "outputs": [
    {
     "data": {
      "text/plain": [
       "array([[107, 122, 137, 152],\n",
       "       [122, 140, 158, 176],\n",
       "       [137, 158, 179, 200],\n",
       "       [152, 176, 200, 224]])"
      ]
     },
     "execution_count": 52,
     "metadata": {},
     "output_type": "execute_result"
    }
   ],
   "source": [
    "a.T@b"
   ]
  },
  {
   "cell_type": "code",
   "execution_count": 53,
   "id": "db599dd9-b7a3-49ba-8734-5341e191a556",
   "metadata": {},
   "outputs": [
    {
     "data": {
      "text/plain": [
       "array([[ 30,  70, 110],\n",
       "       [ 70, 174, 278],\n",
       "       [110, 278, 446]])"
      ]
     },
     "execution_count": 53,
     "metadata": {},
     "output_type": "execute_result"
    }
   ],
   "source": [
    "a@b.T"
   ]
  },
  {
   "cell_type": "code",
   "execution_count": 54,
   "id": "7c379c30-b41d-47f6-928b-b3655465714c",
   "metadata": {},
   "outputs": [
    {
     "data": {
      "text/plain": [
       "array([[107, 122, 137, 152],\n",
       "       [122, 140, 158, 176],\n",
       "       [137, 158, 179, 200],\n",
       "       [152, 176, 200, 224]])"
      ]
     },
     "execution_count": 54,
     "metadata": {},
     "output_type": "execute_result"
    }
   ],
   "source": [
    "b.T@a"
   ]
  },
  {
   "cell_type": "code",
   "execution_count": 55,
   "id": "f57fe5ae-b025-41cf-bcb4-f7c67cdfd0bb",
   "metadata": {},
   "outputs": [
    {
     "data": {
      "text/plain": [
       "array([[ 30,  70, 110],\n",
       "       [ 70, 174, 278],\n",
       "       [110, 278, 446]])"
      ]
     },
     "execution_count": 55,
     "metadata": {},
     "output_type": "execute_result"
    }
   ],
   "source": [
    "b@a.T"
   ]
  },
  {
   "cell_type": "code",
   "execution_count": 49,
   "id": "2c14bd07-d8b7-4d3f-a093-fd78a4d121b2",
   "metadata": {},
   "outputs": [
    {
     "data": {
      "text/plain": [
       "array([[ 2,  4,  6,  8],\n",
       "       [10, 12, 14, 16],\n",
       "       [18, 20, 22, 24]])"
      ]
     },
     "execution_count": 49,
     "metadata": {},
     "output_type": "execute_result"
    }
   ],
   "source": [
    "a+b"
   ]
  },
  {
   "cell_type": "code",
   "execution_count": 50,
   "id": "801a81c8-dfc7-4b70-865a-4255c3ba1266",
   "metadata": {},
   "outputs": [
    {
     "data": {
      "text/plain": [
       "array([[0, 0, 0, 0],\n",
       "       [0, 0, 0, 0],\n",
       "       [0, 0, 0, 0]])"
      ]
     },
     "execution_count": 50,
     "metadata": {},
     "output_type": "execute_result"
    }
   ],
   "source": [
    "b-a"
   ]
  },
  {
   "cell_type": "code",
   "execution_count": 51,
   "id": "cc7895e9-e6c0-41fa-bb9e-519ad2416653",
   "metadata": {},
   "outputs": [
    {
     "data": {
      "text/plain": [
       "array([[1., 1., 1., 1.],\n",
       "       [1., 1., 1., 1.],\n",
       "       [1., 1., 1., 1.]])"
      ]
     },
     "execution_count": 51,
     "metadata": {},
     "output_type": "execute_result"
    }
   ],
   "source": [
    "b/a"
   ]
  },
  {
   "cell_type": "markdown",
   "id": "64380d71-0d43-4490-8f25-a6992952eea6",
   "metadata": {},
   "source": [
    "# 12. Which function in Numpy can be use^ to swap the byte or^er of an array?"
   ]
  },
  {
   "cell_type": "raw",
   "id": "c72cd70f-eb03-4de4-a49e-6db8c6090167",
   "metadata": {},
   "source": [
    "ndarray.byteswap(inplace=False)\n",
    "where ndarray is the name of the numpy array"
   ]
  },
  {
   "cell_type": "markdown",
   "id": "812e3773-cef8-44da-85e7-40e0a24cbdb3",
   "metadata": {},
   "source": [
    "# 13. What is the significance of the np.linalg.inv function?"
   ]
  },
  {
   "cell_type": "raw",
   "id": "03345c7a-8fba-4d2d-9581-f3f7ab7a5062",
   "metadata": {},
   "source": [
    "The np.linalg.inv function in NumPy is used to compute the (multiplicative) inverse of a square matrix. If A is a square matrix, then the matrix B such that A.dot(B) = B.dot(A) = np.eye(A.shape[0]) (where np.eye is the identity matrix) is considered the inverse of matrix A."
   ]
  },
  {
   "cell_type": "markdown",
   "id": "adaa4eb5-48dc-47ef-b110-1c26eaef8840",
   "metadata": {},
   "source": [
    "# 14. What ^oes the np.reshape function ^o, an^ how is it use^?"
   ]
  },
  {
   "cell_type": "raw",
   "id": "4102d8b1-fd20-404f-ba6a-bcbd1ab00e80",
   "metadata": {},
   "source": [
    "The np.reshape function in NumPy is used to change the shape (dimensions) of an array without changing its data. It returns a new array with the specified shape, and the original array remains unchanged. Reshaping can be useful when you want to modify the arrangement of elements in an array to fit a specific format or to prepare data for specific operations."
   ]
  },
  {
   "cell_type": "markdown",
   "id": "5d86e5de-9839-4377-81fe-a59472541823",
   "metadata": {},
   "source": [
    "# 15. What is broa^casting in Numpy?"
   ]
  },
  {
   "cell_type": "code",
   "execution_count": null,
   "id": "4dd21f05-9c5f-466a-9c34-0d99081a2c89",
   "metadata": {},
   "outputs": [],
   "source": []
  }
 ],
 "metadata": {
  "kernelspec": {
   "display_name": "Python 3 (ipykernel)",
   "language": "python",
   "name": "python3"
  },
  "language_info": {
   "codemirror_mode": {
    "name": "ipython",
    "version": 3
   },
   "file_extension": ".py",
   "mimetype": "text/x-python",
   "name": "python",
   "nbconvert_exporter": "python",
   "pygments_lexer": "ipython3",
   "version": "3.10.8"
  }
 },
 "nbformat": 4,
 "nbformat_minor": 5
}
