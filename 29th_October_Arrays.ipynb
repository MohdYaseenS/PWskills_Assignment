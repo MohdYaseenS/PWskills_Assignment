{
 "cells": [
  {
   "cell_type": "markdown",
   "id": "ab0888e3-5446-4694-ad39-4fb221afbfd5",
   "metadata": {},
   "source": [
    "# 1. Given an array, check if it contains any duplicates or not arr = [1, 2, 4, 2, 5, 9]"
   ]
  },
  {
   "cell_type": "code",
   "execution_count": 20,
   "id": "d4bc0da3-1100-4186-bdc0-4794e442a5f2",
   "metadata": {},
   "outputs": [
    {
     "name": "stdout",
     "output_type": "stream",
     "text": [
      "Duplicates present\n"
     ]
    }
   ],
   "source": [
    "## Time Complexity= O(n)\n",
    "## Space Complexity= O(n)\n",
    "arr=[1,2,4,2,5,9]\n",
    "def check_duplicate(arr):\n",
    "    arr_1=[]\n",
    "    for i in arr:\n",
    "        if i not in arr_1:\n",
    "            arr_1.append(i)\n",
    "        else:\n",
    "            return True\n",
    "    return False\n",
    "\n",
    "if check_duplicate(arr):\n",
    "    print(\"Duplicates present\")\n",
    "else:\n",
    "    print(\"Duplicates not present\")"
   ]
  },
  {
   "cell_type": "markdown",
   "id": "86e16544-3005-492e-895d-08319cde1ec8",
   "metadata": {},
   "source": [
    "# 2. Given an array and an integer k, rotate the array to the right by k steps arr = [1, 2, 3, 4, 5, 6, 7] k = 3"
   ]
  },
  {
   "cell_type": "code",
   "execution_count": 21,
   "id": "41316196-8847-4dee-9d95-cb71e11c3a79",
   "metadata": {},
   "outputs": [
    {
     "name": "stdout",
     "output_type": "stream",
     "text": [
      "[5, 6, 7, 1, 2, 3, 4]\n"
     ]
    }
   ],
   "source": [
    "## Time Complexity= O(n)\n",
    "## Space Complexity = O(n)\n",
    "def rotate_right(arr,k):\n",
    "    arr_1=arr.copy()\n",
    "    n=len(arr)\n",
    "    for i in range(n):\n",
    "        arr[(i+k)%n]=arr_1[i]\n",
    "    return arr\n",
    "arr=[1,2,3,4,5,6,7]\n",
    "k=3\n",
    "print(rotate_right(arr,k))\n",
    "    "
   ]
  },
  {
   "cell_type": "markdown",
   "id": "97cfebd9-bcbd-4e0a-8ce1-4bcd9e95292e",
   "metadata": {},
   "source": [
    "# 3. Reverse the given array in-place, means without using any extra data structure arr = [2, 4, 5, 7, 9, 12]"
   ]
  },
  {
   "cell_type": "code",
   "execution_count": 32,
   "id": "ed9ccc9e-4326-4267-a414-d8c558768f8c",
   "metadata": {},
   "outputs": [
    {
     "name": "stdout",
     "output_type": "stream",
     "text": [
      "[12, 9, 7, 5, 4, 2]\n"
     ]
    }
   ],
   "source": [
    "## Time Complexity= O(n)\n",
    "## Space Complexity = O(1)\n",
    "arr=[2,4,5,7,9,12]\n",
    "n=len(arr)\n",
    "for i in range(int(n/2)):\n",
    "    arr[i],arr[n-i-1]=arr[n-i-1],arr[i]\n",
    "print(arr)"
   ]
  },
  {
   "cell_type": "markdown",
   "id": "4a179ca1-a6b5-4d52-a528-0aec5aebdeff",
   "metadata": {},
   "source": [
    "# 4. Given an array of integers, find the maximum element in an array arr = [10, 5, 20, 8, 15]"
   ]
  },
  {
   "cell_type": "code",
   "execution_count": 35,
   "id": "03706b02-244d-4ee6-a2f1-85f22357b2e7",
   "metadata": {},
   "outputs": [
    {
     "name": "stdout",
     "output_type": "stream",
     "text": [
      "20\n"
     ]
    }
   ],
   "source": [
    "## Time complexity = O(n)\n",
    "## Space Complexity = O(1)\n",
    "arr=[10,5,20,8,15]\n",
    "def max_arr(arr):\n",
    "    l=arr[0]\n",
    "    for i in range(len(arr)):\n",
    "        if arr[i]>l:\n",
    "            l=arr[i]\n",
    "    return l\n",
    "print(max_arr(arr))"
   ]
  },
  {
   "cell_type": "markdown",
   "id": "c201cf58-c43a-42f1-95ce-448361eef065",
   "metadata": {},
   "source": [
    "# 5. Given a sorted array, remove the duplicate element without using any extra data structure arr = [1, 1, 2, 2, 2, 3, 3, 4, 4, 4, 5, 5]"
   ]
  },
  {
   "cell_type": "code",
   "execution_count": 36,
   "id": "ae89e737-9548-4a7e-881f-31beca1abc2f",
   "metadata": {},
   "outputs": [
    {
     "name": "stdout",
     "output_type": "stream",
     "text": [
      "[1, 2, 3, 4, 5]\n"
     ]
    }
   ],
   "source": [
    "arr=[1,1,2,2,2,3,3,4,4,4,5,5]\n",
    "print(list(set(arr)))"
   ]
  },
  {
   "cell_type": "code",
   "execution_count": null,
   "id": "f74f8371-1762-4d5f-8540-15cef184d1e7",
   "metadata": {},
   "outputs": [],
   "source": []
  }
 ],
 "metadata": {
  "kernelspec": {
   "display_name": "Python 3 (ipykernel)",
   "language": "python",
   "name": "python3"
  },
  "language_info": {
   "codemirror_mode": {
    "name": "ipython",
    "version": 3
   },
   "file_extension": ".py",
   "mimetype": "text/x-python",
   "name": "python",
   "nbconvert_exporter": "python",
   "pygments_lexer": "ipython3",
   "version": "3.10.8"
  }
 },
 "nbformat": 4,
 "nbformat_minor": 5
}
