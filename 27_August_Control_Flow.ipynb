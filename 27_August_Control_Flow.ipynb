{
 "cells": [
  {
   "cell_type": "markdown",
   "id": "06d55a58-263e-4170-b079-667c1f453de6",
   "metadata": {},
   "source": [
    "# Basic If-Else Statements:"
   ]
  },
  {
   "cell_type": "markdown",
   "id": "0d32a783-4e01-46b6-81ed-8e88fb7db89f",
   "metadata": {},
   "source": [
    "# 1. Write a Python program to check if a given number is positive or negative."
   ]
  },
  {
   "cell_type": "code",
   "execution_count": null,
   "id": "4b1b911c-67d0-4d69-a5da-9c579e819e54",
   "metadata": {},
   "outputs": [],
   "source": [
    "n=int(input(\"Enter a number\"))\n",
    "if n==0:\n",
    "    print(\"The number is Zero\")\n",
    "elif n<0:\n",
    "    print(\"The number is Negative\")\n",
    "else:\n",
    "    print(\"The number is Positive\")\n",
    "    "
   ]
  },
  {
   "cell_type": "markdown",
   "id": "c657aa63-3391-4db9-9303-566cce6d801e",
   "metadata": {},
   "source": [
    "# 2. Create a program that determines if a person is eligible to vote based on their age."
   ]
  },
  {
   "cell_type": "code",
   "execution_count": 5,
   "id": "3d2092c8-64b0-4d5d-b280-220e4cfbc0d7",
   "metadata": {},
   "outputs": [
    {
     "name": "stdout",
     "output_type": "stream",
     "text": [
      "Eligible Age to Vote is 18 years or above\n"
     ]
    },
    {
     "name": "stdin",
     "output_type": "stream",
     "text": [
      "Enter your age 20\n"
     ]
    },
    {
     "name": "stdout",
     "output_type": "stream",
     "text": [
      "You are eligible to Vote\n"
     ]
    }
   ],
   "source": [
    "print(\"Eligible Age to Vote is 18 years or above\")\n",
    "age=int(input(\"Enter your age\"))\n",
    "if age>=18:\n",
    "    print(\"You are eligible to Vote\")\n",
    "else:\n",
    "    print(\"You are not eligible to Vote\")"
   ]
  },
  {
   "cell_type": "markdown",
   "id": "e3e2b948-8022-4005-bbec-5858b67930cc",
   "metadata": {},
   "source": [
    "# 3. Develop a program to find the maximum of two numbers using if-else statements."
   ]
  },
  {
   "cell_type": "code",
   "execution_count": 8,
   "id": "4e20cc8f-21a4-425a-9b49-7a269cbdec4a",
   "metadata": {},
   "outputs": [
    {
     "name": "stdin",
     "output_type": "stream",
     "text": [
      "enter first number 90\n",
      "enter second number -100\n"
     ]
    },
    {
     "name": "stdout",
     "output_type": "stream",
     "text": [
      "The maximum of the two numbers = 90\n"
     ]
    }
   ],
   "source": [
    "n1=int(input(\"enter first number\"))\n",
    "n2=int(input(\"enter second number\"))\n",
    "if n1>n2:\n",
    "    m=n1\n",
    "else:\n",
    "    m=n2\n",
    "print(\"The maximum of the two numbers =\",m)"
   ]
  },
  {
   "cell_type": "markdown",
   "id": "56ee4ee6-3b77-4754-a160-734a586a6ad1",
   "metadata": {},
   "source": [
    "# 4. Write a Python script to classify a given year as a leap year or not."
   ]
  },
  {
   "cell_type": "code",
   "execution_count": 19,
   "id": "c10b1d8b-2ae5-4c11-b643-414166855760",
   "metadata": {},
   "outputs": [
    {
     "name": "stdin",
     "output_type": "stream",
     "text": [
      "Enter the year 2060\n"
     ]
    },
    {
     "name": "stdout",
     "output_type": "stream",
     "text": [
      "2060 is a leap year\n"
     ]
    }
   ],
   "source": [
    "year=int(input(\"Enter the year\"))\n",
    "if year%400==0:\n",
    "    print(year,\"is a leap year\")\n",
    "elif year%100==0:\n",
    "    print(year,\"is not a leap year\")\n",
    "elif year%4==0:\n",
    "    print(year,\"is a leap year\")\n",
    "else:\n",
    "    print(year,\"is not a leap year\")"
   ]
  },
  {
   "cell_type": "markdown",
   "id": "9aa94474-7ed5-411e-9085-6712e48886cc",
   "metadata": {},
   "source": [
    "# 5. Create a program that checks whether a character is a vowel or a consonant."
   ]
  },
  {
   "cell_type": "code",
   "execution_count": 24,
   "id": "99a7690c-11ae-4961-8fd4-e7c222f410d3",
   "metadata": {},
   "outputs": [
    {
     "name": "stdin",
     "output_type": "stream",
     "text": [
      "enter character 2\n"
     ]
    },
    {
     "name": "stdout",
     "output_type": "stream",
     "text": [
      "2 is not an alphabet\n"
     ]
    }
   ],
   "source": [
    "vowels='aeiou'\n",
    "consonants='bcdfghjklmnpqrstvwxyz'\n",
    "s=input(\"enter character\")\n",
    "if s in vowels or s in vowels.upper():\n",
    "    print(s,\"is a vowel\")\n",
    "elif s in consonants or s in consonants.upper():\n",
    "    print(s,\"is a consonant\")\n",
    "else:\n",
    "    print(s,\"is not an alphabet\")\n"
   ]
  },
  {
   "cell_type": "markdown",
   "id": "78a23575-b978-4e80-9d83-5066c37f79eb",
   "metadata": {},
   "source": [
    "# 6. Implement a program to determine whether a given number is even or odd."
   ]
  },
  {
   "cell_type": "code",
   "execution_count": 25,
   "id": "ca3766ab-d071-4dbb-b3b8-9b4f8e28aa67",
   "metadata": {},
   "outputs": [
    {
     "name": "stdin",
     "output_type": "stream",
     "text": [
      "enter a number 33\n"
     ]
    },
    {
     "name": "stdout",
     "output_type": "stream",
     "text": [
      "33 is an odd number\n"
     ]
    }
   ],
   "source": [
    "n=int(input(\"enter a number\"))\n",
    "if n%2==0:\n",
    "    print(n,\"is an even number\")\n",
    "else:\n",
    "    print(n,\"is an odd number\")\n",
    "    "
   ]
  },
  {
   "cell_type": "markdown",
   "id": "77ed0d80-eb51-4430-9cdf-4d71f29ad727",
   "metadata": {},
   "source": [
    "# 7. Write a Python function to calculate the absolute value of a number without using the `abs()` function."
   ]
  },
  {
   "cell_type": "code",
   "execution_count": 28,
   "id": "c6692513-ae15-4431-afc5-7f46b6ee3d67",
   "metadata": {},
   "outputs": [
    {
     "name": "stdin",
     "output_type": "stream",
     "text": [
      "enter a number -905\n"
     ]
    },
    {
     "name": "stdout",
     "output_type": "stream",
     "text": [
      "The absolute value of the number = 905\n"
     ]
    }
   ],
   "source": [
    "n=int(input(\"enter a number\"))\n",
    "if n<0:\n",
    "    n=-n\n",
    "else:\n",
    "    n=n\n",
    "print(\"The absolute value of the number =\",n)"
   ]
  },
  {
   "cell_type": "markdown",
   "id": "29e271eb-0a94-4813-b295-1e1f62b6e05b",
   "metadata": {},
   "source": [
    "# 8. Develop a program that determines the largest of three given numbers using if-else statements."
   ]
  },
  {
   "cell_type": "code",
   "execution_count": 31,
   "id": "c417f57d-e3fa-4728-b9d0-1e44c91307e7",
   "metadata": {},
   "outputs": [
    {
     "name": "stdin",
     "output_type": "stream",
     "text": [
      "enter a number 20\n",
      "enter a number 30\n",
      "enter a number 5\n"
     ]
    },
    {
     "name": "stdout",
     "output_type": "stream",
     "text": [
      "Largest number= 30\n"
     ]
    }
   ],
   "source": [
    "n1=int(input(\"enter a number\"))\n",
    "n2=int(input(\"enter a number\"))\n",
    "n3=int(input(\"enter a number\"))\n",
    "if n1>n2 and n2>n3:\n",
    "    m=n1\n",
    "elif n2>n3:\n",
    "    m=n2\n",
    "else:\n",
    "    m=n3\n",
    "print(\"Largest number=\",m)"
   ]
  },
  {
   "cell_type": "markdown",
   "id": "12f22fe0-4947-4cd9-adb7-e335ee6afb43",
   "metadata": {},
   "source": [
    "# 9. Create a program that checks if a given string is a palindrome."
   ]
  },
  {
   "cell_type": "code",
   "execution_count": 34,
   "id": "5c015fd8-6130-4144-adbd-d061065a6d98",
   "metadata": {},
   "outputs": [
    {
     "name": "stdin",
     "output_type": "stream",
     "text": [
      "Enter a string helloh\n"
     ]
    },
    {
     "name": "stdout",
     "output_type": "stream",
     "text": [
      "The string is not a Palindrome\n"
     ]
    }
   ],
   "source": [
    "s=input(\"Enter a string\")\n",
    "if s==s[::-1]:\n",
    "    print(\"The string is a Palindrome\")\n",
    "else:\n",
    "    print(\"The string is not a Palindrome\")\n",
    "    "
   ]
  },
  {
   "cell_type": "markdown",
   "id": "325013f3-e1a2-4b92-8765-db6393cfd07b",
   "metadata": {},
   "source": [
    "# 10. Write a Python program to calculate the grade based on a student's score."
   ]
  },
  {
   "cell_type": "code",
   "execution_count": 16,
   "id": "42d6841f-3420-448a-9028-8eb5ca396ebf",
   "metadata": {},
   "outputs": [
    {
     "name": "stdin",
     "output_type": "stream",
     "text": [
      "Enter the mark of the student to the closest integer -10\n"
     ]
    },
    {
     "name": "stdout",
     "output_type": "stream",
     "text": [
      "Invalid score\n"
     ]
    }
   ],
   "source": [
    "n=int(input(\"Enter the mark of the student to the closest integer\"))\n",
    "if n<100 and n>0:\n",
    "    if n>90:\n",
    "        print(\"Grade : A\")\n",
    "    else:\n",
    "        if  n>80:\n",
    "            print(\"Grade : B\")\n",
    "        else:\n",
    "            if n>70:\n",
    "                print(\"Grade : C\")\n",
    "            else:\n",
    "                if n>60:\n",
    "                    print(\"Grade : D\")\n",
    "                else:\n",
    "                    if  n<60 and n>0:\n",
    "                        print(\"Grade : F\")\n",
    "else:\n",
    "    print(\"Invalid score\")"
   ]
  },
  {
   "cell_type": "markdown",
   "id": "f1ec6c21-afb3-485c-916f-9edb734aba36",
   "metadata": {},
   "source": [
    "# Nested If-Else Statements:"
   ]
  },
  {
   "cell_type": "markdown",
   "id": "4c2f0120-1355-478a-bf6f-9f4cc26f45e6",
   "metadata": {},
   "source": [
    "# 11. Write a program to find the largest among three numbers using nested if-else statements."
   ]
  },
  {
   "cell_type": "code",
   "execution_count": 7,
   "id": "5cdf3c54-1324-4586-8f94-4f195444122d",
   "metadata": {},
   "outputs": [
    {
     "name": "stdin",
     "output_type": "stream",
     "text": [
      "enter a number 20\n",
      "enter a number 30\n",
      "enter a number 10\n"
     ]
    },
    {
     "name": "stdout",
     "output_type": "stream",
     "text": [
      "Largest no= 30\n"
     ]
    }
   ],
   "source": [
    "n1=int(input(\"enter a number\"))\n",
    "n2=int(input(\"enter a number\"))\n",
    "n3=int(input(\"enter a number\"))\n",
    "if n1>n2:\n",
    "    if n1>n3:\n",
    "        print(\"Largest no=\",n1)\n",
    "    else:\n",
    "        print(\"Largest no=\",n3)\n",
    "else:\n",
    "    if n2>n3:\n",
    "        print(\"Largest no=\",n2)\n",
    "    else:\n",
    "        print(\"Largest no=\",n3)"
   ]
  },
  {
   "cell_type": "markdown",
   "id": "fcd2746e-7053-4e58-8ebe-0c684e725228",
   "metadata": {},
   "source": [
    "# 12. Implement a program to determine if a triangle is equilateral, isosceles, or scalene."
   ]
  },
  {
   "cell_type": "code",
   "execution_count": 13,
   "id": "1a5e115c-d26e-4c12-8cbc-baa6bacedcd8",
   "metadata": {},
   "outputs": [
    {
     "name": "stdin",
     "output_type": "stream",
     "text": [
      "enter a number 10\n",
      "enter a number 12\n",
      "enter a number 5\n"
     ]
    },
    {
     "name": "stdout",
     "output_type": "stream",
     "text": [
      "Trinagle is Scalene\n"
     ]
    }
   ],
   "source": [
    "n1=int(input(\"enter a number\"))\n",
    "n2=int(input(\"enter a number\"))\n",
    "n3=int(input(\"enter a number\"))\n",
    "if n1+n2>n3 and n2+n3>n1 and n1+n3>n2:\n",
    "    if n1==n2 and n2==n3:\n",
    "        print(\"Triangle is equilateral\")\n",
    "    elif n1==n2 or n2==n3 or n1==n3:\n",
    "        print(\"Triangle is Isosceles\")\n",
    "    else:\n",
    "        print(\"Trinagle is Scalene\")\n",
    "else:\n",
    "    print(\"Not a Triangle\")"
   ]
  },
  {
   "cell_type": "markdown",
   "id": "75be2324-3d6c-4311-9549-c548d62b7109",
   "metadata": {},
   "source": [
    "# 13. Develop a program that checks if a year is a leap year and also if it is a century year."
   ]
  },
  {
   "cell_type": "code",
   "execution_count": null,
   "id": "e199370b-5bad-4878-a2e5-a1773fea8131",
   "metadata": {},
   "outputs": [
    {
     "name": "stdin",
     "output_type": "stream",
     "text": [
      "Enter the year 2000\n"
     ]
    },
    {
     "name": "stdout",
     "output_type": "stream",
     "text": [
      "2000 is a leap year\n",
      "2000 is a century year\n"
     ]
    }
   ],
   "source": [
    "year=int(input(\"Enter the year\"))\n",
    "if year%400==0:\n",
    "    print(year,\"is a leap year\")\n",
    "    print(year,\"is a century year\")\n",
    "elif year%100==0:\n",
    "    print(year,\"is a century year\")\n",
    "    print(year,\"is not a leap year\")\n",
    "elif year%4==0:\n",
    "    print(year,\"is a leap year\")\n",
    "else:\n",
    "    print(year,\"is not a leap year\")\n"
   ]
  },
  {
   "cell_type": "markdown",
   "id": "31097b74-2b3f-4aaa-aac4-476c13349306",
   "metadata": {},
   "source": [
    "# 14. Write a Python script to determine if a number is positive, negative, or zero."
   ]
  },
  {
   "cell_type": "code",
   "execution_count": 19,
   "id": "9a6df096-a326-4dc2-9205-95b5ee9a2609",
   "metadata": {},
   "outputs": [
    {
     "name": "stdin",
     "output_type": "stream",
     "text": [
      "Enter a number -10\n"
     ]
    },
    {
     "name": "stdout",
     "output_type": "stream",
     "text": [
      "The number is negative\n"
     ]
    }
   ],
   "source": [
    "n=int(input(\"Enter a number\"))\n",
    "if n<=0:\n",
    "    if n<0:\n",
    "        print(\"The number is negative\")\n",
    "    else:\n",
    "        print(\"The number is zero\")\n",
    "else:\n",
    "    print(\"The number is positive\")\n",
    "    "
   ]
  },
  {
   "cell_type": "markdown",
   "id": "d445dc78-dff9-4841-971e-efd2d123ec18",
   "metadata": {},
   "source": [
    "# 15. Create a program to check if a person is a teenager (between 13 and 19 years old)."
   ]
  },
  {
   "cell_type": "code",
   "execution_count": 22,
   "id": "b270fea7-acb7-4a6f-b0b2-b886801e6785",
   "metadata": {},
   "outputs": [
    {
     "name": "stdin",
     "output_type": "stream",
     "text": [
      "Enter age 11\n"
     ]
    },
    {
     "name": "stdout",
     "output_type": "stream",
     "text": [
      "Not a Teenager\n"
     ]
    }
   ],
   "source": [
    "age=int(input(\"Enter age\"))\n",
    "if age>=13:\n",
    "    if age<=19:\n",
    "        print(\"Teenager\")\n",
    "    else:\n",
    "        print(\"Not a Teenager\")\n",
    "else:\n",
    "    print(\"Not a Teenager\")"
   ]
  },
  {
   "cell_type": "markdown",
   "id": "db096acc-a120-4dba-9555-fcd38c3aabbf",
   "metadata": {},
   "source": [
    "# 16. Develop a program that determines the type of angle based on its measure (acute, obtuse, or right)."
   ]
  },
  {
   "cell_type": "code",
   "execution_count": 28,
   "id": "fe7c6b9e-550a-4bf8-8890-683815c80e3e",
   "metadata": {},
   "outputs": [
    {
     "name": "stdin",
     "output_type": "stream",
     "text": [
      "enter a number 4\n",
      "enter a number 6\n",
      "enter a number 8\n"
     ]
    },
    {
     "name": "stdout",
     "output_type": "stream",
     "text": [
      "Triangle is obtuse\n"
     ]
    }
   ],
   "source": [
    "n1=int(input(\"enter a number\"))\n",
    "n2=int(input(\"enter a number\"))\n",
    "n3=int(input(\"enter a number\"))\n",
    "if n1+n2>n3 and n2+n3>n1 and n1+n3>n2:\n",
    "    if n1>n2 and n1>n3:\n",
    "        a=n1\n",
    "        b=n2\n",
    "        c=n3\n",
    "    elif n2>n3:\n",
    "        a=n2\n",
    "        b=n1\n",
    "        c=n3\n",
    "    else:\n",
    "        a=n3\n",
    "        b=n1\n",
    "        c=n2\n",
    "    if a**2==b**2+c**2:\n",
    "        print(\"Triangle is Right_angled\")\n",
    "    elif a**2>b**2+c**2:\n",
    "        print(\"Triangle is obtuse\")\n",
    "    elif a**2<b**2+c**2:\n",
    "        print(\"Triangle is acute\")\n",
    "else:\n",
    "    print(\"Not a Triangle\")"
   ]
  },
  {
   "cell_type": "markdown",
   "id": "44a136f9-b099-4e57-ad5e-6d643bfcc007",
   "metadata": {},
   "source": [
    "# 17. Write a Python program to calculate the roots of a quadratic equation."
   ]
  },
  {
   "cell_type": "code",
   "execution_count": 34,
   "id": "c0ef1dae-dfdd-46c1-8549-f8948e39b592",
   "metadata": {},
   "outputs": [
    {
     "name": "stdin",
     "output_type": "stream",
     "text": [
      "Enter coefficients 1\n",
      "Enter coefficients 5\n",
      "Enter coefficients 3\n"
     ]
    },
    {
     "name": "stdout",
     "output_type": "stream",
     "text": [
      "-0.6972243622680054 -4.302775637731995\n"
     ]
    }
   ],
   "source": [
    "l=[float(input(\"Enter coefficients\")) for i in range(3)]\n",
    "a=l[0]\n",
    "b=l[1]\n",
    "c=l[2]\n",
    "d=b**2-(4*a*c)\n",
    "if d>=0:\n",
    "    r1=(-b+d**(1/2))/(2*a)\n",
    "    r2=(-b-d**(1/2))/(2*a)\n",
    "    print(r1,r2)\n",
    "else:\n",
    "    print(\"Imaginary Roots\")\n",
    "    "
   ]
  },
  {
   "cell_type": "markdown",
   "id": "5e00f2d1-989b-41cc-81c0-e31191fad3ed",
   "metadata": {},
   "source": [
    "# 18. Implement a program to determine the day of the week based on a user-provided number (1 for Monday, 2 for Tuesday, etc.)."
   ]
  },
  {
   "cell_type": "code",
   "execution_count": 43,
   "id": "f4d688a8-4b2b-4bf8-ac20-d76452e86571",
   "metadata": {},
   "outputs": [
    {
     "name": "stdin",
     "output_type": "stream",
     "text": [
      "Enter a number 8\n"
     ]
    },
    {
     "name": "stdout",
     "output_type": "stream",
     "text": [
      "Not a Day\n"
     ]
    }
   ],
   "source": [
    "n=int(input(\"Enter a number\"))\n",
    "if n==1:\n",
    "    print(\"Monday\")\n",
    "else:\n",
    "    if n==2:\n",
    "        print(\"Tuesday\")\n",
    "    else:\n",
    "        if n==3:\n",
    "            print(\"Wednesday\")\n",
    "        else:\n",
    "            if n==4:\n",
    "                print(\"Thursday\")\n",
    "            else:\n",
    "                if n==5:\n",
    "                    print(\"Friday\")\n",
    "                else:\n",
    "                    if n==6:\n",
    "                        print(\"Saturday\")\n",
    "                    else:\n",
    "                        if n==7:\n",
    "                            print(\"Sunday\")\n",
    "                        else:\n",
    "                            print(\"Not a Day\")\n",
    "        "
   ]
  },
  {
   "cell_type": "markdown",
   "id": "0121fd12-3597-495c-a2a8-5ab396a223fa",
   "metadata": {},
   "source": [
    "# 19. Create a program that determines if a year is a leap year and also if it is evenly divisible by 400."
   ]
  },
  {
   "cell_type": "code",
   "execution_count": 5,
   "id": "1d0f0d71-ea54-4725-bb2b-a501076078c4",
   "metadata": {},
   "outputs": [
    {
     "name": "stdin",
     "output_type": "stream",
     "text": [
      "Enter the year 1996\n"
     ]
    },
    {
     "name": "stdout",
     "output_type": "stream",
     "text": [
      "1996 is a leap year but not divisible by 400\n"
     ]
    }
   ],
   "source": [
    "year=int(input(\"Enter the year\"))\n",
    "if year%400==0:\n",
    "    print(year,\"is a leap year and divisible by 400\")\n",
    "elif year%100==0:\n",
    "    print(year,\"is not a leap year\")\n",
    "elif year%4==0:\n",
    "    print(year,\"is a leap year but not divisible by 400\")\n",
    "else:\n",
    "    print(year,\"is not a leap year\")"
   ]
  },
  {
   "cell_type": "markdown",
   "id": "cc1e835f-1950-4bfa-87d8-2046b4b26da7",
   "metadata": {},
   "source": [
    "# 20. Develop a program that checks if a given number is prime or not using nested if-else statements."
   ]
  },
  {
   "cell_type": "code",
   "execution_count": 48,
   "id": "556f1c1d-56c5-4cb4-9113-7e8ee119aafb",
   "metadata": {},
   "outputs": [
    {
     "name": "stdin",
     "output_type": "stream",
     "text": [
      "Enter a number 7\n"
     ]
    },
    {
     "name": "stdout",
     "output_type": "stream",
     "text": [
      "Prime\n"
     ]
    }
   ],
   "source": [
    "n=int(input('Enter a number'))\n",
    "c=0;\n",
    "if n>1:\n",
    "    for i in range(2,int((n/2)+1)):\n",
    "        if n%i==0:\n",
    "            c+=1\n",
    "    if c==0:\n",
    "        print(\"Prime\")\n",
    "    else:\n",
    "        print(\"Not a Prime\")\n",
    "else:\n",
    "    print(\"False\")"
   ]
  },
  {
   "cell_type": "markdown",
   "id": "9787f570-2447-4ee6-be26-c26f40ca4ec6",
   "metadata": {},
   "source": [
    "# Elif Statements:"
   ]
  },
  {
   "cell_type": "markdown",
   "id": "3cf9d0d6-f19a-4293-8456-ad2d131d9d0c",
   "metadata": {},
   "source": [
    "# 21. Write a Python program to assign grades based on different ranges of scores using elif statements."
   ]
  },
  {
   "cell_type": "code",
   "execution_count": null,
   "id": "0ba38f2d-ff23-4c5f-b412-eeec33ca202e",
   "metadata": {},
   "outputs": [],
   "source": [
    "n=int(input(\"Enter the mark of the student to the closest integer\"))\n",
    "if n<100 and n>90:\n",
    "    print(\"Grade : A\")\n",
    "elif n<0 and n>80:\n",
    "    print(\"Grade : B\")\n",
    "elif n>70:\n",
    "    print(\"Grade : C\")\n",
    "elif n>60:\n",
    "    print(\"Grade : D\")\n",
    "elif n<60 and n>0:\n",
    "    print(\"Grade : F\")\n",
    "else:\n",
    "    print(\"Invalid score\")"
   ]
  },
  {
   "cell_type": "markdown",
   "id": "5bddd7d6-7cff-4373-950c-21a6c057df90",
   "metadata": {},
   "source": [
    "# 22. Implement a program to determine the type of a triangle based on its angles."
   ]
  },
  {
   "cell_type": "code",
   "execution_count": 21,
   "id": "96e69079-1bcf-405c-8d99-fe2cec8cbb44",
   "metadata": {},
   "outputs": [
    {
     "name": "stdin",
     "output_type": "stream",
     "text": [
      "enter an angle 90\n",
      "enter an angle 100\n",
      "enter an angle 10\n"
     ]
    },
    {
     "name": "stdout",
     "output_type": "stream",
     "text": [
      "Not a Triangle\n"
     ]
    }
   ],
   "source": [
    "n1=int(input(\"enter an angle\"))\n",
    "n2=int(input(\"enter an angle\"))\n",
    "n3=int(input(\"enter an angle\"))\n",
    "if (n1+n2+n3==180):\n",
    "    if n1==90 or n2==90 or n3==90:\n",
    "        print(\"Right-angled Triangle\")\n",
    "    elif n1>90 or n2>90 or n3>90:\n",
    "        print(\"Obstuse Triangle\")\n",
    "    else:\n",
    "        print(\"Acute angled triangle\")\n",
    "else:\n",
    "    print(\"Not a Triangle\")"
   ]
  },
  {
   "cell_type": "markdown",
   "id": "feea1d92-776b-4641-a9cf-595f5018893e",
   "metadata": {},
   "source": [
    "# 23. Develop a program to categorize a given person's BMI into underweight, normal, overweight, or obese using elif statements."
   ]
  },
  {
   "cell_type": "code",
   "execution_count": 26,
   "id": "dd67ef22-799d-440d-b76c-ba58f0bb744f",
   "metadata": {},
   "outputs": [
    {
     "name": "stdin",
     "output_type": "stream",
     "text": [
      "Enter the BMI 24\n"
     ]
    },
    {
     "name": "stdout",
     "output_type": "stream",
     "text": [
      "Normal\n"
     ]
    }
   ],
   "source": [
    "bmi=float(input('Enter the BMI'))\n",
    "if bmi<=18.5:\n",
    "    print(\"Underweight\")\n",
    "elif bmi>18.5 and bmi<25:\n",
    "    print(\"Normal\")\n",
    "elif bmi>=25 and bmi<30:\n",
    "    print(\"OverWeight\")\n",
    "elif bmi>=30 and bmi<40:\n",
    "    print(\"Obesity\")\n",
    "else:\n",
    "    print(\"Invalid BMI\")"
   ]
  },
  {
   "cell_type": "markdown",
   "id": "0d76ff98-799a-4d7a-a9d1-133a61fe76e1",
   "metadata": {},
   "source": [
    "# 24. Create a program that determines whether a given number is positive, negative, or zero using elif statements."
   ]
  },
  {
   "cell_type": "code",
   "execution_count": 2,
   "id": "c39536b7-fc94-4603-9208-3900899c2fc4",
   "metadata": {},
   "outputs": [
    {
     "name": "stdin",
     "output_type": "stream",
     "text": [
      "Enter a number -10\n"
     ]
    },
    {
     "name": "stdout",
     "output_type": "stream",
     "text": [
      "The number is Negative\n"
     ]
    }
   ],
   "source": [
    "n=int(input(\"Enter a number\"))\n",
    "if n>0:\n",
    "    print(\"The number is positive\")\n",
    "elif n<0:\n",
    "    print(\"The number is Negative\")\n",
    "else:\n",
    "    print(\"The number is zero\")"
   ]
  },
  {
   "cell_type": "markdown",
   "id": "d95312cb-6c2e-4b81-9033-4d8cada597b3",
   "metadata": {},
   "source": [
    "# 25. Write a Python script to determine the type of a character (uppercase, lowercase, or special) using elif statements."
   ]
  },
  {
   "cell_type": "code",
   "execution_count": 7,
   "id": "b7e8d94b-86f2-491b-b443-061a624ba7a4",
   "metadata": {},
   "outputs": [
    {
     "name": "stdin",
     "output_type": "stream",
     "text": [
      "Enter a character io\n"
     ]
    },
    {
     "name": "stdout",
     "output_type": "stream",
     "text": [
      "Lowercase\n"
     ]
    }
   ],
   "source": [
    "s=input(\"Enter a character\")\n",
    "if s.isupper():\n",
    "    print(\"Uppercase\")\n",
    "elif s.islower():\n",
    "    print(\"Lowercase\")\n",
    "elif s in '~`!@#$%^&*()-_=+]}[{\\|\";:/?.>,<\\|' or s in \"'\":\n",
    "    print(\"Special Character\")\n",
    "else:\n",
    "    print(\"Not a character\")"
   ]
  },
  {
   "cell_type": "markdown",
   "id": "93f822ce-371e-494e-b40d-8cd8d30b995d",
   "metadata": {},
   "source": [
    "# 26. Implement a program to calculate the discounted price based on different purchase amounts using elif statements."
   ]
  },
  {
   "cell_type": "code",
   "execution_count": 11,
   "id": "c085f3c9-a51e-4d89-9948-8f766c01f913",
   "metadata": {},
   "outputs": [
    {
     "name": "stdin",
     "output_type": "stream",
     "text": [
      "Enter the price 4000\n"
     ]
    },
    {
     "name": "stdout",
     "output_type": "stream",
     "text": [
      "discounted price = 2000.0\n"
     ]
    }
   ],
   "source": [
    "price=int(input(\"Enter the price\"))\n",
    "if price>1500 and price<=2000:\n",
    "    d_p= price*0.90\n",
    "elif price>2000 and price<=2500:\n",
    "    d_p=price*0.85\n",
    "elif price>2500 and price<=3500:\n",
    "    d_p=price*0.75\n",
    "elif price>3500:\n",
    "    d_p=price*0.50\n",
    "else:\n",
    "    d_p=price\n",
    "if price<0:\n",
    "    print(\"Enter a valid price\")\n",
    "else:\n",
    "    print(\"discounted price =\",d_p)"
   ]
  },
  {
   "cell_type": "markdown",
   "id": "0963f781-a015-4d27-8550-91994d097d2e",
   "metadata": {},
   "source": [
    "# 27. Develop a program to calculate the electricity bill based on different consumption slabs using elif statements."
   ]
  },
  {
   "cell_type": "code",
   "execution_count": 13,
   "id": "d8113c73-6eff-4be8-a12a-5a60a6e8eb38",
   "metadata": {},
   "outputs": [
    {
     "name": "stdin",
     "output_type": "stream",
     "text": [
      "Enter the no of units of electricity consumed 270\n"
     ]
    },
    {
     "name": "stdout",
     "output_type": "stream",
     "text": [
      "Electrity bill amount due= 1890.0\n"
     ]
    }
   ],
   "source": [
    "n=float(input(\"Enter the no of units of electricity consumed\"))\n",
    "if n>0 and n<=250:\n",
    "    r=6.50\n",
    "elif n<=300:\n",
    "    r=7\n",
    "elif n<=400:\n",
    "    r=7.60\n",
    "elif n<=500:\n",
    "    r=8.70\n",
    "else:\n",
    "    r=9.70\n",
    "print(\"Electrity bill amount due=\",n*r)"
   ]
  },
  {
   "cell_type": "markdown",
   "id": "3f5f88f6-a7b8-4dd4-afe1-5e9e453b8fac",
   "metadata": {},
   "source": [
    "# 28. Create a program to determine the type of quadrilateral based on its angles and sides using elif statements."
   ]
  },
  {
   "cell_type": "code",
   "execution_count": 19,
   "id": "2c6bf9b7-c401-4fba-974a-763b92470eee",
   "metadata": {},
   "outputs": [
    {
     "name": "stdin",
     "output_type": "stream",
     "text": [
      "enter a side 10\n",
      "enter a side 20\n",
      "enter a side 20\n",
      "enter a side 30\n",
      "Enter an angle 90\n",
      "Enter an angle 90\n",
      "Enter an angle 90\n",
      "Enter an angle 90\n"
     ]
    },
    {
     "name": "stdout",
     "output_type": "stream",
     "text": [
      "Rectangle\n"
     ]
    }
   ],
   "source": [
    "n1=float(input(\"enter a side\"))\n",
    "n2=float(input(\"enter a side\"))\n",
    "n3=float(input(\"enter a side\"))\n",
    "n4=float(input(\"enter a side\"))\n",
    "a1=float(input(\"Enter an angle\"))\n",
    "a2=float(input(\"Enter an angle\"))\n",
    "a3=float(input(\"Enter an angle\"))\n",
    "a4=float(input(\"Enter an angle\"))\n",
    "if a1+a2+a3+a4==360:\n",
    "    if a1==a2==a3==a4==90:\n",
    "        if n1==n2==n3==n4:\n",
    "            print(\"Square\")\n",
    "        elif n1+n2==n3+n4 or n1+n3==n2+n4 or n1+n4==n2+n3:\n",
    "            print(\"Rectangle\")\n",
    "        "
   ]
  },
  {
   "cell_type": "markdown",
   "id": "55fba625-9d6e-40c0-8dcb-83a0ef2e8935",
   "metadata": {},
   "source": [
    "# 29. Write a Python script to determine the season based on a user-provided month using elif statements."
   ]
  },
  {
   "cell_type": "code",
   "execution_count": 29,
   "id": "3020e3d6-ed7c-43e5-9029-d8460156ca78",
   "metadata": {},
   "outputs": [
    {
     "name": "stdin",
     "output_type": "stream",
     "text": [
      "Enter the month MARch\n"
     ]
    },
    {
     "name": "stdout",
     "output_type": "stream",
     "text": [
      "Spring\n"
     ]
    }
   ],
   "source": [
    "winter=['january','february','december']\n",
    "summer=['june','july','august']\n",
    "spring=['march','april','may']\n",
    "autumn=['september','october','november']\n",
    "month=input(\"Enter the month\")\n",
    "month=month.lower()\n",
    "if month in winter:\n",
    "    print(\"Winter\")\n",
    "elif month in summer:\n",
    "    print(\"Summer\")\n",
    "elif month in spring:\n",
    "    print(\"Spring\")\n",
    "elif month in autumn:\n",
    "    print(\"Autumn\")\n",
    "else:\n",
    "    print(\"Not a Month\")"
   ]
  },
  {
   "cell_type": "markdown",
   "id": "ebb440fc-4d4f-4016-9ead-c091d6e70003",
   "metadata": {},
   "source": [
    "# 30. Implement a program to determine the type of a year (leap or common) and month (30 or 31 days) using elif statements."
   ]
  },
  {
   "cell_type": "code",
   "execution_count": 38,
   "id": "85c62dfd-df9b-4af2-a910-03d1697d4d89",
   "metadata": {},
   "outputs": [
    {
     "name": "stdin",
     "output_type": "stream",
     "text": [
      "Enter the year 1600\n",
      "Enter the month february\n"
     ]
    },
    {
     "name": "stdout",
     "output_type": "stream",
     "text": [
      "Leap Year\n",
      "29 Days\n"
     ]
    }
   ],
   "source": [
    "year=int(input(\"Enter the year\"))\n",
    "month=input(\"Enter the month\")\n",
    "month=month.lower()\n",
    "m30=['april','june','september','november']\n",
    "m31=['january','march','may','july','august','october','december']\n",
    "if year%400==0:\n",
    "    print(\"Leap Year\")\n",
    "    if month in m30:\n",
    "        print(\"30 Days\")\n",
    "    elif month in m31:\n",
    "        print(\"31 Days\")\n",
    "    else:\n",
    "        print(\"29 Days\")\n",
    "elif year%100==0:\n",
    "    print(\"Not a leap Year\")\n",
    "    if month in m30:\n",
    "        print(\"30 Days\")\n",
    "    elif month in m31:\n",
    "        print(\"31 Days\")\n",
    "    else:\n",
    "        print(\"28 Days\")\n",
    "elif year%4==0:\n",
    "    print(\"Leap Year\")\n",
    "    if month in m30:\n",
    "        print(\"30 Days\")\n",
    "    elif month in m31:\n",
    "        print(\"31 Days\")\n",
    "    else:\n",
    "        print(\"29 Days\")\n",
    "else:\n",
    "    print(\"Not a leap Year\")\n",
    "    if month in m30:\n",
    "        print(\"30 Days\")\n",
    "    elif month in m31:\n",
    "        print(\"31 Days\")\n",
    "    else:\n",
    "        print(\"28 Days\")"
   ]
  },
  {
   "cell_type": "markdown",
   "id": "6b38e687-efa6-4e9c-ad5e-574d3ecd279d",
   "metadata": {},
   "source": [
    "# Basic Level:"
   ]
  },
  {
   "cell_type": "markdown",
   "id": "d21171db-6b9c-43b1-9faf-0059bbbaac82",
   "metadata": {},
   "source": [
    "# 1. Write a Python program that checks if a given number is positive, negative, or zero."
   ]
  },
  {
   "cell_type": "code",
   "execution_count": 39,
   "id": "97c53eb9-f58b-466c-aed5-da7911fe6156",
   "metadata": {},
   "outputs": [
    {
     "name": "stdin",
     "output_type": "stream",
     "text": [
      "Enter a number -90\n"
     ]
    },
    {
     "name": "stdout",
     "output_type": "stream",
     "text": [
      "The number is Negative\n"
     ]
    }
   ],
   "source": [
    "n=int(input(\"Enter a number\"))\n",
    "if n==0:\n",
    "    print(\"The number is Zero\")\n",
    "elif n<0:\n",
    "    print(\"The number is Negative\")\n",
    "else:\n",
    "    print(\"The number is Positive\")"
   ]
  },
  {
   "cell_type": "markdown",
   "id": "355a4e1e-11cd-4cc4-afde-686382edeece",
   "metadata": {},
   "source": [
    "# 2. Create a program to determine if a person is eligible to vote based on their age."
   ]
  },
  {
   "cell_type": "code",
   "execution_count": 40,
   "id": "1bd5f984-e668-4190-a7af-9d52684f8f21",
   "metadata": {},
   "outputs": [
    {
     "name": "stdout",
     "output_type": "stream",
     "text": [
      "Eligible Age to Vote is 18 years or above\n"
     ]
    },
    {
     "name": "stdin",
     "output_type": "stream",
     "text": [
      "Enter your age 25\n"
     ]
    },
    {
     "name": "stdout",
     "output_type": "stream",
     "text": [
      "You are eligible to Vote\n"
     ]
    }
   ],
   "source": [
    "print(\"Eligible Age to Vote is 18 years or above\")\n",
    "age=int(input(\"Enter your age\"))\n",
    "if age>=18:\n",
    "    print(\"You are eligible to Vote\")\n",
    "else:\n",
    "    print(\"You are not eligible to Vote\")"
   ]
  },
  {
   "cell_type": "markdown",
   "id": "1230e9ae-2e6b-4952-9910-3d3b43c515b5",
   "metadata": {},
   "source": [
    "# 3. Write a program to find the maximum of two given numbers using conditional statements."
   ]
  },
  {
   "cell_type": "code",
   "execution_count": 41,
   "id": "4e1ebd95-b62b-4360-8582-026f008126bf",
   "metadata": {},
   "outputs": [
    {
     "name": "stdin",
     "output_type": "stream",
     "text": [
      "enter first number 100\n",
      "enter second number 105\n"
     ]
    },
    {
     "name": "stdout",
     "output_type": "stream",
     "text": [
      "The maximum of the two numbers = 105\n"
     ]
    }
   ],
   "source": [
    "n1=int(input(\"enter first number\"))\n",
    "n2=int(input(\"enter second number\"))\n",
    "if n1>n2:\n",
    "    m=n1\n",
    "else:\n",
    "    m=n2\n",
    "print(\"The maximum of the two numbers =\",m)"
   ]
  },
  {
   "cell_type": "markdown",
   "id": "bf9e82df-bf85-41ba-94e5-bbb64261b1c0",
   "metadata": {},
   "source": [
    "# 4. Develop a program that calculates the grade of a student based on their exam score."
   ]
  },
  {
   "cell_type": "code",
   "execution_count": 47,
   "id": "62ac2db4-836d-4eb8-acd2-a1b11a4a30a2",
   "metadata": {},
   "outputs": [
    {
     "name": "stdin",
     "output_type": "stream",
     "text": [
      "Enter the mark of the student to the closest integer 80\n"
     ]
    },
    {
     "name": "stdout",
     "output_type": "stream",
     "text": [
      "Grade : B\n"
     ]
    }
   ],
   "source": [
    "n=int(input(\"Enter the mark of the student to the closest integer\"))\n",
    "if n<=100 and n>90:\n",
    "    print(\"Grade : A\")\n",
    "elif n>=80:\n",
    "    print(\"Grade : B\")\n",
    "elif n>=70:\n",
    "    print(\"Grade : C\")\n",
    "elif n>=60:\n",
    "    print(\"Grade : D\")\n",
    "elif n<60 and n>0:\n",
    "    print(\"Grade : F\")\n",
    "else:\n",
    "    print(\"Invalid score\")"
   ]
  },
  {
   "cell_type": "markdown",
   "id": "de041379-1db2-468e-b2e4-978f19560b39",
   "metadata": {},
   "source": [
    "# 5. Create a program that checks if a year is a leap year or not."
   ]
  },
  {
   "cell_type": "code",
   "execution_count": 52,
   "id": "62197732-9801-4d65-b542-880fb1718a45",
   "metadata": {},
   "outputs": [
    {
     "name": "stdin",
     "output_type": "stream",
     "text": [
      "Enter the year 2100\n"
     ]
    },
    {
     "name": "stdout",
     "output_type": "stream",
     "text": [
      "2100 is not a leap year\n"
     ]
    }
   ],
   "source": [
    "year=int(input(\"Enter the year\"))\n",
    "if year%400==0:\n",
    "    print(year,\"is a leap year\")\n",
    "elif year%100==0:\n",
    "    print(year,\"is not a leap year\")\n",
    "elif year%4==0:\n",
    "    print(year,\"is a leap year\")\n",
    "else:\n",
    "    print(year,\"is not a leap year\")"
   ]
  },
  {
   "cell_type": "markdown",
   "id": "c66a33c5-b3bc-4955-9350-e336ce2118dd",
   "metadata": {},
   "source": [
    "# 6. Write a program to classify a triangle based on its sides' lengths."
   ]
  },
  {
   "cell_type": "code",
   "execution_count": 53,
   "id": "da213e92-ef8f-4ca2-9b99-8c1415e0056f",
   "metadata": {},
   "outputs": [
    {
     "name": "stdin",
     "output_type": "stream",
     "text": [
      "enter a number 10\n",
      "enter a number 20\n",
      "enter a number 12\n"
     ]
    },
    {
     "name": "stdout",
     "output_type": "stream",
     "text": [
      "Triangle is obtuse\n"
     ]
    }
   ],
   "source": [
    "n1=int(input(\"enter a number\"))\n",
    "n2=int(input(\"enter a number\"))\n",
    "n3=int(input(\"enter a number\"))\n",
    "if n1+n2>n3 and n2+n3>n1 and n1+n3>n2:\n",
    "    if n1>n2 and n1>n3:\n",
    "        a=n1\n",
    "        b=n2\n",
    "        c=n3\n",
    "    elif n2>n3:\n",
    "        a=n2\n",
    "        b=n1\n",
    "        c=n3\n",
    "    else:\n",
    "        a=n3\n",
    "        b=n1\n",
    "        c=n2\n",
    "    if a**2==b**2+c**2:\n",
    "        print(\"Triangle is Right_angled\")\n",
    "    elif a**2>b**2+c**2:\n",
    "        print(\"Triangle is obtuse\")\n",
    "    elif a**2<b**2+c**2:\n",
    "        print(\"Triangle is acute\")\n",
    "else:\n",
    "    print(\"Not a Triangle\")"
   ]
  },
  {
   "cell_type": "markdown",
   "id": "a6659caa-912d-4120-a012-5473ceac1814",
   "metadata": {},
   "source": [
    "# 7. Build a program that determines the largest of three given numbers."
   ]
  },
  {
   "cell_type": "code",
   "execution_count": 54,
   "id": "59f37f7d-f73f-4fb8-b682-8010d16476b9",
   "metadata": {},
   "outputs": [
    {
     "name": "stdin",
     "output_type": "stream",
     "text": [
      "enter a number 10\n",
      "enter a number -10\n",
      "enter a number 40\n"
     ]
    },
    {
     "name": "stdout",
     "output_type": "stream",
     "text": [
      "Largest no= 40\n"
     ]
    }
   ],
   "source": [
    "n1=int(input(\"enter a number\"))\n",
    "n2=int(input(\"enter a number\"))\n",
    "n3=int(input(\"enter a number\"))\n",
    "if n1>n2:\n",
    "    if n1>n3:\n",
    "        print(\"Largest no=\",n1)\n",
    "    else:\n",
    "        print(\"Largest no=\",n3)\n",
    "else:\n",
    "    if n2>n3:\n",
    "        print(\"Largest no=\",n2)\n",
    "    else:\n",
    "        print(\"Largest no=\",n3)"
   ]
  },
  {
   "cell_type": "markdown",
   "id": "f6b1b121-a71e-45ec-8571-aa8b06e89865",
   "metadata": {},
   "source": [
    "# 8. Develop a program that checks whether a character is a vowel or a consonant."
   ]
  },
  {
   "cell_type": "code",
   "execution_count": 56,
   "id": "9652bfa5-c1af-4b8c-93bd-75c0fcbf3933",
   "metadata": {},
   "outputs": [
    {
     "name": "stdin",
     "output_type": "stream",
     "text": [
      "enter character Y\n"
     ]
    },
    {
     "name": "stdout",
     "output_type": "stream",
     "text": [
      "Y is a consonant\n"
     ]
    }
   ],
   "source": [
    "vowels='aeiou'\n",
    "consonants='bcdfghjklmnpqrstvwxyz'\n",
    "s=input(\"enter character\")\n",
    "if s in vowels or s in vowels.upper():\n",
    "    print(s,\"is a vowel\")\n",
    "elif s in consonants or s in consonants.upper():\n",
    "    print(s,\"is a consonant\")\n",
    "else:\n",
    "    print(s,\"is not an alphabet\")"
   ]
  },
  {
   "cell_type": "markdown",
   "id": "ff258387-bb7b-48ce-8662-cc8d1cf8d341",
   "metadata": {},
   "source": [
    "# 9. Create a program to calculate the total cost of a shopping cart based on discounts."
   ]
  },
  {
   "cell_type": "code",
   "execution_count": 15,
   "id": "53be0795-2ea8-43db-bf8a-cc0ed910df56",
   "metadata": {},
   "outputs": [
    {
     "name": "stdin",
     "output_type": "stream",
     "text": [
      "enter the total cart price 4000\n"
     ]
    },
    {
     "name": "stdout",
     "output_type": "stream",
     "text": [
      "Discounted price= 3000.0\n"
     ]
    }
   ],
   "source": [
    "d=[0.95,0.9,0.8,0.75,0.6]\n",
    "cost=float(input(\"enter the total cart price\"))\n",
    "if cost>1000 and cost<2000:\n",
    "    cost*=d[0]\n",
    "elif 2000<=cost<3000:\n",
    "    cost*=d[1]\n",
    "elif 3000<=cost<4000:\n",
    "    cost*=d[2]\n",
    "elif 4000<=cost<5000:\n",
    "    cost*=d[3]\n",
    "elif 5000<=cost:\n",
    "    cost*=d[4]\n",
    "elif cost<0:\n",
    "    print(\"Invalid\")\n",
    "else:\n",
    "    cost=cost\n",
    "print(\"Discounted price=\",cost)"
   ]
  },
  {
   "cell_type": "markdown",
   "id": "f065d94a-d1a0-48be-a1c9-1f50daafad21",
   "metadata": {},
   "source": [
    "# 10. Write a program that checks if a given number is even or odd."
   ]
  },
  {
   "cell_type": "code",
   "execution_count": 57,
   "id": "2bf276be-07bf-4c14-b97d-0b746e788eaa",
   "metadata": {},
   "outputs": [
    {
     "name": "stdin",
     "output_type": "stream",
     "text": [
      "Enter a Number 125\n"
     ]
    },
    {
     "name": "stdout",
     "output_type": "stream",
     "text": [
      "Odd\n"
     ]
    }
   ],
   "source": [
    "n=int(input(\"Enter a Number\"))\n",
    "if n%2==0:\n",
    "    print(\"Even\")\n",
    "else:\n",
    "    print(\"Odd\")"
   ]
  },
  {
   "cell_type": "markdown",
   "id": "876ca060-fdcd-4dfe-9077-352bee3f4f65",
   "metadata": {},
   "source": [
    "# 11. Write a program that calculates the roots of a quadratic equation ."
   ]
  },
  {
   "cell_type": "code",
   "execution_count": 10,
   "id": "278432bd-7548-4031-accc-0448cc68d415",
   "metadata": {},
   "outputs": [
    {
     "name": "stdin",
     "output_type": "stream",
     "text": [
      "Enter coefficients 2\n",
      "Enter coefficients 2\n",
      "Enter coefficients 2\n"
     ]
    },
    {
     "name": "stdout",
     "output_type": "stream",
     "text": [
      "Imaginary Roots\n",
      "Root1= -0.5+i0.8660254037844386\n",
      "Root1= -0.5-i0.8660254037844386\n"
     ]
    }
   ],
   "source": [
    "l=[float(input(\"Enter coefficients\")) for i in range(3)]\n",
    "a=l[0]\n",
    "b=l[1]\n",
    "c=l[2]\n",
    "d=b**2-(4*a*c)\n",
    "if d>=0:\n",
    "    r1=(-b+d**(1/2))/(2*a)\n",
    "    r2=(-b-d**(1/2))/(2*a)\n",
    "    print(r1,r2)\n",
    "else:\n",
    "    d=abs(d)\n",
    "    print(\"Imaginary Roots\")\n",
    "    print(f'Root1= {-(b/(2*a))}+i{abs((d**(1/2))/(2*a))}')\n",
    "    print(f'Root1= {-(b/(2*a))}-i{abs((d**(1/2))/(2*a))}')\n",
    "    "
   ]
  },
  {
   "cell_type": "markdown",
   "id": "109436bb-a7ab-4145-83b2-fd5d48587560",
   "metadata": {},
   "source": [
    "# 12. Create a program that determines the day of the week based on the day number (1-7)."
   ]
  },
  {
   "cell_type": "code",
   "execution_count": 12,
   "id": "a4de6907-a6eb-48e1-bac9-9397e8873bf8",
   "metadata": {},
   "outputs": [
    {
     "name": "stdin",
     "output_type": "stream",
     "text": [
      "Enter a number 10\n"
     ]
    },
    {
     "name": "stdout",
     "output_type": "stream",
     "text": [
      "Not a Day\n"
     ]
    }
   ],
   "source": [
    "n=int(input(\"Enter a number\"))\n",
    "if n==1:\n",
    "    print(\"Monday\")\n",
    "elif n==2:\n",
    "        print(\"Tuesday\")\n",
    "elif n==3:\n",
    "        print(\"Wednesday\")\n",
    "elif n==4:\n",
    "        print(\"Thursday\")\n",
    "elif n==5:\n",
    "        print(\"Friday\")\n",
    "elif n==6:\n",
    "        print(\"Saturday\")\n",
    "elif n==7:\n",
    "        print(\"Sunday\")\n",
    "else:\n",
    "        print(\"Not a Day\")"
   ]
  },
  {
   "cell_type": "markdown",
   "id": "f2a379cf-56cf-4f72-946d-0143e852db63",
   "metadata": {},
   "source": [
    "# 13. Develop a program that calculates the factorial of a given number using recursion."
   ]
  },
  {
   "cell_type": "code",
   "execution_count": 16,
   "id": "6107c63c-6eb7-4527-9a19-caa7bd4341e9",
   "metadata": {},
   "outputs": [
    {
     "name": "stdin",
     "output_type": "stream",
     "text": [
      "Enter a Number 4\n"
     ]
    },
    {
     "name": "stdout",
     "output_type": "stream",
     "text": [
      "24\n"
     ]
    }
   ],
   "source": [
    "def fact(n):\n",
    "    if n==1:\n",
    "        return 1\n",
    "    return n*fact(n-1)\n",
    "n=int(input(\"Enter a Number\"))\n",
    "print(fact(n))"
   ]
  },
  {
   "cell_type": "markdown",
   "id": "b6e903cd-175a-4c51-8e02-e38e7a2e141f",
   "metadata": {},
   "source": [
    "# 14. Write a program to find the largest among three numbers without using the `max()` function."
   ]
  },
  {
   "cell_type": "code",
   "execution_count": 17,
   "id": "5a172f1f-09dc-4269-be4e-a6efef270847",
   "metadata": {},
   "outputs": [
    {
     "name": "stdin",
     "output_type": "stream",
     "text": [
      "enter a number 10\n",
      "enter a number 30\n",
      "enter a number 15\n"
     ]
    },
    {
     "name": "stdout",
     "output_type": "stream",
     "text": [
      "Largest no= 30\n"
     ]
    }
   ],
   "source": [
    "n1=int(input(\"enter a number\"))\n",
    "n2=int(input(\"enter a number\"))\n",
    "n3=int(input(\"enter a number\"))\n",
    "if n1>n2:\n",
    "    if n1>n3:\n",
    "        print(\"Largest no=\",n1)\n",
    "    else:\n",
    "        print(\"Largest no=\",n3)\n",
    "else:\n",
    "    if n2>n3:\n",
    "        print(\"Largest no=\",n2)\n",
    "    else:\n",
    "        print(\"Largest no=\",n3)"
   ]
  },
  {
   "cell_type": "markdown",
   "id": "fe290a99-bc0f-43bb-a46a-48d28e50ed38",
   "metadata": {},
   "source": [
    "# 15. Create a program that simulates a basic ATM transaction menu."
   ]
  },
  {
   "cell_type": "code",
   "execution_count": 11,
   "id": "d376f1cc-332e-4846-8fda-32d9ec53b088",
   "metadata": {},
   "outputs": [
    {
     "name": "stdin",
     "output_type": "stream",
     "text": [
      "Enter Username Yasy\n"
     ]
    },
    {
     "name": "stdout",
     "output_type": "stream",
     "text": [
      "2550\n",
      "Enter 1-Deposit 2-Withdrawal 3-Check balance\n"
     ]
    },
    {
     "name": "stdin",
     "output_type": "stream",
     "text": [
      " 2\n",
      "Enter the amount to Withdraw 3000\n"
     ]
    },
    {
     "name": "stdout",
     "output_type": "stream",
     "text": [
      "Insufficient Balance\n",
      "2550\n"
     ]
    },
    {
     "name": "stdin",
     "output_type": "stream",
     "text": [
      "Do you want to continue 1\n"
     ]
    },
    {
     "name": "stdout",
     "output_type": "stream",
     "text": [
      "Enter 1-Deposit 2-Withdrawal 3-Check balance\n"
     ]
    },
    {
     "name": "stdin",
     "output_type": "stream",
     "text": [
      " 2\n",
      "Enter the amount to Withdraw 2500\n"
     ]
    },
    {
     "name": "stdout",
     "output_type": "stream",
     "text": [
      "50.0\n"
     ]
    },
    {
     "name": "stdin",
     "output_type": "stream",
     "text": [
      "Do you want to continue no\n"
     ]
    }
   ],
   "source": [
    "def deposit(b):\n",
    "    a=float(input(\"Enter the amount to deposit\"))\n",
    "    b+=a\n",
    "    return b\n",
    "def withdraw(b):\n",
    "    a=float(input(\"Enter the amount to Withdraw\"))\n",
    "    if a>b:\n",
    "        print(\"Insufficient Balance\")\n",
    "        return b\n",
    "    else:\n",
    "        b-=a\n",
    "        return b\n",
    "def check_bal(b):\n",
    "    print(\"Balance =\",b)\n",
    "b={'Yasy':2550,\n",
    "   'Abd' :2700,\n",
    "   'srk' :3890}\n",
    "u=input(\"Enter Username\")\n",
    "while u not in b.keys():\n",
    "    print(\"Enter a valid username\")\n",
    "    u=input(\"Enter Username\")\n",
    "print(b[u])\n",
    "while True:\n",
    "    print(\"Enter 1-Deposit 2-Withdrawal 3-Check balance\")\n",
    "    op=int(input())\n",
    "    if op==1:\n",
    "        b[u]=deposit(b[u])\n",
    "        print(b[u])\n",
    "    elif op==2:\n",
    "        b[u]=withdraw(b[u])\n",
    "        print(b[u])\n",
    "    elif op==3:\n",
    "        check_bal(b[u])\n",
    "    else:\n",
    "        print(\"Invalid Request\")\n",
    "    y=input(\"Do you want to continue\")\n",
    "    if y=='No' or y=='no':\n",
    "        break\n",
    "\n"
   ]
  },
  {
   "cell_type": "markdown",
   "id": "01c736be-2a50-4f7e-ac7b-f69f8c10a378",
   "metadata": {},
   "source": [
    "# 16. Build a program that checks if a given string is a palindrome or not."
   ]
  },
  {
   "cell_type": "code",
   "execution_count": 19,
   "id": "bbec4b86-4872-4b06-9e26-35d798a074ef",
   "metadata": {},
   "outputs": [
    {
     "name": "stdin",
     "output_type": "stream",
     "text": [
      "Enter a String ajygas\n"
     ]
    },
    {
     "name": "stdout",
     "output_type": "stream",
     "text": [
      "Not a Palindrome\n"
     ]
    }
   ],
   "source": [
    "s=input(\"Enter a String\")\n",
    "if s==s[::-1]:\n",
    "    print(\"Palindrome\")\n",
    "else:\n",
    "    print(\"Not a Palindrome\")"
   ]
  },
  {
   "cell_type": "markdown",
   "id": "0e7bdae1-d8e3-46f2-944d-71b83fb1d525",
   "metadata": {},
   "source": [
    "# 17. Write a program that calculates the average of a list of numbers, excluding the smallest and largest values."
   ]
  },
  {
   "cell_type": "code",
   "execution_count": 30,
   "id": "0396bc09-5593-4eb9-b9f6-57496a6263f1",
   "metadata": {},
   "outputs": [
    {
     "name": "stdin",
     "output_type": "stream",
     "text": [
      "Enter a Number 5\n",
      " 1\n",
      " 2\n",
      " 3\n",
      " 4\n",
      " 5\n"
     ]
    },
    {
     "name": "stdout",
     "output_type": "stream",
     "text": [
      "3.0\n"
     ]
    }
   ],
   "source": [
    "n=int(input(\"Enter a Number\"))\n",
    "l=[int(input()) for i in range(n)]\n",
    "s=0\n",
    "for i in l:\n",
    "    if i not in [max(l),min(l)]:\n",
    "        s+=i\n",
    "print(s/(n-2))"
   ]
  },
  {
   "cell_type": "markdown",
   "id": "9b8096d6-1032-43a5-831c-058e53e8a03e",
   "metadata": {},
   "source": [
    "# 18. Develop a program that converts a given temperature from Celsius to Fahrenheit."
   ]
  },
  {
   "cell_type": "code",
   "execution_count": 33,
   "id": "50ed3b9c-ed1f-4890-9c22-056465b71258",
   "metadata": {},
   "outputs": [
    {
     "name": "stdin",
     "output_type": "stream",
     "text": [
      "Enter the temperature in Celsius 40\n"
     ]
    },
    {
     "name": "stdout",
     "output_type": "stream",
     "text": [
      "Temperature in Fahrenheit=  104.0 F\n"
     ]
    }
   ],
   "source": [
    "c=float(input(\"Enter the temperature in Celsius\"))\n",
    "f=(c*(9/5))+32\n",
    "print(\"Temperature in Fahrenheit= \",f,\"F\")"
   ]
  },
  {
   "cell_type": "markdown",
   "id": "36a433b0-eb28-449d-b13a-54d6ae11b0c2",
   "metadata": {},
   "source": [
    "# 19. Create a program that simulates a basic calculator for addition, subtraction, multiplication, and division."
   ]
  },
  {
   "cell_type": "code",
   "execution_count": 13,
   "id": "67fbb4f6-ca0e-4a43-bd58-a03d29ed065d",
   "metadata": {},
   "outputs": [
    {
     "name": "stdin",
     "output_type": "stream",
     "text": [
      "Enter the operation--1-addition 2-substraction 3-multiplication 4-division 4\n",
      "Enter no of numbers 3\n",
      " 90\n",
      " 2\n",
      " 3\n"
     ]
    },
    {
     "name": "stdout",
     "output_type": "stream",
     "text": [
      "15.0\n"
     ]
    },
    {
     "name": "stdin",
     "output_type": "stream",
     "text": [
      "Do you want to continue o\n",
      "Enter the operation--1-addition 2-substraction 3-multiplication 4-division 7\n",
      "Enter no of numbers 2\n",
      " 1\n",
      " 2\n"
     ]
    },
    {
     "name": "stdout",
     "output_type": "stream",
     "text": [
      "Invalid Operation\n"
     ]
    },
    {
     "name": "stdin",
     "output_type": "stream",
     "text": [
      "Do you want to continue no\n"
     ]
    }
   ],
   "source": [
    "def add(*args):\n",
    "    s=0\n",
    "    for i in args:\n",
    "        s+=i\n",
    "    return s\n",
    "def sub(*args):\n",
    "    s=0\n",
    "    for i in args:\n",
    "        s-=i\n",
    "    return s\n",
    "def mul(*args):\n",
    "    p=1\n",
    "    for i in args:\n",
    "        p*=i\n",
    "    return p\n",
    "def div(*args):\n",
    "    for i in args:\n",
    "        if args.index(i)==0:\n",
    "            d=i\n",
    "        else:\n",
    "            d/=i\n",
    "    return d\n",
    "while True:\n",
    "    op=int(input(\"Enter the operation--1-addition 2-substraction 3-multiplication 4-division\"))\n",
    "    n=int(input(\"Enter no of numbers\"))\n",
    "    l=[float(input()) for i in range(n)]\n",
    "    if op==1:\n",
    "        print(add(*l))\n",
    "    elif op==2:\n",
    "        print(sub(*l))\n",
    "    elif op==3:\n",
    "        print(mul(*l))\n",
    "    elif op==4:\n",
    "        print(div(*l))\n",
    "    else:\n",
    "        print(\"Invalid Operation\")\n",
    "    c=input(\"Do you want to continue\")\n",
    "    if c=='no':\n",
    "        break\n"
   ]
  },
  {
   "cell_type": "markdown",
   "id": "c872bf30-8441-4ba6-9aae-fadbff05d027",
   "metadata": {},
   "source": [
    "# 20. Write a program that determines the roots of a cubic equation using the Cardano formula."
   ]
  },
  {
   "cell_type": "code",
   "execution_count": null,
   "id": "6ba19ef0-446e-4301-bae2-373d9b2921b1",
   "metadata": {},
   "outputs": [],
   "source": []
  },
  {
   "cell_type": "markdown",
   "id": "62b33793-b3aa-4881-a09b-322dc5b627bc",
   "metadata": {},
   "source": [
    "# 21. Create a program that calculates the income tax based on the user's income and tax brackets."
   ]
  },
  {
   "cell_type": "code",
   "execution_count": null,
   "id": "e4d67861-487b-4e62-bd0e-3c389bb74e70",
   "metadata": {},
   "outputs": [],
   "source": [
    "income=float(input(\"Enter annual income in LPA\"))\n",
    "if income<=300000:\n",
    "    tax=income*0\n",
    "elif income<=600000:\n",
    "    tax=income*0.05\n",
    "elif income<=900000:\n",
    "    tax=income*0.1\n",
    "elif income<=1200000:\n",
    "    tax=income*0.15\n",
    "elif income<=1500000:\n",
    "    tax=income*0.2\n",
    "else:\n",
    "    tax=income*0.3\n",
    "print(\"Tax=\",tax)"
   ]
  },
  {
   "cell_type": "markdown",
   "id": "19102c93-8007-4c2b-89c6-714530a37937",
   "metadata": {},
   "source": [
    "# 22. Write a program that simulates a rock-paper-scissors game against the computer."
   ]
  },
  {
   "cell_type": "code",
   "execution_count": 21,
   "id": "5a2801cc-a277-46a0-a4f1-082b7d61df42",
   "metadata": {},
   "outputs": [
    {
     "name": "stdin",
     "output_type": "stream",
     "text": [
      "Enter Rock,Paper or Scissors paper\n"
     ]
    },
    {
     "name": "stdout",
     "output_type": "stream",
     "text": [
      "Player: paper\n",
      "Computer: paper\n",
      "Tie\n"
     ]
    },
    {
     "name": "stdin",
     "output_type": "stream",
     "text": [
      "Do you want to try again 1\n",
      "Enter Rock,Paper or Scissors paper\n"
     ]
    },
    {
     "name": "stdout",
     "output_type": "stream",
     "text": [
      "Player: paper\n",
      "Computer: rock\n",
      "Player Wins!\n"
     ]
    },
    {
     "name": "stdin",
     "output_type": "stream",
     "text": [
      "Do you want to try again 1\n",
      "Enter Rock,Paper or Scissors rock\n"
     ]
    },
    {
     "name": "stdout",
     "output_type": "stream",
     "text": [
      "Player: rock\n",
      "Computer: scissors\n",
      "Player Wins!\n"
     ]
    },
    {
     "name": "stdin",
     "output_type": "stream",
     "text": [
      "Do you want to try again 1\n",
      "Enter Rock,Paper or Scissors paper\n"
     ]
    },
    {
     "name": "stdout",
     "output_type": "stream",
     "text": [
      "Player: paper\n",
      "Computer: paper\n",
      "Tie\n"
     ]
    },
    {
     "name": "stdin",
     "output_type": "stream",
     "text": [
      "Do you want to try again 1\n",
      "Enter Rock,Paper or Scissors rock\n"
     ]
    },
    {
     "name": "stdout",
     "output_type": "stream",
     "text": [
      "Player: rock\n",
      "Computer: rock\n",
      "Tie\n"
     ]
    },
    {
     "name": "stdin",
     "output_type": "stream",
     "text": [
      "Do you want to try again 1\n",
      "Enter Rock,Paper or Scissors rock\n"
     ]
    },
    {
     "name": "stdout",
     "output_type": "stream",
     "text": [
      "Player: rock\n",
      "Computer: paper\n",
      "Computer Wins!\n"
     ]
    },
    {
     "name": "stdin",
     "output_type": "stream",
     "text": [
      "Do you want to try again no\n"
     ]
    }
   ],
   "source": [
    "import random\n",
    "l=['rock','paper','scissors','Rock','ROCK','roCK','PAPER','Paper','PaPEr','SCISSORS','Scissors','rock','paper','scissors','Rock','ROCK','roCK','PAPER','Paper','PaPEr','SCISSORS','Scissors']\n",
    "while True:\n",
    "    p=input(\"Enter Rock,Paper or Scissors\")\n",
    "    p=p.lower()\n",
    "    if p not in l:\n",
    "        print(\"Try Again!\")\n",
    "        continue\n",
    "    c=random.choice(l)\n",
    "    c=c.lower()\n",
    "    print(\"Player:\",p)\n",
    "    print(\"Computer:\",c)\n",
    "    if p=='rock' and c=='rock':\n",
    "        print(\"Tie\")\n",
    "    elif p=='paper' and c=='paper':\n",
    "        print(\"Tie\")\n",
    "    elif p=='scissors' and c=='scissors':\n",
    "        print(\"Tie\")\n",
    "    elif p=='rock' and c=='scissors':\n",
    "        print(\"Player Wins!\")\n",
    "    elif p=='paper' and c=='rock':\n",
    "        print(\"Player Wins!\")\n",
    "    elif p=='scissors' and c=='paper':\n",
    "        print(\"Player Wins!\")\n",
    "        \n",
    "    elif c=='rock' and p=='scissors':\n",
    "        print(\"Commputer Wins!\")\n",
    "    elif c=='paper' and p=='rock':\n",
    "        print(\"Computer Wins!\")\n",
    "    elif c=='scissors' and p=='paper':\n",
    "        print(\"Computer Wins!\")\n",
    "    \n",
    "    y=input(\"Do you want to try again\")\n",
    "    if y=='no' or y=='No':\n",
    "        break\n",
    "\n",
    "    "
   ]
  },
  {
   "cell_type": "markdown",
   "id": "363006f5-1b83-4533-b4c3-a503f18b6b88",
   "metadata": {},
   "source": [
    "# 23. Develop a program that generates a random password based on user preferences (length, complexity)."
   ]
  },
  {
   "cell_type": "code",
   "execution_count": 41,
   "id": "b8d3fe9f-daac-4766-aabf-3e130721fb6c",
   "metadata": {},
   "outputs": [
    {
     "name": "stdin",
     "output_type": "stream",
     "text": [
      "Enter the length of the password 4\n",
      "1-Mild 2-Strong 3-Complex 4\n"
     ]
    },
    {
     "name": "stdout",
     "output_type": "stream",
     "text": [
      "Invalid Request\n"
     ]
    }
   ],
   "source": [
    "import random\n",
    "n=int(input(\"Enter the length of the password\"))\n",
    "c=int(input(\"1-Mild 2-Strong 3-Complex\"))\n",
    "if c==1:\n",
    "    pss=''\n",
    "    for i in range(n):\n",
    "        j=random.choice([i for i in range(ord('A'),ord('z')+1) if chr(i).isalpha()]) \n",
    "        pss+=chr(j)\n",
    "    print(pss)\n",
    "elif c==2:\n",
    "    pss=''\n",
    "    for i in range(n):\n",
    "        j=random.choice([i for i in range(ord('0'),ord('z')+1) if chr(i).isalnum()]) \n",
    "        pss+=chr(j)\n",
    "    print(pss)\n",
    "elif c==3:\n",
    "    pss=''\n",
    "    for i in range(n):\n",
    "        j=random.choice([i for i in range(ord('0'),ord('z')+1)]) \n",
    "        pss+=chr(j)\n",
    "    print(pss)\n",
    "else:\n",
    "    print(\"Invalid Request\")"
   ]
  },
  {
   "cell_type": "markdown",
   "id": "b76f145f-24d0-4276-9d59-1b8143b5a43c",
   "metadata": {},
   "source": [
    "# 24. Create a program that implements a simple text-based adventure game with branching scenarios."
   ]
  },
  {
   "cell_type": "code",
   "execution_count": 20,
   "id": "548846d0-113e-4b7f-85f0-11180013a50e",
   "metadata": {},
   "outputs": [
    {
     "name": "stdin",
     "output_type": "stream",
     "text": [
      "Enter colour. 1.Blue 2.Red 3.Green 4.Orange 2\n",
      "Enter Shape. 1.Circle 2.Square 3.Triangle 3\n",
      "Enter Shape. 1.Axe 2.Sword 3.Sling 1\n"
     ]
    },
    {
     "name": "stdout",
     "output_type": "stream",
     "text": [
      "You are Super-Man\n"
     ]
    }
   ],
   "source": [
    "color=['Blue','Red','Green','Orange']\n",
    "shape=['circle','square','triangle']\n",
    "weapon=['axe','sword','sling']\n",
    "n1=int(input(\"Enter colour. 1.Blue 2.Red 3.Green 4.Orange\"))\n",
    "n2=int(input(\"Enter Shape. 1.Circle 2.Square 3.Triangle\"))\n",
    "n3=int(input(\"Enter Shape. 1.Axe 2.Sword 3.Sling\"))\n",
    "if n1==1 and n2==1:\n",
    "    if n3==1:\n",
    "        print(\"You are Spider-man\")\n",
    "    elif n3==2:\n",
    "        print(\"You are Iron man\")\n",
    "    else:\n",
    "        print(\"You are Wonder-Woman\")\n",
    "elif n1==1 and n2==2:\n",
    "    if n3==1:\n",
    "        print(\"You are Bat-Man\")\n",
    "    elif n3==2:\n",
    "        print(\"You are Captain-America\")\n",
    "    else:\n",
    "        print(\"You are Flash\")\n",
    "elif n1==1 and n2==3:\n",
    "    if n3==1:\n",
    "        print(\"You are Iron Man\")\n",
    "    elif n3==2:\n",
    "        print(\"You are Captain-America\")\n",
    "    else:\n",
    "        print(\"You are Winter-Soldier\")\n",
    "elif n1==2 and n2==1:\n",
    "    if n3==1:\n",
    "        print(\"You are Wonder-Woman\")\n",
    "    elif n3==2:\n",
    "        print(\"You are Spider-Man\")\n",
    "    else:\n",
    "        print(\"You are Bat-Man\")\n",
    "elif n1==2 and n2==2:\n",
    "    if n3==1:\n",
    "        print(\"You are FLash\")\n",
    "    elif n3==2:\n",
    "        print(\"You are Super-Man\")\n",
    "    else:\n",
    "        print(\"You are Scarlett Witch\")\n",
    "elif n1==2 and n2==3:\n",
    "    if n3==1:\n",
    "        print(\"You are Super-Man\")\n",
    "    elif n3==2:\n",
    "        print(\"You are Wonder-Women\")\n",
    "    else:\n",
    "        print(\"You are Bat-Man\")\n",
    "elif n1==3 and n2==1:\n",
    "    if n3==1:\n",
    "        print(\"You are captain-America\")\n",
    "    elif n3==2:\n",
    "        print(\"You are Iron-Man\")\n",
    "    else:\n",
    "        print(\"You are Ant-Man\")\n",
    "elif n1==3 and n2==2:\n",
    "    if n3==1:\n",
    "        print(\"You are Super-MAn\")\n",
    "    elif n3==2:\n",
    "        print(\"You are Scarlett-Witch\")\n",
    "    else:\n",
    "        print(\"You are Scarlett Witch\")\n",
    "elif n1==3 and n2==3:\n",
    "    if n3==1:\n",
    "        print(\"You are Ant-man\")\n",
    "    elif n3==2:\n",
    "        print(\"You are Moonknight\")\n",
    "    else:\n",
    "        print(\"You are The ghost Rider\")\n",
    "elif n1==4 and n2==1:\n",
    "    if n3==1:\n",
    "        print(\"You are The Ghost-Rider\")\n",
    "    elif n3==2:\n",
    "        print(\"You are Iron man\")\n",
    "    else:\n",
    "        print(\"You are superman\")\n",
    "elif n1==4 and n2==2:\n",
    "    if n3==1:\n",
    "        print(\"You are captain America\")\n",
    "    elif n3==2:\n",
    "        print(\"You are Winter soldier\")\n",
    "    else:\n",
    "        print(\"You are Black widow\")\n",
    "elif n1==4 and n2==3:\n",
    "    if n3==1:\n",
    "        print(\"You are winter soldier\")\n",
    "    elif n3==2:\n",
    "        print(\"You are black widow\")\n",
    "    else:\n",
    "        print(\"You are Bat-Man\")\n",
    "else:\n",
    "    print(\"Invalid\")\n",
    "\n"
   ]
  },
  {
   "cell_type": "markdown",
   "id": "0525c1cd-53d8-4783-8b52-6cc2b49a124a",
   "metadata": {},
   "source": [
    "# 25. Build a program that solves a linear equation for x, considering different cases."
   ]
  },
  {
   "cell_type": "code",
   "execution_count": 12,
   "id": "563ddcd3-d89e-4bad-b8aa-3102a467402c",
   "metadata": {},
   "outputs": [
    {
     "name": "stdin",
     "output_type": "stream",
     "text": [
      "Enter the coefficients a,b in ax+b -10\n",
      "Enter the coefficients a,b in ax+b 20\n"
     ]
    },
    {
     "name": "stdout",
     "output_type": "stream",
     "text": [
      "2.0\n"
     ]
    }
   ],
   "source": [
    "## the program takes teh two coefficiengts a and b in ax+b and finds the solution of the expression iteratively\n",
    "##the program has tfe following limitations--it can give only solutions that are multiples of 0.5 and lie between -10 and 10\n",
    "import random\n",
    "l=[int(input(\"Enter the coefficients a,b in ax+b\")) for i in range(2)]\n",
    "x=random.randint(-10,10)\n",
    "a=l[0]\n",
    "b=l[1]\n",
    "if a>0:\n",
    "    while (a*x+b)!=0:\n",
    "        if (a*x+b)>0:\n",
    "            x=x-0.5\n",
    "        else:\n",
    "            x=x+0.5\n",
    "elif a<0:\n",
    "     while (a*x+b)!=0:\n",
    "        if (a*x+b)>0:\n",
    "            x=x+0.5\n",
    "        else:\n",
    "            x=x-0.5\n",
    "print(x)\n"
   ]
  },
  {
   "cell_type": "markdown",
   "id": "a644ae92-233a-4d0f-8c08-4c7d2f338397",
   "metadata": {},
   "source": [
    "# 26. Write a program that simulates a basic quiz game with multiple-choice questions and scoring."
   ]
  },
  {
   "cell_type": "code",
   "execution_count": 27,
   "id": "bedd13e6-029d-445e-9f51-7e741bc31a27",
   "metadata": {},
   "outputs": [
    {
     "name": "stdout",
     "output_type": "stream",
     "text": [
      "Helle\n"
     ]
    },
    {
     "name": "stdin",
     "output_type": "stream",
     "text": [
      "Enter your name YAseen\n"
     ]
    },
    {
     "name": "stdout",
     "output_type": "stream",
     "text": [
      "Q. 1 The Napoleonic Code was exported to which of the following regions?\n",
      "['A.England', 'B.Spain', 'C.Regions Under France', 'D.Poland']\n"
     ]
    },
    {
     "name": "stdin",
     "output_type": "stream",
     "text": [
      "Enter Option A\n"
     ]
    },
    {
     "name": "stdout",
     "output_type": "stream",
     "text": [
      "Wrong Answer\n",
      "Q. 2  Which of the following countries did not attend the Congress of Vienna?\n",
      "['A.Britain', 'B.Russia', 'C.Prussia', 'D.Switzerland']\n"
     ]
    },
    {
     "name": "stdin",
     "output_type": "stream",
     "text": [
      "Enter Option D\n"
     ]
    },
    {
     "name": "stdout",
     "output_type": "stream",
     "text": [
      "Correct Answer\n",
      "Q. 3 The first great revolution which gave the clear idea of nationalism with its core words: ‘Liberty, Equality and Fraternity’ was:\n",
      "['A.The Russian Revolution', 'B.The French Revolution', 'C.The American Revolution', 'D.Indias war of Independence']\n"
     ]
    },
    {
     "name": "stdin",
     "output_type": "stream",
     "text": [
      "Enter Option B\n"
     ]
    },
    {
     "name": "stdout",
     "output_type": "stream",
     "text": [
      "Correct Answer\n",
      "Q. 4  Choose the correct nationality of the artist Frederic Sorrieu who visualised in his painting a society made up of Democratic and Social Republic.\n",
      "['A.German', 'B.Swiss', 'C.French', 'D.American']\n"
     ]
    },
    {
     "name": "stdin",
     "output_type": "stream",
     "text": [
      "Enter Option c\n"
     ]
    },
    {
     "name": "stdout",
     "output_type": "stream",
     "text": [
      "Wrong Answer\n",
      "Q. 5  The Civil Code of 1804 in France is usually known as:\n",
      "['A.The French Revolutionary Code', 'B.Napoleanic code', 'C.European Impereial code', 'D.The French Civil code']\n"
     ]
    },
    {
     "name": "stdin",
     "output_type": "stream",
     "text": [
      "Enter Option a\n"
     ]
    },
    {
     "name": "stdout",
     "output_type": "stream",
     "text": [
      "Wrong Answer\n",
      "Points scored out of 10 = 2\n"
     ]
    }
   ],
   "source": [
    "import random\n",
    "print(\"Helle\")\n",
    "s=input(\"Enter your name\")\n",
    "q={' Choose the correct nationality of the artist Frederic Sorrieu who visualised in his painting a society made up of Democratic and Social Republic.':['A.German','B.Swiss','C.French','D.American','B'],\n",
    "   ' Which of the following countries did not attend the Congress of Vienna?':['A.Britain','B.Russia','C.Prussia','D.Switzerland','D'],\n",
    "   'The first great revolution which gave the clear idea of nationalism with its core words: ‘Liberty, Equality and Fraternity’ was:':['A.The Russian Revolution','B.The French Revolution','C.The American Revolution','D.Indias war of Independence','b'],\n",
    "   ' The Civil Code of 1804 in France is usually known as:':['A.The French Revolutionary Code','B.Napoleanic code','C.European Impereial code','D.The French Civil code','b'],\n",
    "   'The Napoleonic Code was exported to which of the following regions?':['A.England','B.Spain','C.Regions Under France','D.Poland','C']\n",
    "   }\n",
    "q_key=list(q.keys())\n",
    "q_val=list(q.values())\n",
    "p=0\n",
    "j_l=[]\n",
    "i=0\n",
    "while len(j_l)!=5:\n",
    "    j=random.randint(0,4)\n",
    "    if j not in j_l:\n",
    "        j_l.append(j)\n",
    "        print('Q.',i+1,q_key[j])\n",
    "        print(q_val[j][:4])\n",
    "        op=input(\"Enter Option\")\n",
    "        if op.lower()==q_val[j][4].lower():\n",
    "            print(\"Correct Answer\")\n",
    "            p+=1\n",
    "        elif op in 'ABCDabcd':\n",
    "            print(\"Wrong Answer\")\n",
    "        else:\n",
    "            print(\"Invalid option\")\n",
    "        i+=1\n",
    "    \n",
    "print(\"Points scored out of 10 =\",p)\n",
    "    "
   ]
  },
  {
   "cell_type": "markdown",
   "id": "69c26bfe-9d66-45b4-b592-e8a4016efc28",
   "metadata": {},
   "source": [
    "# 27. Develop a program that determines whether a given year is a prime number or not."
   ]
  },
  {
   "cell_type": "code",
   "execution_count": null,
   "id": "c676f483-646a-451c-8a14-b30327a2c940",
   "metadata": {},
   "outputs": [],
   "source": [
    "n=int(input(\"Enter the year\"))\n",
    "for i in range(2,int((n+1)/2)):\n",
    "    if n%i==0:\n",
    "        print(\"Not a Prime year\")\n",
    "        break\n",
    "else:\n",
    "    print(\"Prime Year\")"
   ]
  },
  {
   "cell_type": "markdown",
   "id": "f60c09ff-c0b1-4fd6-9c54-24decd3722a1",
   "metadata": {},
   "source": [
    "# 28. Create a program that sorts three numbers in ascending order using conditional statements."
   ]
  },
  {
   "cell_type": "code",
   "execution_count": 5,
   "id": "18697b4d-12bc-47a2-a741-57af18b949b8",
   "metadata": {},
   "outputs": [
    {
     "name": "stdin",
     "output_type": "stream",
     "text": [
      " 33\n",
      " 67\n",
      " 43\n"
     ]
    },
    {
     "name": "stdout",
     "output_type": "stream",
     "text": [
      "Smallest= 33\n",
      "Second largest= 43\n",
      "Largest= 67\n"
     ]
    }
   ],
   "source": [
    "n1=int(input())\n",
    "n2=int(input())\n",
    "n3=int(input())\n",
    "n=[n1,n2,n3]\n",
    "n_l=[]\n",
    "if n1>n2 and n1>n3:\n",
    "    n_l.append(n1)\n",
    "    if n2>n3:\n",
    "        n_l.append(n2)\n",
    "    else:\n",
    "        n_l.append(n3);\n",
    "    for i in n:\n",
    "        if i not in n_l:\n",
    "            n_l.append(i)\n",
    "elif n2>n1 and n2>n3:\n",
    "    n_l.append(n2)\n",
    "    if n1>n3:\n",
    "        n_l.append(n1)\n",
    "    else:\n",
    "        n_l.append(n3)\n",
    "    for i in n:\n",
    "        if i not in n_l:\n",
    "            n_l.append(i)\n",
    "elif n3>n1 and n3>n2:\n",
    "    n_l.append(n3)\n",
    "    if n2>n1:\n",
    "        n_l.append(n2)\n",
    "    else:\n",
    "        n_l.append(n1)\n",
    "    for i in n:\n",
    "        if i not in n_l:\n",
    "            n_l.append(i)\n",
    "print(\"Smallest=\",n_l[2])\n",
    "print(\"Second largest=\",n_l[1])\n",
    "print(\"Largest=\",n_l[0])\n"
   ]
  },
  {
   "cell_type": "markdown",
   "id": "b90ab9e1-7a85-42b3-9a55-63e2f254dfb5",
   "metadata": {},
   "source": [
    "# 29. Build a program that determines the roots of a quartic equation using numerical methods."
   ]
  },
  {
   "cell_type": "code",
   "execution_count": 14,
   "id": "f491a030-0873-410a-8fff-7e6fc3bbabe4",
   "metadata": {},
   "outputs": [
    {
     "name": "stdin",
     "output_type": "stream",
     "text": [
      "Enter Coefficients a,b,c -1\n",
      "Enter Coefficients a,b,c -3\n",
      "Enter Coefficients a,b,c 4\n"
     ]
    },
    {
     "name": "stdout",
     "output_type": "stream",
     "text": [
      "[1.0, -4.0]\n"
     ]
    }
   ],
   "source": [
    "## we can only solve euations whose rotts are multiples of 0.5 and lie in the range(-10,10)\n",
    "n=[int(input(\"Enter Coefficients a,b,c\")) for i in range(3)]\n",
    "a=n[0]\n",
    "b=n[1]\n",
    "c=n[2]\n",
    "import random\n",
    "l=[]\n",
    "if b**2-4*a*c<0:\n",
    "    print(\"No Real Roots\")\n",
    "else:\n",
    "    while len(l)!=2:\n",
    "      x=random.randint(-10,10)\n",
    "      while a*(x**2)+b*x+c!=0:\n",
    "        if a>0:\n",
    "          if x>(-a/(2*b)):\n",
    "            if a*(x**2)+b*x+c>0:\n",
    "              x=x-0.5\n",
    "            else:\n",
    "              x=x+0.5\n",
    "          elif x<(-a/(2*b)):\n",
    "            if a*(x**2)+b*x+c>0:\n",
    "              x=x+0.5\n",
    "            else:\n",
    "              x=x-0.5\n",
    "        if a<0:\n",
    "            if x>(-a/(2*b)):\n",
    "                if a*(x**2)+b*x+c>0:\n",
    "                  x=x+0.5\n",
    "                else:\n",
    "                  x=x-0.5\n",
    "            elif x<(-a/(2*b)):\n",
    "                if a*(x**2)+b*x+c>0:\n",
    "                  x=x-0.5\n",
    "                else:\n",
    "                  x=x+0.5\n",
    "      if x not in l:\n",
    "        l.append(x)\n",
    "print(l)"
   ]
  },
  {
   "cell_type": "markdown",
   "id": "07fe6de1-2e74-4cbc-8076-2f3f288630a4",
   "metadata": {},
   "source": [
    "# 30. Write a program that calculates the BMI (Body Mass Index) and provides health recommendations based on the user's input.\n"
   ]
  },
  {
   "cell_type": "code",
   "execution_count": null,
   "id": "07ef53f7-d736-4852-8e7b-2831e80686b8",
   "metadata": {},
   "outputs": [],
   "source": [
    "\n"
   ]
  },
  {
   "cell_type": "markdown",
   "id": "d224243f-4cf9-4da5-acb7-d40686dc7d89",
   "metadata": {},
   "source": [
    "# 31. Create a program that validates a password based on complexity rules (length, characters, etc.)."
   ]
  },
  {
   "cell_type": "code",
   "execution_count": 35,
   "id": "d3dfa289-15a9-479d-9bf5-e2ed91f19ff3",
   "metadata": {},
   "outputs": [
    {
     "name": "stdin",
     "output_type": "stream",
     "text": [
      "Enter the password sdder\n"
     ]
    },
    {
     "name": "stdout",
     "output_type": "stream",
     "text": [
      "Weak Password\n"
     ]
    }
   ],
   "source": [
    "p=input(\"Enter the password\")\n",
    "x=0\n",
    "if len(p)>=7:\n",
    "    x+=1\n",
    "for i in p:\n",
    "    if ord(i) in range (ord('a'),ord('z')+1) or ord(i) in range(ord('A') ,ord('Z')+1) or ord(i) in range(ord('0'),ord('9')+1):\n",
    "        x+=1\n",
    "    else:\n",
    "        x+=2\n",
    "if x==len(p):\n",
    "    print('Weak Password')\n",
    "elif x<(len(p)+3):\n",
    "    print(\"Strong Password\")\n",
    "else:\n",
    "    print(\"Very Strong password\")"
   ]
  },
  {
   "cell_type": "markdown",
   "id": "c285e902-f30b-4b94-86ea-dacf9a8f794f",
   "metadata": {},
   "source": [
    "# 32. Develop a program that performs matrix addition and subtraction based on user input."
   ]
  },
  {
   "cell_type": "code",
   "execution_count": 11,
   "id": "8363a2d2-c111-407f-8988-70007665c0e7",
   "metadata": {},
   "outputs": [
    {
     "name": "stdin",
     "output_type": "stream",
     "text": [
      "Enter the no of rows 2\n",
      "Enter the no of columns 3\n",
      " 1\n",
      " 2\n",
      " 3\n",
      " 4\n",
      " 5\n",
      " 6\n"
     ]
    },
    {
     "name": "stdout",
     "output_type": "stream",
     "text": [
      "[[1, 2, 3], [4, 5, 6]]\n"
     ]
    },
    {
     "name": "stdin",
     "output_type": "stream",
     "text": [
      " 2\n",
      " 4\n",
      " 6\n",
      " 8\n",
      " 10\n",
      " 12\n"
     ]
    },
    {
     "name": "stdout",
     "output_type": "stream",
     "text": [
      "[[2, 4, 6], [8, 10, 12]]\n",
      "[[3, 6, 9], [12, 15, 18]]\n",
      "[[-1, -2, -3], [-4, -5, -6]]\n"
     ]
    }
   ],
   "source": [
    "r=int(input(\"Enter the no of rows\"))\n",
    "c=int(input(\"Enter the no of columns\"))\n",
    "a=[]\n",
    "b=[]\n",
    "add=[]\n",
    "sub=[]\n",
    "for i in range(r):\n",
    "    l1=[]\n",
    "    for j in range(c):\n",
    "        x=int(input())\n",
    "        l1.append(x)\n",
    "    a.append(l1)\n",
    "print(a)\n",
    "for i in range(r):\n",
    "    l1=[]\n",
    "    for j in range(c):\n",
    "        x=int(input())\n",
    "        l1.append(x)\n",
    "    b.append(l1)\n",
    "print(b)\n",
    "for i in range(len(a)):\n",
    "    l1=[]\n",
    "    for j in range(len(b[i])):\n",
    "        l1.append(a[i][j]+b[i][j])\n",
    "    add.append(l1)\n",
    "for i in range(len(a)):\n",
    "    l1=[]\n",
    "    for j in range(len(b[i])):\n",
    "        l1.append(a[i][j]-b[i][j])\n",
    "    sub.append(l1)\n",
    "print(add)\n",
    "print(sub)\n",
    "        "
   ]
  },
  {
   "cell_type": "markdown",
   "id": "bbd2e8ae-3720-49db-b6f1-b3f695d4eb39",
   "metadata": {},
   "source": [
    "# 33. Write a program that calculates the greatest common divisor (GCD) of two numbers using the Euclidean algorithm.\n"
   ]
  },
  {
   "cell_type": "code",
   "execution_count": 15,
   "id": "3e157b12-9811-4fb7-afd6-8acf40defaba",
   "metadata": {},
   "outputs": [
    {
     "name": "stdin",
     "output_type": "stream",
     "text": [
      "Enter the first number 24\n",
      "Enter the second number 108\n"
     ]
    },
    {
     "name": "stdout",
     "output_type": "stream",
     "text": [
      "12\n"
     ]
    }
   ],
   "source": [
    "a=int(input(\"Enter the first number\"))\n",
    "b=int(input(\"Enter the second number\"))\n",
    "while a%b>0:\n",
    "    r=a%b\n",
    "    a=b\n",
    "    b=r\n",
    "print(b)   "
   ]
  },
  {
   "cell_type": "markdown",
   "id": "bcd372cf-dbdb-45f5-ae91-0428badd665a",
   "metadata": {},
   "source": [
    "# 34. Build a program that performs matrix multiplication using nested loops and conditional statements."
   ]
  },
  {
   "cell_type": "code",
   "execution_count": 10,
   "id": "2399e708-c7c2-40da-bd10-0902c1a0c725",
   "metadata": {},
   "outputs": [
    {
     "name": "stdin",
     "output_type": "stream",
     "text": [
      "Enter the no of rows 2\n",
      "Enter the no of columns 3\n",
      " 1\n",
      " 2\n",
      " 3\n",
      " 4\n",
      " 5\n",
      " 6\n"
     ]
    },
    {
     "name": "stdout",
     "output_type": "stream",
     "text": [
      "[1, 2, 3]\n",
      "[4, 5, 6]\n"
     ]
    },
    {
     "name": "stdin",
     "output_type": "stream",
     "text": [
      "Enter the no of rows 3\n",
      "Enter the no of columns 2\n",
      " 1\n",
      " 2\n",
      " 3\n",
      " 4\n",
      " 5\n",
      " 6\n"
     ]
    },
    {
     "name": "stdout",
     "output_type": "stream",
     "text": [
      "[1, 2]\n",
      "[3, 4]\n",
      "[5, 6]\n",
      "[22, 28]\n",
      "[49, 64]\n"
     ]
    }
   ],
   "source": [
    "r=int(input(\"Enter the no of rows\"))\n",
    "c=int(input(\"Enter the no of columns\"))\n",
    "a=[]\n",
    "b=[]\n",
    "add=[]\n",
    "\n",
    "for i in range(r):\n",
    "    l1=[]\n",
    "    for j in range(c):\n",
    "        x=int(input())\n",
    "        l1.append(x)\n",
    "    a.append(l1)\n",
    "for i in a:\n",
    "    print(i)\n",
    "r=int(input(\"Enter the no of rows\"))\n",
    "c=int(input(\"Enter the no of columns\"))\n",
    "for i in range(r):\n",
    "    l1=[]\n",
    "    for j in range(c):\n",
    "        x=int(input())\n",
    "        l1.append(x)\n",
    "    b.append(l1)\n",
    "for i in b:\n",
    "    print(i)\n",
    "if len(a[0])==len(b):\n",
    "    for i in range(len(a)):\n",
    "        l1=[]\n",
    "        for j in range(len(b[0])):\n",
    "            s=0\n",
    "            for k in range(len(a[0])):\n",
    "                s=s+(a[i][k]*b[k][j])\n",
    "            l1.append(s)\n",
    "        add.append(l1)\n",
    "for i in add:\n",
    "    print(i)"
   ]
  },
  {
   "cell_type": "markdown",
   "id": "8483996a-8249-49fa-8301-c1e57965bfd6",
   "metadata": {},
   "source": [
    "# 35. Create a program that simulates a basic text-based tic-tac-toe game against the computer."
   ]
  },
  {
   "cell_type": "code",
   "execution_count": 33,
   "id": "8a5cfe16-e996-4331-b03c-3e1a8e66effd",
   "metadata": {},
   "outputs": [
    {
     "name": "stdout",
     "output_type": "stream",
     "text": [
      "User-1 Compute-2\n",
      "Users turn\n"
     ]
    },
    {
     "name": "stdin",
     "output_type": "stream",
     "text": [
      "Enter the row 1\n",
      "Enter the column 1\n"
     ]
    },
    {
     "name": "stdout",
     "output_type": "stream",
     "text": [
      "[1, 0, 0]\n",
      "[0, 0, 0]\n",
      "[0, 0, 0]\n",
      "Computers turn\n",
      "[1, 0, 0]\n",
      "[0, 0, 0]\n",
      "[0, 0, 2]\n",
      "Users turn\n"
     ]
    },
    {
     "name": "stdin",
     "output_type": "stream",
     "text": [
      "Enter the row 2\n",
      "Enter the column 1\n"
     ]
    },
    {
     "name": "stdout",
     "output_type": "stream",
     "text": [
      "[1, 0, 0]\n",
      "[1, 0, 0]\n",
      "[0, 0, 2]\n",
      "Computers turn\n",
      "Computers turn\n",
      "[1, 0, 2]\n",
      "[1, 0, 0]\n",
      "[0, 0, 2]\n",
      "Users turn\n"
     ]
    },
    {
     "name": "stdin",
     "output_type": "stream",
     "text": [
      "Enter the row 3\n",
      "Enter the column 1\n"
     ]
    },
    {
     "name": "stdout",
     "output_type": "stream",
     "text": [
      "[1, 0, 2]\n",
      "[1, 0, 0]\n",
      "[1, 0, 2]\n",
      "User WIns\n"
     ]
    }
   ],
   "source": [
    "import random\n",
    "l=[[0,0,0],[0,0,0],[0,0,0]]\n",
    "print(\"User-1 Compute-2\")\n",
    "while True:\n",
    "    while True:\n",
    "        print(\"Users turn\")\n",
    "        r=int(input(\"Enter the row\"))\n",
    "        c=int(input(\"Enter the column\"))\n",
    "        if l[r-1][c-1]==1 or l[r-1][c-1]==2:\n",
    "            print('Try Again')\n",
    "            continue\n",
    "        else:\n",
    "            l[r-1][c-1]=1\n",
    "            break\n",
    "    print(l[0])\n",
    "    print(l[1])\n",
    "    print(l[2])\n",
    "    if (l[0][0]==1 and l[0][1]==1 and l[0][2]==1) or (l[0][0]==1 and l[1][0]==1 and l[2][0]==1) or (l[0][0]==1 and l[1][1]==1 and l[2][2]==1) or (l[1][0]==1 and l[1][1]==1 and l[1][2]==1) or (l[2][0]==1 and l[2][1]==1 and l[2][2]==1) or(l[0][1]==1 and l[1][1]==1 and l[2][1]==1) or(l[0][2]==1 and l[1][2]==1 and l[2][2]==1) or(l[0][2]==1 and l[1][1]==1 and l[2][0]==1):\n",
    "        print(\"User WIns\")\n",
    "        break\n",
    "    while True:\n",
    "        print(\"Computers turn\")\n",
    "        r=random.randint(0,3)\n",
    "        c=random.randint(0,3)\n",
    "        if l[r-1][c-1]==2 or l[r-1][c-1]==1:\n",
    "            continue\n",
    "        else:     \n",
    "            l[r-1][c-1]=2\n",
    "            break\n",
    "    print(l[0])\n",
    "    print(l[1])\n",
    "    print(l[2])\n",
    "    if (l[0][0]==2 and l[0][1]==2 and l[0][2]==2) or (l[0][0]==2 and l[1][0]==2 and l[2][0]==2) or (l[0][0]==2 and l[1][1]==2 and l[2][2]==2) or (l[1][0]==2 and l[1][1]==2 and l[1][2]==2) or (l[2][0]==2 and l[2][1]==2 and l[2][2]==2) or(l[0][1]==2 and l[1][1]==2 and l[2][1]==2) or(l[0][2]==2 and l[1][2]==2 and l[2][2]==2) or(l[0][2]==2 and l[1][1]==2 and l[2][0]==2):\n",
    "        print('Computer Wins')\n",
    "        break\n"
   ]
  },
  {
   "cell_type": "markdown",
   "id": "7fadf9c0-35fe-41fa-b8e8-fbd11bd8eb85",
   "metadata": {},
   "source": [
    "# 36. Write a program that generates Fibonacci numbers up to a specified term using iterative methods."
   ]
  },
  {
   "cell_type": "code",
   "execution_count": 39,
   "id": "73c0b66c-17cb-4b11-b711-521565e111b6",
   "metadata": {},
   "outputs": [
    {
     "name": "stdin",
     "output_type": "stream",
     "text": [
      "Enter the term limit 60\n"
     ]
    },
    {
     "name": "stdout",
     "output_type": "stream",
     "text": [
      "0 1 1 2 3 5 8 13 21 34 55 "
     ]
    }
   ],
   "source": [
    "n1=0\n",
    "n2=1\n",
    "n3=n2+n1\n",
    "n=int(input(\"Enter the term limit\"))\n",
    "print(n1,end=' ')\n",
    "print(n2,end=' ')\n",
    "while n3<=n:\n",
    "    n3=n2+n1\n",
    "    n1=n2\n",
    "    n2=n3\n",
    "    if n3<=n :\n",
    "        print(n3,end=' ')\n"
   ]
  },
  {
   "cell_type": "markdown",
   "id": "a37889f6-3f79-4e19-bf09-198ed25214a7",
   "metadata": {},
   "source": [
    "# 37. Develop a program that calculates the nth term of the Fibonacci sequence using memoization."
   ]
  },
  {
   "cell_type": "code",
   "execution_count": 43,
   "id": "02098164-4faa-43a0-8513-67419daa122f",
   "metadata": {},
   "outputs": [
    {
     "name": "stdin",
     "output_type": "stream",
     "text": [
      "Enter the term  9\n"
     ]
    },
    {
     "name": "stdout",
     "output_type": "stream",
     "text": [
      "21\n",
      "21\n"
     ]
    }
   ],
   "source": [
    "n1=0\n",
    "n2=1\n",
    "n3=0\n",
    "n=int(input(\"Enter the term \"))\n",
    "for i in range(2,n):\n",
    "    n3=n2+n1\n",
    "    n1=n2\n",
    "    n2=n3\n",
    "print(n3)\n",
    "def fib(n):\n",
    "    if n<=1:\n",
    "        return n\n",
    "    else:\n",
    "        return fib(n-1)+fib(n-2)\n",
    "print(fib(n-1))\n",
    "    "
   ]
  },
  {
   "cell_type": "markdown",
   "id": "a67766de-2ac1-4e85-8ee5-3148701ba53f",
   "metadata": {},
   "source": [
    "# 38. Create a program that generates a calendar for a given month and year using conditional statements."
   ]
  },
  {
   "cell_type": "code",
   "execution_count": 25,
   "id": "b527d78e-5b5b-4eae-9225-3a2ad89730bf",
   "metadata": {},
   "outputs": [
    {
     "name": "stdin",
     "output_type": "stream",
     "text": [
      "Enter the Month 11\n",
      "Enter the year 2023\n"
     ]
    },
    {
     "name": "stdout",
     "output_type": "stream",
     "text": [
      "3\n",
      "9\n",
      "11\n",
      "Sunday Monday Tuesday Wednesaday Thursday Friday Saturday \n",
      "['Sunday', 'Monday', 'Tuesday', 'Wednesaday', 'Thursday', 'Friday', 'Saturday']\n",
      "['-', '-', '-', 1, 2, 3, 4]\n",
      "[5, 6, 7, 8, 9, 10, 11]\n",
      "[12, 13, 14, 15, 16, 17, 18]\n",
      "[19, 20, 21, 22, 23, 24, 25]\n",
      "[26, 27, 28, 29, 30, '-', '-']\n"
     ]
    }
   ],
   "source": [
    "m=int(input(\"Enter the Month\"))\n",
    "m1=m\n",
    "if m1==1 or m1==2:\n",
    "    m+=10\n",
    "else:\n",
    "    m=m-2\n",
    "year=int(input(\"Enter the year\"))\n",
    "k=1\n",
    "x=1\n",
    "c=int(year/100)\n",
    "y=year%100\n",
    "w=(k+int(2.6*m)-(2*c)+y+int(y/4)+int(c/4))%7\n",
    "print(w)\n",
    "print(m)\n",
    "print(m1)\n",
    "l=[]\n",
    "l.append(['Sunday','Monday','Tuesday','Wednesaday','Thursday','Friday','Saturday',])\n",
    "for i in range(len(l[0])):\n",
    "    print(l[0][i],end=\" \")\n",
    "print()\n",
    "for i in range(5):\n",
    "    l1=[]\n",
    "    for j in range(7):\n",
    "        if i==0:\n",
    "            \n",
    "            if j<w:\n",
    "                l1.append('-')\n",
    "            else:\n",
    "                l1.append(x)\n",
    "                x+=1\n",
    "        else:\n",
    "            if m1 in [1,3,5,7,8,10,12]:\n",
    "                if x<32:\n",
    "                    l1.append(x)\n",
    "                    x+=1\n",
    "                else:\n",
    "                    l1.append('-')\n",
    "            elif m1 in[4,6,9,11]:\n",
    "                if x<31:\n",
    "                    l1.append(x)\n",
    "                    x+=1\n",
    "                else:\n",
    "                    l1.append('-')\n",
    "            else:\n",
    "                if x<29:\n",
    "                    l1.append(x)\n",
    "                    x+=1\n",
    "                else:\n",
    "                    l1.append('-')\n",
    "            \n",
    "    l.append(l1)\n",
    "print(l[0])\n",
    "print(l[1])\n",
    "print(l[2])\n",
    "print(l[3])\n",
    "print(l[4])\n",
    "print(l[5])\n",
    "    \n"
   ]
  },
  {
   "cell_type": "markdown",
   "id": "fb7b6db2-8655-4ef7-b676-12b1545c4acb",
   "metadata": {},
   "source": [
    "# 39. Build a program that simulates a basic text-based blackjack game against the computer."
   ]
  },
  {
   "cell_type": "code",
   "execution_count": null,
   "id": "90ee5b8f-f4d6-44fd-80dd-b042fce25ed8",
   "metadata": {},
   "outputs": [],
   "source": []
  },
  {
   "cell_type": "markdown",
   "id": "6034a9cd-721e-497d-8a7c-5800bc575e9b",
   "metadata": {},
   "source": [
    "# 40. Write a program that generates the prime factors of a given number using trial division."
   ]
  },
  {
   "cell_type": "code",
   "execution_count": 26,
   "id": "913c473c-b810-4ffe-862b-e9a59a7497dd",
   "metadata": {},
   "outputs": [
    {
     "name": "stdin",
     "output_type": "stream",
     "text": [
      "Entera number 55\n"
     ]
    },
    {
     "name": "stdout",
     "output_type": "stream",
     "text": [
      "1\n",
      "5\n",
      "11\n"
     ]
    }
   ],
   "source": [
    "n=int(input(\"Entera number\"))\n",
    "for i in range(1,n+1):\n",
    "    c=0\n",
    "    for j in range(2,i+1):\n",
    "        if i==2:\n",
    "            break\n",
    "        if i==j:\n",
    "            break\n",
    "        if i%j==0:\n",
    "            c+=1\n",
    "    if c==0:\n",
    "        if n%i==0:\n",
    "            print(i)"
   ]
  }
 ],
 "metadata": {
  "kernelspec": {
   "display_name": "Python 3 (ipykernel)",
   "language": "python",
   "name": "python3"
  },
  "language_info": {
   "codemirror_mode": {
    "name": "ipython",
    "version": 3
   },
   "file_extension": ".py",
   "mimetype": "text/x-python",
   "name": "python",
   "nbconvert_exporter": "python",
   "pygments_lexer": "ipython3",
   "version": "3.10.8"
  }
 },
 "nbformat": 4,
 "nbformat_minor": 5
}
