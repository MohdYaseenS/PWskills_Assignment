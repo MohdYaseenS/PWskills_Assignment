{
 "cells": [
  {
   "cell_type": "markdown",
   "id": "96ac0107-008c-44a9-aff3-8c4b1da0664b",
   "metadata": {},
   "source": [
    "# 1. Bank Account Create a class representing a bank account with attributes like account number, account holder name, and balance. Implement methods to deposit and withdraw money from the account."
   ]
  },
  {
   "cell_type": "code",
   "execution_count": 70,
   "id": "afccdde8-3960-4fea-b1ee-8f8447be33b3",
   "metadata": {},
   "outputs": [],
   "source": [
    "class Bank_account:\n",
    "    def __init__(self,account_number,account_holder_name,balance):\n",
    "        try:\n",
    "            self.account_number=account_number\n",
    "            self.account_holder_name=account_holder_name\n",
    "            self.balance=balance\n",
    "            if type(self.balance) is not int:\n",
    "                raise TypeError('Entered Balance is not a valid input')\n",
    "        except Exception as e:\n",
    "            print(e)\n",
    "    def deposit(self):\n",
    "        try:\n",
    "            amount=int(input(\"Enter the amount to deposit\"))\n",
    "            if type(amount) is not int:\n",
    "                raise ValueError('Entered amount is not Valid!')\n",
    "            self.balance+=amount\n",
    "            print(\"Balance=\",self.balance)\n",
    "            return self.balance\n",
    "        except Exception as e:\n",
    "            print(e)\n",
    "            \n",
    "    def withdraw(self):\n",
    "        try:\n",
    "            amount=int(input('Enter the amount to be withdrwan'))\n",
    "            if amount>self.balance:\n",
    "                print(\"Insufficient Balance. Balance=\",self.balance)\n",
    "            else:\n",
    "                self.balance-=amount\n",
    "                print(\"Balance=\",self.balance)\n",
    "                return self.balance\n",
    "        except Exception as e:\n",
    "            print(e)\n",
    "    def check_balance(self):\n",
    "        print(\"Availabe Balance=\",self.balance)\n",
    "        "
   ]
  },
  {
   "cell_type": "code",
   "execution_count": 71,
   "id": "46d67ac2-c665-4f87-b7a3-952565453ff8",
   "metadata": {},
   "outputs": [],
   "source": [
    "acc1=Bank_account(\"GH7865477\",'Mohd.YaseenS',60000)"
   ]
  },
  {
   "cell_type": "code",
   "execution_count": 72,
   "id": "60d39f6a-22dd-461b-b02f-0814879a8d62",
   "metadata": {},
   "outputs": [
    {
     "name": "stdin",
     "output_type": "stream",
     "text": [
      "Enter the amount to deposit 3500\n"
     ]
    },
    {
     "name": "stdout",
     "output_type": "stream",
     "text": [
      "Balance= 63500\n"
     ]
    },
    {
     "data": {
      "text/plain": [
       "63500"
      ]
     },
     "execution_count": 72,
     "metadata": {},
     "output_type": "execute_result"
    }
   ],
   "source": [
    "acc1.deposit()"
   ]
  },
  {
   "cell_type": "code",
   "execution_count": 73,
   "id": "342a03f3-f28d-4f02-9760-88c2776d08ba",
   "metadata": {},
   "outputs": [
    {
     "name": "stdin",
     "output_type": "stream",
     "text": [
      "Enter the amount to be withdrwan JS\n"
     ]
    },
    {
     "name": "stdout",
     "output_type": "stream",
     "text": [
      "invalid literal for int() with base 10: 'JS'\n"
     ]
    }
   ],
   "source": [
    "acc1.withdraw()"
   ]
  },
  {
   "cell_type": "code",
   "execution_count": 74,
   "id": "ddd516ca-4d7e-43b4-93f1-48e48b4eef85",
   "metadata": {},
   "outputs": [
    {
     "name": "stdout",
     "output_type": "stream",
     "text": [
      "Availabe Balance= 63500\n"
     ]
    }
   ],
   "source": [
    "acc1.check_balance()"
   ]
  },
  {
   "cell_type": "markdown",
   "id": "35307f24-2402-436d-a026-f5bd404d9695",
   "metadata": {},
   "source": [
    "# 2.Employee Management Create a class representing an employee with attributes like employee ID, name, and salary. Implement methods to calculate the yearly bonus and display employee details."
   ]
  },
  {
   "cell_type": "code",
   "execution_count": 32,
   "id": "4700ee77-1d23-42ff-b353-20abb394ad54",
   "metadata": {},
   "outputs": [],
   "source": [
    "class employee:\n",
    "    def __init__(self,employee_ID,name,salary):\n",
    "        self.employee_ID=employee_ID\n",
    "        self.name=name\n",
    "        self.salary=salary\n",
    "    def employee_details(self):\n",
    "        print(\"Employee Name =\",self.name)\n",
    "        print(\"Employee_ID =\",self.employee_ID)\n",
    "        print(\"Salary =\",self.salary)\n",
    "    def yearly_bonus(self):\n",
    "        years_of_exp=int(input(\"Enter the Employee's years of experience in the Company\"))\n",
    "        if years_of_exp>2:\n",
    "            self.bonus=0.2\n",
    "        elif years_of_exp>3:\n",
    "            self.bonus=0.4\n",
    "        elif years_of_exp>5:\n",
    "            self.bonus=0.6\n",
    "        else:\n",
    "            self.bonus=0\n",
    "        return self.bonus"
   ]
  },
  {
   "cell_type": "code",
   "execution_count": 33,
   "id": "c29050f8-5e95-4e89-91d0-bdf987456540",
   "metadata": {},
   "outputs": [],
   "source": [
    "epl1=employee(25626,'MJHGDHTD',75564)"
   ]
  },
  {
   "cell_type": "code",
   "execution_count": 34,
   "id": "e270bfe4-3d6f-4649-b11b-a92ba245d934",
   "metadata": {},
   "outputs": [
    {
     "name": "stdout",
     "output_type": "stream",
     "text": [
      "Employee Name = MJHGDHTD\n",
      "Employee_ID = 25626\n",
      "Salary = 75564\n"
     ]
    }
   ],
   "source": [
    "epl1.employee_details()"
   ]
  },
  {
   "cell_type": "code",
   "execution_count": 35,
   "id": "1373e2e0-3be3-415b-9e13-6a734783a697",
   "metadata": {},
   "outputs": [
    {
     "name": "stdin",
     "output_type": "stream",
     "text": [
      "Enter the Employee's years of experience in the Company 4\n"
     ]
    },
    {
     "data": {
      "text/plain": [
       "0.2"
      ]
     },
     "execution_count": 35,
     "metadata": {},
     "output_type": "execute_result"
    }
   ],
   "source": [
    "epl1.yearly_bonus()"
   ]
  },
  {
   "cell_type": "code",
   "execution_count": 36,
   "id": "bf6a0de7-00b9-4408-8ddc-4e0f0a3e5e98",
   "metadata": {},
   "outputs": [
    {
     "data": {
      "text/plain": [
       "0.2"
      ]
     },
     "execution_count": 36,
     "metadata": {},
     "output_type": "execute_result"
    }
   ],
   "source": [
    "epl1.bonus"
   ]
  },
  {
   "cell_type": "markdown",
   "id": "1a5d36f2-f6ed-477c-a531-62339a433a50",
   "metadata": {},
   "source": [
    "# 3. Vehicle Rental Create a class representing a vehicle rental system. Implement methods to rent a vehicle, return a vehicle, and display available vehicles."
   ]
  },
  {
   "cell_type": "code",
   "execution_count": 144,
   "id": "4f4e65e0-aaa4-42d1-b088-9b0ae2354548",
   "metadata": {},
   "outputs": [],
   "source": [
    "class rent_car:\n",
    "    def __init__(self,no_of_cars):\n",
    "        self.no_of_cars=no_of_cars\n",
    "        self.index=no_of_cars\n",
    "        self.availabe_cars_details=[]\n",
    "        for i in range(self.no_of_cars):\n",
    "            d={}\n",
    "            car_ID=i+1\n",
    "            car_name=input('Enter the car_name')\n",
    "            car_model=input('Enter the car Model')\n",
    "            car_year=input(\"Enter the car Model Year\")\n",
    "            car_color=input(\"Enter the car color\")\n",
    "            d.update({'Car_ID':car_ID,'Car_Name':car_name,'Car_Model':car_model,'Car_Year':car_year,'Car_Color':car_color})\n",
    "            self.availabe_cars_details.append(d)\n",
    "    def car_details(self):\n",
    "        print(self.availabe_cars_details)\n",
    "    def rent_a_car(self):\n",
    "        car_to_rent=int(input(\"Enter the ID_No of the car to Rent\"))\n",
    "        print(car_to_rent)\n",
    "        if car_to_rent not in range((self.no_of_cars+1)):\n",
    "            print(\"Car requested not availabe\")\n",
    "        else:\n",
    "            print(\"Car Requested rented to the customer\")\n",
    "            self.availabe_cars_details.pop(car_to_rent-1)\n",
    "            self.no_of_cars-=1\n",
    "    \n",
    "    def retrun_car(self):\n",
    "            l=[]\n",
    "            for i in self.availabe_cars_details:\n",
    "                d1=i\n",
    "                l.append(d1['Car_ID'])\n",
    "            for i in range(1,self.no_of_cars):\n",
    "                if i not in l:\n",
    "                    car_ID=i\n",
    "                    break\n",
    "            else:\n",
    "                car_ID=self.index+1\n",
    "            car_name=input('Enter the car_name')\n",
    "            car_model=input('Enter the car Model')\n",
    "            car_year=input(\"Enter the car Model Year\")\n",
    "            car_color=input(\"Enter the car color\")\n",
    "            d.update({'Car_ID':car_ID,'Car_Name':car_name,'Car_Model':car_model,'Car_Year':car_year,'Car_Color':car_color})\n",
    "            self.availabe_cars_details.append(d)\n",
    "            self.no_of_cars+=1\n",
    "        \n",
    "    "
   ]
  },
  {
   "cell_type": "code",
   "execution_count": 145,
   "id": "a5a2c32a-0a28-47e6-b1ac-555c9b139e7f",
   "metadata": {},
   "outputs": [
    {
     "name": "stdin",
     "output_type": "stream",
     "text": [
      "Enter the car_name MG \n",
      "Enter the car Model MG221\n",
      "Enter the car Model Year 2022\n",
      "Enter the car color White\n",
      "Enter the car_name KIA\n",
      "Enter the car Model KIA22\n",
      "Enter the car Model Year 2021\n",
      "Enter the car color Black\n",
      "Enter the car_name Ford\n",
      "Enter the car Model FD22\n",
      "Enter the car Model Year 2010\n",
      "Enter the car color Green\n",
      "Enter the car_name Jonda City\n",
      "Enter the car Model HDC200\n",
      "Enter the car Model Year 2019\n",
      "Enter the car color White\n"
     ]
    }
   ],
   "source": [
    "rent1=rent_car(4)"
   ]
  },
  {
   "cell_type": "code",
   "execution_count": 146,
   "id": "060df67f-ec86-4909-8656-442408fb978f",
   "metadata": {},
   "outputs": [
    {
     "data": {
      "text/plain": [
       "[{'Car_ID': 1,\n",
       "  'Car_Name': 'MG ',\n",
       "  'Car_Model': 'MG221',\n",
       "  'Car_Year': '2022',\n",
       "  'Car_Color': 'White'},\n",
       " {'Car_ID': 2,\n",
       "  'Car_Name': 'KIA',\n",
       "  'Car_Model': 'KIA22',\n",
       "  'Car_Year': '2021',\n",
       "  'Car_Color': 'Black'},\n",
       " {'Car_ID': 3,\n",
       "  'Car_Name': 'Ford',\n",
       "  'Car_Model': 'FD22',\n",
       "  'Car_Year': '2010',\n",
       "  'Car_Color': 'Green'},\n",
       " {'Car_ID': 4,\n",
       "  'Car_Name': 'Jonda City',\n",
       "  'Car_Model': 'HDC200',\n",
       "  'Car_Year': '2019',\n",
       "  'Car_Color': 'White'}]"
      ]
     },
     "execution_count": 146,
     "metadata": {},
     "output_type": "execute_result"
    }
   ],
   "source": [
    "rent1.availabe_cars_details"
   ]
  },
  {
   "cell_type": "code",
   "execution_count": 147,
   "id": "93cf4010-9bc3-4bb8-bf33-daaab008c4a8",
   "metadata": {},
   "outputs": [
    {
     "name": "stdin",
     "output_type": "stream",
     "text": [
      "Enter the ID_No of the car to Rent 2\n"
     ]
    },
    {
     "name": "stdout",
     "output_type": "stream",
     "text": [
      "2\n",
      "Car Requested rented to the customer\n"
     ]
    }
   ],
   "source": [
    "rent1.rent_a_car()"
   ]
  },
  {
   "cell_type": "code",
   "execution_count": 148,
   "id": "180c7bd7-ab61-41d6-a304-b134f78a88f7",
   "metadata": {},
   "outputs": [
    {
     "data": {
      "text/plain": [
       "[{'Car_ID': 1,\n",
       "  'Car_Name': 'MG ',\n",
       "  'Car_Model': 'MG221',\n",
       "  'Car_Year': '2022',\n",
       "  'Car_Color': 'White'},\n",
       " {'Car_ID': 3,\n",
       "  'Car_Name': 'Ford',\n",
       "  'Car_Model': 'FD22',\n",
       "  'Car_Year': '2010',\n",
       "  'Car_Color': 'Green'},\n",
       " {'Car_ID': 4,\n",
       "  'Car_Name': 'Jonda City',\n",
       "  'Car_Model': 'HDC200',\n",
       "  'Car_Year': '2019',\n",
       "  'Car_Color': 'White'}]"
      ]
     },
     "execution_count": 148,
     "metadata": {},
     "output_type": "execute_result"
    }
   ],
   "source": [
    "rent1.availabe_cars_details"
   ]
  },
  {
   "cell_type": "code",
   "execution_count": 149,
   "id": "cc75f2bd-7ab2-4790-9af9-076c9f41214c",
   "metadata": {},
   "outputs": [
    {
     "name": "stdin",
     "output_type": "stream",
     "text": [
      "Enter the car_name Ford\n",
      "Enter the car Model FD223\n",
      "Enter the car Model Year 2027\n",
      "Enter the car color Blue\n"
     ]
    }
   ],
   "source": [
    "rent1.retrun_car()"
   ]
  },
  {
   "cell_type": "code",
   "execution_count": 150,
   "id": "8730a6e9-b61c-4bae-ace9-f90c2e6b35d1",
   "metadata": {},
   "outputs": [
    {
     "data": {
      "text/plain": [
       "[{'Car_ID': 1,\n",
       "  'Car_Name': 'MG ',\n",
       "  'Car_Model': 'MG221',\n",
       "  'Car_Year': '2022',\n",
       "  'Car_Color': 'White'},\n",
       " {'Car_ID': 3,\n",
       "  'Car_Name': 'Ford',\n",
       "  'Car_Model': 'FD22',\n",
       "  'Car_Year': '2010',\n",
       "  'Car_Color': 'Green'},\n",
       " {'Car_ID': 4,\n",
       "  'Car_Name': 'Jonda City',\n",
       "  'Car_Model': 'HDC200',\n",
       "  'Car_Year': '2019',\n",
       "  'Car_Color': 'White'},\n",
       " {'Car_ID': 0,\n",
       "  'Car_Name': 'Ford',\n",
       "  'Car_Model': 'FD223',\n",
       "  'Car_Year': '2027',\n",
       "  'Car_Color': 'Blue'}]"
      ]
     },
     "execution_count": 150,
     "metadata": {},
     "output_type": "execute_result"
    }
   ],
   "source": [
    "rent1.availabe_cars_details"
   ]
  },
  {
   "cell_type": "markdown",
   "id": "831ca371-8690-41da-a16f-f4b28d594e80",
   "metadata": {},
   "source": [
    "# 4. Library Catalog Create classes representing a library and a book. Implement methods to add books to the library, borrow books, and display available books."
   ]
  },
  {
   "cell_type": "code",
   "execution_count": 108,
   "id": "20f9c60d-6dc8-4b14-97ae-b0314f288ad3",
   "metadata": {},
   "outputs": [],
   "source": [
    "class library:\n",
    "    def __init__(self):\n",
    "        self.l=[['A001','DSA'],\n",
    "           ['A002','DA'],\n",
    "           ['A003','Python']]\n",
    "        \n",
    "    def addbook(self,book_ID,book_name):\n",
    "        self.l.append([book_ID,book_name])\n",
    "    def borrowbook(self,bookID):\n",
    "        j=-1\n",
    "        for i in self.l:\n",
    "            j+=1\n",
    "            if i[0]==bookID:\n",
    "                print(\"Requested Book Rented\")\n",
    "                self.l.pop(j)\n",
    "                break\n",
    "        else:\n",
    "            print(\"Requested book is not available rented\")\n",
    "            \n",
    "    def display(self):\n",
    "        print(self.l)"
   ]
  },
  {
   "cell_type": "code",
   "execution_count": 109,
   "id": "bb357f36-e0bf-486e-b4b4-8929cb146269",
   "metadata": {},
   "outputs": [],
   "source": [
    "l1=library()"
   ]
  },
  {
   "cell_type": "code",
   "execution_count": 110,
   "id": "fd820aee-94d1-487d-bf9d-9d15b4f37612",
   "metadata": {},
   "outputs": [],
   "source": [
    "l1.addbook('A004','MachineLearning')"
   ]
  },
  {
   "cell_type": "code",
   "execution_count": 111,
   "id": "68a42f91-13ec-481d-8547-f7efa83f66ac",
   "metadata": {},
   "outputs": [
    {
     "name": "stdout",
     "output_type": "stream",
     "text": [
      "[['A001', 'DSA'], ['A002', 'DA'], ['A003', 'Python'], ['A004', 'MachineLearning']]\n"
     ]
    }
   ],
   "source": [
    "l1.display()"
   ]
  },
  {
   "cell_type": "code",
   "execution_count": 113,
   "id": "f273cbb8-c1d4-4bce-b8a9-61ed84858ec7",
   "metadata": {},
   "outputs": [
    {
     "name": "stdout",
     "output_type": "stream",
     "text": [
      "Requested Book Rented\n"
     ]
    }
   ],
   "source": [
    "l1.borrowbook('A003')"
   ]
  },
  {
   "cell_type": "code",
   "execution_count": 114,
   "id": "9c4ff621-01ce-4e5e-b660-9b5c3ea8a8ba",
   "metadata": {},
   "outputs": [
    {
     "name": "stdout",
     "output_type": "stream",
     "text": [
      "Requested book is not available rented\n"
     ]
    }
   ],
   "source": [
    "l1.borrowbook('A005')"
   ]
  },
  {
   "cell_type": "code",
   "execution_count": 115,
   "id": "02f2017f-dde7-4be3-a6c2-8a67b7605cff",
   "metadata": {},
   "outputs": [
    {
     "name": "stdout",
     "output_type": "stream",
     "text": [
      "[['A001', 'DSA'], ['A002', 'DA'], ['A004', 'MachineLearning']]\n"
     ]
    }
   ],
   "source": [
    "l1.display()"
   ]
  },
  {
   "cell_type": "markdown",
   "id": "4e832cf5-35df-4f6c-8642-4b62e655373e",
   "metadata": {},
   "source": [
    "# Problem 5: Product Inventory Create classes representing a product and an inventory system. Implement methods to add products to the inventory, update product quantity, and display available products."
   ]
  },
  {
   "cell_type": "code",
   "execution_count": 21,
   "id": "e78fd56e-3bd4-4b82-98af-de3085c23c6b",
   "metadata": {},
   "outputs": [],
   "source": [
    "class inventory:\n",
    "    def __init__(self,no_of_items):\n",
    "        self.no=no_of_items\n",
    "        self.list=[]\n",
    "        for i in range(self.no):\n",
    "            l=[]\n",
    "            product=input(\"Enter the product\")\n",
    "            quantity=input(\"Enter the quantity\")\n",
    "            l=[product,quantity]\n",
    "            self.list.append(l)\n",
    "    def display(self):\n",
    "        print(self.list)\n",
    "    def add(self):\n",
    "        l=[]\n",
    "        product=input(\"Enter the product\")\n",
    "        quantity=input(\"Enter the quantity\")\n",
    "        l=[product,quantity]\n",
    "        self.list.append(l)\n",
    "    def update(self):\n",
    "        p=input('select the product to update')\n",
    "        quantity=input(\"Enter the new quantity\")\n",
    "        for i in self.list:\n",
    "            if i[0]==p:\n",
    "                i[1]=quantity"
   ]
  },
  {
   "cell_type": "code",
   "execution_count": 22,
   "id": "effd367d-2b98-4b69-b372-a5176e93f69c",
   "metadata": {},
   "outputs": [
    {
     "name": "stdin",
     "output_type": "stream",
     "text": [
      "Enter the product Cement\n",
      "Enter the quantity 30kg\n",
      "Enter the product paint\n",
      "Enter the quantity 20\n",
      "Enter the product brush\n",
      "Enter the quantity 45\n"
     ]
    }
   ],
   "source": [
    "i1=inventory(3)"
   ]
  },
  {
   "cell_type": "code",
   "execution_count": 23,
   "id": "68ecc74c-286b-4f9d-b6ea-cfdb3e6b075a",
   "metadata": {},
   "outputs": [
    {
     "name": "stdout",
     "output_type": "stream",
     "text": [
      "[['Cement', '30kg'], ['paint', '20'], ['brush', '45']]\n"
     ]
    }
   ],
   "source": [
    "i1.display()"
   ]
  },
  {
   "cell_type": "code",
   "execution_count": 24,
   "id": "26e7a279-5194-4684-b251-ce16577c0380",
   "metadata": {},
   "outputs": [
    {
     "name": "stdin",
     "output_type": "stream",
     "text": [
      "Enter the product table\n",
      "Enter the quantity 10\n"
     ]
    }
   ],
   "source": [
    "i1.add()"
   ]
  },
  {
   "cell_type": "code",
   "execution_count": 25,
   "id": "027a3165-8954-43ec-88ed-d3ba05c0bbd7",
   "metadata": {},
   "outputs": [
    {
     "name": "stdout",
     "output_type": "stream",
     "text": [
      "[['Cement', '30kg'], ['paint', '20'], ['brush', '45'], ['table', '10']]\n"
     ]
    }
   ],
   "source": [
    "i1.display()"
   ]
  },
  {
   "cell_type": "code",
   "execution_count": 26,
   "id": "a636de29-b5c8-4342-817b-951fe8357bc8",
   "metadata": {},
   "outputs": [
    {
     "name": "stdin",
     "output_type": "stream",
     "text": [
      "select the product to update brush\n",
      "Enter the new quantity 50\n"
     ]
    }
   ],
   "source": [
    "i1.update()"
   ]
  },
  {
   "cell_type": "code",
   "execution_count": 27,
   "id": "44a5b4a8-7966-41aa-b740-c3310da9a013",
   "metadata": {},
   "outputs": [
    {
     "name": "stdout",
     "output_type": "stream",
     "text": [
      "[['Cement', '30kg'], ['paint', '20'], ['brush', '50'], ['table', '10']]\n"
     ]
    }
   ],
   "source": [
    "i1.display()"
   ]
  },
  {
   "cell_type": "code",
   "execution_count": 28,
   "id": "93ed6feb-82f7-4b8c-901b-06ba1717119e",
   "metadata": {},
   "outputs": [
    {
     "name": "stdin",
     "output_type": "stream",
     "text": [
      "select the product to update Cement\n",
      "Enter the new quantity 2 kg\n"
     ]
    }
   ],
   "source": [
    "i1.update()\n"
   ]
  },
  {
   "cell_type": "code",
   "execution_count": 29,
   "id": "cc9e81ee-2403-40c9-8f01-cbc3a300d8ea",
   "metadata": {},
   "outputs": [
    {
     "name": "stdout",
     "output_type": "stream",
     "text": [
      "[['Cement', '2 kg'], ['paint', '20'], ['brush', '50'], ['table', '10']]\n"
     ]
    }
   ],
   "source": [
    "i1.display()"
   ]
  },
  {
   "cell_type": "markdown",
   "id": "f3f45c0f-ff77-44f6-aef8-5e90cb7d1e92",
   "metadata": {},
   "source": [
    "# Problem 6: Shape Calculation Create a class representing a shape with attributes like length, width, and height. Implement methods to calculate the area and perimeter of the shape."
   ]
  },
  {
   "cell_type": "code",
   "execution_count": null,
   "id": "69955cdc-279e-41f3-a168-d55bf2c701aa",
   "metadata": {},
   "outputs": [],
   "source": []
  },
  {
   "cell_type": "code",
   "execution_count": null,
   "id": "4ee729ed-1b57-40b9-889e-5d888bec0caf",
   "metadata": {},
   "outputs": [],
   "source": []
  },
  {
   "cell_type": "code",
   "execution_count": null,
   "id": "384114b4-68e8-4a3e-a54d-e4b24a9ce205",
   "metadata": {},
   "outputs": [],
   "source": []
  },
  {
   "cell_type": "code",
   "execution_count": 116,
   "id": "7cdb63dd-f7f5-498a-a256-2e7916d6d87c",
   "metadata": {},
   "outputs": [
    {
     "ename": "NameError",
     "evalue": "name 'rect1' is not defined",
     "output_type": "error",
     "traceback": [
      "\u001b[0;31m---------------------------------------------------------------------------\u001b[0m",
      "\u001b[0;31mNameError\u001b[0m                                 Traceback (most recent call last)",
      "Cell \u001b[0;32mIn[116], line 1\u001b[0m\n\u001b[0;32m----> 1\u001b[0m \u001b[38;5;28mprint\u001b[39m(\u001b[43mrect1\u001b[49m\u001b[38;5;241m.\u001b[39marea())\n",
      "\u001b[0;31mNameError\u001b[0m: name 'rect1' is not defined"
     ]
    }
   ],
   "source": []
  },
  {
   "cell_type": "code",
   "execution_count": null,
   "id": "955a00b2-f7c1-4962-ad69-428b0d0dec98",
   "metadata": {},
   "outputs": [],
   "source": []
  },
  {
   "cell_type": "code",
   "execution_count": null,
   "id": "674d0126-69d9-466c-b40a-f4c1ea28a8f5",
   "metadata": {},
   "outputs": [],
   "source": []
  },
  {
   "cell_type": "markdown",
   "id": "17865877-d40c-4370-be4a-5bf32d069364",
   "metadata": {},
   "source": [
    "# Problem 7: Student Management Create a class representing a student with attributes like student ID, name, and grades. Implement methods to calculate the average grade and display student details."
   ]
  },
  {
   "cell_type": "code",
   "execution_count": 59,
   "id": "56407684-989a-4480-8bca-d00b86497d26",
   "metadata": {},
   "outputs": [],
   "source": [
    "class student:\n",
    "    def __init__(self,student_ID,name,grades):\n",
    "        self.student_ID=student_ID\n",
    "        self.name=name\n",
    "        self.grades=grades\n",
    "        self.avg_grd=self.average()\n",
    "    def display(self):\n",
    "        print(self.student_ID)\n",
    "        print(self.name)\n",
    "        print(self.grades)\n",
    "    def average(self):\n",
    "        s=0\n",
    "        for i in self.grades:\n",
    "            s+=i\n",
    "        average=s/len(self.grades)\n",
    "        return average"
   ]
  },
  {
   "cell_type": "code",
   "execution_count": 65,
   "id": "2edf78b1-6fc7-4a97-8003-f76836451d6d",
   "metadata": {},
   "outputs": [],
   "source": [
    "s1=student('ajy7564','kuagsfd',[63,66,65,60,79,88])"
   ]
  },
  {
   "cell_type": "code",
   "execution_count": 66,
   "id": "e8c4c912-9c5a-4603-b6e5-56af2808ad0b",
   "metadata": {},
   "outputs": [
    {
     "name": "stdout",
     "output_type": "stream",
     "text": [
      "ajy7564\n",
      "kuagsfd\n",
      "[63, 66, 65, 60, 79, 88]\n"
     ]
    }
   ],
   "source": [
    "s1.display()"
   ]
  },
  {
   "cell_type": "code",
   "execution_count": 68,
   "id": "ab4626c3-4199-4979-be7d-79bdf43e7cf7",
   "metadata": {},
   "outputs": [
    {
     "data": {
      "text/plain": [
       "70.16666666666667"
      ]
     },
     "execution_count": 68,
     "metadata": {},
     "output_type": "execute_result"
    }
   ],
   "source": [
    "s1.average()"
   ]
  },
  {
   "cell_type": "code",
   "execution_count": 67,
   "id": "f5029520-cb82-4a98-b34d-9b72f9207cd2",
   "metadata": {},
   "outputs": [
    {
     "data": {
      "text/plain": [
       "70.16666666666667"
      ]
     },
     "execution_count": 67,
     "metadata": {},
     "output_type": "execute_result"
    }
   ],
   "source": [
    "s1.avg_grd\n"
   ]
  },
  {
   "cell_type": "markdown",
   "id": "00cf9288-ecd3-4a5b-b8bf-549387e8a5d7",
   "metadata": {},
   "source": [
    "# Problem 8: Email Management Create a class representing an email with attributes like sender, recipient, and subject. Implement methods to send an email and display email details."
   ]
  },
  {
   "cell_type": "code",
   "execution_count": 77,
   "id": "7331437e-e861-472d-b148-9c8963791804",
   "metadata": {},
   "outputs": [],
   "source": [
    "class email:\n",
    "    def __init__(self,sender,recipient,subject):\n",
    "        self.sender=sender\n",
    "        self.recipient=recipient\n",
    "        self.subject=subject\n",
    "    def send(self):\n",
    "        print(f\"Email Sent Successfully to {self.recipient}\")\n",
    "    def display(self):\n",
    "        print(self.sender)\n",
    "        print(self.recipient)\n",
    "        print(self.subject)\n",
    "        "
   ]
  },
  {
   "cell_type": "code",
   "execution_count": 79,
   "id": "ac1c0c86-953c-441b-8bb3-5fd1c49575b7",
   "metadata": {},
   "outputs": [],
   "source": [
    "e1=email(\"Yasy\",\"prof.ABC\",'Application Deadline')"
   ]
  },
  {
   "cell_type": "code",
   "execution_count": 80,
   "id": "05f5f8da-b6ad-4692-97d9-b8e3b95bcae6",
   "metadata": {},
   "outputs": [
    {
     "name": "stdout",
     "output_type": "stream",
     "text": [
      "Yasy\n",
      "prof.ABC\n",
      "Application Deadline\n"
     ]
    }
   ],
   "source": [
    "e1.display()"
   ]
  },
  {
   "cell_type": "code",
   "execution_count": 81,
   "id": "3fc06fad-daec-478c-9f67-7038ef21e88a",
   "metadata": {},
   "outputs": [
    {
     "name": "stdout",
     "output_type": "stream",
     "text": [
      "Email Sent Successfully to prof.ABC\n"
     ]
    }
   ],
   "source": [
    "e1.send()"
   ]
  },
  {
   "cell_type": "markdown",
   "id": "6626f94b-d1bf-428c-a1ad-f9def0d01f7a",
   "metadata": {},
   "source": [
    "# Problem 9: Social Media Profile Create a class representing a social media profile with attributes like username and posts. Implement methods to add posts, display posts, and search for posts by keyword."
   ]
  },
  {
   "cell_type": "code",
   "execution_count": 78,
   "id": "3908bc9d-eab6-4bf0-a658-d2c35188566d",
   "metadata": {},
   "outputs": [],
   "source": [
    "class profile:\n",
    "    def __init__(self,username,posts):\n",
    "        self.username=username\n",
    "        self.posts=posts\n",
    "    def addposts(self):\n",
    "        post=input('Enter the new post')\n",
    "        self.posts.append(post)\n",
    "        return self.posts\n",
    "    def display_posts(self):\n",
    "        print(self.posts)\n",
    "    def search_post(self):\n",
    "        ps=input(\"Enter the post to search\")\n",
    "        if ps in self.posts:\n",
    "            return self.posts.index(ps)\n",
    "        else:\n",
    "            return 'Post not found'\n",
    "    def search_keyword(self):\n",
    "        l=[]\n",
    "        key=input(\"Enter the key\")\n",
    "        for i in self.posts:\n",
    "            i_l=i.split()\n",
    "            for j in i_l:\n",
    "                if j.lower()==key.lower():\n",
    "                    l.append(i)\n",
    "                    break\n",
    "        return l"
   ]
  },
  {
   "cell_type": "code",
   "execution_count": 76,
   "id": "2a24fd63-0ccd-4343-ac47-de715ae322ae",
   "metadata": {},
   "outputs": [],
   "source": [
    "user1=profile(\"Yasy\",['hi there','Happy diwali','Icc World Cup','Lets celebrate this diwali with world Cup'])"
   ]
  },
  {
   "cell_type": "code",
   "execution_count": 79,
   "id": "829d0d3a-a417-4e8e-8e5d-03b2f17b7164",
   "metadata": {},
   "outputs": [
    {
     "name": "stdout",
     "output_type": "stream",
     "text": [
      "['hi there', 'Happy diwali', 'Icc World Cup', 'Lets celebrate this diwali with world Cup']\n"
     ]
    }
   ],
   "source": [
    "user1.display_posts()"
   ]
  },
  {
   "cell_type": "code",
   "execution_count": 80,
   "id": "df56abb8-5c01-4ea6-8d27-2de63dfcff79",
   "metadata": {},
   "outputs": [
    {
     "name": "stdin",
     "output_type": "stream",
     "text": [
      "Enter the new post happy world CUP\n"
     ]
    },
    {
     "data": {
      "text/plain": [
       "['hi there',\n",
       " 'Happy diwali',\n",
       " 'Icc World Cup',\n",
       " 'Lets celebrate this diwali with world Cup',\n",
       " 'happy world CUP']"
      ]
     },
     "execution_count": 80,
     "metadata": {},
     "output_type": "execute_result"
    }
   ],
   "source": [
    "user1.addposts()"
   ]
  },
  {
   "cell_type": "code",
   "execution_count": 83,
   "id": "22b21d1b-7ac8-4fe2-b4cc-75bfdca7b5d3",
   "metadata": {},
   "outputs": [
    {
     "name": "stdin",
     "output_type": "stream",
     "text": [
      "Enter the post to search Icc World Cup\n"
     ]
    },
    {
     "data": {
      "text/plain": [
       "2"
      ]
     },
     "execution_count": 83,
     "metadata": {},
     "output_type": "execute_result"
    }
   ],
   "source": [
    "user1.search_post()"
   ]
  },
  {
   "cell_type": "code",
   "execution_count": 84,
   "id": "09b315e6-e780-4d23-8907-d55c91ff05f2",
   "metadata": {},
   "outputs": [
    {
     "name": "stdin",
     "output_type": "stream",
     "text": [
      "Enter the key Cup\n"
     ]
    },
    {
     "name": "stdout",
     "output_type": "stream",
     "text": [
      "Icc World Cup\n",
      "Lets celebrate this diwali with world Cup\n",
      "happy world CUP\n"
     ]
    },
    {
     "data": {
      "text/plain": [
       "['Icc World Cup',\n",
       " 'Lets celebrate this diwali with world Cup',\n",
       " 'happy world CUP']"
      ]
     },
     "execution_count": 84,
     "metadata": {},
     "output_type": "execute_result"
    }
   ],
   "source": [
    "user1.search_keyword()"
   ]
  },
  {
   "cell_type": "markdown",
   "id": "77648a6a-2f26-47f8-bee0-c1baec0cabb8",
   "metadata": {},
   "source": [
    "# Problem 10: ToDo List Create a class representing a ToDo list with attributes like tasks and due dates. Implement methods to add tasks, mark tasks as completed, and display pending tasks."
   ]
  },
  {
   "cell_type": "code",
   "execution_count": 65,
   "id": "438bf2be-1940-437f-a842-3e5d4b8f61a8",
   "metadata": {},
   "outputs": [],
   "source": [
    "class ToDo:\n",
    "    def __init__(self,no_of_tasks):\n",
    "        self.task=[]\n",
    "        for i in range(no_of_tasks):\n",
    "            task=input(\"Enter the task\")\n",
    "            due_date=input('Enter due date')\n",
    "            self.task.append([task,due_date,'pending'])\n",
    "        \n",
    "    def add_task(self):\n",
    "        task=input(\"Enter the task\")\n",
    "        due_date=input('Enter due date')\n",
    "        self.task.append([task,due_date,'pending'])\n",
    "        return self.task\n",
    "    def mark_task(self):\n",
    "        task=input(\"Enter the task\")\n",
    "        for i in self.task:\n",
    "            if i[0]==task:\n",
    "                i[2]='Completed'\n",
    "        return self.task\n",
    "    def display_pending(self):\n",
    "        l=[]\n",
    "        for i in self.task:\n",
    "            if i[2]=='Completed':\n",
    "                continue\n",
    "            else:\n",
    "                l.append(i)\n",
    "        return l\n",
    "        "
   ]
  },
  {
   "cell_type": "code",
   "execution_count": 66,
   "id": "bdc306a0-d21d-4602-ab36-8568bf940379",
   "metadata": {},
   "outputs": [
    {
     "name": "stdin",
     "output_type": "stream",
     "text": [
      "Enter the task Laundry\n",
      "Enter due date 10-10-2020\n",
      "Enter the task Assignment\n",
      "Enter due date 10-10-2020\n",
      "Enter the task Project\n",
      "Enter due date 10-10-2020\n"
     ]
    }
   ],
   "source": [
    "yasy=ToDo(3)"
   ]
  },
  {
   "cell_type": "code",
   "execution_count": 67,
   "id": "040e05d3-f40e-4602-93dc-95a29c4cbb7d",
   "metadata": {},
   "outputs": [
    {
     "name": "stdin",
     "output_type": "stream",
     "text": [
      "Enter the task Homework\n",
      "Enter due date 10-10-2020\n"
     ]
    },
    {
     "data": {
      "text/plain": [
       "[['Laundry', '10-10-2020', 'pending'],\n",
       " ['Assignment', '10-10-2020', 'pending'],\n",
       " ['Project', '10-10-2020', 'pending'],\n",
       " ['Homework', '10-10-2020', 'pending']]"
      ]
     },
     "execution_count": 67,
     "metadata": {},
     "output_type": "execute_result"
    }
   ],
   "source": [
    "yasy.add_task()"
   ]
  },
  {
   "cell_type": "code",
   "execution_count": 68,
   "id": "5956e625-b9a1-4b49-9ee3-350bd1f9d662",
   "metadata": {},
   "outputs": [
    {
     "data": {
      "text/plain": [
       "[['Laundry', '10-10-2020', 'pending'],\n",
       " ['Assignment', '10-10-2020', 'pending'],\n",
       " ['Project', '10-10-2020', 'pending'],\n",
       " ['Homework', '10-10-2020', 'pending']]"
      ]
     },
     "execution_count": 68,
     "metadata": {},
     "output_type": "execute_result"
    }
   ],
   "source": [
    "yasy.display_pending()"
   ]
  },
  {
   "cell_type": "code",
   "execution_count": 69,
   "id": "f650a4c4-c7f1-419c-85a4-bfbf27245c01",
   "metadata": {},
   "outputs": [
    {
     "name": "stdin",
     "output_type": "stream",
     "text": [
      "Enter the task Assignment\n"
     ]
    },
    {
     "data": {
      "text/plain": [
       "[['Laundry', '10-10-2020', 'pending'],\n",
       " ['Assignment', '10-10-2020', 'Completed'],\n",
       " ['Project', '10-10-2020', 'pending'],\n",
       " ['Homework', '10-10-2020', 'pending']]"
      ]
     },
     "execution_count": 69,
     "metadata": {},
     "output_type": "execute_result"
    }
   ],
   "source": [
    "yasy.mark_task()"
   ]
  },
  {
   "cell_type": "code",
   "execution_count": 70,
   "id": "f5b0601f-8595-41d4-99f6-3bf18aa2d5c8",
   "metadata": {},
   "outputs": [
    {
     "data": {
      "text/plain": [
       "[['Laundry', '10-10-2020', 'pending'],\n",
       " ['Project', '10-10-2020', 'pending'],\n",
       " ['Homework', '10-10-2020', 'pending']]"
      ]
     },
     "execution_count": 70,
     "metadata": {},
     "output_type": "execute_result"
    }
   ],
   "source": [
    "yasy.display_pending()"
   ]
  },
  {
   "cell_type": "code",
   "execution_count": null,
   "id": "bd9a0ba4-8eae-4e41-841a-02280d536266",
   "metadata": {},
   "outputs": [],
   "source": []
  }
 ],
 "metadata": {
  "kernelspec": {
   "display_name": "Python 3 (ipykernel)",
   "language": "python",
   "name": "python3"
  },
  "language_info": {
   "codemirror_mode": {
    "name": "ipython",
    "version": 3
   },
   "file_extension": ".py",
   "mimetype": "text/x-python",
   "name": "python",
   "nbconvert_exporter": "python",
   "pygments_lexer": "ipython3",
   "version": "3.10.8"
  }
 },
 "nbformat": 4,
 "nbformat_minor": 5
}
