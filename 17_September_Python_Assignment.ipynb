{
 "cells": [
  {
   "cell_type": "markdown",
   "id": "f064a48d-c37a-4191-b916-8df51615a3b4",
   "metadata": {},
   "source": [
    "# For Loop :-"
   ]
  },
  {
   "cell_type": "markdown",
   "id": "b5d72748-515d-450e-9d67-1c7b3da09fcf",
   "metadata": {},
   "source": [
    "# 1. Write a Python program to print numbers from 1 to 10 using a for loop."
   ]
  },
  {
   "cell_type": "code",
   "execution_count": 2,
   "id": "e7f8548c-37c4-41bb-b14d-2b7c2581fc95",
   "metadata": {},
   "outputs": [
    {
     "name": "stdout",
     "output_type": "stream",
     "text": [
      "1 2 3 4 5 6 7 8 9 10 "
     ]
    }
   ],
   "source": [
    "for i in range(10):\n",
    "    print(i+1,end=' ')"
   ]
  },
  {
   "cell_type": "markdown",
   "id": "39d8138c-c9a7-434a-b509-37f3d0bfc735",
   "metadata": {},
   "source": [
    "# 2. Explain the difference between a for loop and a while loop in Python."
   ]
  },
  {
   "cell_type": "markdown",
   "id": "f87cfb71-f577-4d26-a0f5-084801bbc45f",
   "metadata": {},
   "source": [
    "For loop is used to do iterations when we know the no of iterations to be performed. We need not provide updation of the iterative parameter in for loop.\n",
    "While loop is used to do iterative actions as long as a condition is True. In while loop, we need to provide the updation of iterative parameter or else the loop will go infinite. "
   ]
  },
  {
   "cell_type": "markdown",
   "id": "f577e806-f724-4f53-bc58-4c19e9efc621",
   "metadata": {},
   "source": [
    "# 3. Write a Python program to calculate the sum of all numbers from 1 to 100 using a for loop."
   ]
  },
  {
   "cell_type": "code",
   "execution_count": 4,
   "id": "796a4b98-9604-4cb6-a66d-0e3854e1d1a0",
   "metadata": {},
   "outputs": [
    {
     "name": "stdout",
     "output_type": "stream",
     "text": [
      "5050\n"
     ]
    }
   ],
   "source": [
    "s=0\n",
    "for i in range(1,101):\n",
    "    s+=i\n",
    "print(s)"
   ]
  },
  {
   "cell_type": "markdown",
   "id": "caaf2fcd-cd64-4220-90c7-8476e4386c85",
   "metadata": {},
   "source": [
    "# 4.How do you iterate through a list using a for loop in Python?"
   ]
  },
  {
   "cell_type": "raw",
   "id": "d358f42f-6a4a-4660-a14b-89d0b18bbf02",
   "metadata": {},
   "source": [
    "for i in list_name:\n",
    "    "
   ]
  },
  {
   "cell_type": "markdown",
   "id": "0b521131-ae5d-4605-8496-05821df9b172",
   "metadata": {},
   "source": [
    "# 5. Write a Python program to find the product of all elements in a list using a for loop."
   ]
  },
  {
   "cell_type": "code",
   "execution_count": 5,
   "id": "ba99c073-f0f8-4268-b01a-7a7d9f8f3cea",
   "metadata": {},
   "outputs": [
    {
     "name": "stdout",
     "output_type": "stream",
     "text": [
      "80\n"
     ]
    }
   ],
   "source": [
    "l=[2,4,5,-2,-1]\n",
    "s=1\n",
    "for i in l:\n",
    "    s*=i\n",
    "print(s)"
   ]
  },
  {
   "cell_type": "markdown",
   "id": "896c8d65-c248-4c81-8d42-4cabd05899d9",
   "metadata": {},
   "source": [
    "# 6. Create a Python program that prints all even numbers from 1 to 20 using a for loop."
   ]
  },
  {
   "cell_type": "code",
   "execution_count": 7,
   "id": "6146acee-06d8-40bd-94e1-3da7300e296b",
   "metadata": {},
   "outputs": [
    {
     "name": "stdout",
     "output_type": "stream",
     "text": [
      "2 4 6 8 10 12 14 16 18 20 "
     ]
    }
   ],
   "source": [
    "for i in range(1,21):\n",
    "    if i%2==0:\n",
    "        print(i,end=' ')"
   ]
  },
  {
   "cell_type": "markdown",
   "id": "49660fbd-3265-42d2-a703-606d95edbbf0",
   "metadata": {},
   "source": [
    "# 7.Write a Python program that calculates the factorial of a number using a for loop."
   ]
  },
  {
   "cell_type": "code",
   "execution_count": 13,
   "id": "a0c268e8-2c9d-4a48-aa47-d3a74d1a8d36",
   "metadata": {},
   "outputs": [
    {
     "name": "stdin",
     "output_type": "stream",
     "text": [
      "enter the number 7\n"
     ]
    },
    {
     "name": "stdout",
     "output_type": "stream",
     "text": [
      "5040\n"
     ]
    }
   ],
   "source": [
    "n=int(input(\"enter the number\"))\n",
    "f=1\n",
    "for i in range(1,n+1):\n",
    "    f=f*i\n",
    "print(f)"
   ]
  },
  {
   "cell_type": "markdown",
   "id": "34c8bd45-d57a-4b09-9646-41d4f3e65bbb",
   "metadata": {},
   "source": [
    "# 8.How can you iterate through the characters of a string using a for loop in Python?"
   ]
  },
  {
   "cell_type": "raw",
   "id": "de15a049-d4a1-4450-8910-f314536065fd",
   "metadata": {},
   "source": [
    "for i in string_name :"
   ]
  },
  {
   "cell_type": "markdown",
   "id": "9707ec27-9166-4c5e-a4ea-6b7ca48ac3d6",
   "metadata": {},
   "source": [
    "# 9.Write a Python program to find the largest number in a list using a for loop."
   ]
  },
  {
   "cell_type": "code",
   "execution_count": 15,
   "id": "a676e389-c975-4d59-b8a0-3f6b535bc4c3",
   "metadata": {},
   "outputs": [
    {
     "name": "stdout",
     "output_type": "stream",
     "text": [
      "91\n"
     ]
    }
   ],
   "source": [
    "l=[2,4,15,6,10,91]\n",
    "lar=l[0]\n",
    "for i in l:\n",
    "    if i>lar:\n",
    "        lar=i\n",
    "print(lar)"
   ]
  },
  {
   "cell_type": "markdown",
   "id": "23fd812c-e175-4185-ba77-edf75fdaf2af",
   "metadata": {},
   "source": [
    "# 10.Create a Python program that prints the Fibonacci sequence up to a specified limit using a for loop."
   ]
  },
  {
   "cell_type": "code",
   "execution_count": 17,
   "id": "f3552bb5-92a6-4245-bd5e-53fb238c19e3",
   "metadata": {},
   "outputs": [
    {
     "name": "stdin",
     "output_type": "stream",
     "text": [
      "Enter the term limit 9\n"
     ]
    },
    {
     "name": "stdout",
     "output_type": "stream",
     "text": [
      "0 1 1 2 3 5 8 13 21 "
     ]
    }
   ],
   "source": [
    "n1=0\n",
    "n2=1\n",
    "n3=n2+n1\n",
    "n=int(input(\"Enter the term limit\"))\n",
    "print(n1,end=' ')\n",
    "print(n2,end=' ')\n",
    "for i in range(2,n):\n",
    "    n3=n1+n2\n",
    "    n1=n2\n",
    "    n2=n3\n",
    "    print(n3,end=' ')\n"
   ]
  },
  {
   "cell_type": "markdown",
   "id": "84a591a0-c61d-4ce1-ae8f-85bc1bd8b5af",
   "metadata": {},
   "source": [
    "# 11.Write a Python program to count the number of vowels in a given string using a for loop."
   ]
  },
  {
   "cell_type": "code",
   "execution_count": 18,
   "id": "cac4adf2-6eb1-4f5a-81db-2f3599a14723",
   "metadata": {},
   "outputs": [
    {
     "name": "stdin",
     "output_type": "stream",
     "text": [
      "Enter a String GBefiou\n"
     ]
    },
    {
     "name": "stdout",
     "output_type": "stream",
     "text": [
      "4\n"
     ]
    }
   ],
   "source": [
    "s=input(\"Enter a String\")\n",
    "c=0\n",
    "for i in s:\n",
    "    if i in 'aeiouAEIOU':\n",
    "        c+=1\n",
    "print(c)"
   ]
  },
  {
   "cell_type": "markdown",
   "id": "907f8661-60af-4fc7-99ca-a40f1ff31d58",
   "metadata": {},
   "source": [
    "# 12.Create a Python program that generates a multiplication table for a given number using a for loop."
   ]
  },
  {
   "cell_type": "code",
   "execution_count": 20,
   "id": "5466ab6d-f294-465a-b0fe-70ac48c0317e",
   "metadata": {},
   "outputs": [
    {
     "name": "stdin",
     "output_type": "stream",
     "text": [
      "Enter a number 4\n",
      "Enter limit 13\n"
     ]
    },
    {
     "name": "stdout",
     "output_type": "stream",
     "text": [
      "4*1 = 4\n",
      "4*2 = 8\n",
      "4*3 = 12\n",
      "4*4 = 16\n",
      "4*5 = 20\n",
      "4*6 = 24\n",
      "4*7 = 28\n",
      "4*8 = 32\n",
      "4*9 = 36\n",
      "4*10 = 40\n",
      "4*11 = 44\n",
      "4*12 = 48\n",
      "4*13 = 52\n"
     ]
    }
   ],
   "source": [
    "n=int(input(\"Enter a number\"))\n",
    "l=int(input(\"Enter limit\"))\n",
    "for i in range(l):\n",
    "    print(f\"{n}*{i+1} = {n*(i+1)}\") "
   ]
  },
  {
   "cell_type": "markdown",
   "id": "991012c0-77ea-41ff-ace3-bd9a815f4578",
   "metadata": {},
   "source": [
    "# 13.Write a Python program to reverse a list using a for loop."
   ]
  },
  {
   "cell_type": "code",
   "execution_count": 21,
   "id": "1e087af7-aa63-4a43-af44-4d01f1339231",
   "metadata": {},
   "outputs": [
    {
     "name": "stdout",
     "output_type": "stream",
     "text": [
      "[5, 4, 3, 2, 1]\n"
     ]
    }
   ],
   "source": [
    "l=[1,2,3,4,5]\n",
    "l_r=[]\n",
    "for i in range(len(l)):\n",
    "    l_r.append(l[len(l)-i-1])\n",
    "print(l_r)"
   ]
  },
  {
   "cell_type": "markdown",
   "id": "08a5a51a-6e58-4cb0-8399-00744d82e021",
   "metadata": {},
   "source": [
    "# 14.Write a Python program to find the common elements between two lists using a for loop."
   ]
  },
  {
   "cell_type": "code",
   "execution_count": 24,
   "id": "ba188646-310e-4639-a860-a8c58216dacf",
   "metadata": {},
   "outputs": [
    {
     "name": "stdout",
     "output_type": "stream",
     "text": [
      "[3, 3, 4, 5, 5]\n"
     ]
    }
   ],
   "source": [
    "l1=[1,2,3,4,5,5]\n",
    "l2=[3,4,5,6,3,7]\n",
    "l_c=[]\n",
    "for i in l1:\n",
    "    for j in l2:\n",
    "        if j==i:\n",
    "            l_c.append(j)\n",
    "print(l_c)"
   ]
  },
  {
   "cell_type": "markdown",
   "id": "a7beec6a-395c-48d2-89c7-9efd946597d7",
   "metadata": {},
   "source": [
    "# 15.Explain how to use a for loop to iterate through the keys and values of a dictionary in Python."
   ]
  },
  {
   "cell_type": "code",
   "execution_count": 26,
   "id": "1638cab8-5439-4f21-82ed-758a679ed22b",
   "metadata": {},
   "outputs": [
    {
     "name": "stdout",
     "output_type": "stream",
     "text": [
      "a 1\n",
      "b 2\n",
      "c 3\n",
      "d 4\n",
      "e 5\n"
     ]
    }
   ],
   "source": [
    "d={'a':1,'b':2,'c':3,'d':4,'e':5}\n",
    "for i in d:\n",
    "    print(i,end=' ')\n",
    "    print(d[i])"
   ]
  },
  {
   "cell_type": "markdown",
   "id": "95a445c8-9e0a-4488-a9ae-cc6382059ac4",
   "metadata": {},
   "source": [
    "# 16.Write a Python program to find the GCD (Greatest Common Divisor) of two numbers using a for loop."
   ]
  },
  {
   "cell_type": "code",
   "execution_count": 30,
   "id": "f04dbe6c-262a-476d-9a19-92a926e4ca06",
   "metadata": {},
   "outputs": [
    {
     "name": "stdin",
     "output_type": "stream",
     "text": [
      "Enter number 1 28\n",
      "Enter number 2 64\n"
     ]
    },
    {
     "name": "stdout",
     "output_type": "stream",
     "text": [
      "4\n"
     ]
    }
   ],
   "source": [
    "n1=int(input(\"Enter number 1\"))\n",
    "n2=int(input(\"Enter number 2\"))\n",
    "for i in range(1,n1+1):\n",
    "    if n1%i==0 and n2%i==0:\n",
    "        gcd=i\n",
    "print(gcd)"
   ]
  },
  {
   "cell_type": "markdown",
   "id": "50aa24a2-1349-449a-ac2b-1a8c01ad3eea",
   "metadata": {
    "tags": []
   },
   "source": [
    "# 17.Create a Python program that checks if a string is a palindrome using a for loop."
   ]
  },
  {
   "cell_type": "code",
   "execution_count": 18,
   "id": "6c0fe0e2-01f5-48f4-a743-305e3c37d1f0",
   "metadata": {},
   "outputs": [
    {
     "name": "stdin",
     "output_type": "stream",
     "text": [
      "Enter a string haabttbaah\n"
     ]
    },
    {
     "name": "stdout",
     "output_type": "stream",
     "text": [
      "Palindrome\n"
     ]
    }
   ],
   "source": [
    "s=input('Enter a string')\n",
    "s_r=''\n",
    "for i in range(len(s)):\n",
    "    s_r=s_r+s[len(s)-i-1]\n",
    "if s==s_r:\n",
    "    print('Palindrome')\n",
    "else:\n",
    "    print(\"Not a Palindrome\")"
   ]
  },
  {
   "cell_type": "markdown",
   "id": "173e01f5-e234-4f3f-8c3c-f22053969c64",
   "metadata": {},
   "source": [
    "# 18.Write a Python program to remove duplicates from a list using a for loop."
   ]
  },
  {
   "cell_type": "code",
   "execution_count": 52,
   "id": "5cee6ae0-dc98-42ad-b398-1db9f192403f",
   "metadata": {},
   "outputs": [
    {
     "name": "stdout",
     "output_type": "stream",
     "text": [
      "[1, 2, 3, 5, 6, 7]\n"
     ]
    }
   ],
   "source": [
    "l=[1,2,3,2,3,1,5,6,7]\n",
    "l1=[]\n",
    "for i in l:\n",
    "    if i in l1:\n",
    "        continue\n",
    "    else:\n",
    "        l1.append(i)\n",
    "print(l1)\n",
    "        "
   ]
  },
  {
   "cell_type": "markdown",
   "id": "db794517-e290-449d-99ab-213955231f64",
   "metadata": {},
   "source": [
    "# 19.Create a Python program that counts the number of words in a sentence using a for loop."
   ]
  },
  {
   "cell_type": "code",
   "execution_count": 54,
   "id": "976eb11e-52ac-4712-ae67-c08cffc2d297",
   "metadata": {},
   "outputs": [
    {
     "name": "stdin",
     "output_type": "stream",
     "text": [
      "Enter a Sentence this is a test language\n"
     ]
    },
    {
     "name": "stdout",
     "output_type": "stream",
     "text": [
      "5\n"
     ]
    }
   ],
   "source": [
    "s=input('Enter a Sentence')\n",
    "s_l=s.split()\n",
    "c=0\n",
    "for i in s_l:\n",
    "    c+=1\n",
    "print(c)"
   ]
  },
  {
   "cell_type": "markdown",
   "id": "4000569d-0528-4678-bf12-e8384a5602b5",
   "metadata": {},
   "source": [
    "# 20.Write a Python program to find the sum of all odd numbers from 1 to 50 using a for loop."
   ]
  },
  {
   "cell_type": "code",
   "execution_count": 55,
   "id": "c0969342-3f96-4d15-83f9-ba2562d95995",
   "metadata": {},
   "outputs": [
    {
     "name": "stdout",
     "output_type": "stream",
     "text": [
      "625\n"
     ]
    }
   ],
   "source": [
    "s=0\n",
    "for i in range(1,51):\n",
    "    if i%2!=0:\n",
    "        s+=i\n",
    "print(s)"
   ]
  },
  {
   "cell_type": "markdown",
   "id": "af899e00-9ddb-4429-bb78-b4707e2c85ac",
   "metadata": {},
   "source": [
    "# 21.Write a Python program that checks if a given year is a leap year using a for loop."
   ]
  },
  {
   "cell_type": "code",
   "execution_count": null,
   "id": "40e6f23e-67ac-4a32-88f3-200bf7535044",
   "metadata": {},
   "outputs": [],
   "source": []
  },
  {
   "cell_type": "markdown",
   "id": "5122a76f-c268-40fc-a2ff-9f6f9bf03a28",
   "metadata": {},
   "source": [
    "# 22.Create a Python program that calculates the square root of a number using a for loop."
   ]
  },
  {
   "cell_type": "code",
   "execution_count": null,
   "id": "427d17ae-e352-4b4c-a8f3-6c5334f45baf",
   "metadata": {},
   "outputs": [],
   "source": []
  },
  {
   "cell_type": "markdown",
   "id": "f4f15b1b-2b3d-4775-b12b-43aa304e4e8f",
   "metadata": {},
   "source": [
    "# 23.Write a Python program to find the LCM (Least Common Multiple) of two numbers using a for loop."
   ]
  },
  {
   "cell_type": "code",
   "execution_count": 4,
   "id": "85d56145-e755-48c6-9498-c4c323bcafcc",
   "metadata": {},
   "outputs": [
    {
     "name": "stdin",
     "output_type": "stream",
     "text": [
      "Enter number 1 10\n",
      "Enter number 2 22\n"
     ]
    },
    {
     "name": "stdout",
     "output_type": "stream",
     "text": [
      "110\n"
     ]
    }
   ],
   "source": [
    "n1=int(input(\"Enter number 1\"))\n",
    "n2=int(input(\"Enter number 2\"))\n",
    "if n1>n2:\n",
    "    l=n1\n",
    "else:\n",
    "    l=n2\n",
    "while True:\n",
    "    if l%n1==0 and l%n2==0:\n",
    "        lcm=l\n",
    "        break\n",
    "    l+=1\n",
    "print(lcm)"
   ]
  },
  {
   "cell_type": "markdown",
   "id": "d2bf81e2-99a6-4b10-85a0-93b2459a971e",
   "metadata": {},
   "source": [
    "# If else :"
   ]
  },
  {
   "cell_type": "markdown",
   "id": "680856a6-bf49-41c2-b652-a62b567087cb",
   "metadata": {},
   "source": [
    "# 1.Write a Python program to check if a number is positive, negative, or zero using an if-else statement."
   ]
  },
  {
   "cell_type": "code",
   "execution_count": 8,
   "id": "a439f19b-3347-479b-a847-8eb316ca38f0",
   "metadata": {},
   "outputs": [
    {
     "name": "stdin",
     "output_type": "stream",
     "text": [
      "Enter a number 0\n"
     ]
    },
    {
     "name": "stdout",
     "output_type": "stream",
     "text": [
      "zero\n"
     ]
    }
   ],
   "source": [
    "n=int(input(\"Enter a number\"))\n",
    "if n>=0:\n",
    "    if n==0:\n",
    "        print(\"zero\")\n",
    "    else:\n",
    "        print(\"Positive\")\n",
    "else:\n",
    "    print(\"Negative\")"
   ]
  },
  {
   "cell_type": "markdown",
   "id": "cfdcdfd8-6ae4-4f21-8950-5cb36e35a3a4",
   "metadata": {},
   "source": [
    "# 2.Create a Python program that checks if a given number is even or odd using an if-else statement."
   ]
  },
  {
   "cell_type": "code",
   "execution_count": 12,
   "id": "e6a3094a-adc2-42d1-85f1-b4a748a30222",
   "metadata": {},
   "outputs": [
    {
     "name": "stdin",
     "output_type": "stream",
     "text": [
      "Enter a number 22\n"
     ]
    },
    {
     "name": "stdout",
     "output_type": "stream",
     "text": [
      "Even\n"
     ]
    }
   ],
   "source": [
    "n=int(input(\"Enter a number\"))\n",
    "if n%2==0:\n",
    "    print(\"Even\")\n",
    "elif n%2!=0:\n",
    "    print(\"Odd\")\n",
    "else:\n",
    "    print(\"Invalid\")"
   ]
  },
  {
   "cell_type": "markdown",
   "id": "ea44b022-df00-4f6f-8db3-797657277e49",
   "metadata": {},
   "source": [
    "# 3.How can you use nested if-else statements in Python, and provide an example?"
   ]
  },
  {
   "cell_type": "raw",
   "id": "58338a19-cf3e-4e8c-8918-75f0ef5398b3",
   "metadata": {},
   "source": [
    "if (condition1):\n",
    "   # Executes when condition1 is true\n",
    "   if (condition2): \n",
    "      # Executes when condition2 is true\n",
    "    else:\n",
    "      # Executes when condition2 is False \n",
    "   # if Block is end here\n",
    "else:\n",
    "    # Execute when condition1 is False\n",
    "# if Block is end here\n"
   ]
  },
  {
   "cell_type": "code",
   "execution_count": 19,
   "id": "659fad5c-7b85-401c-adce-d7efa101bd59",
   "metadata": {},
   "outputs": [
    {
     "name": "stdin",
     "output_type": "stream",
     "text": [
      "Enter a number 33\n"
     ]
    },
    {
     "name": "stdout",
     "output_type": "stream",
     "text": [
      "Positive\n"
     ]
    }
   ],
   "source": [
    "n=int(input(\"Enter a number\"))\n",
    "if n>=0:\n",
    "    if n==0:\n",
    "        print(\"zero\")\n",
    "    else:\n",
    "        print(\"Positive\")\n",
    "else:\n",
    "    print(\"Negative\")"
   ]
  },
  {
   "cell_type": "markdown",
   "id": "abadba93-b661-467b-95da-804d7f23a49b",
   "metadata": {},
   "source": [
    "# 4,\\.Write a Python program to determine the largest of three numbers using if-else."
   ]
  },
  {
   "cell_type": "code",
   "execution_count": 21,
   "id": "1435834e-a23e-43d9-b3ac-769605f9d3c0",
   "metadata": {},
   "outputs": [
    {
     "name": "stdin",
     "output_type": "stream",
     "text": [
      "enter a number 12\n",
      "enter a number 45\n",
      "enter a number 30\n"
     ]
    },
    {
     "name": "stdout",
     "output_type": "stream",
     "text": [
      "Largest number= 45\n"
     ]
    }
   ],
   "source": [
    "n1=int(input(\"enter a number\"))\n",
    "n2=int(input(\"enter a number\"))\n",
    "n3=int(input(\"enter a number\"))\n",
    "if n1>n2 and n1>n3:\n",
    "    m=n1\n",
    "elif n2>n3:\n",
    "    m=n2\n",
    "else:\n",
    "    m=n3\n",
    "print(\"Largest number=\",m)"
   ]
  },
  {
   "cell_type": "markdown",
   "id": "86019ed4-50ed-4da8-b0c2-df59cf07497d",
   "metadata": {},
   "source": [
    "# 5.Write a Python program that calculates the absolute value of a number using if-else."
   ]
  },
  {
   "cell_type": "code",
   "execution_count": 25,
   "id": "19e597de-5a51-42e1-b618-3fccea6e20c2",
   "metadata": {},
   "outputs": [
    {
     "name": "stdin",
     "output_type": "stream",
     "text": [
      "Enter a Number 0\n"
     ]
    },
    {
     "name": "stdout",
     "output_type": "stream",
     "text": [
      "Zero\n",
      "0\n"
     ]
    }
   ],
   "source": [
    "n=int(input('Enter a Number'))\n",
    "if n<0:\n",
    "    n=-n\n",
    "elif n>0:\n",
    "    n=n\n",
    "else:\n",
    "    print('Zero')\n",
    "print(n)"
   ]
  },
  {
   "cell_type": "markdown",
   "id": "b0651da5-2c3c-41bc-906e-625365354bc1",
   "metadata": {},
   "source": [
    "# 6.Create a Python program that checks if a given character is a vowel or consonant using if-else."
   ]
  },
  {
   "cell_type": "code",
   "execution_count": 33,
   "id": "a16262e5-4f93-4580-9880-460966432ac8",
   "metadata": {},
   "outputs": [
    {
     "name": "stdin",
     "output_type": "stream",
     "text": [
      "Enter a Character E\n"
     ]
    },
    {
     "name": "stdout",
     "output_type": "stream",
     "text": [
      "E is a vowel\n"
     ]
    }
   ],
   "source": [
    "c=input(\"Enter a Character\")\n",
    "if c in 'aeiouAEIOU':\n",
    "    print(c,'is a vowel')\n",
    "elif ord(c) in range(ord('a'),ord('z')+1) or ord(c) in range(ord('A'),ord('Z')+1):\n",
    "    print(c,'is a consonant')\n",
    "else:\n",
    "    print(c,'is not an alphabet')"
   ]
  },
  {
   "cell_type": "markdown",
   "id": "5b97feba-28c0-428a-90d9-142cc60c1912",
   "metadata": {},
   "source": [
    "# 7.Write a Python program to determine if a user is eligible to vote based on their age using if-else."
   ]
  },
  {
   "cell_type": "code",
   "execution_count": 34,
   "id": "32d42739-08fa-4ba5-b815-c3e5ef2a1293",
   "metadata": {},
   "outputs": [
    {
     "name": "stdout",
     "output_type": "stream",
     "text": [
      "Eligible Age to Vote is 18 years or above\n"
     ]
    },
    {
     "name": "stdin",
     "output_type": "stream",
     "text": [
      "Enter your age 22\n"
     ]
    },
    {
     "name": "stdout",
     "output_type": "stream",
     "text": [
      "You are eligible to Vote\n"
     ]
    }
   ],
   "source": [
    "print(\"Eligible Age to Vote is 18 years or above\")\n",
    "age=int(input(\"Enter your age\"))\n",
    "if age>=18:\n",
    "    print(\"You are eligible to Vote\")\n",
    "else:\n",
    "    print(\"You are not eligible to Vote\")"
   ]
  },
  {
   "cell_type": "markdown",
   "id": "284d3ea6-16b4-40ff-aa38-db228c3d3f64",
   "metadata": {},
   "source": [
    "# 8.Create a Python program that calculates the discount amount based on the purchase amount using if-else."
   ]
  },
  {
   "cell_type": "code",
   "execution_count": 35,
   "id": "91e177b6-dd6c-457a-bea8-a975abdfce88",
   "metadata": {},
   "outputs": [
    {
     "name": "stdin",
     "output_type": "stream",
     "text": [
      "enter the total  price 5000\n"
     ]
    },
    {
     "name": "stdout",
     "output_type": "stream",
     "text": [
      "Discounted price= 3000.0\n"
     ]
    }
   ],
   "source": [
    "d=[0.95,0.9,0.8,0.75,0.6]\n",
    "cost=float(input(\"enter the total  price\"))\n",
    "if cost>1000 and cost<2000:\n",
    "    cost*=d[0]\n",
    "elif 2000<=cost<3000:\n",
    "    cost*=d[1]\n",
    "elif 3000<=cost<4000:\n",
    "    cost*=d[2]\n",
    "elif 4000<=cost<5000:\n",
    "    cost*=d[3]\n",
    "elif 5000<=cost:\n",
    "    cost*=d[4]\n",
    "elif cost<0:\n",
    "    print(\"Invalid\")\n",
    "else:\n",
    "    cost=cost\n",
    "print(\"Discounted price=\",cost)"
   ]
  },
  {
   "cell_type": "markdown",
   "id": "09869597-a265-4546-a226-12e8686594ca",
   "metadata": {},
   "source": [
    "# 9.Write a Python program to check if a number is within a specified range using if-else."
   ]
  },
  {
   "cell_type": "code",
   "execution_count": 41,
   "id": "293c4154-e9dc-48f2-8bda-fcd470e8812f",
   "metadata": {},
   "outputs": [
    {
     "name": "stdin",
     "output_type": "stream",
     "text": [
      "Enter a Number 45\n",
      "Enter the limits 33\n",
      "Enter the limits 90\n"
     ]
    },
    {
     "name": "stdout",
     "output_type": "stream",
     "text": [
      "The number lies in the specified range\n"
     ]
    }
   ],
   "source": [
    "n=int(input(\"Enter a Number\"))\n",
    "l=[int(input(\"Enter the limits\")) for i in range(2)]\n",
    "l_l=min(l)\n",
    "u_l=max(l)\n",
    "if n<=u_l and n>=l_l:\n",
    "    print(\"The number lies in the specified range\")\n",
    "elif l_l==u_l:\n",
    "    print(\"Invalid!\")\n",
    "elif n>u_l:\n",
    "    print(\"The number lies ahead of the limit\")\n",
    "elif n<l_l:\n",
    "    print(\"The number lies behind the limit\")\n",
    "else:\n",
    "    print(\"Invalid!\")"
   ]
  },
  {
   "cell_type": "markdown",
   "id": "587950cb-f70e-4428-bd27-c4fe992ff106",
   "metadata": {},
   "source": [
    "# 10.Create a Python program that determines the grade of a student based on their score using if-else."
   ]
  },
  {
   "cell_type": "code",
   "execution_count": 43,
   "id": "bfa1f1fc-d6a6-42e6-b562-5da9a5c966ac",
   "metadata": {},
   "outputs": [
    {
     "name": "stdin",
     "output_type": "stream",
     "text": [
      "Enter the mark of the student to the closest integer 78\n"
     ]
    },
    {
     "name": "stdout",
     "output_type": "stream",
     "text": [
      "Grade : C\n"
     ]
    }
   ],
   "source": [
    "n=int(input(\"Enter the mark of the student to the closest integer\"))\n",
    "if n<=100 and n>90:\n",
    "    print(\"Grade : A\")\n",
    "elif n>=80:\n",
    "    print(\"Grade : B\")\n",
    "elif n>=70:\n",
    "    print(\"Grade : C\")\n",
    "elif n>=60:\n",
    "    print(\"Grade : D\")\n",
    "elif n<60 and n>0:\n",
    "    print(\"Grade : F\")\n",
    "else:\n",
    "    print(\"Invalid score\")"
   ]
  },
  {
   "cell_type": "markdown",
   "id": "22baa1c8-b468-4d9c-8f6e-d9e675a935ac",
   "metadata": {},
   "source": [
    "# 11.Write a Python program to check if a string is empty or not using if-else."
   ]
  },
  {
   "cell_type": "code",
   "execution_count": 4,
   "id": "3d840e18-97b1-4f54-9243-d657e4c8f10e",
   "metadata": {},
   "outputs": [
    {
     "name": "stdin",
     "output_type": "stream",
     "text": [
      "Enter the string     \n"
     ]
    },
    {
     "name": "stdout",
     "output_type": "stream",
     "text": [
      "String is Empty\n"
     ]
    }
   ],
   "source": [
    "s=input(\"Enter the string\")\n",
    "c=0\n",
    "for i in s:\n",
    "    if i==' ':\n",
    "        continue\n",
    "    c+=1\n",
    "if c==0:\n",
    "    print(\"String is Empty\")\n",
    "else:\n",
    "    print('String is not Empty')"
   ]
  },
  {
   "cell_type": "markdown",
   "id": "cfa73593-82b0-4007-8af5-f8bc3a57f83c",
   "metadata": {},
   "source": [
    "# 12.Create a Python program that identifies the type of a triangle (e.g., equilateral, isosceles, or scalene) based on input values using if-else."
   ]
  },
  {
   "cell_type": "code",
   "execution_count": 13,
   "id": "205c31a9-94b7-4b3b-810d-e7605c15a852",
   "metadata": {},
   "outputs": [
    {
     "name": "stdin",
     "output_type": "stream",
     "text": [
      "enter a number 10\n",
      "enter a number 2\n",
      "enter a number 3\n"
     ]
    },
    {
     "name": "stdout",
     "output_type": "stream",
     "text": [
      "Not a Triangle\n"
     ]
    }
   ],
   "source": [
    "n1=int(input(\"enter a number\"))\n",
    "n2=int(input(\"enter a number\"))\n",
    "n3=int(input(\"enter a number\"))\n",
    "if n1+n2>n3 and n2+n3>n1 and n1+n3>n2:\n",
    "    if n1==n2 and n2==n3 and n1==n3:\n",
    "        print(\"Triangle is Equilateral\")\n",
    "    elif n1==n2 or n2==n3 or n3==n1:\n",
    "        print(\"Triangle is Iscosceles\")\n",
    "    else:\n",
    "        print(\"Triangle is Scalene\")\n",
    "else:\n",
    "    print(\"Not a Triangle\")\n",
    "        "
   ]
  },
  {
   "cell_type": "markdown",
   "id": "8ed9efbd-4501-479a-89b7-6c70c597d8b0",
   "metadata": {},
   "source": [
    "# 13.Write a Python program to determine the day of the week based on a user-provided number using if-else."
   ]
  },
  {
   "cell_type": "code",
   "execution_count": 14,
   "id": "83ba0f66-d9ea-4a31-9fe1-c7a283bf36ec",
   "metadata": {},
   "outputs": [
    {
     "name": "stdin",
     "output_type": "stream",
     "text": [
      "Enter a number 4\n"
     ]
    },
    {
     "name": "stdout",
     "output_type": "stream",
     "text": [
      "Thursday\n"
     ]
    }
   ],
   "source": [
    "n=int(input(\"Enter a number\"))\n",
    "if n==1:\n",
    "    print(\"Monday\")\n",
    "elif n==2:\n",
    "    print(\"Tuesday\")\n",
    "elif n==3:\n",
    "    print(\"Wednesday\")\n",
    "elif n==4:\n",
    "    print(\"Thursday\")\n",
    "elif n==5:\n",
    "    print(\"Friday\")\n",
    "elif n==6:\n",
    "    print(\"Saturday\")\n",
    "elif n==7:\n",
    "    print(\"Sunday\")\n",
    "else:\n",
    "    print(\"Not a Day\")\n",
    "        "
   ]
  },
  {
   "cell_type": "markdown",
   "id": "2458f918-c421-46f3-a083-1ebeea39e338",
   "metadata": {},
   "source": [
    "# 14.Create a Python program that checks if a given year is a leap year using both if-else and a function."
   ]
  },
  {
   "cell_type": "code",
   "execution_count": 18,
   "id": "d75af3e8-7e9b-4ccf-9269-020f93acd25c",
   "metadata": {},
   "outputs": [
    {
     "name": "stdin",
     "output_type": "stream",
     "text": [
      "Enter a Year 2024\n"
     ]
    },
    {
     "name": "stdout",
     "output_type": "stream",
     "text": [
      "2024 is a leap year\n"
     ]
    }
   ],
   "source": [
    "def is_leap(year):\n",
    "    if year%400==0:\n",
    "        print(year,\"is a leap year\")\n",
    "   \n",
    "    elif year%100==0:\n",
    "        \n",
    "        print(year,\"is not a leap year\")\n",
    "    elif year%4==0:\n",
    "        print(year,\"is a leap year\")\n",
    "    else:\n",
    "        print(year,\"is not a leap year\")\n",
    "\n",
    "        \n",
    "year=int(input(\"Enter a Year\"))\n",
    "is_leap(year)"
   ]
  },
  {
   "cell_type": "markdown",
   "id": "097ad754-6c13-4734-b559-c4b0df6967f7",
   "metadata": {},
   "source": [
    "# 15.How do you use the \"assert\" statement in Python to add debugging checks within if-else blocks?"
   ]
  },
  {
   "cell_type": "code",
   "execution_count": null,
   "id": "ef84cfe4-2e52-4bf2-9109-b4383bc0621d",
   "metadata": {},
   "outputs": [],
   "source": []
  },
  {
   "cell_type": "markdown",
   "id": "e229f80a-cfa9-4b2b-aaef-eaef060e72fd",
   "metadata": {},
   "source": [
    "# 16.Create a Python program that determines the eligibility of a person for a senior citizen discount based on age using if-else."
   ]
  },
  {
   "cell_type": "code",
   "execution_count": 20,
   "id": "1db02c9f-36f0-420c-8219-5635ae28c9d4",
   "metadata": {},
   "outputs": [
    {
     "name": "stdin",
     "output_type": "stream",
     "text": [
      "Enter age 78\n"
     ]
    },
    {
     "name": "stdout",
     "output_type": "stream",
     "text": [
      "Discount eligible for bracket A\n"
     ]
    }
   ],
   "source": [
    "age=int(input(\"Enter age\"))\n",
    "if age>0:\n",
    "    if age>=75:\n",
    "        print(\"Discount eligible for bracket A\")\n",
    "    elif age>=65:\n",
    "        print(\"Discount eligible for bracket B\")\n",
    "    elif age>=60:\n",
    "        print(\"Discount eligible for bracket C\")\n",
    "    else:\n",
    "        print(\"Not eligible for discount\")\n",
    "else:\n",
    "    print(\"Invalid!\")"
   ]
  },
  {
   "cell_type": "markdown",
   "id": "b2cd8bcd-aaf9-4f32-b19e-d27ac50a03ff",
   "metadata": {},
   "source": [
    "# 17.Write a Python program to categorize a given character as uppercase, lowercase, or neither using if-else."
   ]
  },
  {
   "cell_type": "code",
   "execution_count": 24,
   "id": "a8086c9a-cf04-42a9-ac4e-389f128c2073",
   "metadata": {},
   "outputs": [
    {
     "name": "stdin",
     "output_type": "stream",
     "text": [
      "Enter the string hHhHijI&*\n"
     ]
    },
    {
     "name": "stdout",
     "output_type": "stream",
     "text": [
      "{'h': 'Lower', 'H': 'Upper', 'i': 'Lower', 'j': 'Lower', 'I': 'Upper', '&': 'Character', '*': 'Character'}\n"
     ]
    }
   ],
   "source": [
    "s=input(\"Enter the string\")\n",
    "d={}\n",
    "for i in s:\n",
    "    if i in d:\n",
    "        continue\n",
    "    else:\n",
    "        if i.isupper():\n",
    "            d[i]='Upper'\n",
    "        elif i.islower():\n",
    "            d[i]='Lower'\n",
    "        else:\n",
    "            d[i]='Character'\n",
    "print(d)"
   ]
  },
  {
   "cell_type": "markdown",
   "id": "3b62d937-f370-4a23-b7a6-a0981c385164",
   "metadata": {},
   "source": [
    "# 18.Write a Python program to determine the roots of a quadratic equation using if-else."
   ]
  },
  {
   "cell_type": "code",
   "execution_count": 32,
   "id": "693c86c3-f34c-4ad2-9974-dbac79bc40d9",
   "metadata": {},
   "outputs": [
    {
     "name": "stdin",
     "output_type": "stream",
     "text": [
      "Enter coefficients 1\n",
      "Enter coefficients 2\n",
      "Enter coefficients 1\n"
     ]
    },
    {
     "name": "stdout",
     "output_type": "stream",
     "text": [
      "roots are equal\n",
      "-1.0 -1.0\n"
     ]
    }
   ],
   "source": [
    "l=[float(input(\"Enter coefficients\")) for i in range(3)]\n",
    "a=l[0]\n",
    "b=l[1]\n",
    "c=l[2]\n",
    "d=b**2-(4*a*c)\n",
    "if d>0:\n",
    "    r1=(-b+d**(1/2))/(2*a)\n",
    "    r2=(-b-d**(1/2))/(2*a)\n",
    "    print(r1,r2)\n",
    "elif d==0:\n",
    "    r1=(-b+d**(1/2))/(2*a)\n",
    "    print(\"roots are equal\")\n",
    "    print(r1,r1)\n",
    "else:\n",
    "    print((-b/(2*a)),'+ i',(-d)**(1/2)/(2*a))\n",
    "    print((-b/(2*a)),'- i',(-d)**(1/2)/(2*a))\n",
    "    "
   ]
  },
  {
   "cell_type": "markdown",
   "id": "c90ec55b-af4f-430e-bdc6-f7ab563b66af",
   "metadata": {},
   "source": [
    "# 19.Create a Python program that checks if a given year is a century year or not using if-else."
   ]
  },
  {
   "cell_type": "code",
   "execution_count": 36,
   "id": "a0be55ef-aa6a-46a7-8c1d-7f95e8ba54c6",
   "metadata": {},
   "outputs": [
    {
     "name": "stdin",
     "output_type": "stream",
     "text": [
      "Enter Age 1780\n"
     ]
    },
    {
     "name": "stdout",
     "output_type": "stream",
     "text": [
      "Not a Century year\n"
     ]
    }
   ],
   "source": [
    "year=int(input(\"Enter Age\"))\n",
    "if year%100==0:\n",
    "    print(\"Century year\")\n",
    "else:\n",
    "    print(\"Not a Century year\")"
   ]
  },
  {
   "cell_type": "markdown",
   "id": "66c9c527-ad94-4e9d-a7c4-6c7e01505b52",
   "metadata": {},
   "source": [
    "# 20.Write a Python program to determine if a given number is a perfect square using if-else."
   ]
  },
  {
   "cell_type": "code",
   "execution_count": null,
   "id": "eb169ef5-654e-4d73-baff-60b3f45306cb",
   "metadata": {},
   "outputs": [],
   "source": [
    "a=int(input(\"Enter a number\"))\n",
    "if ((a**(1/2))**2)==int(a**(1/2))**2:\n",
    "    print(\"The number is a perfect square\")\n",
    "else:\n",
    "    print(\"The number is not a perfect square\")"
   ]
  },
  {
   "cell_type": "markdown",
   "id": "529f2890-5227-4120-b40f-1c70d58d19a7",
   "metadata": {},
   "source": [
    "# 21.Explain the purpose of the \"continue\" and \"break\" statements within if-else loops."
   ]
  },
  {
   "cell_type": "raw",
   "id": "d5b3e0a6-4766-4a4e-a9c8-d6abf36e8404",
   "metadata": {},
   "source": [
    "'continue' statement is used to pass over all the other statements in the if condition,when the condition is true.\n",
    "'break' statement is used to break the loop conditions or nested if-else(or nested if ) if a particular condition becomes true.\n"
   ]
  },
  {
   "cell_type": "markdown",
   "id": "1f52ebf4-b317-4319-b393-04964a17be6a",
   "metadata": {},
   "source": [
    "# 22.Create a Python program that calculates the BMI (Body Mass Index) of a person based on their weight and height using if-else."
   ]
  },
  {
   "cell_type": "code",
   "execution_count": 9,
   "id": "aa24e023-103a-4819-9168-c3baca73ef61",
   "metadata": {},
   "outputs": [
    {
     "name": "stdin",
     "output_type": "stream",
     "text": [
      "Enter the height in cm -19\n",
      "Enter the weight in kg 22\n"
     ]
    },
    {
     "name": "stdout",
     "output_type": "stream",
     "text": [
      "609.4182825484764\n",
      "BMI Value invalid!\n"
     ]
    }
   ],
   "source": [
    "height=float(input('Enter the height in cm'))\n",
    "weight= float(input(\"Enter the weight in kg\"))\n",
    "height=height/100\n",
    "bmi=weight/(height*height)\n",
    "print(bmi)\n",
    "if height>0 and weight>0:\n",
    "    if bmi<=18.5:\n",
    "        print(\"The person is under-weight. He should follow weight gain diet\")\n",
    "    elif bmi<=24.9:\n",
    "        print(\"The person is normal-weighted\")\n",
    "    elif bmi<=29.9:\n",
    "        print(\"The person is over-weight. He should follow weight loss diet\")\n",
    "    elif bmi>=30:\n",
    "        print(\"The person has obesity. He should consult a Doctor\")\n",
    "else:\n",
    "    print(\"BMI Value invalid!\")"
   ]
  },
  {
   "cell_type": "markdown",
   "id": "4a50c028-951c-4ea7-ab23-4beae7be2534",
   "metadata": {},
   "source": [
    "# 23. How can you use the \"filter()\" function with if-else statements to filter elements from a list?"
   ]
  },
  {
   "cell_type": "raw",
   "id": "470949dc-ed14-4378-bad5-cfd2ea4aa0fe",
   "metadata": {},
   "source": [
    "Let us consider the case of filtering odd numbers from a list.\n",
    "we define a function is_odd which checks teh value and returns the True if it is odd.\n",
    "we define the list iterable l_i\n",
    "odd_numbers=filter(is_odd,l_i)\n",
    "print(list(odd_numbers))"
   ]
  },
  {
   "cell_type": "markdown",
   "id": "93205d44-f3f0-472b-b92f-94a6e05cf8dc",
   "metadata": {},
   "source": [
    "# 24. Write a Python program to determine if a given number is prime or not using if-else."
   ]
  },
  {
   "cell_type": "code",
   "execution_count": 14,
   "id": "ad06f141-a4e9-4a8d-8e3d-30a61e01bb89",
   "metadata": {},
   "outputs": [
    {
     "name": "stdin",
     "output_type": "stream",
     "text": [
      "Enter a number 47\n"
     ]
    },
    {
     "name": "stdout",
     "output_type": "stream",
     "text": [
      "True\n"
     ]
    }
   ],
   "source": [
    "def isprime(n):\n",
    "    for i in range(2,int((n+1)/2)):\n",
    "        if n%i==0:\n",
    "            return False\n",
    "    return True\n",
    "n=int(input(\"Enter a number\"))\n",
    "print(isprime(n))\n"
   ]
  },
  {
   "cell_type": "markdown",
   "id": "70c40469-82f5-484c-a5cb-a06ec1197579",
   "metadata": {},
   "source": [
    "## Map :-"
   ]
  },
  {
   "cell_type": "markdown",
   "id": "dde88265-3367-4e7b-a37b-c3ee7eba17cd",
   "metadata": {},
   "source": [
    "# 1.Explain the purpose of the `map()` function in Python and provide an example of how it can be used to apply a function to each element of an iterable."
   ]
  },
  {
   "cell_type": "raw",
   "id": "2e1ea78b-fa9e-4316-b85a-9c9df8a09dfa",
   "metadata": {},
   "source": [
    "map() function takes in a function and an iterable and applies(maps) the function over each item in the iterable "
   ]
  },
  {
   "cell_type": "code",
   "execution_count": 16,
   "id": "39f4d94a-706d-4df4-9f34-335801132b9d",
   "metadata": {},
   "outputs": [
    {
     "name": "stdout",
     "output_type": "stream",
     "text": [
      "[2, 4, 6, 8, 10]\n"
     ]
    }
   ],
   "source": [
    "a=[1,2,3,4,5]\n",
    "def f(n):\n",
    "    return n+n\n",
    "b=map(f,a)\n",
    "print(list(b))"
   ]
  },
  {
   "cell_type": "markdown",
   "id": "4e534386-5c76-4945-ba3a-868cd5909f91",
   "metadata": {},
   "source": [
    "# 2.Write a Python program that uses the `map()` function to square each element of a list of numbers."
   ]
  },
  {
   "cell_type": "code",
   "execution_count": 18,
   "id": "47fea0fb-a7a5-4825-b949-889b0acfb466",
   "metadata": {},
   "outputs": [
    {
     "name": "stdin",
     "output_type": "stream",
     "text": [
      "Enter the no of elements in the list 4\n",
      " -3\n",
      " 2\n",
      " -4\n",
      " -5\n"
     ]
    },
    {
     "name": "stdout",
     "output_type": "stream",
     "text": [
      "[9, 4, 16, 25]\n"
     ]
    }
   ],
   "source": [
    "n=int(input(\"Enter the no of elements in the list\"))\n",
    "l=[int(input()) for i in range(n)]\n",
    "def sq(n):\n",
    "    return n*n\n",
    "print(list(map(sq,l)))"
   ]
  },
  {
   "cell_type": "markdown",
   "id": "c3eab870-e7fe-4c50-9adc-980ad9211a97",
   "metadata": {},
   "source": [
    "# 3.How does the `map()` function differ from a list comprehension in Python, and when would you choose one over the other?"
   ]
  },
  {
   "cell_type": "code",
   "execution_count": null,
   "id": "a194a8d3-42e5-467d-a4d8-a2653e6b7c10",
   "metadata": {},
   "outputs": [],
   "source": []
  },
  {
   "cell_type": "markdown",
   "id": "17e89761-d466-49ec-a79f-b9e5e1fe8653",
   "metadata": {},
   "source": [
    "# 4.Create a Python program that uses the `map()` function to convert a list of names to uppercase."
   ]
  },
  {
   "cell_type": "code",
   "execution_count": 21,
   "id": "29bc9b4b-e5af-44c2-994d-2ac34891c28d",
   "metadata": {},
   "outputs": [
    {
     "name": "stdout",
     "output_type": "stream",
     "text": [
      "['YASY', 'SAJY', 'ZARY', 'ALAN']\n"
     ]
    }
   ],
   "source": [
    "l=['yasy','sajy','zary','alan']\n",
    "l_c=map(lambda x:x.upper(),l)\n",
    "print(list(l_c))"
   ]
  },
  {
   "cell_type": "markdown",
   "id": "1bc1fc30-392e-4b65-a6eb-d33196c7d123",
   "metadata": {},
   "source": [
    "# 5.Write a Python program that uses the `map()` function to calculate the length of each word in a list of strings."
   ]
  },
  {
   "cell_type": "code",
   "execution_count": 22,
   "id": "2efa02cf-5c63-4b71-819a-01b393ebfb4f",
   "metadata": {},
   "outputs": [
    {
     "name": "stdout",
     "output_type": "stream",
     "text": [
      "[4, 9, 10, 11]\n"
     ]
    }
   ],
   "source": [
    "l=['yasy','hithertho','discipline','engineering']\n",
    "l_l=map(lambda x:len(x),l)\n",
    "print(list(l_l))"
   ]
  },
  {
   "cell_type": "markdown",
   "id": "ddc9f9e6-cdb4-46e0-bc67-1e27970b5cc8",
   "metadata": {},
   "source": [
    "# 6.How can you use the `map()` function to apply a custom function to elements of multiple lists simultaneously in Python?"
   ]
  },
  {
   "cell_type": "code",
   "execution_count": 29,
   "id": "6823807e-4aba-4ead-85f8-e43087034794",
   "metadata": {},
   "outputs": [
    {
     "name": "stdout",
     "output_type": "stream",
     "text": [
      "[(4, 4), (9, 9), (10, 10), (11, 11)]\n"
     ]
    }
   ],
   "source": [
    "l1=['yasy','hithertho','discipline','engineering']\n",
    "l2=['yasy','hithertho','discipline','engineering']\n",
    "def f(x,y):\n",
    "    return len(x),len(y)\n",
    "l_l=map(f,l1,l2)\n",
    "print(list(l_l))"
   ]
  },
  {
   "cell_type": "markdown",
   "id": "c3c499be-d688-4cf4-847b-4cbd00717955",
   "metadata": {},
   "source": [
    "# 7.Create a Python program that uses `map()` to convert a list of temperatures from Celsius to Fahrenheit."
   ]
  },
  {
   "cell_type": "code",
   "execution_count": 32,
   "id": "3eef119b-7e5d-454d-9f79-ee8a1ab1708f",
   "metadata": {},
   "outputs": [
    {
     "name": "stdout",
     "output_type": "stream",
     "text": [
      "[77.9, 90.5, 84.2, 83.66, 91.4]\n"
     ]
    }
   ],
   "source": [
    "c=[25.5,32.5,29,28.7,33]\n",
    "def c_f(x):\n",
    "    return (x*(9/5)+32)\n",
    "c_l=map(c_f,c)\n",
    "print(list(c_l))"
   ]
  },
  {
   "cell_type": "markdown",
   "id": "72cfe14d-85fb-4f3c-b6d4-62753526a7bc",
   "metadata": {},
   "source": [
    "# 8.Write a Python program that uses the `map()` function to round each element of a list of floating-point numbers to the nearest integer."
   ]
  },
  {
   "cell_type": "code",
   "execution_count": 35,
   "id": "5a03514f-f617-4912-9ec7-1222a2b77876",
   "metadata": {},
   "outputs": [
    {
     "name": "stdout",
     "output_type": "stream",
     "text": [
      "[78, 90, 84, 84, 91]\n"
     ]
    }
   ],
   "source": [
    "l=[77.9, 90.5, 84.2, 83.66, 91.4]\n",
    "def round_(x):\n",
    "    if x>((int(x)+int(x)+1)/2):\n",
    "        return int(x)+1\n",
    "    else:\n",
    "        return int(x)\n",
    "l_r=map(round_,l)\n",
    "print(list(l_r))\n",
    "    "
   ]
  },
  {
   "cell_type": "markdown",
   "id": "614eddb9-b4a5-48d1-814c-166eae18165b",
   "metadata": {},
   "source": [
    "# Reduce :-\n"
   ]
  },
  {
   "cell_type": "markdown",
   "id": "b0d24af2-a29b-4f65-99ad-e654a4c4af13",
   "metadata": {},
   "source": [
    "# 1.What is the `reduce()` function in Python, and what module should you import to use it? Provide an example of its basic usage."
   ]
  },
  {
   "cell_type": "raw",
   "id": "2de331f1-daa9-4524-9a74-42ccd0fb5ba1",
   "metadata": {},
   "source": [
    "import functools\n",
    "functools.reduce()"
   ]
  },
  {
   "cell_type": "markdown",
   "id": "5ebe30dc-edbe-4bf6-a6d8-88be02502de7",
   "metadata": {},
   "source": [
    "reduce() functions is used when we need to performa particulra operation on an iterable and obtain a single value."
   ]
  },
  {
   "cell_type": "code",
   "execution_count": 40,
   "id": "19a4fc79-488d-4c36-abc8-c68accd9e0f4",
   "metadata": {},
   "outputs": [
    {
     "name": "stdout",
     "output_type": "stream",
     "text": [
      "15\n"
     ]
    }
   ],
   "source": [
    "from functools import reduce\n",
    "l=[1,2,3,4,5]\n",
    "print(reduce(lambda a,b:a+b,l))"
   ]
  },
  {
   "cell_type": "markdown",
   "id": "83447879-be4b-4f95-8b28-d7ab0203904a",
   "metadata": {},
   "source": [
    "# 2.Write a Python program that uses the `reduce()` function to find the product of all elements in a list."
   ]
  },
  {
   "cell_type": "code",
   "execution_count": 43,
   "id": "4fcd7007-9ce3-428d-8a46-69da30d46779",
   "metadata": {},
   "outputs": [
    {
     "name": "stdout",
     "output_type": "stream",
     "text": [
      "-270\n"
     ]
    }
   ],
   "source": [
    "l=[1,2,3,-45]\n",
    "print(reduce(lambda a,b:a*b,l))\n"
   ]
  },
  {
   "cell_type": "markdown",
   "id": "0e35330d-d101-4ae9-8b2f-bc04c7f6e89c",
   "metadata": {},
   "source": [
    "# 3.Create a Python program that uses `reduce()` to find the maximum element in a list of numbers."
   ]
  },
  {
   "cell_type": "code",
   "execution_count": 46,
   "id": "f2e8f3b7-6d37-4105-bfba-1d9c4c13d224",
   "metadata": {},
   "outputs": [
    {
     "name": "stdout",
     "output_type": "stream",
     "text": [
      "44\n"
     ]
    }
   ],
   "source": [
    "l=[1,2,30,-40,34,44,10]\n",
    "print(reduce(lambda a,b: a if a>b else b,l))"
   ]
  },
  {
   "cell_type": "markdown",
   "id": "9cb2cf99-b2bd-42b9-9820-5de879ad6035",
   "metadata": {},
   "source": [
    "# 4.How can you use the `reduce()` function to concatenate a list of strings into a single string?"
   ]
  },
  {
   "cell_type": "code",
   "execution_count": 48,
   "id": "e34566ad-91f2-429f-80de-d1425c07779f",
   "metadata": {},
   "outputs": [
    {
     "name": "stdout",
     "output_type": "stream",
     "text": [
      "This is a test Message\n"
     ]
    }
   ],
   "source": [
    "l=['This','is','a','test','Message']\n",
    "print(reduce(lambda a,b:a+' '+b,l))"
   ]
  },
  {
   "cell_type": "markdown",
   "id": "092259e8-4008-4d19-9b2a-fd09f031b809",
   "metadata": {},
   "source": [
    "# 5.Write a Python program that calculates the factorial of a number using the `reduce()` function."
   ]
  },
  {
   "cell_type": "code",
   "execution_count": 53,
   "id": "5d0bc451-9782-4caa-85e7-e88de6f9558a",
   "metadata": {},
   "outputs": [
    {
     "name": "stdin",
     "output_type": "stream",
     "text": [
      "Enter the number 8\n"
     ]
    },
    {
     "name": "stdout",
     "output_type": "stream",
     "text": [
      "40320\n"
     ]
    }
   ],
   "source": [
    "n=int(input(\"Enter the number\"))\n",
    "print(reduce(lambda a,b:a*b,range(1,n+1)))"
   ]
  },
  {
   "cell_type": "markdown",
   "id": "357d6f5b-00d6-4526-a9f9-dbf60ae35ebf",
   "metadata": {},
   "source": [
    "# 6.Create a Python program that uses `reduce()` to find the GCD (Greatest Common Divisor) of a list of numbers."
   ]
  },
  {
   "cell_type": "code",
   "execution_count": 70,
   "id": "9fa06034-2f56-44ea-ad0d-0a2df8cf9dd4",
   "metadata": {},
   "outputs": [
    {
     "name": "stdout",
     "output_type": "stream",
     "text": [
      "4\n"
     ]
    }
   ],
   "source": [
    "def gcd_f(a,b):\n",
    "    gcd=1\n",
    "    for i in range(1,a+1):\n",
    "        if a%i==0 and b%i==0:\n",
    "            gcd=i\n",
    "    return gcd\n",
    "l=[44,64,80,88,160]\n",
    "print(reduce(gcd_f,l))\n"
   ]
  },
  {
   "cell_type": "markdown",
   "id": "39799cfb-81a2-43bb-bae3-2300f69464d2",
   "metadata": {},
   "source": [
    "# 7.Write a Python program that uses the `reduce()` function to find the sum of the digits of a given number."
   ]
  },
  {
   "cell_type": "code",
   "execution_count": 56,
   "id": "5790e1b7-9b67-49b6-8312-6eadaa8ff0b2",
   "metadata": {},
   "outputs": [
    {
     "name": "stdin",
     "output_type": "stream",
     "text": [
      "Enter the number 56743\n"
     ]
    },
    {
     "name": "stdout",
     "output_type": "stream",
     "text": [
      "25\n"
     ]
    }
   ],
   "source": [
    "n=int(input(\"Enter the number\"))\n",
    "print(reduce(lambda a,b:int(a)+int(b),str(n)))"
   ]
  },
  {
   "cell_type": "markdown",
   "id": "10250ec6-223c-4cec-b371-13963ecc34be",
   "metadata": {},
   "source": [
    "# Filter :-"
   ]
  },
  {
   "cell_type": "markdown",
   "id": "4ffe6703-5e00-4a9a-84d7-d7a4c2461d60",
   "metadata": {},
   "source": [
    "# 1.Explain the purpose of the `filter()` function in Python and provide an example of how it can be used to filter elements from an iterable."
   ]
  },
  {
   "cell_type": "raw",
   "id": "e98e8e9d-9639-4fec-91c9-3fe0046ca7ee",
   "metadata": {},
   "source": [
    "Let us consider the case of filtering odd numbers from a list.\n",
    "we define a function is_odd which checks teh value and returns the True if it is odd.\n",
    "we define the list iterable l_i\n",
    "odd_numbers=filter(is_odd,l_i)\n",
    "print(list(odd_numbers))"
   ]
  },
  {
   "cell_type": "code",
   "execution_count": 77,
   "id": "f010edd0-d7ef-4d1d-87ba-506174d94d58",
   "metadata": {},
   "outputs": [
    {
     "name": "stdout",
     "output_type": "stream",
     "text": [
      "[1, 3, 5, 73, 9]\n"
     ]
    }
   ],
   "source": [
    "l=[1,2,3,4,5,6,73,8,9]\n",
    "print(list(filter(lambda a:True if a%2!=0 else False,l)))"
   ]
  },
  {
   "cell_type": "markdown",
   "id": "6c0b492c-0f49-4632-897c-227df91375eb",
   "metadata": {},
   "source": [
    "# 2.Write a Python program that uses the `filter()` function to select even numbers from a list of integers."
   ]
  },
  {
   "cell_type": "code",
   "execution_count": 81,
   "id": "eeef1b7a-5cb9-449a-bb24-316055480166",
   "metadata": {},
   "outputs": [
    {
     "name": "stdout",
     "output_type": "stream",
     "text": [
      "[2, 4, 6, 80, 12]\n"
     ]
    }
   ],
   "source": [
    "l=[1,2,3,4,5,6,73,80,12]\n",
    "l_even=list(filter(lambda a:True if a%2==0 else False,l))\n",
    "print(l_even)"
   ]
  },
  {
   "cell_type": "markdown",
   "id": "f1a029f3-77ab-4356-9f92-10acfc583e9c",
   "metadata": {},
   "source": [
    "# 3.Create a Python program that uses the `filter()` function to select names that start with a specific letter from a list of strings."
   ]
  },
  {
   "cell_type": "code",
   "execution_count": 82,
   "id": "95feae20-678b-4273-9aa2-c591db9a7860",
   "metadata": {},
   "outputs": [
    {
     "data": {
      "text/plain": [
       "['Yasy', 'yash', 'Yun', 'yuh']"
      ]
     },
     "execution_count": 82,
     "metadata": {},
     "output_type": "execute_result"
    }
   ],
   "source": [
    "names=['Yasy','sam','yash','Yun','nate','raj','tim','yuh']\n",
    "l_y=list(filter(lambda a:True if a[0]=='y' or a[0]=='Y' else False,names))\n",
    "l_y"
   ]
  },
  {
   "cell_type": "markdown",
   "id": "1d8aa155-2bd6-425b-bc86-b2485d72edf4",
   "metadata": {},
   "source": [
    "# 4.Write a Python program that uses the `filter()` function to select prime numbers from a list of integers."
   ]
  },
  {
   "cell_type": "code",
   "execution_count": 85,
   "id": "1e02902f-3d9d-4420-aea3-30f2377c9681",
   "metadata": {},
   "outputs": [
    {
     "data": {
      "text/plain": [
       "[23, 59, 97]"
      ]
     },
     "execution_count": 85,
     "metadata": {},
     "output_type": "execute_result"
    }
   ],
   "source": [
    "def isPrime(n):\n",
    "    for i in range(2,int((n+1)/2)):\n",
    "        if n%i==0:\n",
    "            return False\n",
    "    return True\n",
    "l=[24,23,59,68,90,93,97]\n",
    "prime_list=list(filter(lambda a:True if isPrime(a) else False,l))\n",
    "prime_list"
   ]
  },
  {
   "cell_type": "markdown",
   "id": "801d6846-d589-4468-a600-b9a28015ff34",
   "metadata": {},
   "source": [
    "# 5.How can you use the `filter()` function to remove None values from a list in Python?"
   ]
  },
  {
   "cell_type": "code",
   "execution_count": 87,
   "id": "7599f0b8-fe57-4369-a015-c6e38567ac4e",
   "metadata": {},
   "outputs": [
    {
     "name": "stdout",
     "output_type": "stream",
     "text": [
      "[1, 2, 3, 45]\n"
     ]
    }
   ],
   "source": [
    "l=[1,2,3,None,45,None]\n",
    "print(list(filter(lambda a:False if a==None else True,l)))"
   ]
  },
  {
   "cell_type": "markdown",
   "id": "d7eed995-437a-411d-914b-ee97f6d5899b",
   "metadata": {},
   "source": [
    "# 6.Create a Python program that uses `filter()` to select words longer than a certain length from a list of strings."
   ]
  },
  {
   "cell_type": "code",
   "execution_count": 90,
   "id": "3172b60c-6260-4840-970a-55ed3ac911ab",
   "metadata": {},
   "outputs": [
    {
     "name": "stdout",
     "output_type": "stream",
     "text": [
      "['magnificent', 'hoemcoming', 'marvilloso']\n"
     ]
    }
   ],
   "source": [
    "words=['herein','magnificent','there','vamanos','hoemcoming','splendid','marvilloso','asombroso']\n",
    "print(list(filter(lambda a:True if len(a)>=10 else False,words)))"
   ]
  },
  {
   "cell_type": "markdown",
   "id": "fdd2b612-e95b-4ca6-aa0b-40fa576490be",
   "metadata": {},
   "source": [
    "# 7.Write a Python program that uses the `filter()` function to select elements greater than a specified threshold from a list of values."
   ]
  },
  {
   "cell_type": "code",
   "execution_count": 92,
   "id": "00edf473-7f96-4fc2-ac70-5dc99f3f1ace",
   "metadata": {},
   "outputs": [
    {
     "name": "stdout",
     "output_type": "stream",
     "text": [
      "[32, 45, 66, 56]\n"
     ]
    }
   ],
   "source": [
    "numbers=[32,45,66,21,12,10,9,56,13]\n",
    "thrshold=30\n",
    "print(list(filter(lambda a:True if a>thrshold else False,numbers)))"
   ]
  },
  {
   "cell_type": "markdown",
   "id": "2cfa366c-09ad-4ce5-a5bb-90e0d9d6dd2d",
   "metadata": {},
   "source": [
    "# Recursion:-"
   ]
  },
  {
   "cell_type": "markdown",
   "id": "7b76812a-7b12-42bd-93f3-d9623ff328ab",
   "metadata": {},
   "source": [
    "# 1.Explain the concept of recursion in Python. How does it differ from iteration?"
   ]
  },
  {
   "cell_type": "raw",
   "id": "7699dc2c-078d-4122-87bf-1e31032cfcc5",
   "metadata": {},
   "source": [
    "Recursion is the concept of calling a function inside itself till a particular condition called base condition is met.\n",
    "Both Recursion and iteration work similar.\n",
    "But recursion takes more time than iteration.\n"
   ]
  },
  {
   "cell_type": "markdown",
   "id": "88d2236b-b656-4168-bc93-f0fa47c8d136",
   "metadata": {},
   "source": [
    "# 2.Write a Python program to calculate the factorial of a number using recursion."
   ]
  },
  {
   "cell_type": "code",
   "execution_count": 94,
   "id": "f927ddaf-6f2f-4fd3-869a-48fdb94bb583",
   "metadata": {},
   "outputs": [
    {
     "data": {
      "text/plain": [
       "40320"
      ]
     },
     "execution_count": 94,
     "metadata": {},
     "output_type": "execute_result"
    }
   ],
   "source": [
    "def fact(n):\n",
    "    if n==1 or n==0:\n",
    "        return 1\n",
    "    else:\n",
    "        return n*fact(n-1)\n",
    "fact(8)"
   ]
  },
  {
   "cell_type": "markdown",
   "id": "58c64b3f-7422-4a2c-a9d5-1d4305c1bd55",
   "metadata": {},
   "source": [
    "# 3.Create a recursive Python function to find the nth Fibonacci number."
   ]
  },
  {
   "cell_type": "code",
   "execution_count": 96,
   "id": "444d10f8-a3a5-49fe-b611-dd87505ea95f",
   "metadata": {},
   "outputs": [
    {
     "data": {
      "text/plain": [
       "55"
      ]
     },
     "execution_count": 96,
     "metadata": {},
     "output_type": "execute_result"
    }
   ],
   "source": [
    "def fibo(n):\n",
    "    if n<=1:\n",
    "        return n\n",
    "    else:\n",
    "        return fibo(n-1)+fibo(n-2)\n",
    "fibo(10)"
   ]
  },
  {
   "cell_type": "markdown",
   "id": "e976342e-ed83-4946-8f93-32f739eedde7",
   "metadata": {},
   "source": [
    "# 4.Write a recursive Python function to calculate the sum of all elements in a list."
   ]
  },
  {
   "cell_type": "code",
   "execution_count": 101,
   "id": "c7721fed-f5bf-4255-a3ed-09988e84ae01",
   "metadata": {},
   "outputs": [
    {
     "data": {
      "text/plain": [
       "30"
      ]
     },
     "execution_count": 101,
     "metadata": {},
     "output_type": "execute_result"
    }
   ],
   "source": [
    "l=[1,2,3,4,5,15]\n",
    "def s(l):\n",
    "    if len(l)==0:\n",
    "        return 0\n",
    "    else:\n",
    "        return l[0]+s(l[1:])\n",
    "s(l)"
   ]
  },
  {
   "cell_type": "markdown",
   "id": "3c901161-c345-4698-8ee5-4ee8648fc623",
   "metadata": {},
   "source": [
    "# 5.How can you prevent a recursive function from running indefinitely, causing a stack overflow error?"
   ]
  },
  {
   "cell_type": "raw",
   "id": "866667f5-adf4-4615-82eb-999ecf5391fd",
   "metadata": {},
   "source": [
    "To prevent the recursive function from running indefinitely we need to provide a base condition which when satisfies returns a value and stops further recursive calls."
   ]
  },
  {
   "cell_type": "markdown",
   "id": "b21bd488-b43b-4e64-808b-0fc2fc9987f7",
   "metadata": {},
   "source": [
    "# 6.Create a recursive Python function to find the greatest common divisor (GCD) of two numbers using the Euclidean algorithm."
   ]
  },
  {
   "cell_type": "code",
   "execution_count": 7,
   "id": "faf6ceaf-3f06-4a9a-b97e-d1084bc0716e",
   "metadata": {},
   "outputs": [
    {
     "name": "stdin",
     "output_type": "stream",
     "text": [
      "Enter the first number 25\n",
      "ENter the second number 120\n"
     ]
    },
    {
     "data": {
      "text/plain": [
       "5"
      ]
     },
     "execution_count": 7,
     "metadata": {},
     "output_type": "execute_result"
    }
   ],
   "source": [
    "n1=int(input(\"Enter the first number\"))\n",
    "n2=int(input(\"ENter the second number\"))\n",
    "if n2>n1:\n",
    "       n1,n2=n2,n1\n",
    "def gcd(n1,n2):\n",
    "       if n1%n2==0:\n",
    "           return n2\n",
    "       else:\n",
    "           return gcd(n2,(n1%n2))\n",
    "gcd(n1,n2)   "
   ]
  },
  {
   "cell_type": "markdown",
   "id": "76c9c83a-3f84-4b16-bf4c-77132e4874d8",
   "metadata": {},
   "source": [
    "# 7.Write a recursive Python function to reverse a string."
   ]
  },
  {
   "cell_type": "code",
   "execution_count": 102,
   "id": "5a6e0b2c-972e-44e1-8ed2-617f0b117d91",
   "metadata": {},
   "outputs": [
    {
     "name": "stdin",
     "output_type": "stream",
     "text": [
      "Enter a String thstfa\n"
     ]
    },
    {
     "data": {
      "text/plain": [
       "'aftsht'"
      ]
     },
     "execution_count": 102,
     "metadata": {},
     "output_type": "execute_result"
    }
   ],
   "source": [
    "s=input(\"Enter a String\")\n",
    "def rev_s(s):\n",
    "    if len(s)==0:\n",
    "        return ''\n",
    "    else:\n",
    "        return rev_s(s[1:])+s[0]\n",
    "rev_s(s)"
   ]
  },
  {
   "cell_type": "markdown",
   "id": "2450a5d1-3777-405e-baa8-1e27c110bd7d",
   "metadata": {},
   "source": [
    "# 8.Create a recursive Python function to calculate the power of a number (x^n)."
   ]
  },
  {
   "cell_type": "code",
   "execution_count": 105,
   "id": "c1bda8a9-71c3-416c-a689-b5ef334e6ee7",
   "metadata": {},
   "outputs": [
    {
     "name": "stdin",
     "output_type": "stream",
     "text": [
      "Enter a Number 23\n",
      "Enter power 4\n"
     ]
    },
    {
     "data": {
      "text/plain": [
       "279841"
      ]
     },
     "execution_count": 105,
     "metadata": {},
     "output_type": "execute_result"
    }
   ],
   "source": [
    "n=int(input('Enter a Number'))\n",
    "p=int(input(\"Enter power\"))\n",
    "def pow_n(n,p):\n",
    "    if p==1 or p==0:\n",
    "        return 1\n",
    "    else:\n",
    "        return n*pow(n,p-1)\n",
    "pow_n(n,p)"
   ]
  },
  {
   "cell_type": "markdown",
   "id": "a27e1280-d9ea-4968-8e9e-9de4cf7daed8",
   "metadata": {},
   "source": [
    "# 9. Write a recursive Python function to find all permutations of a given string."
   ]
  },
  {
   "cell_type": "code",
   "execution_count": 13,
   "id": "f512d0fa-a59f-4468-9578-e7a48053645d",
   "metadata": {},
   "outputs": [
    {
     "name": "stdout",
     "output_type": "stream",
     "text": [
      "acd\n",
      "adc\n",
      "cad\n",
      "cda\n",
      "dca\n",
      "dac\n"
     ]
    }
   ],
   "source": [
    "def tostring(a):\n",
    "    return ''.join(a)\n",
    "\n",
    "def p(a,l,r):\n",
    "    if l==r:\n",
    "        print(tostring(a))\n",
    "    else:\n",
    "        for i in range(l,r):\n",
    "            a[l],a[i]=a[i],a[l]\n",
    "            p(a,l+1,r)\n",
    "            a[l],a[i]=a[i],a[l]\n",
    "s='acd'\n",
    "a=list(s)\n",
    "p(a,0,len(a))"
   ]
  },
  {
   "cell_type": "markdown",
   "id": "635453c5-adb3-4256-b92e-a923c5ee7be1",
   "metadata": {},
   "source": [
    "# 10.Write a recursive Python function to check if a string is a palindrome."
   ]
  },
  {
   "cell_type": "code",
   "execution_count": null,
   "id": "67fad5da-db56-40d6-8080-729ce631f75b",
   "metadata": {},
   "outputs": [],
   "source": []
  },
  {
   "cell_type": "code",
   "execution_count": null,
   "id": "4fe139cd-618d-493e-89f6-5fef6db90173",
   "metadata": {},
   "outputs": [],
   "source": []
  },
  {
   "cell_type": "code",
   "execution_count": null,
   "id": "cb0b5c05-ebc6-4ad4-a73b-eac7f36b2777",
   "metadata": {},
   "outputs": [],
   "source": []
  },
  {
   "cell_type": "code",
   "execution_count": null,
   "id": "e8a9bcdf-1646-4aaf-9290-b3b7efdff886",
   "metadata": {},
   "outputs": [],
   "source": []
  },
  {
   "cell_type": "markdown",
   "id": "d29ef383-33ef-473c-acec-4573edd5befb",
   "metadata": {},
   "source": [
    "# Basics of Functions:\n"
   ]
  },
  {
   "cell_type": "markdown",
   "id": "0ae8e2fc-8c6a-4a1d-aecc-08d554127e30",
   "metadata": {},
   "source": [
    "# 1. What is a function in Python, and why is it used?"
   ]
  },
  {
   "cell_type": "raw",
   "id": "937579d6-b5bb-4f43-a869-c1a7abe78510",
   "metadata": {},
   "source": [
    "A function can be defined as a group of instructions that execute a particular task in order.\n",
    "Functions are used to make the program-code more organised. Functions also give repeatability for a particular task. "
   ]
  },
  {
   "cell_type": "markdown",
   "id": "c5e9a361-8fe9-4a69-80b6-61d00f2a872c",
   "metadata": {},
   "source": [
    "# 2.How do you define a function in Python? Provide an example."
   ]
  },
  {
   "cell_type": "markdown",
   "id": "6227d7dd-6c4c-4eb5-ad94-f516e1372773",
   "metadata": {},
   "source": [
    "Functions are defined using the keyword def followed by the function_name()."
   ]
  },
  {
   "cell_type": "code",
   "execution_count": 2,
   "id": "3293a70a-f728-4cf5-9013-ad5948a3dbe5",
   "metadata": {},
   "outputs": [],
   "source": [
    "def add_two_numbers():\n",
    "    a=2\n",
    "    b=5\n",
    "    c=a+b\n",
    "    print(c)\n",
    "## The function when called cretes two local variables a,b and c such that c=a+b and prints the value of c."
   ]
  },
  {
   "cell_type": "markdown",
   "id": "623634b6-23d1-4945-822f-76ff4915a3c9",
   "metadata": {},
   "source": [
    "# 3.Explain the difference between a function definition and a function call."
   ]
  },
  {
   "cell_type": "markdown",
   "id": "26448f93-ffac-4e9a-9996-d261e8166be4",
   "metadata": {},
   "source": [
    "Function definition is the part where the content of the function or the function body is defined.\n",
    "Function call is the part of the program where a call to execute the particular defined function is made."
   ]
  },
  {
   "cell_type": "markdown",
   "id": "75077978-56e1-4dd9-bf35-0b6b865dbe8b",
   "metadata": {},
   "source": [
    "# 4.Write a Python program that defines a function to calculate the sum of two numbers and then calls the function."
   ]
  },
  {
   "cell_type": "code",
   "execution_count": 3,
   "id": "21dc40d8-0fe0-42dc-9f22-d437be26229b",
   "metadata": {},
   "outputs": [
    {
     "name": "stdin",
     "output_type": "stream",
     "text": [
      "Enter the first number 34\n",
      "Enter the second number -90\n"
     ]
    },
    {
     "name": "stdout",
     "output_type": "stream",
     "text": [
      "-56\n"
     ]
    }
   ],
   "source": [
    "def add_two_numbers():\n",
    "    a=int(input(\"Enter the first number\"))\n",
    "    b=int(input(\"Enter the second number\"))\n",
    "    c=a+b\n",
    "    print(c)\n",
    "add_two_numbers()"
   ]
  },
  {
   "cell_type": "markdown",
   "id": "23c4be50-fe5a-4114-82a5-0a7dc2a338a9",
   "metadata": {},
   "source": [
    "# 5.What is a function signature, and what information does it typically include?"
   ]
  },
  {
   "cell_type": "raw",
   "id": "04f8932a-588d-439d-bdb1-9011f048084e",
   "metadata": {},
   "source": [
    "Signature of a function is defined as the set of number and types of input arguments the function takes and the type of the return value the function returns.\n",
    "Example\n",
    "def abc(int x,float y):\n",
    "    retrun float z\n",
    "The signature of the above function would be ; {int,float,float} "
   ]
  },
  {
   "cell_type": "markdown",
   "id": "75180c49-c8e5-407f-9fcd-6c2c6ac35226",
   "metadata": {},
   "source": [
    "# 6. Create a Python function that takes two arguments and returns their product."
   ]
  },
  {
   "cell_type": "code",
   "execution_count": 4,
   "id": "7da2009e-fa2e-4eca-aacc-f279aff3f404",
   "metadata": {},
   "outputs": [
    {
     "name": "stdout",
     "output_type": "stream",
     "text": [
      "12\n"
     ]
    }
   ],
   "source": [
    "def prdt(a,b):\n",
    "    return a*b\n",
    "print(prdt(3,4))"
   ]
  },
  {
   "cell_type": "markdown",
   "id": "dff290c8-7c38-4d01-8e61-143fc073c016",
   "metadata": {},
   "source": [
    "# Function Parameters and Arguments:"
   ]
  },
  {
   "cell_type": "markdown",
   "id": "5d560492-e54b-4a6e-9492-50857e726a7e",
   "metadata": {},
   "source": [
    "# 1.Explain the concepts of formal parameters and actual arguments in Python functions."
   ]
  },
  {
   "cell_type": "raw",
   "id": "4198f25e-21f2-4962-9039-fdb7dce26e1c",
   "metadata": {},
   "source": [
    "Formal parameters are the parameters that are passed into the function during function definition.\n",
    "Actual parameters are the parameters that are passed into the function during function call.\n",
    "def add(x,y):           x,y- formal arguments\n",
    "    return x+y\n",
    "add(a,b)                a,b- Actual arguments"
   ]
  },
  {
   "cell_type": "markdown",
   "id": "e7cdbe7c-38f7-46c0-a828-4f0e6bd25a30",
   "metadata": {},
   "source": [
    "# 2.Write a Python program that defines a function with default argument values."
   ]
  },
  {
   "cell_type": "code",
   "execution_count": 10,
   "id": "9494967a-075e-40b0-b328-16e876571116",
   "metadata": {},
   "outputs": [
    {
     "name": "stdout",
     "output_type": "stream",
     "text": [
      "20\n"
     ]
    }
   ],
   "source": [
    "def add(a,b=10):\n",
    "    return a+b\n",
    "print(add(10,))"
   ]
  },
  {
   "cell_type": "markdown",
   "id": "f9f7bc9f-eba7-48ed-a5cc-1cbdec4e385b",
   "metadata": {},
   "source": [
    "# 3.How do you use keyword arguments in Python function calls? Provide an example."
   ]
  },
  {
   "cell_type": "raw",
   "id": "366f3861-b644-4760-943c-7e955a1a3fd7",
   "metadata": {},
   "source": [
    "A keyword argument is where you provide a name to the variable as you pass it into the function.\n",
    "The name should be same as the formal argument of the function defined."
   ]
  },
  {
   "cell_type": "code",
   "execution_count": 15,
   "id": "1587f420-19e9-4210-a05a-0c50df7b6a45",
   "metadata": {},
   "outputs": [
    {
     "name": "stdout",
     "output_type": "stream",
     "text": [
      "Yasy Sajy\n"
     ]
    }
   ],
   "source": [
    "def details(first_name,last_name):\n",
    "    print(first_name+' '+last_name)\n",
    "details(last_name='Sajy',first_name='Yasy')"
   ]
  },
  {
   "cell_type": "markdown",
   "id": "e29d8c1a-91e1-4faf-b6fa-0bb0efc73fef",
   "metadata": {},
   "source": [
    "# 4.Create a Python function that accepts a variable number of arguments and calculates their sum."
   ]
  },
  {
   "cell_type": "code",
   "execution_count": 18,
   "id": "5fc9f6d6-2801-49d8-8b15-2a445541a19e",
   "metadata": {},
   "outputs": [
    {
     "name": "stdout",
     "output_type": "stream",
     "text": [
      "51\n"
     ]
    }
   ],
   "source": [
    "def s(*args):\n",
    "    s=0\n",
    "    for i in args:\n",
    "        s+=i\n",
    "    return s\n",
    "print(s(1,2,3,45))"
   ]
  },
  {
   "cell_type": "markdown",
   "id": "6c03e904-d4e1-4fe1-9f3a-052240116a0b",
   "metadata": {},
   "source": [
    "# 5.What is the purpose of the `*args` and `**kwargs` syntax in function parameter lists?"
   ]
  },
  {
   "cell_type": "raw",
   "id": "7a0e60fd-2619-49c3-97ac-4fa4b785927e",
   "metadata": {},
   "source": [
    "*args is used to input a tuple as a parameter to the function.\n",
    "**kwargs is used to input a dictionary as a parameter to the function.\n",
    "Both are used to pass variable number of arguments into a function each time.\n",
    "*args is used to pass Non-worded parameters and **kwargs is used to pass Worded parameters"
   ]
  },
  {
   "cell_type": "markdown",
   "id": "ee42dbac-1aad-4490-8c44-5d2a375a80bb",
   "metadata": {},
   "source": [
    "# Return Values and Scoping:"
   ]
  },
  {
   "cell_type": "markdown",
   "id": "8b7124ec-9057-40d4-8f99-88f96218c13a",
   "metadata": {},
   "source": [
    "# 1.Describe the role of the `return` statement in Python functions and provide examples."
   ]
  },
  {
   "cell_type": "raw",
   "id": "dab41024-3f03-415c-a1e4-5ffc945489ca",
   "metadata": {},
   "source": [
    "return statements are used to return or give back a value from the function.\n",
    "eg-\n",
    "def add(a,b):\n",
    "    return a+b\n",
    "The above function takes two positional parameters and returns the sum of them as output to the line where the function would be called."
   ]
  },
  {
   "cell_type": "markdown",
   "id": "e79cf689-8572-4863-bedd-9b5be9bf0376",
   "metadata": {},
   "source": [
    "# 2.Explain the concept of variable scope in Python, including local and global variables."
   ]
  },
  {
   "cell_type": "raw",
   "id": "98994263-3730-4c93-8f72-439bd6704612",
   "metadata": {},
   "source": [
    "Scope of a variable denotes the parts of the program where the variable can be accessed.\n",
    "A built-in scope in Python refers to the predefined variables and functions that are available to use without importing any additional modules.\n",
    "Local Variables- are the variables that can be accessed nly within a function or a class in the main program.\n",
    "Global Variables - are the variables that can be accessed anywhere in the program irrespective of the function or the class where it is accessed."
   ]
  },
  {
   "cell_type": "markdown",
   "id": "e0d6c580-1a9f-4114-9862-34b8cf341653",
   "metadata": {},
   "source": [
    "# 3.Write a Python program that demonstrates the use of global variables within functions."
   ]
  },
  {
   "cell_type": "code",
   "execution_count": 25,
   "id": "6e4501a1-0938-4bd4-92e3-0ddc71200975",
   "metadata": {},
   "outputs": [
    {
     "name": "stdout",
     "output_type": "stream",
     "text": [
      "14\n"
     ]
    }
   ],
   "source": [
    "x=12\n",
    "def show():\n",
    "    print(x+2)\n",
    "show()"
   ]
  },
  {
   "cell_type": "raw",
   "id": "9c5f4ec5-4b4d-46b8-9a77-6790c5de40a0",
   "metadata": {},
   "source": [
    "In the above function the variable x is defined as a global variable hence is accessible inside the function body as well."
   ]
  },
  {
   "cell_type": "markdown",
   "id": "4a3d9d87-5219-48ec-8c2c-79349e386498",
   "metadata": {},
   "source": [
    "# 4.Create a Python function that calculates the factorial of a number and returns it."
   ]
  },
  {
   "cell_type": "code",
   "execution_count": 24,
   "id": "eeca7fb5-42b6-43db-a2e0-b4e1bd384a9d",
   "metadata": {},
   "outputs": [
    {
     "name": "stdout",
     "output_type": "stream",
     "text": [
      "5040\n"
     ]
    }
   ],
   "source": [
    "def fact(a):\n",
    "    f=1\n",
    "    while a>0:\n",
    "        f=f*a\n",
    "        a=a-1\n",
    "    return f\n",
    "print(fact(7))"
   ]
  },
  {
   "cell_type": "markdown",
   "id": "1f686c29-1130-4f76-9913-0cd809a68fd9",
   "metadata": {},
   "source": [
    "# 5.How can you access variables defined outside a function from within the function?"
   ]
  },
  {
   "cell_type": "code",
   "execution_count": 32,
   "id": "8e230d61-5b46-4400-ac91-f719fb6664e9",
   "metadata": {},
   "outputs": [
    {
     "name": "stdout",
     "output_type": "stream",
     "text": [
      "12\n"
     ]
    }
   ],
   "source": [
    "y=10\n",
    "def show():\n",
    "    global y\n",
    "    y=y+2\n",
    "    print(y)\n",
    "show()"
   ]
  },
  {
   "cell_type": "raw",
   "id": "957a9495-25c1-49c4-a9bf-41603a439468",
   "metadata": {},
   "source": [
    "We can modify variables defined outside a function from within the function using the global variable."
   ]
  },
  {
   "cell_type": "markdown",
   "id": "6a8e1b2a-8c9a-4104-8805-b22e64d5427c",
   "metadata": {},
   "source": [
    "# Lambda Functions and Higher-Order Functions:"
   ]
  },
  {
   "cell_type": "markdown",
   "id": "c0aa84ae-8d69-4ade-b142-b6a9fc56f926",
   "metadata": {},
   "source": [
    "# 1.What are lambda functions in Python, and when are they typically used?"
   ]
  },
  {
   "cell_type": "raw",
   "id": "41a45219-f50a-404c-be45-3225da88ba36",
   "metadata": {},
   "source": [
    "Lambda functions are anonymous functions without a name.\n",
    "A lambda function can take any number of parameters but it ca nonly have one expression\n",
    "lambda functions are used when an anonymous function is required for a short period of time."
   ]
  },
  {
   "cell_type": "markdown",
   "id": "93c84134-f410-48d7-99c5-eaf41127234b",
   "metadata": {},
   "source": [
    "# 2.Write a Python program that uses lambda functions to sort a list of tuples based on the second element."
   ]
  },
  {
   "cell_type": "code",
   "execution_count": null,
   "id": "c59ad07b-7ab1-4083-a474-7801c9d48b03",
   "metadata": {},
   "outputs": [],
   "source": [
    "l=[(1,4),(2,1),(6,3),(10,2),(11,-10)]\n"
   ]
  },
  {
   "cell_type": "markdown",
   "id": "c63ca1cd-e6dd-4ef6-943a-e60cd5610432",
   "metadata": {},
   "source": [
    "# 3.Explain the concept of higher-order functions in Python, and provide an example."
   ]
  },
  {
   "cell_type": "raw",
   "id": "0fdf529c-4baa-410b-9c2e-c87ecdda7a4d",
   "metadata": {},
   "source": [
    "A function is called Higher Order Function if it contains other functions as a parameter or returns a function as an output i.e, the functions that operate with another function are known as Higher order Function.This is possible because in python functions are also treated as variables, but with an execution.\n"
   ]
  },
  {
   "cell_type": "code",
   "execution_count": 33,
   "id": "faced336-9c64-4de5-b846-03e43d1800c9",
   "metadata": {},
   "outputs": [
    {
     "name": "stdout",
     "output_type": "stream",
     "text": [
      "HELLO\n"
     ]
    }
   ],
   "source": [
    "def loud(text):\n",
    "    return text.upper()\n",
    "def hello(func):                  ## function hello takes in another function with alias func as parameter \n",
    "    text=func('hello')            \n",
    "    print(text)\n",
    "hello(loud)                      ## function hello() is called with teh parameter as another function loud()"
   ]
  },
  {
   "cell_type": "code",
   "execution_count": 34,
   "id": "18c8f1d3-edce-4460-933b-10bb3d0d8100",
   "metadata": {},
   "outputs": [
    {
     "name": "stdout",
     "output_type": "stream",
     "text": [
      "5.0\n"
     ]
    }
   ],
   "source": [
    "def divisor(x):\n",
    "    def dividend(y):\n",
    "        return y/x\n",
    "    return dividend\n",
    "divide=divisor(2)             ## dividend function is returned and stored in the variable divide\n",
    "print(divide(10))             ## then dividend function is called via variable_name divide and parameter as 10 "
   ]
  },
  {
   "cell_type": "markdown",
   "id": "0d89c10b-71ec-439d-a5c5-bd9de7f90440",
   "metadata": {},
   "source": [
    "# 4.Create a Python function that takes a list of numbers and a function as arguments, applying the function to each element in the list."
   ]
  },
  {
   "cell_type": "code",
   "execution_count": 36,
   "id": "4a0c9b9f-9d6e-4c79-9f61-9112818c0991",
   "metadata": {},
   "outputs": [
    {
     "name": "stdout",
     "output_type": "stream",
     "text": [
      "4\n",
      "9\n",
      "16\n",
      "25\n",
      "36\n"
     ]
    }
   ],
   "source": [
    "def abc(func,l):\n",
    "    for i in l:\n",
    "        print(func(i))\n",
    "def sq(a):\n",
    "    return a*a\n",
    "l=[2,3,4,5,6]\n",
    "abc(sq,l)"
   ]
  },
  {
   "cell_type": "markdown",
   "id": "b74a0c56-8a33-49eb-9274-e71334f8e3e3",
   "metadata": {},
   "source": [
    "# Built-in Functions:"
   ]
  },
  {
   "cell_type": "markdown",
   "id": "9e250a4d-1d00-4a8a-9675-bf5dfbaeb810",
   "metadata": {},
   "source": [
    "# 1.Describe the role of built-in functions like `len()`, `max()`, and `min()` in Python."
   ]
  },
  {
   "cell_type": "raw",
   "id": "6eedad00-2e8f-407e-b762-361ed140dec0",
   "metadata": {},
   "source": [
    "len() function is used to find the length of string,list,tuple etc.\n",
    "It returns the number of items in an object.\n",
    "max()-This function is used to compute the maximum of the values passed in its argument and lexicographically largest value if strings are passed as arguments.\n",
    "min()-This function is used to compute the minimum of the values passed in its argument and lexicographically smallest value if strings are passed as arguments."
   ]
  },
  {
   "cell_type": "markdown",
   "id": "12b3eb85-f3ab-4dba-bab6-779739503819",
   "metadata": {},
   "source": [
    "# 2.Write a Python program that uses the `map()` function to apply a function to each element of a list."
   ]
  },
  {
   "cell_type": "code",
   "execution_count": 40,
   "id": "047f241f-8d7c-4adb-b45d-be4ead8140e4",
   "metadata": {},
   "outputs": [
    {
     "name": "stdout",
     "output_type": "stream",
     "text": [
      "[1, 4, 9, 16, 25, 36]\n"
     ]
    }
   ],
   "source": [
    "l=[1,2,3,4,5,6]\n",
    "def sq(a):\n",
    "    return a*a\n",
    "print(list(map(sq,l)))"
   ]
  },
  {
   "cell_type": "markdown",
   "id": "da643a38-08cf-46d5-a573-2a133c79caa2",
   "metadata": {},
   "source": [
    "# 3.How does the `filter()` function work in Python, and when would you use it?"
   ]
  },
  {
   "cell_type": "raw",
   "id": "06846506-4a26-4c86-88ab-8297e589ea11",
   "metadata": {},
   "source": [
    "Let us consider the case of filtering odd numbers from a list.\n",
    "we define a function is_odd which checks teh value and returns the True if it is odd.\n",
    "we define the list iterable l_i\n",
    "odd_numbers=filter(is_odd,l_i)\n",
    "print(list(odd_numbers))"
   ]
  },
  {
   "cell_type": "markdown",
   "id": "04ef1f50-08a9-4f6b-8b8a-a3da52d043e2",
   "metadata": {},
   "source": [
    "# 4.Create a Python program that uses the `reduce()` function to find the product of all elements in a list."
   ]
  },
  {
   "cell_type": "code",
   "execution_count": 41,
   "id": "2c95032b-fbd8-4469-93e6-7de09cee5cd2",
   "metadata": {},
   "outputs": [
    {
     "name": "stdout",
     "output_type": "stream",
     "text": [
      "1200\n"
     ]
    }
   ],
   "source": [
    "from functools import reduce\n",
    "l=[1,2,3,4,5,10]\n",
    "def mul(a,b):\n",
    "    return a*b\n",
    "print(reduce(mul,l))"
   ]
  },
  {
   "cell_type": "markdown",
   "id": "2032cca3-310c-49a0-9fb3-72dfc9ce3898",
   "metadata": {},
   "source": [
    "# Function Documentation and Best Practices:"
   ]
  },
  {
   "cell_type": "markdown",
   "id": "8a7d4ac7-92f2-4786-9aea-78cc507d889c",
   "metadata": {},
   "source": [
    "# 1.Explain the purpose of docstrings in Python functions and how to write them."
   ]
  },
  {
   "cell_type": "code",
   "execution_count": null,
   "id": "b864c2ef-7a5b-49d0-8f55-eed9e3236084",
   "metadata": {},
   "outputs": [],
   "source": []
  },
  {
   "cell_type": "markdown",
   "id": "2e6d8dc0-96f7-408a-a178-60e41210bc16",
   "metadata": {},
   "source": [
    "# 2.Describe some best practices for naming functions and variables in Python, including naming conventions and guidelines."
   ]
  },
  {
   "cell_type": "raw",
   "id": "648ee099-7921-4b17-8eb6-cfe2eb587366",
   "metadata": {},
   "source": [
    "In Python, the names of variables and functions should be lowercase. Individual words can be separated by underscores when needed.\n",
    "\n",
    "Here are a few best practices to follow when naming your variables and functions:\n",
    "Constants should be represented by all capital letters and separated by underscores when needed \n",
    "Use names that are representative of the meaning of the object rather than meaningless, single-character names\n",
    "Names i, j, and k should be reserved for representing index values\n",
    "\n",
    "These are conventions you will want to avoid when writing Python code. \n",
    "Lowercase letter “el” – instead, use a capital letter “L”\n",
    "Uppercase letter “oh” – “O” \n",
    "Uppercase letter “eye” – “I”"
   ]
  },
  {
   "cell_type": "code",
   "execution_count": null,
   "id": "5ce12d89-41ce-4c96-be2e-a77966aede42",
   "metadata": {},
   "outputs": [],
   "source": []
  }
 ],
 "metadata": {
  "kernelspec": {
   "display_name": "Python 3 (ipykernel)",
   "language": "python",
   "name": "python3"
  },
  "language_info": {
   "codemirror_mode": {
    "name": "ipython",
    "version": 3
   },
   "file_extension": ".py",
   "mimetype": "text/x-python",
   "name": "python",
   "nbconvert_exporter": "python",
   "pygments_lexer": "ipython3",
   "version": "3.10.8"
  }
 },
 "nbformat": 4,
 "nbformat_minor": 5
}
