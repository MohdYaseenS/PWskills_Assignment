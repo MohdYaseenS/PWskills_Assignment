{
 "cells": [
  {
   "cell_type": "markdown",
   "id": "a3ca39dc-87fa-4145-b641-458be48b1d64",
   "metadata": {},
   "source": [
    "# 1. Program to reverse a string"
   ]
  },
  {
   "cell_type": "code",
   "execution_count": 16,
   "id": "aa5e4eb7-99c8-496d-8fcd-e4285baabbb5",
   "metadata": {},
   "outputs": [
    {
     "name": "stdin",
     "output_type": "stream",
     "text": [
      "Enter a string to be reversed asjdksd\n"
     ]
    },
    {
     "name": "stdout",
     "output_type": "stream",
     "text": [
      "Reverse Srting = dskdjsa\n"
     ]
    }
   ],
   "source": [
    "s=input(\"Enter a string to be reversed\")#input the string\n",
    "l=len(s)#get the length of the string\n",
    "rev_s=''  #set a new variable to store reversed string\n",
    "for i in range(l):  # for loop iterated over the whole length of the string\n",
    "    rev_s=rev_s+s[l-i-1]  \n",
    "print(\"Reverse Srting =\",str(rev_s))   "
   ]
  },
  {
   "cell_type": "markdown",
   "id": "9ab17722-d5ff-4f69-b76d-9991683fabaf",
   "metadata": {},
   "source": [
    "# 2.Palindrome string check"
   ]
  },
  {
   "cell_type": "code",
   "execution_count": 26,
   "id": "69408ac6-5dfc-4271-ba71-c665b244e2b1",
   "metadata": {},
   "outputs": [
    {
     "name": "stdin",
     "output_type": "stream",
     "text": [
      "Enter a string  sahjdg  GDjHas\n"
     ]
    },
    {
     "name": "stdout",
     "output_type": "stream",
     "text": [
      "Palindrome\n"
     ]
    }
   ],
   "source": [
    "s=input(\"Enter a string \")\n",
    "l=len(s)\n",
    "s=s.upper()\n",
    "rev_s=''\n",
    "for i in range(l):\n",
    "    rev_s=rev_s+s[l-i-1]\n",
    "\n",
    "if(s==rev_s):          # checking for palindrome\n",
    "    print(\"Palindrome\")\n",
    "else:\n",
    "    print('Not a Palindrome')\n",
    "\n",
    "    "
   ]
  },
  {
   "cell_type": "markdown",
   "id": "757d8f0d-0414-483d-87e6-a566b0a9260e",
   "metadata": {},
   "source": [
    "# 3. Convert a string to Upper_case"
   ]
  },
  {
   "cell_type": "code",
   "execution_count": 29,
   "id": "36b1e5ac-2afd-46a5-921f-598262490175",
   "metadata": {},
   "outputs": [
    {
     "name": "stdin",
     "output_type": "stream",
     "text": [
      "enter a string adsgjasd\n"
     ]
    },
    {
     "name": "stdout",
     "output_type": "stream",
     "text": [
      "ADSGJASD\n"
     ]
    }
   ],
   "source": [
    "s=input('enter a string')\n",
    "print(s.upper()) # string.upper() functon converts all the characters in the string to upperCase"
   ]
  },
  {
   "cell_type": "markdown",
   "id": "a3af230e-69da-4cbc-8c7b-dae14f01bfe3",
   "metadata": {},
   "source": [
    "# 4.Convert a string to lower_case"
   ]
  },
  {
   "cell_type": "code",
   "execution_count": 30,
   "id": "afd839aa-8396-49e2-8e54-995a1ce38913",
   "metadata": {},
   "outputs": [
    {
     "name": "stdin",
     "output_type": "stream",
     "text": [
      "enter a string jgdadTHFsrF\n"
     ]
    },
    {
     "name": "stdout",
     "output_type": "stream",
     "text": [
      "jgdadthfsrf\n"
     ]
    }
   ],
   "source": [
    "s=input('enter a string')\n",
    "print(s.lower()) # string.lowe() functon converts all the characters in the string to lowerCase"
   ]
  },
  {
   "cell_type": "markdown",
   "id": "b0efed24-f575-454a-8cdd-699239bb1e63",
   "metadata": {},
   "source": [
    "# 5. Count no of Vowels in a String"
   ]
  },
  {
   "cell_type": "code",
   "execution_count": null,
   "id": "f493a8df-608e-49f1-bb94-cc25ed624623",
   "metadata": {},
   "outputs": [],
   "source": [
    "s=input('enter a string') # input the string\n",
    "vowel_count=0 # count of vowels initialised to 0\n",
    "for i in s:   # iterating over the whole length of the string\n",
    "    if i in 'aeiou' or i in 'AEIOU':  # cheching if the char iterated is in the vowel group\n",
    "        vowel_count+=1  # if condition true it  is counted\n",
    "print(\"The number of Vowels in the String = \",vowel_count)"
   ]
  },
  {
   "cell_type": "markdown",
   "id": "5773e226-c7d1-45a7-9a9a-a6c519944e1e",
   "metadata": {},
   "source": [
    "# 6. Count the number of Consonants"
   ]
  },
  {
   "cell_type": "code",
   "execution_count": 36,
   "id": "47bb9d67-3b06-4ec9-ad0c-3182cb1f2845",
   "metadata": {},
   "outputs": [
    {
     "name": "stdin",
     "output_type": "stream",
     "text": [
      "enter a string zksdbYTDAI\n"
     ]
    },
    {
     "name": "stdout",
     "output_type": "stream",
     "text": [
      "The number of Consonants in the String =  8\n"
     ]
    }
   ],
   "source": [
    "s=input('enter a string')       \n",
    "count=0\n",
    "s=s.lower() # converting the whole string to lowerCase.Done so that we need not provide the upperCase consonants in the if statement below\n",
    "for i in s:\n",
    "    if i in 'bcdfghjklmnpqrstvwxyz':\n",
    "        count+=1\n",
    "print(\"The number of Consonants in the String = \",count)"
   ]
  },
  {
   "cell_type": "markdown",
   "id": "8516b935-92cd-4bf3-b39a-1b3914a67ebb",
   "metadata": {},
   "source": [
    "# 7. Remove all white spaces from a string"
   ]
  },
  {
   "cell_type": "code",
   "execution_count": 1,
   "id": "2a75d389-ead9-4555-9977-8c43d2e03abe",
   "metadata": {},
   "outputs": [
    {
     "name": "stdin",
     "output_type": "stream",
     "text": [
      "Enter a String sahu uidsy 78  at5%^ &^R4\n"
     ]
    },
    {
     "name": "stdout",
     "output_type": "stream",
     "text": [
      "The output String=  sahuuidsy78at5%^&^R4\n"
     ]
    }
   ],
   "source": [
    "input_string=input(\"Enter a String\")       \n",
    "out_s=input_string.replace(' ','')  # replace function replaces the first argument with the second in the string\n",
    "print(\"The output String= \",out_s)"
   ]
  },
  {
   "cell_type": "markdown",
   "id": "a0ca84d0-1a32-4480-85fc-c25d1f775a5a",
   "metadata": {},
   "source": [
    "# 8.Length of string without using len() function"
   ]
  },
  {
   "cell_type": "code",
   "execution_count": 43,
   "id": "b5f8c92a-94e9-4f89-a7af-0e1c99a676a3",
   "metadata": {},
   "outputs": [
    {
     "name": "stdin",
     "output_type": "stream",
     "text": [
      "Enter a String ashdgj hftv\n"
     ]
    },
    {
     "name": "stdout",
     "output_type": "stream",
     "text": [
      "Length of the string = 11\n"
     ]
    }
   ],
   "source": [
    "input_string=input(\"Enter a String\")\n",
    "l=0\n",
    "for i in input_string:\n",
    "    l+=1\n",
    "print(\"Length of the string =\",l)"
   ]
  },
  {
   "cell_type": "markdown",
   "id": "306657a8-3d1a-4594-b8cb-db4c7f579664",
   "metadata": {},
   "source": [
    "# 9. Check if a string contains a word\n"
   ]
  },
  {
   "cell_type": "code",
   "execution_count": 2,
   "id": "2580ccb2-26ac-4541-9901-3ae1f6e3b868",
   "metadata": {},
   "outputs": [
    {
     "name": "stdin",
     "output_type": "stream",
     "text": [
      "Enter a String hi there ghow are you doing how to do\n",
      "Enter the word to check how\n"
     ]
    },
    {
     "name": "stdout",
     "output_type": "stream",
     "text": [
      "how found\n"
     ]
    }
   ],
   "source": [
    "input_string=input(\"Enter a String\")  # inputting the string\n",
    "input_list=input_string.split()    #coverting the string to  list of words\n",
    "word=input(\"Enter the word to check\") \n",
    "if word in input_list: # checking for 'word' in list\n",
    "    print(word,\"found\")\n",
    "else:\n",
    "    print(word,\"Not found\")"
   ]
  },
  {
   "cell_type": "markdown",
   "id": "c65abc0a-8b41-4d86-982a-1e5e03c98aec",
   "metadata": {},
   "source": [
    "# 10. Replace a word in a string with another Word"
   ]
  },
  {
   "cell_type": "code",
   "execution_count": 3,
   "id": "e615fd1b-ef96-49af-adcf-5e2c1d7c1f74",
   "metadata": {},
   "outputs": [
    {
     "data": {
      "text/plain": [
       "'jhsHello ishs '"
      ]
     },
     "execution_count": 3,
     "metadata": {},
     "output_type": "execute_result"
    }
   ],
   "source": [
    "string='jhs kasg ishs '\n",
    "string.replace(' kasg','Hello')"
   ]
  },
  {
   "cell_type": "markdown",
   "id": "cf78f6ec-ce42-4d13-9ea7-f38fc526f392",
   "metadata": {},
   "source": [
    "# 11. Count the number of occurrences in a string"
   ]
  },
  {
   "cell_type": "code",
   "execution_count": 20,
   "id": "04bad5d4-17ef-4f16-a97b-c0676d5b1cd6",
   "metadata": {},
   "outputs": [
    {
     "name": "stdin",
     "output_type": "stream",
     "text": [
      "Enter a string theis is a message there *7there is there*&^8 <<there THEre\n",
      "Enter the word to count TheRE\n"
     ]
    },
    {
     "name": "stdout",
     "output_type": "stream",
     "text": [
      "['theis', 'is', 'a', 'message', 'there', 'there', 'is', 'there', 'there', 'there']\n",
      "there\n",
      "there\n",
      "there\n",
      "there\n",
      "there\n",
      "5\n"
     ]
    }
   ],
   "source": [
    "i_s=input(\"Enter a string\")\n",
    "i_s=i_s.lower()\n",
    "for i in i_s:\n",
    "    if i.isalpha()==False:\n",
    "        i_s=i_s.replace(i,' ')\n",
    "word=input(\"Enter the word to count\")\n",
    "word=word.lower()\n",
    "l=i_s.split()\n",
    "print(l)\n",
    "count=0\n",
    "for i in l:\n",
    "   if i==word:\n",
    "    count+=1\n",
    "    print(i)\n",
    "print(count)\n"
   ]
  },
  {
   "cell_type": "markdown",
   "id": "4ad8c0ea-9f02-457d-aa8a-88d74f0bf562",
   "metadata": {},
   "source": [
    "# 12. Find the first occurrence of a word in a string."
   ]
  },
  {
   "cell_type": "code",
   "execution_count": 5,
   "id": "511be44b-e785-49d5-a5b8-a1cae02dd8b4",
   "metadata": {},
   "outputs": [
    {
     "name": "stdin",
     "output_type": "stream",
     "text": [
      "Ente the string there is my film series film to be here goes film\n",
      "Enter the word to check film\n"
     ]
    },
    {
     "name": "stdout",
     "output_type": "stream",
     "text": [
      "First occurrence of th word is :4\n"
     ]
    }
   ],
   "source": [
    "s=input(\"Ente the string\")\n",
    "s=s.lower()       #convert all characters to lowerCase\n",
    "word=input('Enter the word to check')\n",
    "word=word.lower()  \n",
    "s_l=s.split()   #split the string to words along whitespaces\n",
    "i=0          # i is initailised for further use\n",
    "for i in range(len(s_l)):     # checking for the word in the list in the forward direction \n",
    "    if s_l[i]==word: \n",
    "        break                  #when word found the loop is broken\n",
    "print(\"First occurrence of th word is :\"+str(i+1)) # The word is foud at positionn i+1\n",
    "           "
   ]
  },
  {
   "cell_type": "markdown",
   "id": "ada7ae75-d191-4cd0-bdc8-3210782f8d40",
   "metadata": {},
   "source": [
    "# 13. Find the last occurrence of a word in a string."
   ]
  },
  {
   "cell_type": "code",
   "execution_count": 12,
   "id": "7f66351c-beac-4dcc-ac21-2e0423ef9044",
   "metadata": {},
   "outputs": [
    {
     "name": "stdin",
     "output_type": "stream",
     "text": [
      "Ente the string hi there my apple,&^ (97 is my apple there..\n",
      "Enter the word to check APPle\n"
     ]
    },
    {
     "name": "stdout",
     "output_type": "stream",
     "text": [
      "['there', 'apple', 'my', 'is', 'apple', 'my', 'there', 'hi']\n",
      "Last occurrence of the word is :7\n"
     ]
    }
   ],
   "source": [
    "s=input(\"Ente the string\")\n",
    "s=s.lower()\n",
    "word=input('Enter the word to check')\n",
    "word=word.lower()\n",
    "for i in s:                          # for each character in the string\n",
    "    if (ord(i) not in range(ord('a'),ord('z')+1)) and (ord(i) not in range(ord('A'),ord('Z')+1)) : #if the character is not an alphabet\n",
    "        s=s.replace(i,' ')  # the character is converted to space which is then removed at the split()\n",
    "s_l=s.split()\n",
    "s_l.reverse()        #reverse() reverses the order of the list s_l\n",
    "i=0\n",
    "for i in range(len(s_l)):    #iterating over the reversed list to find the first occurance if the iterseted word 'word' \n",
    "    if s_l[i]==word:\n",
    "        break               #the loop is broken at the first instance of occurencxe of 'word'\n",
    "print(\"Last occurrence of the word is :\"+str(len(s_l)-i)) # the index is found using the reverse formula"
   ]
  },
  {
   "cell_type": "markdown",
   "id": "3b45e030-fe9d-4796-a747-694a1253818f",
   "metadata": {},
   "source": [
    "# 14 Split a string into a list of words."
   ]
  },
  {
   "cell_type": "code",
   "execution_count": 33,
   "id": "54595b95-855b-4c32-b452-ea9470b2d7a9",
   "metadata": {},
   "outputs": [
    {
     "name": "stdin",
     "output_type": "stream",
     "text": [
      "Enter the string ashgd aysd hasid tasfd\n"
     ]
    },
    {
     "name": "stdout",
     "output_type": "stream",
     "text": [
      "['ashgd', 'aysd', 'hasid', 'tasfd']\n"
     ]
    }
   ],
   "source": [
    "s=input('Enter the string')\n",
    "s_l=s.split()\n",
    "print(s_l)"
   ]
  },
  {
   "cell_type": "markdown",
   "id": "2606b331-88b5-4883-b936-0644f237de7a",
   "metadata": {},
   "source": [
    "# 15. Join a list of words into a string."
   ]
  },
  {
   "cell_type": "code",
   "execution_count": 7,
   "id": "5ee12a6d-6662-4ef6-bfbb-b5462f9fc2a3",
   "metadata": {},
   "outputs": [
    {
     "name": "stdin",
     "output_type": "stream",
     "text": [
      "Enter the number of words 7\n",
      "Enter the word this\n",
      "Enter the word is\n",
      "Enter the word my\n",
      "Enter the word birthday gift.\n",
      "Enter the word it\n",
      "Enter the word is\n",
      "Enter the word very beautiul!\n"
     ]
    },
    {
     "name": "stdout",
     "output_type": "stream",
     "text": [
      "this is my birthday gift. it is very beautiul!\n"
     ]
    }
   ],
   "source": [
    "s=[]\n",
    "a=''\n",
    "n=int(input('Enter the number of words'))\n",
    "for i in range(n):\n",
    "    s.append(input('Enter the word'))\n",
    "for i in s:\n",
    "    if s.index(i)==0:\n",
    "        a+=i\n",
    "    else:\n",
    "        a=a+' '+i\n",
    "print(a)"
   ]
  },
  {
   "cell_type": "markdown",
   "id": "ef5f332a-691a-4f35-99c6-e1c0e4da1067",
   "metadata": {},
   "source": [
    "# 16. Convert a string where words are separated by spaces to one where words\n",
    "are separated by underscores."
   ]
  },
  {
   "cell_type": "code",
   "execution_count": 17,
   "id": "b841a260-c960-491f-9a3f-db30b7f6717e",
   "metadata": {},
   "outputs": [
    {
     "name": "stdin",
     "output_type": "stream",
     "text": [
      "Ente the string This is an Example sentence\n"
     ]
    },
    {
     "name": "stdout",
     "output_type": "stream",
     "text": [
      "This_is_an_Example_sentence\n"
     ]
    }
   ],
   "source": [
    "s=input(\"Ente the string\")\n",
    "s=s.replace(' ','_')\n",
    "print(s)"
   ]
  },
  {
   "cell_type": "markdown",
   "id": "d3b18b96-e231-41ce-a012-34ae59ca85a2",
   "metadata": {},
   "source": [
    "# 17. Check if a string starts with a specific word or phrase."
   ]
  },
  {
   "cell_type": "code",
   "execution_count": 42,
   "id": "5581611b-cc2b-4747-aa86-2062145cfd19",
   "metadata": {},
   "outputs": [
    {
     "name": "stdin",
     "output_type": "stream",
     "text": [
      "Ente the string this is an exapmle\n",
      "Enter the word that\n"
     ]
    },
    {
     "name": "stdout",
     "output_type": "stream",
     "text": [
      "Fasle\n"
     ]
    }
   ],
   "source": [
    "s=input(\"Ente the string\")\n",
    "word=input(\"Enter the word\")\n",
    "index=s.find(word)   # checks if the first instance of occurence of 'word'is 0 if yes:True\n",
    "if index==0 :\n",
    "    print('True')\n",
    "else:\n",
    "    print('Fasle')"
   ]
  },
  {
   "cell_type": "markdown",
   "id": "ad83afe7-6ac6-45f8-99ed-5f039d09cee4",
   "metadata": {},
   "source": [
    "# 18. Check if a string ends with a specific word or phrase."
   ]
  },
  {
   "cell_type": "code",
   "execution_count": 48,
   "id": "ef17b203-554d-40b7-b211-6f14b589077d",
   "metadata": {},
   "outputs": [
    {
     "name": "stdin",
     "output_type": "stream",
     "text": [
      "Ente the string this ia sn exampe for that\n",
      "Enter the word that\n"
     ]
    },
    {
     "name": "stdout",
     "output_type": "stream",
     "text": [
      "True\n"
     ]
    }
   ],
   "source": [
    "s=input(\"Ente the string\")\n",
    "word=input(\"Enter the word\")\n",
    "result=s.endswith(word)   # checks if the string ends with 'word' returns true if condition is fulfilled\n",
    "print(result)"
   ]
  },
  {
   "cell_type": "markdown",
   "id": "d0fde8f3-ae45-453c-9d2a-ae27c8e30160",
   "metadata": {},
   "source": [
    "# 19. Convert a string to title case"
   ]
  },
  {
   "cell_type": "code",
   "execution_count": 49,
   "id": "af3f6b92-71bb-4485-8833-aaaab2dba8e0",
   "metadata": {},
   "outputs": [
    {
     "name": "stdin",
     "output_type": "stream",
     "text": [
      "Ente the string thsa fsa safasd jash\n"
     ]
    },
    {
     "name": "stdout",
     "output_type": "stream",
     "text": [
      "Thsa Fsa Safasd Jash\n"
     ]
    }
   ],
   "source": [
    "s=input(\"Ente the string\")\n",
    "s=s.title()\n",
    "print(s)"
   ]
  },
  {
   "cell_type": "markdown",
   "id": "a276e769-dfed-4663-9c15-bd6c750cc47c",
   "metadata": {},
   "source": [
    "# 20. Find the longest word in a string."
   ]
  },
  {
   "cell_type": "code",
   "execution_count": 13,
   "id": "ab729225-c8b6-4762-8446-a2a020f030c9",
   "metadata": {},
   "outputs": [
    {
     "name": "stdin",
     "output_type": "stream",
     "text": [
      "Ente the string thsi is the largest word in the stringgggg 6527 9278 \n"
     ]
    },
    {
     "name": "stdout",
     "output_type": "stream",
     "text": [
      "Longest word = stringgggg\n"
     ]
    }
   ],
   "source": [
    "s=input(\"Ente the string\")\n",
    "s_l=s.split()    \n",
    "index=0      \n",
    "for i in range(len(s_l)):\n",
    "    if i ==0:\n",
    "        lar=len(s_l[i])  # length of the first word in the list is assigned as the largest in the first iteration\n",
    "    if lar < len(s_l[i]): #the lar variable is then comapred with the length of the susequent word in the list \n",
    "        lar=len(s_l[i])   # each time the above condition is met lar value is updated and the value of index is set as the i\n",
    "        index=i    \n",
    "print('Longest word =',s_l[index])  # returns the largest word in the string"
   ]
  },
  {
   "cell_type": "markdown",
   "id": "5b9d661b-cc98-437c-9ec5-a844db02c30d",
   "metadata": {},
   "source": [
    "# 21. Find the shortest word in a string.\n"
   ]
  },
  {
   "cell_type": "code",
   "execution_count": 54,
   "id": "0340f2c9-2ff8-41df-8849-6df7da971ce0",
   "metadata": {},
   "outputs": [
    {
     "name": "stdin",
     "output_type": "stream",
     "text": [
      "Ente the string theis is ajj short convo\n"
     ]
    },
    {
     "name": "stdout",
     "output_type": "stream",
     "text": [
      "Shortest word = is\n"
     ]
    }
   ],
   "source": [
    "s=input(\"Ente the string\")\n",
    "s_l=s.split()\n",
    "index=0\n",
    "for i in range(len(s_l)):\n",
    "    if i ==0:\n",
    "        small=len(s_l[i])\n",
    "    if small >= len(s_l[i]):\n",
    "        small=len(s_l[i])\n",
    "        index=i\n",
    "print('Shortest word =',s_l[index])"
   ]
  },
  {
   "cell_type": "markdown",
   "id": "0cdf5d88-c36b-47bc-9f0b-5f2b4e52d23c",
   "metadata": {},
   "source": [
    "# 22. Reverse the order of words in a string."
   ]
  },
  {
   "cell_type": "code",
   "execution_count": 9,
   "id": "31163cbc-4449-4e81-8b4e-a57e6ef6148d",
   "metadata": {},
   "outputs": [
    {
     "name": "stdin",
     "output_type": "stream",
     "text": [
      "enter a string this is my first python Code agyag atrda tfta dra\n"
     ]
    },
    {
     "name": "stdout",
     "output_type": "stream",
     "text": [
      "dra tfta atrda agyag Code python first my is this\n"
     ]
    }
   ],
   "source": [
    "st=input(\"enter a string\")\n",
    "s_l=st.split()\n",
    "rev_s_l=s_l[::-1]\n",
    "rev=''\n",
    "for i in rev_s_l:\n",
    "    if rev_s_l.index(i) ==0:# this if statement is done so that the first element of the reversed order string is not a whitespace\n",
    "        rev+=i\n",
    "    else:\n",
    "        rev=rev+' '+i\n",
    "print(rev)\n"
   ]
  },
  {
   "cell_type": "markdown",
   "id": "50243652-797b-4c63-8e57-eb8b0d352f82",
   "metadata": {},
   "source": [
    "# 23. Check if a string is alphanumeric."
   ]
  },
  {
   "cell_type": "code",
   "execution_count": 15,
   "id": "f944b8ef-70b4-40f0-b5bd-c3180b5ad192",
   "metadata": {},
   "outputs": [
    {
     "name": "stdin",
     "output_type": "stream",
     "text": [
      "enter a string hg1y6 76$%#$ \n"
     ]
    },
    {
     "name": "stdout",
     "output_type": "stream",
     "text": [
      "String is not alphanumeric\n"
     ]
    }
   ],
   "source": [
    "st=input(\"enter a string\")\n",
    "if (st.isalnum()):   #isalnum() function returns true if all the characters in the string are alphanumeric\n",
    "    print(\"String is alphanumeric\")\n",
    "else:\n",
    "    print(\"String is not alphanumeric\")"
   ]
  },
  {
   "cell_type": "markdown",
   "id": "27ddd836-3654-4983-bce0-b99abe4b8a38",
   "metadata": {},
   "source": [
    "# 24. Extract all digits from a string."
   ]
  },
  {
   "cell_type": "code",
   "execution_count": 16,
   "id": "89230776-5037-4d93-9201-524a661bd304",
   "metadata": {},
   "outputs": [
    {
     "name": "stdin",
     "output_type": "stream",
     "text": [
      "enter a string shjga6565 agsyg65651\n"
     ]
    },
    {
     "name": "stdout",
     "output_type": "stream",
     "text": [
      "Digits in the string =  656565651\n"
     ]
    }
   ],
   "source": [
    "st=input(\"enter a string\")\n",
    "digits=''\n",
    "for i in st:         # for each character in the string\n",
    "    if i.isdigit():  #isdigit() returns true if the character is a digit\n",
    "        digits+=i    #that iterable item is added to the digit variable through string concatenation\n",
    "print(\"Digits in the string = \",digits)"
   ]
  },
  {
   "cell_type": "markdown",
   "id": "5116e2bc-2516-4d18-9e64-dba05b2b0860",
   "metadata": {},
   "source": [
    "# 25. Extract all alphabets from a string."
   ]
  },
  {
   "cell_type": "code",
   "execution_count": 20,
   "id": "16499020-fa68-4914-b230-62e433e855e5",
   "metadata": {},
   "outputs": [
    {
     "name": "stdin",
     "output_type": "stream",
     "text": [
      "enter a string ashk 66 HGSHG6465786755%%uyjy\n"
     ]
    },
    {
     "name": "stdout",
     "output_type": "stream",
     "text": [
      "Extracted alphabets = ashkHGSHGuyjy\n"
     ]
    }
   ],
   "source": [
    "st=input(\"enter a string\")\n",
    "alp=''\n",
    "for i in st:\n",
    "    if i.isalpha():\n",
    "        alp+=i\n",
    "print(\"Extracted alphabets =\",alp)"
   ]
  },
  {
   "cell_type": "markdown",
   "id": "a36cdc2a-1edd-43d9-ba76-eda41fd2dd11",
   "metadata": {},
   "source": [
    "# 26. Count the number of uppercase letters in a string."
   ]
  },
  {
   "cell_type": "code",
   "execution_count": 22,
   "id": "9dcbe173-5a59-443c-949e-3dd5cda605b0",
   "metadata": {},
   "outputs": [
    {
     "name": "stdin",
     "output_type": "stream",
     "text": [
      "enter a string sabhasg&&FGTH\n"
     ]
    },
    {
     "name": "stdout",
     "output_type": "stream",
     "text": [
      "4\n"
     ]
    }
   ],
   "source": [
    "st=input(\"enter a string\")\n",
    "c=0\n",
    "for i in st:\n",
    "    if i.isupper():\n",
    "        c+=1\n",
    "print(c)"
   ]
  },
  {
   "cell_type": "markdown",
   "id": "9450a238-53e5-486d-b152-77fa980f73a8",
   "metadata": {},
   "source": [
    "# 27. Count the number of lowercase letters in a string."
   ]
  },
  {
   "cell_type": "code",
   "execution_count": 23,
   "id": "8357f8d8-b27b-471d-a054-7bcf2fb5e10f",
   "metadata": {},
   "outputs": [
    {
     "name": "stdin",
     "output_type": "stream",
     "text": [
      "enter a string hkugFDRYJGYD&%^$^866\n"
     ]
    },
    {
     "name": "stdout",
     "output_type": "stream",
     "text": [
      "4\n"
     ]
    }
   ],
   "source": [
    "st=input(\"enter a string\")\n",
    "c=0\n",
    "for i in st:\n",
    "    if i.islower():\n",
    "        c+=1\n",
    "print(c)"
   ]
  },
  {
   "cell_type": "markdown",
   "id": "12b25123-1447-4008-9043-b1142b23f90b",
   "metadata": {},
   "source": [
    "# 28. Swap the case of each character in a string."
   ]
  },
  {
   "cell_type": "code",
   "execution_count": 29,
   "id": "954c4401-e0fa-4337-bcf6-352db5a9b646",
   "metadata": {},
   "outputs": [
    {
     "name": "stdin",
     "output_type": "stream",
     "text": [
      "enter a string HBHSGGY yay**%^ ags\n"
     ]
    },
    {
     "name": "stdout",
     "output_type": "stream",
     "text": [
      "hbhsggy YAY**%^ AGS\n"
     ]
    }
   ],
   "source": [
    "st=input(\"enter a string\")\n",
    "new_st=''\n",
    "for i in st:             # looping over each character in the string\n",
    "    if i.isupper():      # if character is upper convert it to lower_case\n",
    "        i=i.lower() \n",
    "        new_st+=i        # add the case_swapped character to the new string\n",
    "    else:\n",
    "        i=i.upper()      # if the above if condition fails  then convert the character to upper_case\n",
    "        new_st+=i        # add the character to the new string \n",
    "print(new_st)"
   ]
  },
  {
   "cell_type": "markdown",
   "id": "b4a4b4f9-93d5-4490-8d03-308ba47d794e",
   "metadata": {},
   "source": [
    "# 29 Remove a specific word from a string."
   ]
  },
  {
   "cell_type": "code",
   "execution_count": 32,
   "id": "95938b98-8fd4-4c64-b07d-98c4673ae9ff",
   "metadata": {},
   "outputs": [
    {
     "name": "stdin",
     "output_type": "stream",
     "text": [
      "enter a string tj hi there it i sthe there to b ein there gor it there fotrin \n",
      "Enter the word to delete there\n"
     ]
    },
    {
     "name": "stdout",
     "output_type": "stream",
     "text": [
      "tj hi it i sthe to b ein gor it fotrin\n"
     ]
    }
   ],
   "source": [
    "st=input(\"enter a string\")               \n",
    "word=input(\"Enter the word to delete\")\n",
    "st_new=''\n",
    "st_l=st.split()                       # splitting the string into a list of words along the blanksapces\n",
    "for i in st_l:                        # iterating over each word in the list\n",
    "    if i == word:                     # if the word == target_word we skip the loop \n",
    "        continue\n",
    "    elif st_l.index(i) ==0:\n",
    "        st_new+=i                     #then we add the first word to the string without a blankspace\n",
    "    else:\n",
    "        st_new=st_new+' '+i           # the remaining words in the list are added to the string with a blank_space\n",
    "print(st_new)"
   ]
  },
  {
   "cell_type": "markdown",
   "id": "7ebefac2-95ef-42af-b753-64253d43b12d",
   "metadata": {},
   "source": [
    "# 30. Check if a string is a valid email address."
   ]
  },
  {
   "cell_type": "code",
   "execution_count": 104,
   "id": "2cbfce27-2e27-4bc9-81da-d60e0bd1d56a",
   "metadata": {},
   "outputs": [
    {
     "name": "stdout",
     "output_type": "stream",
     "text": [
      "True\n",
      "False\n"
     ]
    }
   ],
   "source": [
    "import re  # Import the regular expression module\n",
    "\n",
    "def is_valid_email(email):\n",
    "    pattern = r'^[\\w\\.-]+@[\\w\\.-]+\\.\\w+$'  # Regular expression pattern for a basic email validation\n",
    "    if re.match(pattern, email):\n",
    "        return True\n",
    "    else:\n",
    "        return False\n",
    "\n",
    "# Example email addresses\n",
    "email1 = \"example@email.com\"\n",
    "email2 = \"invalid-email\"\n",
    "result1 = is_valid_email(email1)\n",
    "result2 = is_valid_email(email2)\n",
    "print(result1)\n",
    "print(result2)"
   ]
  },
  {
   "cell_type": "markdown",
   "id": "55040161-8f42-45c6-b884-e7b067e44be1",
   "metadata": {},
   "source": [
    "# 31. Extract the username from an email address string."
   ]
  },
  {
   "cell_type": "code",
   "execution_count": 34,
   "id": "04d98a7a-7e38-4274-a420-10463ea322d5",
   "metadata": {},
   "outputs": [
    {
     "name": "stdin",
     "output_type": "stream",
     "text": [
      "Enter the mailID yasy21057s@gmail.com\n"
     ]
    },
    {
     "name": "stdout",
     "output_type": "stream",
     "text": [
      "Username is : yasy21057s\n"
     ]
    }
   ],
   "source": [
    "emailID=input(\"Enter the mailID\")\n",
    "l=emailID.split('@')\n",
    "username=l[0]\n",
    "print(f\"Username is : {username}\")"
   ]
  },
  {
   "cell_type": "markdown",
   "id": "efd07cb9-b759-4e1a-ae7c-e4138136d69e",
   "metadata": {},
   "source": [
    "# 32. Extract the domain name from an email address string."
   ]
  },
  {
   "cell_type": "code",
   "execution_count": 36,
   "id": "62484fcb-693c-4354-b51c-9b852316e332",
   "metadata": {},
   "outputs": [
    {
     "name": "stdin",
     "output_type": "stream",
     "text": [
      "Enter the mailID yasy174s@yahoo.com.in\n"
     ]
    },
    {
     "name": "stdout",
     "output_type": "stream",
     "text": [
      "Domain-name is : yahoo.com.in\n"
     ]
    }
   ],
   "source": [
    "emailID=input(\"Enter the mailID\")\n",
    "l=emailID.split('@')\n",
    "domain=l[1]\n",
    "print(f\"Domain-name is : {domain}\")"
   ]
  },
  {
   "cell_type": "markdown",
   "id": "704a5bb8-9853-4f1c-a273-473d768dd526",
   "metadata": {},
   "source": [
    "# 33. Replace multiple spaces in a string with a single space."
   ]
  },
  {
   "cell_type": "code",
   "execution_count": 38,
   "id": "98537c59-1a75-4cda-8fd1-50eb35887b90",
   "metadata": {},
   "outputs": [
    {
     "name": "stdin",
     "output_type": "stream",
     "text": [
      "enter the string hi    there   to be bu  sht   sug\n"
     ]
    },
    {
     "name": "stdout",
     "output_type": "stream",
     "text": [
      "hi there to be bu sht sug\n"
     ]
    }
   ],
   "source": [
    "s=input(\"enter the string\")\n",
    "new_string=' '.join(s.split())# first splits the string into a list of words then join the list along blank_space\n",
    "print(new_string)"
   ]
  },
  {
   "cell_type": "markdown",
   "id": "ac5150dd-4c73-4404-ab85-128386ecf63c",
   "metadata": {},
   "source": [
    "# 34. Check if a string is a valid URL."
   ]
  },
  {
   "cell_type": "code",
   "execution_count": null,
   "id": "74f26d21-e796-492a-af84-77ea2057385d",
   "metadata": {},
   "outputs": [],
   "source": []
  },
  {
   "cell_type": "markdown",
   "id": "18b7a35e-5524-4bd6-bd1e-34af963942bc",
   "metadata": {},
   "source": [
    "# 35. Extract the protocol (http or https) from a URL string."
   ]
  },
  {
   "cell_type": "code",
   "execution_count": 2,
   "id": "001d51b1-60fd-4bd4-9da1-5f1c1e08c49d",
   "metadata": {},
   "outputs": [
    {
     "name": "stdout",
     "output_type": "stream",
     "text": [
      "https\n",
      "http\n",
      "ftp\n"
     ]
    }
   ],
   "source": [
    "url1 = \"https://www.example.com\"\n",
    "url2 = \"http://google.com\"\n",
    "url3 = \"ftp://ftp.example.com\"\n",
    "def url(u):\n",
    "    n=u.find(\"://\")\n",
    "    if n!=-1:\n",
    "        return n\n",
    "    else:\n",
    "        return None\n",
    "n1=url(url1)\n",
    "n2=url(url2)\n",
    "n3=url(url3)\n",
    "print(url1[:n1])\n",
    "print(url2[:n2])\n",
    "print(url3[:n3])"
   ]
  },
  {
   "cell_type": "markdown",
   "id": "5ac48214-b919-4137-857f-b86905fa91e8",
   "metadata": {},
   "source": [
    "# 36. Find the frequency of each character in a string."
   ]
  },
  {
   "cell_type": "code",
   "execution_count": 5,
   "id": "f99c7d42-43cd-42ee-aeae-3448c4e261e9",
   "metadata": {},
   "outputs": [
    {
     "name": "stdin",
     "output_type": "stream",
     "text": [
      "Enter a String  akjush yas d\n"
     ]
    },
    {
     "name": "stdout",
     "output_type": "stream",
     "text": [
      "dict_items([('a', 2), ('k', 1), ('j', 1), ('u', 1), ('s', 2), ('h', 1), (' ', 2), ('y', 1), ('d', 1)])\n",
      "Character : 'a', Frequency : 2\n",
      "Character : 'k', Frequency : 1\n",
      "Character : 'j', Frequency : 1\n",
      "Character : 'u', Frequency : 1\n",
      "Character : 's', Frequency : 2\n",
      "Character : 'h', Frequency : 1\n",
      "Character : ' ', Frequency : 2\n",
      "Character : 'y', Frequency : 1\n",
      "Character : 'd', Frequency : 1\n"
     ]
    }
   ],
   "source": [
    "s=input('Enter a String ') \n",
    "frequency={}                 # a dictionary is initialized\n",
    "for char in s:               #iterating over each character in the string\n",
    "  if char in frequency:      # if char is in dictionary above\n",
    "    frequency[char]+=1       # the value corresponding to that char(key) is incremented by 1\n",
    "  else:\n",
    "      frequency[char]=1      # if the char is coming for the first time the value correspondng to that char is set to 1\n",
    "print(frequency.items())\n",
    "for char,freq in frequency.items():\n",
    "  print(f\"Character : '{char}', Frequency : {freq}\")\n"
   ]
  },
  {
   "cell_type": "markdown",
   "id": "5e69738f-ccbf-4d48-bf2f-3ebf55cca58c",
   "metadata": {},
   "source": [
    "# 37. Remove all punctuation from a string."
   ]
  },
  {
   "cell_type": "code",
   "execution_count": 8,
   "id": "15594c65-b63c-43de-a138-1731ca7e4cea",
   "metadata": {},
   "outputs": [
    {
     "name": "stdin",
     "output_type": "stream",
     "text": [
      "Enter a String  hello! woeld ho wi sit__going-&*^ haas\n"
     ]
    },
    {
     "name": "stdout",
     "output_type": "stream",
     "text": [
      "hello woeld ho wi sitgoing haas\n"
     ]
    }
   ],
   "source": [
    "s=input('Enter a String ')\n",
    "new_s=''\n",
    "for char in s:\n",
    "    if char in \".,:;/\\!@#$%^&*()-_][}{'?><\" or char in '\"':\n",
    "        continue\n",
    "    else:\n",
    "        new_s+=char\n",
    "print(new_s)\n",
    "    "
   ]
  },
  {
   "cell_type": "markdown",
   "id": "a4bf441d-6399-4acb-ba4e-d72e4f180d00",
   "metadata": {},
   "source": [
    "# 38. Check if a string contains only digits."
   ]
  },
  {
   "cell_type": "code",
   "execution_count": 8,
   "id": "a21087fd-5d9b-4cfb-b15d-72da52a917d0",
   "metadata": {},
   "outputs": [
    {
     "name": "stdin",
     "output_type": "stream",
     "text": [
      "Enter a String  62753 83285\n"
     ]
    },
    {
     "name": "stdout",
     "output_type": "stream",
     "text": [
      "True the string contains only digits\n"
     ]
    }
   ],
   "source": [
    "s=input('Enter a String ')\n",
    "r=0;\n",
    "for char in s:\n",
    "    if char not in '1234567890 ':\n",
    "        r+=1\n",
    "if r==0:\n",
    "    print('True the string contains only digits')\n",
    "else:\n",
    "    print('False')\n"
   ]
  },
  {
   "cell_type": "markdown",
   "id": "1116b002-3f2c-4745-a576-39e481ece9dd",
   "metadata": {},
   "source": [
    "# 39. Check if a string contains only alphabets."
   ]
  },
  {
   "cell_type": "code",
   "execution_count": 9,
   "id": "62a237d5-785f-40d2-9519-ad09806a2276",
   "metadata": {},
   "outputs": [
    {
     "name": "stdin",
     "output_type": "stream",
     "text": [
      "Enter a String  hgjhgjyg657656hjbh\n"
     ]
    },
    {
     "name": "stdout",
     "output_type": "stream",
     "text": [
      "Fasle\n"
     ]
    }
   ],
   "source": [
    "s=input('Enter a String ')\n",
    "if s.isalpha():\n",
    "    print('True the string contains only alphabetical letters')\n",
    "else:\n",
    "    print('Fasle')"
   ]
  },
  {
   "cell_type": "markdown",
   "id": "bd1880b2-c860-4e76-ab9e-2b9012f78ef1",
   "metadata": {},
   "source": [
    "# 40. Convert a string to a list of characters.\n"
   ]
  },
  {
   "cell_type": "code",
   "execution_count": 25,
   "id": "d9ae4494-7fe7-481f-9964-c86196556cb2",
   "metadata": {},
   "outputs": [
    {
     "name": "stdin",
     "output_type": "stream",
     "text": [
      "Enter a String  gadg 765725&^* aosydu\n"
     ]
    },
    {
     "name": "stdout",
     "output_type": "stream",
     "text": [
      "['g', 'a', 'd', 'g', ' ', '7', '6', '5', '7', '2', '5', '&', '^', '*', ' ', 'a', 'o', 's', 'y', 'd', 'u']\n"
     ]
    }
   ],
   "source": [
    "s=input('Enter a String ')\n",
    "s_l=[]\n",
    "for i in range(len(s)):\n",
    "    s_l.append(s[i])\n",
    "print(s_l)"
   ]
  },
  {
   "cell_type": "markdown",
   "id": "f5548515-d0d1-4631-85c9-a1782da8219b",
   "metadata": {},
   "source": [
    "# 41. Check if two strings are anagrams."
   ]
  },
  {
   "cell_type": "code",
   "execution_count": 31,
   "id": "24dbf757-38d0-4037-874e-2d93fd102615",
   "metadata": {},
   "outputs": [
    {
     "name": "stdin",
     "output_type": "stream",
     "text": [
      "Enter the first string ahdus usad\n",
      "Enter the second string adsuadush \n"
     ]
    },
    {
     "name": "stdout",
     "output_type": "stream",
     "text": [
      "['a', 'a', 'd', 'd', 'h', 's', 's', 'u', 'u']\n",
      "['a', 'a', 'd', 'd', 'h', 's', 's', 'u', 'u']\n",
      "Anagrams\n"
     ]
    }
   ],
   "source": [
    "s1=input('Enter the first string')       #if the sorted from of the two strings are equivalent we can say that the two strings are anagrams\n",
    "s2=input('Enter the second string')\n",
    "s1=sorted(s1.replace(' ',''))\n",
    "s2=sorted(s2.replace(' ',''))\n",
    "print(s1)\n",
    "print(s2)\n",
    "if s1==s2:\n",
    "    print(\"Anagrams\")\n",
    "else:\n",
    "    print(\"Not anagram\")"
   ]
  },
  {
   "cell_type": "markdown",
   "id": "9def4248-dbd2-418b-a364-6aad94c350b1",
   "metadata": {},
   "source": [
    "# 42. Encode a string using a Caesar cipher."
   ]
  },
  {
   "cell_type": "code",
   "execution_count": 16,
   "id": "24f77303-1d42-4335-92b0-72854ff26209",
   "metadata": {},
   "outputs": [
    {
     "name": "stdin",
     "output_type": "stream",
     "text": [
      "Enter a string yasy\n",
      "Enter the shift -4\n"
     ]
    },
    {
     "name": "stdout",
     "output_type": "stream",
     "text": [
      "uwou\n"
     ]
    }
   ],
   "source": [
    "key=input(\"Enter a string\")\n",
    "shift=int(input(\"Enter the shift\"))\n",
    "key=key.lower()\n",
    "message=''\n",
    "for char in key:\n",
    "    message+=chr((ord(char)+shift-ord('a'))%26+ord('a')) # we find the AScii value of each character in the string.Then add the shift.now to keep the interval of the ascii value of the \n",
    "print(message)                                           # shift within the limit we do the above equation. so that the net effect is ord(char)+shift\n",
    "  "
   ]
  },
  {
   "cell_type": "markdown",
   "id": "e01dd7f6-3c8d-4226-b8b0-d3d4d17d440c",
   "metadata": {},
   "source": [
    "# 43. Decode a Caesar cipher encoded string."
   ]
  },
  {
   "cell_type": "code",
   "execution_count": 19,
   "id": "627514e4-de6f-45e5-9180-326492fb598c",
   "metadata": {},
   "outputs": [
    {
     "name": "stdin",
     "output_type": "stream",
     "text": [
      "Enter a string yasy\n",
      "Enter the shift -4\n"
     ]
    },
    {
     "name": "stdout",
     "output_type": "stream",
     "text": [
      "cewc\n"
     ]
    }
   ],
   "source": [
    "key=input(\"Enter a string\")\n",
    "shift=int(input(\"Enter the shift\"))\n",
    "key=key.lower()\n",
    "message=''\n",
    "for char in key:\n",
    "    message+=chr((ord(char)-shift-ord('a'))%26+ord('a'))\n",
    "print(message)"
   ]
  },
  {
   "cell_type": "markdown",
   "id": "e56dc7f0-5192-4bc3-892b-89613595b259",
   "metadata": {},
   "source": [
    "# 44. Find the most frequent word in a string."
   ]
  },
  {
   "cell_type": "code",
   "execution_count": 11,
   "id": "681f7605-5a83-4b47-9361-9d50cd88b709",
   "metadata": {},
   "outputs": [
    {
     "name": "stdin",
     "output_type": "stream",
     "text": [
      "Enter the string Hi in the world there is none in my world as you you are my world ..my world is beautiful\n"
     ]
    },
    {
     "name": "stdout",
     "output_type": "stream",
     "text": [
      "{'Hi': 1, 'in': 2, 'the': 1, 'world': 4, 'there': 1, 'is': 2, 'none': 1, 'my': 2, 'as': 1, 'you': 2, 'are': 1, '..my': 1, 'beautiful': 1}\n",
      "freq of Hi =1\n",
      "freq of in =2\n",
      "freq of the =1\n",
      "freq of world =4\n",
      "freq of there =1\n",
      "freq of is =2\n",
      "freq of none =1\n",
      "freq of my =2\n",
      "freq of as =1\n",
      "freq of you =2\n",
      "freq of are =1\n",
      "freq of ..my =1\n",
      "freq of beautiful =1\n",
      "Most frequent word=  world\n"
     ]
    }
   ],
   "source": [
    "s=input(\"Enter the string\")\n",
    "d={}\n",
    "l=0\n",
    "f=''\n",
    "s=s.split()\n",
    "for i in s:                 # for each word in list s\n",
    "    if i in d:              # if the word is a key in dictionary\n",
    "        d[i]+=1             # value of that key +=1 \n",
    "    else:\n",
    "        d[i]=1              #gives the count of each word in the string as a dictionary with the keya as word and the value as no of occurrence of the word\n",
    "    if d[i]>l:              # finds the word with the largest occurrence and stores it to 'f'\n",
    "        l=d[i]\n",
    "        f=i\n",
    "print(d)\n",
    "for i,m in d.items():\n",
    "    print(f\"freq of {i} ={m}\")\n",
    "print(\"Most frequent word= \",f)                   # prints the most frequent word in the string\n",
    "        "
   ]
  },
  {
   "cell_type": "markdown",
   "id": "3c1667f5-4906-4e30-8bc0-a8b5a4397f96",
   "metadata": {},
   "source": [
    "# 45. Find all unique words in a string."
   ]
  },
  {
   "cell_type": "code",
   "execution_count": 5,
   "id": "8bbb23f5-64ed-44d1-bb4b-21be0fccb9bf",
   "metadata": {},
   "outputs": [
    {
     "name": "stdin",
     "output_type": "stream",
     "text": [
      "Enter a String hi there how are You doing ...&855 *&* ;this fin ethis here hi there\n"
     ]
    },
    {
     "name": "stdout",
     "output_type": "stream",
     "text": [
      "{'there', 'are', 'doing', 'how', 'ethis', 'You', 'this', 'fin', 'hi', 'here'}\n"
     ]
    }
   ],
   "source": [
    "import string\n",
    "s=input('Enter a String')\n",
    "s=s.lower()\n",
    "for p in string.punctuation:\n",
    "    s=s.replace(p,'')         # remove all the punctuations\n",
    "for i in s:\n",
    "    if i in '1234567890':     # remove all the numbers\n",
    "        s=s.replace(i,'')\n",
    "words=set(s.split())          # the string is split into a list of constituent words and the list is converetd into a set to delete duplicate words\n",
    "print(words)"
   ]
  },
  {
   "cell_type": "markdown",
   "id": "3ecc2628-eadc-4fd0-9965-339f4405bba0",
   "metadata": {},
   "source": [
    "# 46. Count the number of syllables in a string."
   ]
  },
  {
   "cell_type": "code",
   "execution_count": 6,
   "id": "65ed5109-d3d1-4a69-8ada-e11d3af8d7d7",
   "metadata": {},
   "outputs": [
    {
     "name": "stdin",
     "output_type": "stream",
     "text": [
      "Enter a string syllables\n"
     ]
    },
    {
     "name": "stdout",
     "output_type": "stream",
     "text": [
      "No of syllables = 3\n"
     ]
    }
   ],
   "source": [
    "s=input(\"Enter a string\")\n",
    "c=0\n",
    "for i in s:\n",
    "    if i in 'aeiouyAEIOUY':\n",
    "        c+=1\n",
    "print(\"No of syllables =\",c) "
   ]
  },
  {
   "cell_type": "markdown",
   "id": "a6c1c4b0-275e-4792-bac0-8d405a59206c",
   "metadata": {},
   "source": [
    "# 47. Check if a string contains any special characters."
   ]
  },
  {
   "cell_type": "code",
   "execution_count": 83,
   "id": "556cdd65-ac35-4505-984f-383226dad256",
   "metadata": {},
   "outputs": [
    {
     "name": "stdin",
     "output_type": "stream",
     "text": [
      "enter a string ho there\n",
      "enter a string hi there!\n",
      "Enter a string aks %$;b Here\n"
     ]
    },
    {
     "name": "stdout",
     "output_type": "stream",
     "text": [
      "String 1 does not contain special Characters\n",
      "String 2 contains special characters\n",
      "String 3 contains special characters\n"
     ]
    }
   ],
   "source": [
    "s1=input(\"enter a string\")\n",
    "s2=input(\"enter a string\")\n",
    "s3=input(\"Enter a string\")\n",
    "special_chars=[i for i in '[!@#$%^&*()_+{}\\[\\]:;<>,.?~\\\\/]']\n",
    "for i in s1:\n",
    "    if i in special_chars:\n",
    "        print(\"String 1 contains special characters\")\n",
    "        break\n",
    "else:\n",
    "    print(\"String 1 does not contain special Characters\")\n",
    "for i in s2:\n",
    "    if i in special_chars:\n",
    "        print(\"String 2 contains special characters\")\n",
    "        break\n",
    "else:\n",
    "    print(\"String 2 does not contain special Characters\")\n",
    "for i in s3:\n",
    "    if i in special_chars:\n",
    "        print(\"String 3 contains special characters\")\n",
    "        break\n",
    "else:\n",
    "    print(\"String 3 does not contain special Characters\")"
   ]
  },
  {
   "cell_type": "markdown",
   "id": "cf8d5992-da91-43c2-9aab-48691b14b3cc",
   "metadata": {},
   "source": [
    "# 48. Remove the nth word from a string."
   ]
  },
  {
   "cell_type": "code",
   "execution_count": 87,
   "id": "02a055d5-59a8-49a1-a0aa-781463a9c6a6",
   "metadata": {},
   "outputs": [
    {
     "name": "stdin",
     "output_type": "stream",
     "text": [
      "Enter a string hi there this is a test messgae to the world\n",
      " 6\n"
     ]
    },
    {
     "name": "stdout",
     "output_type": "stream",
     "text": [
      "hi there this is a messgae to the world\n"
     ]
    }
   ],
   "source": [
    "s=input(\"Enter a string\")\n",
    "n=int(input())\n",
    "s_l=s.split()\n",
    "s_n=''\n",
    "for i in s_l:\n",
    "    if s_l.index(i)==n-1:\n",
    "        continue\n",
    "    elif s_l.index(i)==0:\n",
    "        s_n+=i\n",
    "    else:\n",
    "        s_n=s_n+' '+i\n",
    "print(s_n)"
   ]
  },
  {
   "cell_type": "markdown",
   "id": "dc136ce2-3497-48fd-97c1-d218dbd288e4",
   "metadata": {},
   "source": [
    "# 49. Insert a word at the nth position in a string."
   ]
  },
  {
   "cell_type": "code",
   "execution_count": 12,
   "id": "0f69c4a0-ff27-4198-bfbf-304b315b6c86",
   "metadata": {},
   "outputs": [
    {
     "name": "stdin",
     "output_type": "stream",
     "text": [
      "enter the string This is a test message. Hi there\n",
      "Enter the position to insert word 6\n",
      "Enter the word Here\n"
     ]
    },
    {
     "data": {
      "text/plain": [
       "'This is a test message. Here Hi there'"
      ]
     },
     "execution_count": 12,
     "metadata": {},
     "output_type": "execute_result"
    }
   ],
   "source": [
    "s=input(\"enter the string\")\n",
    "n=int(input(\"Enter the position to insert word\"))\n",
    "word=input(\"Enter the word\")\n",
    "s_l=s.split()\n",
    "s_l_n=s_l[:n-1]+[word]+s_l[n-1:]\n",
    "s_new=\" \".join(s_l_n)\n",
    "s_new"
   ]
  },
  {
   "cell_type": "markdown",
   "id": "7c1e9497-ea65-4459-8ee7-4996601d330d",
   "metadata": {},
   "source": [
    "# 50. Convert a CSV string to a list of lists."
   ]
  },
  {
   "cell_type": "code",
   "execution_count": 101,
   "id": "71f51c67-a3a9-482e-a006-035d2292e222",
   "metadata": {},
   "outputs": [
    {
     "name": "stdout",
     "output_type": "stream",
     "text": [
      "[['Name', ' Age', ' Country'], ['John', ' 25', ' USA'], ['Alice', ' 30', ' Canada'], ['Bob', ' 22', ' UK']]\n"
     ]
    }
   ],
   "source": [
    "csv_data = \"Name, Age, Country\\nJohn, 25, USA\\nAlice, 30, Canada\\nBob, 22, UK\"\n",
    "l = csv_data.split('\\n')\n",
    "l_n=[]\n",
    "for i in l:\n",
    "    l2=[]\n",
    "    l1=i.split(',')\n",
    "    for j in l1:\n",
    "        l2.append(j)\n",
    "    l_n.append(l2)\n",
    "print(l_n)\n"
   ]
  },
  {
   "cell_type": "markdown",
   "id": "154d5818-13fc-4863-aedc-9ac72d8c9e8a",
   "metadata": {},
   "source": [
    "# Lists"
   ]
  },
  {
   "cell_type": "markdown",
   "id": "de15fa0c-0d7d-4c9e-bc0b-603c916f1107",
   "metadata": {},
   "source": [
    "# 1. Create a list with integers from 1 to 10."
   ]
  },
  {
   "cell_type": "code",
   "execution_count": 13,
   "id": "f9760ba8-7440-484b-a198-30bedd0d535d",
   "metadata": {},
   "outputs": [
    {
     "name": "stdout",
     "output_type": "stream",
     "text": [
      "<class 'list'>\n",
      "[1, 2, 3, 4, 5, 6, 7, 8, 9, 10]\n"
     ]
    }
   ],
   "source": [
    "l=[]\n",
    "for i in range(10):\n",
    "    l.append(i+1)   #append() function does'nt need assigfment of the list to a new variable. The original list itself is updated.\n",
    "print(l)"
   ]
  },
  {
   "cell_type": "markdown",
   "id": "0abb9565-2e67-45d4-a1d5-1dde2f52e259",
   "metadata": {},
   "source": [
    "# 2. Find the length of a list without using the `len()` function."
   ]
  },
  {
   "cell_type": "code",
   "execution_count": 3,
   "id": "7bca2a90-d743-41cf-84e7-9ae6a15a56bd",
   "metadata": {},
   "outputs": [
    {
     "name": "stdin",
     "output_type": "stream",
     "text": [
      "Enter the no of elemengts in the list 10\n",
      " 1\n",
      " 2\n",
      " 3\n",
      " 4\n",
      " 5\n",
      " 6\n",
      " 7\n",
      " 8\n",
      " 9\n",
      " 10\n"
     ]
    },
    {
     "name": "stdout",
     "output_type": "stream",
     "text": [
      "10\n"
     ]
    }
   ],
   "source": [
    "n=int(input(\"Enter the no of elemengts in the list\"))\n",
    "l=[input() for i in range(n)]\n",
    "c=0\n",
    "for i in l:\n",
    "    c+=1\n",
    "print(c)"
   ]
  },
  {
   "cell_type": "markdown",
   "id": "a67e1b33-9d89-4d64-92e2-f83d7d0ff328",
   "metadata": {},
   "source": [
    "# 3. Append an element to the end of a list."
   ]
  },
  {
   "cell_type": "code",
   "execution_count": 4,
   "id": "d38818de-f6f9-4a68-ae43-bdfa7e7f5bbf",
   "metadata": {},
   "outputs": [
    {
     "name": "stdin",
     "output_type": "stream",
     "text": [
      "Enter the no of elemengts in the list 5\n",
      " 1\n",
      " 2\n",
      " 3\n",
      " 4\n",
      " 5\n",
      "Enter the element to append 6\n"
     ]
    },
    {
     "data": {
      "text/plain": [
       "['1', '2', '3', '4', '5', '6']"
      ]
     },
     "execution_count": 4,
     "metadata": {},
     "output_type": "execute_result"
    }
   ],
   "source": [
    "n=int(input(\"Enter the no of elemengts in the list\"))\n",
    "l=[input() for i in range(n)]\n",
    "app=input(\"Enter the element to append\")\n",
    "l.append(app)\n",
    "l"
   ]
  },
  {
   "cell_type": "markdown",
   "id": "b84dac59-5335-4816-b546-5d2b1c898c83",
   "metadata": {},
   "source": [
    "# 4. Insert an element at a specific index in a list."
   ]
  },
  {
   "cell_type": "code",
   "execution_count": 8,
   "id": "05c85c76-84bb-4a2a-bed2-4d9b8a9416bd",
   "metadata": {},
   "outputs": [
    {
     "name": "stdin",
     "output_type": "stream",
     "text": [
      "Enter the no of elemengts in the list 5\n",
      " 1\n",
      " 2\n",
      " 3\n",
      " 4\n",
      " 5\n",
      "Enter the element to insert 10\n",
      "Enter the position to insert 4\n"
     ]
    },
    {
     "data": {
      "text/plain": [
       "['1', '2', '3', '10', '4', '5']"
      ]
     },
     "execution_count": 8,
     "metadata": {},
     "output_type": "execute_result"
    }
   ],
   "source": [
    "n=int(input(\"Enter the no of elemengts in the list\"))\n",
    "l=[input() for i in range(n)]\n",
    "ins=input(\"Enter the element to insert\")\n",
    "pos=int(input(\"Enter the position to insert\"))\n",
    "l.insert(pos-1,ins)\n",
    "l"
   ]
  },
  {
   "cell_type": "markdown",
   "id": "43ee7c03-6a73-421a-a2cb-00a8569e1af6",
   "metadata": {},
   "source": [
    "# 5. Remove an element from a list by its value."
   ]
  },
  {
   "cell_type": "code",
   "execution_count": 12,
   "id": "146e44a2-ad0e-4bd9-b1bc-3b0db19f2f6b",
   "metadata": {},
   "outputs": [
    {
     "data": {
      "text/plain": [
       "[10, 30, 40, 50, 60]"
      ]
     },
     "execution_count": 12,
     "metadata": {},
     "output_type": "execute_result"
    }
   ],
   "source": [
    "l=[10,20,30,40,50,60]\n",
    "l.remove(20)\n",
    "l"
   ]
  },
  {
   "cell_type": "markdown",
   "id": "f1906b5f-48a8-4d06-855f-ed9684aa58f5",
   "metadata": {},
   "source": [
    "# 6. Remove an element from a list by its index.\n"
   ]
  },
  {
   "cell_type": "code",
   "execution_count": 13,
   "id": "b0b85a77-c1b2-40a6-9d50-d0d3ce281400",
   "metadata": {},
   "outputs": [
    {
     "data": {
      "text/plain": [
       "[10, 20, 30, 40, 60]"
      ]
     },
     "execution_count": 13,
     "metadata": {},
     "output_type": "execute_result"
    }
   ],
   "source": [
    "l=[10,20,30,40,50,60]\n",
    "l.pop(4)\n",
    "l"
   ]
  },
  {
   "cell_type": "markdown",
   "id": "62c82a86-82af-4302-bd55-b3c39e811482",
   "metadata": {},
   "source": [
    "# 7. Check if an element exists in a list."
   ]
  },
  {
   "cell_type": "code",
   "execution_count": 15,
   "id": "493b7259-4ead-4dd9-9c15-60333cdf3f79",
   "metadata": {},
   "outputs": [
    {
     "name": "stdin",
     "output_type": "stream",
     "text": [
      "Enter the no of elemengts in the list 7\n",
      " !\n",
      " 2\n",
      " #\n",
      " s\n",
      " F\n",
      " &\n",
      " 7\n",
      "Enter the element to check 7\n"
     ]
    },
    {
     "name": "stdout",
     "output_type": "stream",
     "text": [
      "Exists\n"
     ]
    }
   ],
   "source": [
    "n=int(input(\"Enter the no of elemengts in the list\"))\n",
    "l=[input() for i in range(n)]\n",
    "a=input(\"Enter the element to check\")\n",
    "if a in l:\n",
    "    print('Exists')\n",
    "else:\n",
    "    print('Does not exist')"
   ]
  },
  {
   "cell_type": "markdown",
   "id": "661452c8-1f6a-4e60-b800-167ad1c6c43e",
   "metadata": {},
   "source": [
    "# 8. Find the index of the first occurrence of an element in a list."
   ]
  },
  {
   "cell_type": "code",
   "execution_count": 21,
   "id": "bca97206-e7f3-4d7d-92bb-e44cef365b07",
   "metadata": {},
   "outputs": [
    {
     "name": "stdin",
     "output_type": "stream",
     "text": [
      "Enter the no of elemengts in the list 6\n",
      " a\n",
      " 2\n",
      " 4\n",
      " f\n",
      " a\n",
      " s\n",
      "Enter the element to check a\n"
     ]
    },
    {
     "name": "stdout",
     "output_type": "stream",
     "text": [
      "1\n"
     ]
    }
   ],
   "source": [
    "n=int(input(\"Enter the no of elemengts in the list\"))\n",
    "l=[input() for i in range(n)]\n",
    "a=input(\"Enter the element to check\")\n",
    "i=l.index(a)\n",
    "print(i+1)"
   ]
  },
  {
   "cell_type": "markdown",
   "id": "3232fe38-63f1-49f9-81c3-0e9917f92f39",
   "metadata": {},
   "source": [
    "# 9. Count the occurrences of an element in a list."
   ]
  },
  {
   "cell_type": "code",
   "execution_count": null,
   "id": "ec92b08d-696b-4579-a9e3-19cadbfbeb32",
   "metadata": {},
   "outputs": [
    {
     "name": "stdin",
     "output_type": "stream",
     "text": [
      "Enter the no of elemengts in the list 10\n",
      " a\n",
      " b\n",
      " f\n",
      " a\n",
      " f\n",
      " f\n",
      " s\n",
      " a\n",
      " d\n",
      " b\n"
     ]
    },
    {
     "name": "stdout",
     "output_type": "stream",
     "text": [
      "{'a': 3, 'b': 2, 'f': 3, 's': 1, 'd': 1}\n"
     ]
    }
   ],
   "source": [
    "n=int(input(\"Enter the no of elemengts in the list\"))\n",
    "l=[input() for i in range(n)]\n",
    "d={}\n",
    "for i in l:\n",
    "    if i in d.keys():\n",
    "        d[i]+=1\n",
    "    else:\n",
    "        d[i]=1\n",
    "print(d)\n",
    "        "
   ]
  },
  {
   "cell_type": "markdown",
   "id": "1173d13b-e239-41e1-b5d6-e8109b4c4626",
   "metadata": {},
   "source": [
    "# 10. Reverse the order of elements in a list."
   ]
  },
  {
   "cell_type": "code",
   "execution_count": 24,
   "id": "9c9a0a32-f074-433f-a112-554f2e20810c",
   "metadata": {},
   "outputs": [
    {
     "name": "stdin",
     "output_type": "stream",
     "text": [
      "Enter the no of elemengts in the list 6\n",
      " 6\n",
      " 5\n",
      " 4\n",
      " 3\n",
      " 2\n",
      " 1\n"
     ]
    },
    {
     "data": {
      "text/plain": [
       "['1', '2', '3', '4', '5', '6']"
      ]
     },
     "execution_count": 24,
     "metadata": {},
     "output_type": "execute_result"
    }
   ],
   "source": [
    "n=int(input(\"Enter the no of elemengts in the list\"))\n",
    "l=[input() for i in range(n)]\n",
    "l.reverse()\n",
    "l"
   ]
  },
  {
   "cell_type": "markdown",
   "id": "fe72e76d-58b1-4991-a7b5-03fb0bab5fb8",
   "metadata": {},
   "source": [
    "# 11. Sort a list in ascending order."
   ]
  },
  {
   "cell_type": "code",
   "execution_count": 4,
   "id": "359de6ca-1475-440e-8684-0d205ae6518d",
   "metadata": {},
   "outputs": [
    {
     "name": "stdin",
     "output_type": "stream",
     "text": [
      "enetr the no of elements 6\n",
      " 10\n",
      " -10\n",
      " 4\n",
      " 0\n",
      " -4\n",
      " 2\n"
     ]
    },
    {
     "data": {
      "text/plain": [
       "[-10, -4, 0, 2, 4, 10]"
      ]
     },
     "execution_count": 4,
     "metadata": {},
     "output_type": "execute_result"
    }
   ],
   "source": [
    "n=int(input(\"enetr the no of elements\"))\n",
    "l=[int(input()) for i  in range(n)]\n",
    "l.sort()\n",
    "l"
   ]
  },
  {
   "cell_type": "markdown",
   "id": "0eb35dcf-8eaf-4169-bcca-4d5c80908158",
   "metadata": {},
   "source": [
    "# 12. Sort a list in descending order."
   ]
  },
  {
   "cell_type": "code",
   "execution_count": 5,
   "id": "4193558c-3537-4d1d-bccd-21b565466c83",
   "metadata": {},
   "outputs": [
    {
     "name": "stdin",
     "output_type": "stream",
     "text": [
      "enetr the no of elements 6\n",
      " 10\n",
      " -10\n",
      " 4\n",
      " 0\n",
      " -4\n",
      " 2\n"
     ]
    },
    {
     "data": {
      "text/plain": [
       "[10, 4, 2, 0, -4, -10]"
      ]
     },
     "execution_count": 5,
     "metadata": {},
     "output_type": "execute_result"
    }
   ],
   "source": [
    "n=int(input(\"enetr the no of elements\"))\n",
    "l=[int(input()) for i  in range(n)]\n",
    "l.sort(reverse=True)\n",
    "l"
   ]
  },
  {
   "cell_type": "markdown",
   "id": "e4090537-a8cc-4320-b663-47e29d6f8252",
   "metadata": {},
   "source": [
    "# 13. Create a list of even numbers from 1 to 20."
   ]
  },
  {
   "cell_type": "code",
   "execution_count": 7,
   "id": "db5c8835-3a26-46db-931d-1e741b910192",
   "metadata": {},
   "outputs": [
    {
     "data": {
      "text/plain": [
       "[2, 4, 6, 8, 10, 12, 14, 16, 18, 20]"
      ]
     },
     "execution_count": 7,
     "metadata": {},
     "output_type": "execute_result"
    }
   ],
   "source": [
    "l=[]\n",
    "for i in range(1,21):\n",
    "  if i%2 ==0:\n",
    "    l.append(i)\n",
    "l"
   ]
  },
  {
   "cell_type": "markdown",
   "id": "391f9c9c-455e-4a82-b994-01399b9d294a",
   "metadata": {},
   "source": [
    "# 14. Create a list of odd numbers from 1 to 20."
   ]
  },
  {
   "cell_type": "code",
   "execution_count": 9,
   "id": "b5ea4dbf-8545-486e-b843-ef6cd38993df",
   "metadata": {},
   "outputs": [
    {
     "data": {
      "text/plain": [
       "[1, 3, 5, 7, 9, 11, 13, 15, 17, 19]"
      ]
     },
     "execution_count": 9,
     "metadata": {},
     "output_type": "execute_result"
    }
   ],
   "source": [
    "l=[]\n",
    "for i in range(1,21):\n",
    "  if i%2!=0:\n",
    "    l.append(i)\n",
    "l"
   ]
  },
  {
   "cell_type": "markdown",
   "id": "79fac585-b5d7-48aa-8c56-d9d02b26f4f2",
   "metadata": {},
   "source": [
    "# 15. Find the sum of all elements in a list."
   ]
  },
  {
   "cell_type": "code",
   "execution_count": 12,
   "id": "d9ad6c62-8c6c-405a-b7a4-003a8061b002",
   "metadata": {},
   "outputs": [
    {
     "name": "stdin",
     "output_type": "stream",
     "text": [
      "No of elements in the list 5\n",
      " 3\n",
      " 5\n",
      " 7\n",
      " 9\n",
      " 10\n"
     ]
    },
    {
     "name": "stdout",
     "output_type": "stream",
     "text": [
      "sum=  34\n"
     ]
    }
   ],
   "source": [
    "n=int(input(\"No of elements in the list\"))\n",
    "l=[int(input()) for i in range(n)]\n",
    "sum=0\n",
    "for i in l:\n",
    "  sum+=i\n",
    "print(\"sum= \",sum)"
   ]
  },
  {
   "cell_type": "markdown",
   "id": "f446b69c-c3e8-425e-9c8c-79e52a1f0d25",
   "metadata": {},
   "source": [
    "# 16. Find the maximum value in a list."
   ]
  },
  {
   "cell_type": "code",
   "execution_count": 14,
   "id": "c2b7023a-06c2-4277-8aec-1a890966eb83",
   "metadata": {},
   "outputs": [
    {
     "name": "stdin",
     "output_type": "stream",
     "text": [
      "No of elements in the list 5\n",
      " 67\n",
      " -90\n",
      " 91\n",
      " 45\n",
      " 34\n"
     ]
    },
    {
     "name": "stdout",
     "output_type": "stream",
     "text": [
      "Maximum Value=  91\n"
     ]
    }
   ],
   "source": [
    "n=int(input(\"No of elements in the list\"))\n",
    "l=[int(input()) for i in range(n)]\n",
    "lar=l[0]\n",
    "for i in l:\n",
    "  if i>=lar:\n",
    "    lar=i\n",
    "print(\"Maximum Value= \",lar)"
   ]
  },
  {
   "cell_type": "markdown",
   "id": "7c5016da-baba-4040-86db-9b3b7294276b",
   "metadata": {},
   "source": [
    "# 17. Find the minimum value in a list."
   ]
  },
  {
   "cell_type": "code",
   "execution_count": 20,
   "id": "2b5f91b4-b9c0-4c03-bb88-3c7e89c5b1cf",
   "metadata": {},
   "outputs": [
    {
     "name": "stdin",
     "output_type": "stream",
     "text": [
      "No of elements in the list 5\n",
      " -91\n",
      " -92\n",
      " 34\n",
      " 101\n",
      " 49\n"
     ]
    },
    {
     "name": "stdout",
     "output_type": "stream",
     "text": [
      "Minimun value=  -92\n"
     ]
    }
   ],
   "source": [
    "n=int(input(\"No of elements in the list\"))\n",
    "l=[int(input()) for i in range(n)]\n",
    "print(\"Minimun value=\",min(l))"
   ]
  },
  {
   "cell_type": "markdown",
   "id": "f341679e-bb62-4257-8ae3-4332db86f536",
   "metadata": {},
   "source": [
    "# 18. Create a list of squares of numbers from 1 to 10."
   ]
  },
  {
   "cell_type": "code",
   "execution_count": 21,
   "id": "10694cf8-48a4-48f4-be54-fe807dee0316",
   "metadata": {},
   "outputs": [
    {
     "name": "stdout",
     "output_type": "stream",
     "text": [
      "[1, 4, 9, 16, 25, 36, 49, 64, 81, 100]\n"
     ]
    }
   ],
   "source": [
    "l=[]\n",
    "for i in range(10):\n",
    "  l.append((i+1)**2)\n",
    "print(l)"
   ]
  },
  {
   "cell_type": "markdown",
   "id": "62ef2f53-76f0-4796-92f3-3b1a2c50f719",
   "metadata": {},
   "source": [
    "# 19. Create a list of random numbers."
   ]
  },
  {
   "cell_type": "code",
   "execution_count": 22,
   "id": "b75ee683-4432-4ae5-987b-4bab6e1c854f",
   "metadata": {},
   "outputs": [
    {
     "name": "stdin",
     "output_type": "stream",
     "text": [
      " 17\n"
     ]
    },
    {
     "data": {
      "text/plain": [
       "[30, 95, 44, 43, 46, -32, 15, -48, -75, 24, -76, -80, -94, -82, -90, -33, 77]"
      ]
     },
     "execution_count": 22,
     "metadata": {},
     "output_type": "execute_result"
    }
   ],
   "source": [
    "import random\n",
    "l=[]\n",
    "n=int(input())\n",
    "for i in range(n):\n",
    "  l.append(random.randint(-100,100))\n",
    "l\n"
   ]
  },
  {
   "cell_type": "markdown",
   "id": "5bf680e8-83db-498b-a134-658a75b8d84b",
   "metadata": {},
   "source": [
    "# 20. Remove duplicates from a list."
   ]
  },
  {
   "cell_type": "code",
   "execution_count": 23,
   "id": "a9004d72-3105-4ad0-9275-f6e9300b75f2",
   "metadata": {},
   "outputs": [
    {
     "data": {
      "text/plain": [
       "[1, 2, 3, 4, 5, 'a']"
      ]
     },
     "execution_count": 23,
     "metadata": {},
     "output_type": "execute_result"
    }
   ],
   "source": [
    "l=[1,2,2,2,3,4,1,5,'a',5,'a']\n",
    "s=set(l)\n",
    "l=list(s)\n",
    "l"
   ]
  },
  {
   "cell_type": "markdown",
   "id": "804941e2-1197-41d7-be58-ead9b101739a",
   "metadata": {},
   "source": [
    "# 21. Find the common elements between two lists."
   ]
  },
  {
   "cell_type": "code",
   "execution_count": 27,
   "id": "8009a4a9-6fbe-4727-9793-2a637f72ef36",
   "metadata": {},
   "outputs": [
    {
     "name": "stdout",
     "output_type": "stream",
     "text": [
      "[4, 5, 'a', 'v', 4]\n"
     ]
    },
    {
     "data": {
      "text/plain": [
       "['a', 4, 5, 'v']"
      ]
     },
     "execution_count": 27,
     "metadata": {},
     "output_type": "execute_result"
    }
   ],
   "source": [
    "l1=[1,2,3,4,5,'a','v',4]\n",
    "l2=['a','b','v',4,5,6]\n",
    "l3=[]\n",
    "for i in l1:\n",
    "  for j in l2:\n",
    "    if str(j)==str(i):\n",
    "      l3.append(j)\n",
    "print(l3)\n",
    "l3=list(set(l3))\n",
    "l3"
   ]
  },
  {
   "cell_type": "markdown",
   "id": "4a078016-8b03-493d-931f-aa48d3aa3c5a",
   "metadata": {},
   "source": [
    "# 22. Find the difference between two lists."
   ]
  },
  {
   "cell_type": "code",
   "execution_count": 30,
   "id": "86fd452a-165c-4de1-a364-ecf2de696df5",
   "metadata": {},
   "outputs": [
    {
     "name": "stdout",
     "output_type": "stream",
     "text": [
      "[1, 2, 3, 6, 'b']\n"
     ]
    },
    {
     "data": {
      "text/plain": [
       "[1, 2, 3, 10, 'f', 'l']"
      ]
     },
     "execution_count": 30,
     "metadata": {},
     "output_type": "execute_result"
    }
   ],
   "source": [
    "l1=[1,2,3,4,5,'a','v',4]\n",
    "l2=['a','b','v',4,5,6]\n",
    "l3=[]\n",
    "for i in l1:\n",
    "  for j in l2:\n",
    "    if str(j)==str(i):\n",
    "      break\n",
    "  else:\n",
    "    l3.append(i)\n",
    "for j in l2:\n",
    "  for i in l1:\n",
    "    if str(i)==str(j):\n",
    "      break\n",
    "  else:\n",
    "    l3.append(j)\n",
    "l3=list(set(l3))\n",
    "print(l3)\n",
    "\n",
    "l1=[1,2,3,4,5,'a','v',4,10,'f','l']\n",
    "l2=['a','b','v',4,5,6]\n",
    "l3=[x for x in l1 if x not in l2 ]\n",
    "l3"
   ]
  },
  {
   "cell_type": "markdown",
   "id": "9e67a448-4031-4050-9a42-5f91c76c966e",
   "metadata": {},
   "source": [
    "# 23. Merge two lists."
   ]
  },
  {
   "cell_type": "code",
   "execution_count": 31,
   "id": "f1050cf0-f88e-430b-b5b4-4a8dbae25b11",
   "metadata": {},
   "outputs": [
    {
     "name": "stdout",
     "output_type": "stream",
     "text": [
      "[1, 2, 3, 4, 5, 'a', 'v', 4, 10, 'f', 'l', 'a', 'b', 'v', 4, 5, 6]\n"
     ]
    }
   ],
   "source": [
    "l1=[1,2,3,4,5,'a','v',4,10,'f','l']\n",
    "l2=['a','b','v',4,5,6]\n",
    "l1.extend(l2)\n",
    "print(l1)"
   ]
  },
  {
   "cell_type": "markdown",
   "id": "1a1d7135-55f7-4dfe-bd9b-b9a73096a8c1",
   "metadata": {},
   "source": [
    "# 24. Multiply all elements in a list by 2."
   ]
  },
  {
   "cell_type": "code",
   "execution_count": 36,
   "id": "ca30ffc1-e25e-4550-ae74-7dbc6c19804f",
   "metadata": {},
   "outputs": [
    {
     "name": "stdout",
     "output_type": "stream",
     "text": [
      "[2, 4, 6, 8, 10, 8, 20, 22, 24, 32, 34, 42]\n"
     ]
    }
   ],
   "source": [
    "l1=[1,2,3,4,5,4,10,11,12,16,17,21]\n",
    "for i in range(len(l1)):\n",
    "    l1[i]=2*l1[i]\n",
    "print(l1)"
   ]
  },
  {
   "cell_type": "markdown",
   "id": "51a48df4-3573-4e88-ac97-9b2dcad6c40f",
   "metadata": {},
   "source": [
    "# 25. Filter out all even numbers from a list."
   ]
  },
  {
   "cell_type": "code",
   "execution_count": 37,
   "id": "e9017f96-4b5a-469d-bee0-fd9236bdc7c2",
   "metadata": {},
   "outputs": [
    {
     "data": {
      "text/plain": [
       "[1, 3, 5, 11, 17, 21]"
      ]
     },
     "execution_count": 37,
     "metadata": {},
     "output_type": "execute_result"
    }
   ],
   "source": [
    "l1=[1,2,3,4,5,4,10,11,12,16,17,21]\n",
    "l2=[]\n",
    "for i in l1:\n",
    "  if i%2==0:\n",
    "    continue\n",
    "  else:\n",
    "    l2.append(i)\n",
    "l2"
   ]
  },
  {
   "cell_type": "markdown",
   "id": "ba4b5e6a-a2ea-4df2-8f66-67219a9da954",
   "metadata": {},
   "source": [
    "# 26. Convert a list of strings to a list of integers."
   ]
  },
  {
   "cell_type": "code",
   "execution_count": 7,
   "id": "702b4fcc-9167-4cb9-a15b-411840f6171e",
   "metadata": {},
   "outputs": [
    {
     "data": {
      "text/plain": [
       "[1, 2, 3, 4, 5]"
      ]
     },
     "execution_count": 7,
     "metadata": {},
     "output_type": "execute_result"
    }
   ],
   "source": [
    "l=['1','2','3','4','5']\n",
    "l1=[]\n",
    "for i in l:\n",
    "    l1.append(int(i))\n",
    "l1"
   ]
  },
  {
   "cell_type": "markdown",
   "id": "db4eddac-ed8d-43e4-98fe-8becaed20cf9",
   "metadata": {},
   "source": [
    "# 27. Convert a list of integers to a list of strings."
   ]
  },
  {
   "cell_type": "code",
   "execution_count": 8,
   "id": "db24f085-65c8-4ae5-92e8-c3771ebbdab3",
   "metadata": {},
   "outputs": [
    {
     "data": {
      "text/plain": [
       "['1', '2', '3', '4', '5']"
      ]
     },
     "execution_count": 8,
     "metadata": {},
     "output_type": "execute_result"
    }
   ],
   "source": [
    "l=[1,2,3,4,5]\n",
    "l1=[]\n",
    "for i in l:\n",
    "    l1.append(str(i))\n",
    "l1"
   ]
  },
  {
   "cell_type": "markdown",
   "id": "5c6c39f4-8512-40ea-af67-d9b990db3816",
   "metadata": {},
   "source": [
    "# 28. Flatten a nested list."
   ]
  },
  {
   "cell_type": "code",
   "execution_count": 39,
   "id": "7b691b24-1f58-4b44-8291-ad18e6e29697",
   "metadata": {},
   "outputs": [
    {
     "data": {
      "text/plain": [
       "[1, 2, 3, 4, 5, 6, 7, 8, 9, 10, 11, 12, 21]"
      ]
     },
     "execution_count": 39,
     "metadata": {},
     "output_type": "execute_result"
    }
   ],
   "source": [
    "l=[[1,2,3],[4,5,6,7],[8,9,10,11,12],21]\n",
    "l_flat=[]\n",
    "for i in l:\n",
    "  if type(i) is list:\n",
    "    for j in i:\n",
    "      l_flat.append(j)\n",
    "  else:\n",
    "      l_flat.append(i)\n",
    "l_flat"
   ]
  },
  {
   "cell_type": "code",
   "execution_count": 40,
   "id": "731480ca-a76e-4d2a-9677-8638f3266357",
   "metadata": {},
   "outputs": [
    {
     "name": "stdout",
     "output_type": "stream",
     "text": [
      "[1, 2, 3, 4, 5, 6, 7, 8, 9, 10, 11, 12]\n"
     ]
    }
   ],
   "source": [
    "l=[[1,2,3],[4,5,6,7],[8,9,10,11,12]]\n",
    "l_f=[i for x in l for i in x]\n",
    "print(l_f)"
   ]
  },
  {
   "cell_type": "markdown",
   "id": "fd0af819-6c94-4660-8a7e-688df47efcb2",
   "metadata": {},
   "source": [
    "# 29. Create a list of the first 10 Fibonacci numbers."
   ]
  },
  {
   "cell_type": "code",
   "execution_count": 42,
   "id": "bb691260-9dda-408d-ac2f-a0d4d3cf1d38",
   "metadata": {},
   "outputs": [
    {
     "data": {
      "text/plain": [
       "[1, 1, 2, 3, 5, 8, 13, 21, 34, 55]"
      ]
     },
     "execution_count": 42,
     "metadata": {},
     "output_type": "execute_result"
    }
   ],
   "source": [
    "n1=1\n",
    "n2=1\n",
    "n3=0\n",
    "l=[n1,n2]\n",
    "for i in range(2,10):\n",
    "  n3=n2+n1\n",
    "  n1=n2\n",
    "  n2=n3\n",
    "  l.append(n3)\n",
    "l"
   ]
  },
  {
   "cell_type": "markdown",
   "id": "56b4a3ba-7e12-4961-815e-1074f808743b",
   "metadata": {},
   "source": [
    "# 30. Check if a list is sorted."
   ]
  },
  {
   "cell_type": "code",
   "execution_count": 44,
   "id": "229d30be-0324-431a-936c-dee884152e94",
   "metadata": {},
   "outputs": [
    {
     "name": "stdout",
     "output_type": "stream",
     "text": [
      "[10, 1, -4, 35, 22, 21]\n",
      "[-4, 1, 10, 21, 22, 35]\n",
      "List is not sorted\n"
     ]
    }
   ],
   "source": [
    "l1=[10,1,-4,35,22,21]\n",
    "l2=l1.copy()\n",
    "l2.sort()\n",
    "print(l1)\n",
    "print(l2)\n",
    "if l1==l2:\n",
    "  print(\"List is sorted\")\n",
    "else:\n",
    "  print(\"List is not sorted\")"
   ]
  },
  {
   "cell_type": "markdown",
   "id": "7c9e9b79-32ba-48c8-ae58-62d8a756e775",
   "metadata": {},
   "source": [
    "# 31. Rotate a list to the left by `n` positions."
   ]
  },
  {
   "cell_type": "code",
   "execution_count": 46,
   "id": "792f9cc9-36bd-4940-8857-fd2022b475c7",
   "metadata": {},
   "outputs": [
    {
     "name": "stdin",
     "output_type": "stream",
     "text": [
      " 2\n"
     ]
    },
    {
     "name": "stdout",
     "output_type": "stream",
     "text": [
      "[5, 11, 17, 21, 32, 40, 1, 3]\n"
     ]
    }
   ],
   "source": [
    "l=[1, 3, 5, 11, 17, 21,32,40]\n",
    "l1=l.copy()\n",
    "x=len(l);\n",
    "n=int(input())     \n",
    "for i in  range(x):\n",
    "  a=(i-n)%x   \n",
    "  l[a]=l1[i]\n",
    "print(l)"
   ]
  },
  {
   "cell_type": "markdown",
   "id": "36fd37b2-6d34-492c-ab6f-c02a2c63408d",
   "metadata": {},
   "source": [
    "# 32. Rotate a list to the right by `n` positions."
   ]
  },
  {
   "cell_type": "code",
   "execution_count": 47,
   "id": "440b17c5-174a-43a9-90f2-6577a0e59d62",
   "metadata": {},
   "outputs": [
    {
     "name": "stdin",
     "output_type": "stream",
     "text": [
      " 4\n"
     ]
    },
    {
     "name": "stdout",
     "output_type": "stream",
     "text": [
      "[17, 21, 32, 40, 1, 3, 5, 11]\n"
     ]
    }
   ],
   "source": [
    "l=[1, 3, 5, 11, 17, 21,32,40]\n",
    "l1=l.copy()\n",
    "x=len(l);\n",
    "n=int(input())\n",
    "for i in  range(x):\n",
    "  a=(i+n)%x\n",
    "  l[a]=l1[i]\n",
    "print(l)"
   ]
  },
  {
   "cell_type": "markdown",
   "id": "4e440434-32cd-4606-9243-b75a1d5e0319",
   "metadata": {},
   "source": [
    "# 33. Create a list of prime numbers up to 50."
   ]
  },
  {
   "cell_type": "code",
   "execution_count": 48,
   "id": "c91bea22-2802-49f3-8936-041031094c76",
   "metadata": {},
   "outputs": [
    {
     "name": "stdout",
     "output_type": "stream",
     "text": [
      "[2, 3, 5, 7, 11, 13, 17, 19, 23, 29, 31, 37, 41, 43, 47]\n"
     ]
    }
   ],
   "source": [
    "l=[]\n",
    "for i in range(2,51):\n",
    "  for j in range(2,i):\n",
    "    if i%j==0:\n",
    "      break\n",
    "  else:\n",
    "    l.append(i)\n",
    "print(l)"
   ]
  },
  {
   "cell_type": "markdown",
   "id": "ba6d02b9-1a8a-45eb-9f85-0b07926b0bcd",
   "metadata": {},
   "source": [
    "# 34. Split a list into chunks of size `n`."
   ]
  },
  {
   "cell_type": "code",
   "execution_count": 25,
   "id": "0846389f-b1c7-4c4f-a0f3-61e4d77d6e27",
   "metadata": {},
   "outputs": [
    {
     "name": "stdin",
     "output_type": "stream",
     "text": [
      "enter size of ecah chunk 3\n"
     ]
    },
    {
     "name": "stdout",
     "output_type": "stream",
     "text": [
      "[[1, 2, 3], [4, 5, 6], [7, 8]]\n"
     ]
    }
   ],
   "source": [
    "l=[1,2,3,4,5,6,7,8]\n",
    "n=int(input(\"enter size of ecah chunk\"))\n",
    "l1=[]\n",
    "for i in range(0,len(l),n):\n",
    "    l1.append(l[i:i+n])\n",
    "print(l1)"
   ]
  },
  {
   "cell_type": "markdown",
   "id": "efd21b3d-4b3f-44e7-ac17-b11d25fcddf1",
   "metadata": {},
   "source": [
    "# 35. Find the second largest number in a list."
   ]
  },
  {
   "cell_type": "code",
   "execution_count": 103,
   "id": "941bf4c5-319c-4003-9134-0779bbf2e8d2",
   "metadata": {},
   "outputs": [
    {
     "name": "stdin",
     "output_type": "stream",
     "text": [
      "Enter the no of elements in the string 7\n",
      " -10\n",
      " 20\n",
      " 10\n",
      " 3\n",
      " -30\n",
      " 25\n",
      " 76\n"
     ]
    },
    {
     "name": "stdout",
     "output_type": "stream",
     "text": [
      "Second largest = 25\n"
     ]
    }
   ],
   "source": [
    " n=int(input(\"Enter the no of elements in the string\"))\n",
    "l=[int(input()) for i  in range(n)]\n",
    "lar=l[0]\n",
    "x=0\n",
    "for i in l:\n",
    "  if i >=lar:\n",
    "    lar=i\n",
    "    x=l.index(i)\n",
    "lar=l[0]\n",
    "if x==0:\n",
    "    lar=l[1]\n",
    "else:\n",
    "    lar=l[x-1]\n",
    "for i in l:\n",
    "  if l.index(i)==x:\n",
    "    continue\n",
    "  if i>lar:\n",
    "    lar=i\n",
    "print('Second largest =',lar)\n"
   ]
  },
  {
   "cell_type": "markdown",
   "id": "23506c7a-6da6-48a9-84d6-c9255e4b06ae",
   "metadata": {},
   "source": [
    "# 36. Replace every element in a list with its square."
   ]
  },
  {
   "cell_type": "code",
   "execution_count": 71,
   "id": "78d59fa5-a2f4-43aa-9c51-14c2fb13e7be",
   "metadata": {},
   "outputs": [
    {
     "name": "stdin",
     "output_type": "stream",
     "text": [
      "Enter the no of elements in the string 5\n",
      " -7\n",
      " 5\n",
      " -3\n",
      " -2\n",
      " 10\n"
     ]
    },
    {
     "name": "stdout",
     "output_type": "stream",
     "text": [
      "[49, 25, 9, 4, 100]\n"
     ]
    }
   ],
   "source": [
    "n=int(input(\"Enter the no of elements in the string\"))\n",
    "l=[int(input()) for i  in range(n)]\n",
    "for i in l:\n",
    "  l[l.index(i)]=i**2\n",
    "print(l)"
   ]
  },
  {
   "cell_type": "markdown",
   "id": "65481d28-4e40-4bb0-a6b2-3b6d71c29f76",
   "metadata": {},
   "source": [
    "# 37. Convert a list to a dictionary where list elements become keys and their indices become values."
   ]
  },
  {
   "cell_type": "code",
   "execution_count": 73,
   "id": "6eb48b22-4e12-4632-92d6-7f02cfd01edd",
   "metadata": {},
   "outputs": [
    {
     "name": "stdin",
     "output_type": "stream",
     "text": [
      "Enter the no of elements in the string 6\n",
      " b\n",
      " t\n",
      " 45\n",
      " r\n",
      " t6\n",
      " $\n"
     ]
    },
    {
     "name": "stdout",
     "output_type": "stream",
     "text": [
      "{'b': 0, 't': 1, '45': 2, 'r': 3, 't6': 4, '$': 5}\n"
     ]
    }
   ],
   "source": [
    "n=int(input(\"Enter the no of elements in the string\"))\n",
    "l=[(input()) for i  in range(n)]\n",
    "d={}\n",
    "for i in l:\n",
    "  d[i]=l.index(i)\n",
    "print(d)\n"
   ]
  },
  {
   "cell_type": "markdown",
   "id": "a790b7c3-6e8c-40b9-8336-61d84e826592",
   "metadata": {},
   "source": [
    "# 38. Shuffle the elements of a list randomly."
   ]
  },
  {
   "cell_type": "code",
   "execution_count": 37,
   "id": "e0b356f0-755b-4cf7-8623-9ae0da0f90fa",
   "metadata": {},
   "outputs": [
    {
     "name": "stdout",
     "output_type": "stream",
     "text": [
      "[8, 1, 7, 9, 2, 4, 5, 6, 3, 8, 6]\n"
     ]
    }
   ],
   "source": [
    "import random\n",
    "l=[1,2,3,4,5,6,7,8,9,8,6]\n",
    "random.shuffle(l)\n",
    "print(l)\n"
   ]
  },
  {
   "cell_type": "markdown",
   "id": "9c1564cb-436c-4de8-b061-97c9ad4f8730",
   "metadata": {},
   "source": [
    "# 39. Create a list of the first 10 factorial numbers."
   ]
  },
  {
   "cell_type": "code",
   "execution_count": 74,
   "id": "b285787f-5d9d-47d2-b3a9-70859e91dd8e",
   "metadata": {},
   "outputs": [
    {
     "name": "stdout",
     "output_type": "stream",
     "text": [
      "[1, 2, 6, 24, 120, 720, 5040, 40320, 362880, 3628800]\n"
     ]
    }
   ],
   "source": [
    "l=[]\n",
    "\n",
    "for i in range(1,11):\n",
    "  a=1\n",
    "  for j in range(1,i+1):\n",
    "    a=a*j\n",
    "  l.append(a)\n",
    "print(l)"
   ]
  },
  {
   "cell_type": "markdown",
   "id": "f899f3c8-6c3c-47f1-8f1c-192de53b3738",
   "metadata": {},
   "source": [
    "# 40. Check if two lists have at least one element in common."
   ]
  },
  {
   "cell_type": "code",
   "execution_count": 79,
   "id": "7d471c58-f92b-41ce-a23f-ab14b6211fc3",
   "metadata": {},
   "outputs": [
    {
     "name": "stdout",
     "output_type": "stream",
     "text": [
      "Common element found\n",
      "[3]\n"
     ]
    }
   ],
   "source": [
    "l1=[1,2,4,5,'b',3]\n",
    "l2=['a',3,'a','e']\n",
    "l3=[]\n",
    "for i in l1:\n",
    "  for j in l2:\n",
    "    if str(j)==str(i):\n",
    "      l3.append(j)\n",
    "if len(l3)==0:\n",
    "  print(\"No common element found\")\n",
    "else:\n",
    "  print(\"Common element found\")\n",
    "  print(list(set(l3)))"
   ]
  },
  {
   "cell_type": "markdown",
   "id": "5ad63362-ca2b-41d2-b508-ccca55c5f729",
   "metadata": {},
   "source": [
    "# 41. Remove all elements from a list."
   ]
  },
  {
   "cell_type": "code",
   "execution_count": 81,
   "id": "a6c3c622-06e0-4c5b-9521-a4d0f4506bcd",
   "metadata": {},
   "outputs": [
    {
     "name": "stdout",
     "output_type": "stream",
     "text": [
      "[]\n"
     ]
    },
    {
     "data": {
      "text/plain": [
       "[]"
      ]
     },
     "execution_count": 81,
     "metadata": {},
     "output_type": "execute_result"
    }
   ],
   "source": [
    "l1=[1,1,2,3,4,5,'a','b']\n",
    "l2=l1.copy()\n",
    "for i in l2:\n",
    "  l1.remove(i)\n",
    "print(l1)\n",
    "\n",
    "l1=[1,2,3,4,5,'a','b']\n",
    "l1.clear()\n",
    "l1"
   ]
  },
  {
   "cell_type": "markdown",
   "id": "73ad14c6-b818-46d7-8a9e-d93fe04a55c8",
   "metadata": {},
   "source": [
    "# 42. Replace negative numbers in a list with 0."
   ]
  },
  {
   "cell_type": "code",
   "execution_count": 82,
   "id": "a42f3d94-169b-4199-9496-be3bb9bedc1c",
   "metadata": {},
   "outputs": [
    {
     "name": "stdin",
     "output_type": "stream",
     "text": [
      "Enter the no of elements in the string 6\n",
      " 10\n",
      " -2\n",
      " -3\n",
      " 5\n",
      " 65\n",
      " -21\n"
     ]
    },
    {
     "name": "stdout",
     "output_type": "stream",
     "text": [
      "[10, 0, 0, 5, 65, 0]\n"
     ]
    }
   ],
   "source": [
    "n=int(input(\"Enter the no of elements in the string\"))\n",
    "l=[int(input()) for i  in range(n)]\n",
    "for i in l:\n",
    "  if i<=0:\n",
    "    l[l.index(i)]=0\n",
    "print(l)"
   ]
  },
  {
   "cell_type": "markdown",
   "id": "0a4f3805-47c9-433a-b7c6-ea1d31cfb04d",
   "metadata": {},
   "source": [
    "# 43. Convert a string into a list of words."
   ]
  },
  {
   "cell_type": "code",
   "execution_count": 15,
   "id": "7e3a90ac-8a95-48d9-8438-24a977ce66e1",
   "metadata": {},
   "outputs": [
    {
     "name": "stdin",
     "output_type": "stream",
     "text": [
      "Enter a string hi there . is my s...65 ft iar\n"
     ]
    },
    {
     "data": {
      "text/plain": [
       "['hi', 'there', 'is', 'my', 's', 'ft', 'iar']"
      ]
     },
     "execution_count": 15,
     "metadata": {},
     "output_type": "execute_result"
    }
   ],
   "source": [
    "s=input(\"Enter a string\")\n",
    "for i in s:\n",
    "  if i in '!@#$%^&*()_+=-0987654321~`{}[]:\";<>,./?\\|\\|':\n",
    "    s=s.replace(i,'')\n",
    "s_l=s.split()\n",
    "s_l"
   ]
  },
  {
   "cell_type": "markdown",
   "id": "2ac8dbfd-24a4-4ae2-ae8f-58ef43d20217",
   "metadata": {},
   "source": [
    "# 44. Convert a list of words into a string."
   ]
  },
  {
   "cell_type": "code",
   "execution_count": 84,
   "id": "5e5b17c7-510d-4c34-9bca-ff716674160b",
   "metadata": {},
   "outputs": [
    {
     "name": "stdin",
     "output_type": "stream",
     "text": [
      " 7\n",
      "Enter the list of words today \n",
      "Enter the list of words is \n",
      "Enter the list of words my\n",
      "Enter the list of words birthday\n",
      "Enter the list of words !wish \n",
      "Enter the list of words me today for \n",
      "Enter the list of words birthday???7$%# $@@45 (\n"
     ]
    },
    {
     "name": "stdout",
     "output_type": "stream",
     "text": [
      "today  is  my birthday !wish  me today for  birthday???7$%# $@@45 (\n"
     ]
    }
   ],
   "source": [
    "n=int(input())\n",
    "s=[input(\"Enter the list of words\")for i in range(n)]\n",
    "s_s=''\n",
    "for i in s:\n",
    "  if s.index(i)==0:\n",
    "    s_s+=i\n",
    "  else:\n",
    "    s_s=s_s+' '+i\n",
    "print(s_s)\n"
   ]
  },
  {
   "cell_type": "markdown",
   "id": "7052ada5-7750-4ba5-83b3-36ec30d86883",
   "metadata": {},
   "source": [
    "# 45. Create a list of the first `n` powers of 2."
   ]
  },
  {
   "cell_type": "code",
   "execution_count": 85,
   "id": "f98eb46d-64ed-4db4-9d9d-9c5bd72d8f8f",
   "metadata": {},
   "outputs": [
    {
     "name": "stdin",
     "output_type": "stream",
     "text": [
      "Enter a number 7\n"
     ]
    },
    {
     "data": {
      "text/plain": [
       "[1, 2, 4, 8, 16, 32, 64, 128]"
      ]
     },
     "execution_count": 85,
     "metadata": {},
     "output_type": "execute_result"
    }
   ],
   "source": [
    "n=int(input(\"Enter a number\"))\n",
    "l=[2**i for i in range(n+1) ]\n",
    "l"
   ]
  },
  {
   "cell_type": "markdown",
   "id": "79c90258-b326-4050-aa63-91b3a5b99702",
   "metadata": {},
   "source": [
    "# 46. Find the longest string in a list of strings."
   ]
  },
  {
   "cell_type": "code",
   "execution_count": 86,
   "id": "93e80e4f-bd75-4d4e-a33d-7eaf17a20edf",
   "metadata": {},
   "outputs": [
    {
     "name": "stdin",
     "output_type": "stream",
     "text": [
      " 6\n",
      "Enter the list of words strength\n",
      "Enter the list of words body\n",
      "Enter the list of words imminent\n",
      "Enter the list of words danger\n",
      "Enter the list of words prejudiced\n",
      "Enter the list of words repent\n"
     ]
    },
    {
     "name": "stdout",
     "output_type": "stream",
     "text": [
      "prejudiced\n"
     ]
    }
   ],
   "source": [
    "n=int(input())\n",
    "s=[input(\"Enter the list of words\")for i in range(n)]\n",
    "l=len(s[0])\n",
    "for i in s:\n",
    "  c=0\n",
    "  for j in i:\n",
    "    c+=1\n",
    "  if c>l:\n",
    "    l=c\n",
    "    lar=i\n",
    "print(lar)"
   ]
  },
  {
   "cell_type": "markdown",
   "id": "53ffdfcd-4110-48ac-a5fa-f54864bb48c7",
   "metadata": {},
   "source": [
    "# 47. Find the shortest string in a list of strings."
   ]
  },
  {
   "cell_type": "code",
   "execution_count": 88,
   "id": "860f4bad-e257-4523-81ce-860b5de0497d",
   "metadata": {},
   "outputs": [
    {
     "name": "stdin",
     "output_type": "stream",
     "text": [
      " 6\n",
      "Enter the list of words immaculate\n",
      "Enter the list of words imminent\n",
      "Enter the list of words retrospective\n",
      "Enter the list of words retribution\n",
      "Enter the list of words prominent\n",
      "Enter the list of words tanquility\n"
     ]
    },
    {
     "name": "stdout",
     "output_type": "stream",
     "text": [
      "imminent\n"
     ]
    }
   ],
   "source": [
    "n=int(input())\n",
    "s=[input(\"Enter the list of words\")for i in range(n)]\n",
    "l=len(s[0])\n",
    "for i in s:\n",
    "  c=0\n",
    "  for j in i:\n",
    "    c+=1\n",
    "  if c<l:\n",
    "    l=c\n",
    "    sml=i\n",
    "print(sml)"
   ]
  },
  {
   "cell_type": "markdown",
   "id": "3945488d-09b7-42ba-9b05-b1dac9a2606a",
   "metadata": {},
   "source": [
    "# 48. Create a list of the first `n` triangular numbers."
   ]
  },
  {
   "cell_type": "code",
   "execution_count": 39,
   "id": "9bbc6bd8-ff76-41c6-a67f-d17349a9d297",
   "metadata": {},
   "outputs": [
    {
     "name": "stdin",
     "output_type": "stream",
     "text": [
      "Enter a Number 7\n"
     ]
    },
    {
     "data": {
      "text/plain": [
       "[1, 3, 6, 10, 15, 21, 28]"
      ]
     },
     "execution_count": 39,
     "metadata": {},
     "output_type": "execute_result"
    }
   ],
   "source": [
    "n=int(input(\"Enter a Number\"))\n",
    "l=[int(i*(i+1)/2) for i in range(1,n+1)]\n",
    "l"
   ]
  },
  {
   "cell_type": "markdown",
   "id": "e53a5528-87fc-46ad-bdfa-7cf9422d552d",
   "metadata": {},
   "source": [
    "# 49. Check if a list contains another list as a subsequence."
   ]
  },
  {
   "cell_type": "code",
   "execution_count": 44,
   "id": "0e9732c5-5153-4bf9-bae2-5e8373da183d",
   "metadata": {},
   "outputs": [
    {
     "name": "stdout",
     "output_type": "stream",
     "text": [
      "False\n"
     ]
    }
   ],
   "source": [
    "l=[1,2,3,4,5,6,7,8]\n",
    "s=[3,4,10]\n",
    "s_ix=0\n",
    "for i in l:\n",
    "    if i==s[s_ix]:\n",
    "        s_ix+=1\n",
    "        if s_ix==len(s):\n",
    "             print(True)\n",
    "             break\n",
    "else:\n",
    "    print(False)\n"
   ]
  },
  {
   "cell_type": "markdown",
   "id": "411c3d36-dbb0-4839-9423-a7b3ac37fad7",
   "metadata": {},
   "source": [
    "# 50. Swap two elements in a list by their indices."
   ]
  },
  {
   "cell_type": "code",
   "execution_count": 90,
   "id": "4b13d446-6742-41c6-aa1b-903ae1b44ebc",
   "metadata": {},
   "outputs": [
    {
     "name": "stdout",
     "output_type": "stream",
     "text": [
      "[2, 3, 5, 37, 11, 13, 17, 19, 23, 29, 31, 7, 41, 43, 47]\n"
     ]
    }
   ],
   "source": [
    "l=[2, 3, 5, 7, 11, 13, 17, 19, 23, 29, 31, 37, 41, 43, 47]\n",
    "def swap(l,x,y):\n",
    "  l[x],l[y]=l[y],l[x]\n",
    "  print(l)\n",
    "swap(l,3,11)"
   ]
  },
  {
   "cell_type": "code",
   "execution_count": null,
   "id": "715f792d-6e9b-4324-afd7-ff4cd7cceaee",
   "metadata": {},
   "outputs": [],
   "source": []
  },
  {
   "cell_type": "code",
   "execution_count": null,
   "id": "d1e8715f-80ce-4142-9312-56278bbdc9b3",
   "metadata": {},
   "outputs": [],
   "source": []
  },
  {
   "cell_type": "code",
   "execution_count": null,
   "id": "548cd94d-c6cd-4e8a-bcec-f98e64bdbf5b",
   "metadata": {},
   "outputs": [],
   "source": []
  },
  {
   "cell_type": "markdown",
   "id": "7c6c35ba-4d6b-4afd-a9a0-7099319202bc",
   "metadata": {},
   "source": [
    "# Tuple"
   ]
  },
  {
   "cell_type": "markdown",
   "id": "b79291a2-31ca-44cd-813d-ca177a966a22",
   "metadata": {},
   "source": [
    "# 1. Create a tuple with integers from 1 to 5."
   ]
  },
  {
   "cell_type": "code",
   "execution_count": 2,
   "id": "6285efb2-5aa5-497d-9201-9db1f18958cf",
   "metadata": {},
   "outputs": [
    {
     "name": "stdout",
     "output_type": "stream",
     "text": [
      "(1, 2, 3, 4, 5)\n"
     ]
    }
   ],
   "source": [
    "t=(1,2,3,4,5)\n",
    "print(t)"
   ]
  },
  {
   "cell_type": "markdown",
   "id": "14a950bc-3949-4262-a399-c032c4c16142",
   "metadata": {},
   "source": [
    "# 2. Access the third element of a tuple."
   ]
  },
  {
   "cell_type": "code",
   "execution_count": 4,
   "id": "d9cafddc-123a-40b5-bece-88503a19e360",
   "metadata": {},
   "outputs": [
    {
     "name": "stdout",
     "output_type": "stream",
     "text": [
      "Third element = 3\n"
     ]
    }
   ],
   "source": [
    "t=(1,2,3,4,5)\n",
    "print('Third element =',t[2])"
   ]
  },
  {
   "cell_type": "markdown",
   "id": "daa2517e-3eda-49e8-b823-ddd0b4fc8c87",
   "metadata": {},
   "source": [
    "# 3. Find the length of a tuple without using the `len()` function."
   ]
  },
  {
   "cell_type": "code",
   "execution_count": 5,
   "id": "67d9328b-b632-4b00-ad35-dcfc6446bf28",
   "metadata": {},
   "outputs": [
    {
     "name": "stdout",
     "output_type": "stream",
     "text": [
      "Length of tuple= 5\n"
     ]
    }
   ],
   "source": [
    "t=(1,2,3,4,5)\n",
    "c=0\n",
    "for i in t:\n",
    "    c+=1\n",
    "print(\"Length of tuple=\",c)"
   ]
  },
  {
   "cell_type": "markdown",
   "id": "22c1b0d0-c930-4f08-baa1-a02935860569",
   "metadata": {},
   "source": [
    "# 4. Count the occurrences of an element in a tuple."
   ]
  },
  {
   "cell_type": "code",
   "execution_count": 7,
   "id": "0a5f5c7b-8b81-462e-a849-26b1bd822015",
   "metadata": {},
   "outputs": [
    {
     "name": "stdout",
     "output_type": "stream",
     "text": [
      "dict_items([(1, 2), (2, 2), (3, 2), (4, 1), (5, 1), ('a', 2), ('b', 1)])\n"
     ]
    }
   ],
   "source": [
    "t=(1,2,3,4,5,1,2,3,'a','b','a')\n",
    "d={}\n",
    "for i in t:\n",
    "    if i in d:\n",
    "        d[i]+=1\n",
    "    else:\n",
    "        d[i]=1\n",
    "print(d.items())\n",
    "   "
   ]
  },
  {
   "cell_type": "markdown",
   "id": "3db00c2e-caed-4195-84da-6c2c8a2b480d",
   "metadata": {},
   "source": [
    "# 5. Find the index of the first occurrence of an element in a tuple."
   ]
  },
  {
   "cell_type": "code",
   "execution_count": 9,
   "id": "97762f8c-a430-41be-ae0d-b3fe47a5fda9",
   "metadata": {},
   "outputs": [
    {
     "name": "stdout",
     "output_type": "stream",
     "text": [
      "8\n"
     ]
    }
   ],
   "source": [
    "t=(1,2,3,4,5,1,2,3,'a','b','a')\n",
    "l=list(t)\n",
    "i=l.index('a')\n",
    "print(i)"
   ]
  },
  {
   "cell_type": "markdown",
   "id": "0323a9fc-418c-49b5-b68b-4e9b3097972c",
   "metadata": {},
   "source": [
    "# 6. Check if an element exists in a tuple."
   ]
  },
  {
   "cell_type": "code",
   "execution_count": 12,
   "id": "9cd12d5d-fe9d-41c0-94b9-56eecc6e7d5e",
   "metadata": {},
   "outputs": [
    {
     "name": "stdin",
     "output_type": "stream",
     "text": [
      "Enter the element to search c\n"
     ]
    },
    {
     "name": "stdout",
     "output_type": "stream",
     "text": [
      "element not found\n"
     ]
    }
   ],
   "source": [
    "t=(1,2,3,4,5,1,2,3,'a','b','a')\n",
    "i=input('Enter the element to search')\n",
    "l=list(t)\n",
    "for j in l:\n",
    "    if i==str(j):\n",
    "        print(\"element found\")\n",
    "        break\n",
    "else:\n",
    "    print(\"element not found\")"
   ]
  },
  {
   "cell_type": "markdown",
   "id": "68bc09e0-faeb-4af4-b36b-43506477619c",
   "metadata": {},
   "source": [
    "# 7. Convert a tuple to a list."
   ]
  },
  {
   "cell_type": "code",
   "execution_count": 13,
   "id": "c9ed4a3a-2bc9-4097-ab1e-82d9af4825a5",
   "metadata": {},
   "outputs": [
    {
     "name": "stdout",
     "output_type": "stream",
     "text": [
      "[1, 2, 3, 4, 5, 1, 2, 3, 'a', 'b', 'a']\n"
     ]
    }
   ],
   "source": [
    "t=(1,2,3,4,5,1,2,3,'a','b','a')\n",
    "l=list(t)\n",
    "print(l)"
   ]
  },
  {
   "cell_type": "markdown",
   "id": "f59d2a0a-96f3-43a1-b203-2a8386012888",
   "metadata": {},
   "source": [
    "# 8. Convert a list to a tuple."
   ]
  },
  {
   "cell_type": "code",
   "execution_count": 14,
   "id": "de0bd747-6a84-4dee-952d-cd9b6e317f9c",
   "metadata": {},
   "outputs": [
    {
     "name": "stdout",
     "output_type": "stream",
     "text": [
      "(1, 2, 3, 4, 5, 1, 2, 3, 'a', 'b', 'a')\n"
     ]
    }
   ],
   "source": [
    "l=[1, 2, 3, 4, 5, 1, 2, 3, 'a', 'b', 'a']\n",
    "t=tuple(l)\n",
    "print(t)"
   ]
  },
  {
   "cell_type": "markdown",
   "id": "0275072d-13ec-46e1-8e28-4b0ae84d6660",
   "metadata": {},
   "source": [
    "# 9. Unpack the elements of a tuple into variables."
   ]
  },
  {
   "cell_type": "code",
   "execution_count": 15,
   "id": "92a22af6-f25a-4328-99c7-6b8ca41a034a",
   "metadata": {},
   "outputs": [
    {
     "name": "stdout",
     "output_type": "stream",
     "text": [
      "1 2 3\n"
     ]
    }
   ],
   "source": [
    "t=(1,2,3)\n",
    "v1,v2,v3=t\n",
    "print(v1,v2,v3)"
   ]
  },
  {
   "cell_type": "markdown",
   "id": "4c672c5a-9003-409c-a59a-ec509c0e2777",
   "metadata": {},
   "source": [
    "# 10. Create a tuple of even numbers from 1 to 10."
   ]
  },
  {
   "cell_type": "code",
   "execution_count": 17,
   "id": "cfc12b79-2d50-4c3e-8481-27b5b729e524",
   "metadata": {},
   "outputs": [
    {
     "name": "stdout",
     "output_type": "stream",
     "text": [
      "(2, 4, 6, 8, 10)\n"
     ]
    }
   ],
   "source": [
    "l=[x for x in range(1,11) if x%2==0]\n",
    "t=tuple(l)\n",
    "print(t)"
   ]
  },
  {
   "cell_type": "markdown",
   "id": "23417077-bb3d-4ff1-a80d-d429bdc0fc15",
   "metadata": {},
   "source": [
    "# 11. Create a tuple of odd numbers from 1 to 10."
   ]
  },
  {
   "cell_type": "code",
   "execution_count": 18,
   "id": "f7834e43-1426-46de-89dd-3921dae6b2ba",
   "metadata": {},
   "outputs": [
    {
     "name": "stdout",
     "output_type": "stream",
     "text": [
      "(1, 3, 5, 7, 9)\n"
     ]
    }
   ],
   "source": [
    "l=[x for x in range(1,11) if x%2!=0]\n",
    "t=tuple(l)\n",
    "print(t)"
   ]
  },
  {
   "cell_type": "markdown",
   "id": "a73c9a11-1154-438a-8664-66d721aabd6a",
   "metadata": {},
   "source": [
    "# 12. Concatenate two tuples."
   ]
  },
  {
   "cell_type": "code",
   "execution_count": 23,
   "id": "9cd903c9-454a-4547-b02c-489a841173b3",
   "metadata": {},
   "outputs": [
    {
     "name": "stdout",
     "output_type": "stream",
     "text": [
      "(1, 2, 3, 4, 5, 3, 4, 5, 6, 7, 8, 9)\n",
      "(1, 2, 3, 4, 5, 3, 4, 5, 6, 7, 8, 9)\n"
     ]
    }
   ],
   "source": [
    "t1=(1,2,3,4,5)\n",
    "t2=(3,4,5,6,7,8,9)\n",
    "l1=list(t1)\n",
    "l2=list(t2)\n",
    "(l1.extend(l2))\n",
    "t3=tuple(l1)\n",
    "print(t3)\n",
    "\n",
    "t1=(1,2,3,4,5)\n",
    "t2=(3,4,5,6,7,8,9)\n",
    "t3=t1+t2\n",
    "print(t3)\n",
    "\n"
   ]
  },
  {
   "cell_type": "markdown",
   "id": "b2a2c751-0b9b-4949-8c2d-4aad3673653d",
   "metadata": {},
   "source": [
    "# 13. Repeat a tuple three times"
   ]
  },
  {
   "cell_type": "code",
   "execution_count": 24,
   "id": "468e0387-12d0-46d4-a30f-de412aeb915e",
   "metadata": {},
   "outputs": [
    {
     "name": "stdout",
     "output_type": "stream",
     "text": [
      "(1, 2, 3, 4, 5, 1, 2, 3, 4, 5, 1, 2, 3, 4, 5)\n"
     ]
    }
   ],
   "source": [
    "t1=(1,2,3,4,5)\n",
    "t2=3*t1\n",
    "print(t2)"
   ]
  },
  {
   "cell_type": "markdown",
   "id": "536a3603-62ab-4a1a-af26-10544afc9744",
   "metadata": {},
   "source": [
    "# 14. Check if a tuple is empty.|"
   ]
  },
  {
   "cell_type": "code",
   "execution_count": 46,
   "id": "1db70a1d-f70d-413f-ae87-2a809e40d7ff",
   "metadata": {},
   "outputs": [
    {
     "name": "stdout",
     "output_type": "stream",
     "text": [
      "Not Empty\n",
      "Empty\n"
     ]
    }
   ],
   "source": [
    "t1=(1,2,3,4,5)\n",
    "t2=()\n",
    "def is_empty(t):\n",
    "    if len(t)==0:\n",
    "        print(\"Empty\")\n",
    "    else:\n",
    "        print(\"Not Empty\")\n",
    "is_empty(t1)\n",
    "is_empty(t2)"
   ]
  },
  {
   "cell_type": "markdown",
   "id": "ba70f8e9-e8ba-4c8e-b780-988d5acb58c0",
   "metadata": {},
   "source": [
    "# 15. Create a nested tuple."
   ]
  },
  {
   "cell_type": "code",
   "execution_count": 28,
   "id": "b3f1f1cc-5b01-4937-9418-d485e9f11bb1",
   "metadata": {},
   "outputs": [
    {
     "data": {
      "text/plain": [
       "((1, 2, 3), (4, 5, 6), (7, 8, 9))"
      ]
     },
     "execution_count": 28,
     "metadata": {},
     "output_type": "execute_result"
    }
   ],
   "source": [
    "t=((1,2,3),(4,5,6),(7,8,9))\n",
    "t"
   ]
  },
  {
   "cell_type": "markdown",
   "id": "2393dc33-6f7d-4576-a155-b92e9acab854",
   "metadata": {},
   "source": [
    "# 16. Access the first element of a nested tuple."
   ]
  },
  {
   "cell_type": "code",
   "execution_count": 31,
   "id": "c3af7e45-471f-4032-8102-c8e7fa844f01",
   "metadata": {},
   "outputs": [
    {
     "data": {
      "text/plain": [
       "1"
      ]
     },
     "execution_count": 31,
     "metadata": {},
     "output_type": "execute_result"
    }
   ],
   "source": [
    "t=((1,2,3),(4,5,6),(7,8,9))\n",
    "t[0][0]"
   ]
  },
  {
   "cell_type": "markdown",
   "id": "6ada37eb-8f5d-4944-a876-883389f6e87c",
   "metadata": {},
   "source": [
    "# 17. Create a tuple with a single element."
   ]
  },
  {
   "cell_type": "code",
   "execution_count": 36,
   "id": "0781d985-49cc-4661-8488-3f0ae6946ae8",
   "metadata": {},
   "outputs": [
    {
     "name": "stdin",
     "output_type": "stream",
     "text": [
      "enter a number -10\n"
     ]
    },
    {
     "name": "stdout",
     "output_type": "stream",
     "text": [
      "-10\n"
     ]
    }
   ],
   "source": [
    "i=int(input('enter a number'))\n",
    "t=(i)\n",
    "print(t)\n"
   ]
  },
  {
   "cell_type": "markdown",
   "id": "9b12c274-5ecc-4672-87fb-1c3b85573637",
   "metadata": {},
   "source": [
    "# 18. Compare two tuples."
   ]
  },
  {
   "cell_type": "code",
   "execution_count": 40,
   "id": "4b5c4eab-9b2d-4a30-bc1c-53229a4f81b8",
   "metadata": {},
   "outputs": [
    {
     "name": "stdout",
     "output_type": "stream",
     "text": [
      "tuple1 == tuple2: False\n",
      "tuple1 != tuple2: True\n",
      "tuple1 < tuple2: True\n",
      "tuple1 <= tuple2: True\n",
      "tuple1 > tuple2: False\n",
      "tuple1 >= tuple2: False\n"
     ]
    }
   ],
   "source": [
    "t1=(1,2,3,4,5)\n",
    "t2=(3,4,5,6,7)\n",
    "print(\"tuple1 == tuple2:\", t1 == t2)  # Equality check\n",
    "print(\"tuple1 != tuple2:\", t1 != t2)  # Inequality check\n",
    "print(\"tuple1 < tuple2:\", t1 < t2)    # Less than check\n",
    "print(\"tuple1 <= tuple2:\", t1 <= t2)  # Less than or equal to check\n",
    "print(\"tuple1 > tuple2:\", t1 > t2)    # Greater than check\n",
    "print(\"tuple1 >= tuple2:\", t1 >= t2)  # Greater than or equal to check\n",
    "\n"
   ]
  },
  {
   "cell_type": "markdown",
   "id": "964dea0b-f39a-46c5-a733-7623ed1c603b",
   "metadata": {},
   "source": [
    "# 19. Delete a tuple."
   ]
  },
  {
   "cell_type": "code",
   "execution_count": 47,
   "id": "13c57e52-3c95-4869-9779-2cf1e2855acc",
   "metadata": {},
   "outputs": [
    {
     "ename": "NameError",
     "evalue": "name 't1' is not defined",
     "output_type": "error",
     "traceback": [
      "\u001b[0;31m---------------------------------------------------------------------------\u001b[0m",
      "\u001b[0;31mNameError\u001b[0m                                 Traceback (most recent call last)",
      "Cell \u001b[0;32mIn[47], line 3\u001b[0m\n\u001b[1;32m      1\u001b[0m t1\u001b[38;5;241m=\u001b[39m(\u001b[38;5;241m1\u001b[39m,\u001b[38;5;241m2\u001b[39m,\u001b[38;5;241m3\u001b[39m,\u001b[38;5;241m4\u001b[39m,\u001b[38;5;241m5\u001b[39m)\n\u001b[1;32m      2\u001b[0m \u001b[38;5;28;01mdel\u001b[39;00m t1\n\u001b[0;32m----> 3\u001b[0m \u001b[38;5;28mprint\u001b[39m(\u001b[43mt1\u001b[49m)\n",
      "\u001b[0;31mNameError\u001b[0m: name 't1' is not defined"
     ]
    }
   ],
   "source": [
    "t1=(1,2,3,4,5)\n",
    "del t1\n",
    "print(t1)"
   ]
  },
  {
   "cell_type": "markdown",
   "id": "cc239027-6a3d-47ee-a838-f756e18f9ba8",
   "metadata": {},
   "source": [
    "# 20. Slice a tuple."
   ]
  },
  {
   "cell_type": "code",
   "execution_count": 46,
   "id": "11cecb67-da0a-4c95-8c6d-760b9fad1ea3",
   "metadata": {},
   "outputs": [
    {
     "name": "stdout",
     "output_type": "stream",
     "text": [
      "(1, 2, 3, 4, 5, 1, 2, 3, 'a', 'b', 'a')\n",
      "(3, 4, 5, 1, 2, 3, 'a', 'b', 'a')\n",
      "(1, 2, 3, 4, 5)\n",
      "(3, 5, 2, 'a')\n"
     ]
    }
   ],
   "source": [
    "t=(1,2,3,4,5,1,2,3,'a','b','a')\n",
    "print(t[:])\n",
    "print(t[2:])\n",
    "print(t[:5])\n",
    "print(t[2:10:2])"
   ]
  },
  {
   "cell_type": "markdown",
   "id": "2da94ba7-df4f-4092-8dd2-d731092ff0ad",
   "metadata": {},
   "source": [
    "# 21. Find the maximum value in a tuple.\n",
    "# 22. Find the minimum value in a tuple."
   ]
  },
  {
   "cell_type": "code",
   "execution_count": 48,
   "id": "1e647925-21ce-4e1d-b86d-84d18f99dbf5",
   "metadata": {},
   "outputs": [
    {
     "name": "stdout",
     "output_type": "stream",
     "text": [
      "12\n"
     ]
    }
   ],
   "source": [
    "t=(1,2,3,4,5,1,2,3,10,12,7,6,8)\n",
    "max_value=max(t)\n",
    "print(max_value)"
   ]
  },
  {
   "cell_type": "code",
   "execution_count": 50,
   "id": "0803fcf3-f82c-49c6-b358-64f90d21cc33",
   "metadata": {},
   "outputs": [
    {
     "name": "stdout",
     "output_type": "stream",
     "text": [
      "-3\n"
     ]
    }
   ],
   "source": [
    "t=(1,2,-3,4,5,1,2,3,10,12,7,6,8)\n",
    "min_v=min(t)\n",
    "print(min_v)"
   ]
  },
  {
   "cell_type": "markdown",
   "id": "86746b7f-271f-4a74-846d-942947ffa3ab",
   "metadata": {},
   "source": [
    "# 23. Convert a string to a tuple of characters.\n"
   ]
  },
  {
   "cell_type": "code",
   "execution_count": 53,
   "id": "3fe0abf7-0a2b-4b89-b9f4-e31c0d72a386",
   "metadata": {},
   "outputs": [
    {
     "name": "stdin",
     "output_type": "stream",
     "text": [
      "enter a String hi there \n"
     ]
    },
    {
     "name": "stdout",
     "output_type": "stream",
     "text": [
      "('h', 'i', ' ', 't', 'h', 'e', 'r', 'e', ' ')\n"
     ]
    }
   ],
   "source": [
    "s=input('enter a String')\n",
    "t=tuple(s)\n",
    "print(t)"
   ]
  },
  {
   "cell_type": "markdown",
   "id": "d28c9c9d-0ea7-4ac1-bdea-b2c201c91f16",
   "metadata": {},
   "source": [
    "# 24. Convert a tuple of characters to a string."
   ]
  },
  {
   "cell_type": "code",
   "execution_count": 56,
   "id": "9bae7b9b-7197-4bf1-a3f0-7514405c855d",
   "metadata": {},
   "outputs": [
    {
     "name": "stdout",
     "output_type": "stream",
     "text": [
      "hi there \n",
      "hi there \n"
     ]
    }
   ],
   "source": [
    "t=('h', 'i', ' ', 't', 'h', 'e', 'r', 'e', ' ')\n",
    "s=''\n",
    "for i in t:\n",
    "    s+=i\n",
    "print(s)\n",
    "\n",
    "s=\"\".join(t)\n",
    "print(s)"
   ]
  },
  {
   "cell_type": "markdown",
   "id": "144159ed-e289-4326-af80-6b1e3299bcff",
   "metadata": {},
   "source": [
    "# 25. Create a tuple from multiple data types"
   ]
  },
  {
   "cell_type": "code",
   "execution_count": 57,
   "id": "deb05c69-df02-410f-b15b-53be2a36b85e",
   "metadata": {},
   "outputs": [
    {
     "name": "stdout",
     "output_type": "stream",
     "text": [
      "(2, -3, 3.145, True, 'Hello')\n"
     ]
    }
   ],
   "source": [
    "t=(2,-3,3.145,True,'Hello')\n",
    "print(t)"
   ]
  },
  {
   "cell_type": "markdown",
   "id": "8c1ca5f3-4c92-454b-bc50-79491079f7ac",
   "metadata": {},
   "source": [
    "# 26. Check if two tuples are identical."
   ]
  },
  {
   "cell_type": "code",
   "execution_count": 60,
   "id": "d0fbafca-89b5-40c0-900d-bcc630d6830e",
   "metadata": {},
   "outputs": [
    {
     "name": "stdout",
     "output_type": "stream",
     "text": [
      "tuple 1 and Tuple 2 are identical\n",
      "tuple 2 and Tuple 3 are not identical\n",
      "tuple 1 and Tuple 3 are not identical\n"
     ]
    }
   ],
   "source": [
    "tuple1 = (1, 2, 3)\n",
    "tuple2 = (1, 2, 3)\n",
    "tuple3 = (4, 5, 6)\n",
    "if tuple1==tuple2:\n",
    "    print(\"tuple 1 and Tuple 2 are identical\")\n",
    "else:\n",
    "     print(\"tuple 1 and Tuple 2 not are identical\")\n",
    "if tuple2==tuple3:\n",
    "    print(\"tuple 2 and Tuple 3 are identical\")\n",
    "else:\n",
    "    print(\"tuple 2 and Tuple 3 are not identical\")\n",
    "if tuple1==tuple3:\n",
    "    print(\"tuple 1 and Tuple 3 are identical\")\n",
    "else:\n",
    "    print(\"tuple 1 and Tuple 3 are not identical\")"
   ]
  },
  {
   "cell_type": "markdown",
   "id": "be20d7e5-7edf-40ca-951f-15271a9b942d",
   "metadata": {},
   "source": [
    "# 27. Sort the elements of a tuple."
   ]
  },
  {
   "cell_type": "code",
   "execution_count": 62,
   "id": "151c670f-089f-4e08-bb9f-bae2d996788d",
   "metadata": {},
   "outputs": [
    {
     "name": "stdout",
     "output_type": "stream",
     "text": [
      "[-3, 1, 1, 2, 2, 3, 4, 5, 6, 7, 8, 10, 12]\n"
     ]
    }
   ],
   "source": [
    "t=(1,2,-3,4,5,1,2,3,10,12,7,6,8)\n",
    "print(sorted(t))"
   ]
  },
  {
   "cell_type": "markdown",
   "id": "ea6c1ea0-67a1-4b3d-93cb-50117e392e68",
   "metadata": {},
   "source": [
    "# 28. Convert a tuple of integers to a tuple of strings."
   ]
  },
  {
   "cell_type": "code",
   "execution_count": 3,
   "id": "da8d27a3-db67-4638-bc88-7912e414743f",
   "metadata": {},
   "outputs": [
    {
     "name": "stdout",
     "output_type": "stream",
     "text": [
      "('1', '2', '3', '4', '5')\n"
     ]
    }
   ],
   "source": [
    "t=(1,2,3,4,5)\n",
    "t_s=tuple((str(i) for i in t))\n",
    "print(t_s)"
   ]
  },
  {
   "cell_type": "markdown",
   "id": "c4ea1530-89b1-4ce3-b50f-396de36aca36",
   "metadata": {},
   "source": [
    "# 29. Convert a tuple of strings to a tuple of integers."
   ]
  },
  {
   "cell_type": "code",
   "execution_count": 4,
   "id": "a9f192c6-f2a4-4445-bd48-a5dd58296697",
   "metadata": {},
   "outputs": [
    {
     "name": "stdout",
     "output_type": "stream",
     "text": [
      "(10, 20, 30, 40, 50)\n"
     ]
    }
   ],
   "source": [
    "t=('10','20','30','40','50')\n",
    "t_i=tuple((int(i)for i in t))\n",
    "print(t_i)"
   ]
  },
  {
   "cell_type": "markdown",
   "id": "67c89762-eae5-4386-8b7e-3143a83d9b27",
   "metadata": {},
   "source": [
    "# 30. Merge two tuples."
   ]
  },
  {
   "cell_type": "code",
   "execution_count": 5,
   "id": "87ac32bc-1a45-40b9-a87d-9630a573ae66",
   "metadata": {},
   "outputs": [
    {
     "name": "stdout",
     "output_type": "stream",
     "text": [
      "(1, 2, 3, 4, 5, 3, 4, 5, 6, 7, 8, 9)\n"
     ]
    }
   ],
   "source": [
    "t1=(1,2,3,4,5)\n",
    "t2=(3,4,5,6,7,8,9)\n",
    "t3=t1+t2\n",
    "print(t3)\n"
   ]
  },
  {
   "cell_type": "markdown",
   "id": "8487a8e6-5cae-41d6-9011-2959b2e0b881",
   "metadata": {},
   "source": [
    "# 31. Flatten a nested tuple."
   ]
  },
  {
   "cell_type": "code",
   "execution_count": null,
   "id": "f5bf1aad-5415-4550-9d3d-ee4dda4cfa37",
   "metadata": {},
   "outputs": [
    {
     "name": "stdout",
     "output_type": "stream",
     "text": [
      "(1, 2, 3, 4, 5, 6, 'a', 'v', 'c', 'd', 'e')\n"
     ]
    }
   ],
   "source": [
    "t=((1,2,3),(4,5,6),('a','v','c','d','e'))\n",
    "l=[]\n",
    "for i in t:\n",
    "    for j in i:\n",
    "        l.append(j)\n",
    "t_f=tuple(l)\n",
    "print(t_f)"
   ]
  },
  {
   "cell_type": "markdown",
   "id": "4c98accf-0f2b-47b5-a2cd-fdf1420db0b7",
   "metadata": {},
   "source": [
    "# 32. Create a tuple of the first 5 prime numbers."
   ]
  },
  {
   "cell_type": "code",
   "execution_count": 2,
   "id": "e3e1d63e-9963-4720-b00e-e2a043e3f60f",
   "metadata": {},
   "outputs": [
    {
     "name": "stdout",
     "output_type": "stream",
     "text": [
      "[2, 3, 5, 7, 11]\n"
     ]
    }
   ],
   "source": [
    "def is_prime(num):\n",
    "    if num<=0:\n",
    "        return False\n",
    "    for i in range(2,int(num/2)+1):\n",
    "        if num%i==0:\n",
    "            return False\n",
    "    else:\n",
    "        return True\n",
    "l=[i for i in range(2,100) if is_prime(i)][:5]\n",
    "print(l)"
   ]
  },
  {
   "cell_type": "markdown",
   "id": "e432bfea-b683-4b3d-ab63-e5f5a39a4c19",
   "metadata": {},
   "source": [
    "# 33. Check if a tuple is a palindrome."
   ]
  },
  {
   "cell_type": "code",
   "execution_count": 4,
   "id": "e24a4225-bdac-4d34-81ef-99948a0bca27",
   "metadata": {},
   "outputs": [
    {
     "name": "stdout",
     "output_type": "stream",
     "text": [
      "Not a Palindrome\n"
     ]
    }
   ],
   "source": [
    "t=(1,2,'a','a',2,1,'b',3)\n",
    "l=list(t)\n",
    "if l==l[::-1]:\n",
    "    print(\"Palindrome\")\n",
    "else:\n",
    "    print(\"Not a Palindrome\")\n",
    "    "
   ]
  },
  {
   "cell_type": "markdown",
   "id": "e8f405b8-979c-4ccb-8bd7-9ee102390e2d",
   "metadata": {},
   "source": [
    "# 34. Create a tuple of squares of numbers from 1 to 5."
   ]
  },
  {
   "cell_type": "code",
   "execution_count": 6,
   "id": "6209a8b1-33b3-4847-87c7-5bb44d384a7e",
   "metadata": {},
   "outputs": [
    {
     "name": "stdout",
     "output_type": "stream",
     "text": [
      "(1, 4, 9, 16, 25)\n",
      "(1, 4, 9, 16, 25)\n"
     ]
    }
   ],
   "source": [
    "l=[i*i for i in range(1,6) ]\n",
    "t=tuple(l)\n",
    "print(t)\n",
    "\n",
    "t=tuple(i*i for i in range(1,6))\n",
    "print(t)"
   ]
  },
  {
   "cell_type": "markdown",
   "id": "60ff829c-2f11-42dd-a8c1-3b30fc5f41d3",
   "metadata": {},
   "source": [
    "# 35. Filter out all even numbers from a tuple"
   ]
  },
  {
   "cell_type": "code",
   "execution_count": 7,
   "id": "8f21118e-8c87-414e-b647-46e3776991fc",
   "metadata": {},
   "outputs": [
    {
     "name": "stdout",
     "output_type": "stream",
     "text": [
      "(2, 4, 6, 8)\n"
     ]
    }
   ],
   "source": [
    "t=(1,2,3,4,5,6,7,8,9)\n",
    "t_e=tuple(i for i in t if i%2==0)\n",
    "print(t_e)"
   ]
  },
  {
   "cell_type": "markdown",
   "id": "96539887-59c2-4f04-9f26-a5f85230cf87",
   "metadata": {},
   "source": [
    "# 36. Multiply all elements in a tuple by 2."
   ]
  },
  {
   "cell_type": "code",
   "execution_count": 9,
   "id": "febe9b46-850e-4f20-b24f-b09addbf2438",
   "metadata": {},
   "outputs": [
    {
     "name": "stdout",
     "output_type": "stream",
     "text": [
      "(2, 4, 6, 8, 10, 12, 14, 16, 18)\n"
     ]
    }
   ],
   "source": [
    "t=(1,2,3,4,5,6,7,8,9)\n",
    "t_n=tuple(i*2 for i in t)\n",
    "print(t_n)"
   ]
  },
  {
   "cell_type": "markdown",
   "id": "73189ea6-2060-4801-b027-b28458732681",
   "metadata": {},
   "source": [
    "# 37. Create a tuple of random numbers."
   ]
  },
  {
   "cell_type": "code",
   "execution_count": 13,
   "id": "d150b9b1-c630-48ec-b266-b9918e6d779e",
   "metadata": {},
   "outputs": [
    {
     "name": "stdout",
     "output_type": "stream",
     "text": [
      "(16, -23, 12, -8, 31, 8)\n"
     ]
    }
   ],
   "source": [
    "import random\n",
    "t=tuple(random.randint(-30,50) for i in range(6))\n",
    "print(t)"
   ]
  },
  {
   "cell_type": "markdown",
   "id": "f8f08992-1add-4d6d-8c28-626e1e013db7",
   "metadata": {},
   "source": [
    "# 38. Check if a tuple is sorted."
   ]
  },
  {
   "cell_type": "code",
   "execution_count": 1,
   "id": "5f6dd086-2cbf-412c-84ba-86b3a68ac8f1",
   "metadata": {},
   "outputs": [
    {
     "name": "stdout",
     "output_type": "stream",
     "text": [
      "True\n",
      "False\n"
     ]
    }
   ],
   "source": [
    "def is_sorted(t):\n",
    "    for i in range(len(t) - 1):\n",
    "        if t[i] > t[i + 1]:\n",
    "            return False\n",
    "    return True\n",
    "t1=(1,2,3,4,5,6,7,8,9)\n",
    "t2=(1,4,2,3,7,2)\n",
    "print(is_sorted(t1))\n",
    "print(is_sorted(t2))\n",
    "\n"
   ]
  },
  {
   "cell_type": "markdown",
   "id": "8185aca1-389f-46b4-915e-9cd8a18a4725",
   "metadata": {},
   "source": [
    "# 39. Rotate a tuple to the left by `n` positions."
   ]
  },
  {
   "cell_type": "code",
   "execution_count": 31,
   "id": "901232fe-b85f-4eaf-a245-6a85f9fc99b7",
   "metadata": {},
   "outputs": [
    {
     "name": "stdin",
     "output_type": "stream",
     "text": [
      "Enter n 3\n"
     ]
    },
    {
     "name": "stdout",
     "output_type": "stream",
     "text": [
      "(4, 5, 1, 2, 3)\n"
     ]
    }
   ],
   "source": [
    "t=(1,2,3,4,5)\n",
    "n=int(input(\"Enter n\"))\n",
    "n=n%len(t)\n",
    "n=len(t)-n-1\n",
    "t_n=t[-n-1:]+t[:-n-1]\n",
    "print(t_n)"
   ]
  },
  {
   "cell_type": "markdown",
   "id": "a8646b21-4cf8-417d-b85d-a9a3d35c8564",
   "metadata": {},
   "source": [
    "# 40. Rotate a tuple to the right by `n` positions."
   ]
  },
  {
   "cell_type": "code",
   "execution_count": 32,
   "id": "f1b1b8fb-90ec-4c24-9701-50ab72285409",
   "metadata": {},
   "outputs": [
    {
     "name": "stdin",
     "output_type": "stream",
     "text": [
      "Enter n 3\n"
     ]
    },
    {
     "name": "stdout",
     "output_type": "stream",
     "text": [
      "(3, 4, 5, 1, 2)\n"
     ]
    }
   ],
   "source": [
    "t=(1,2,3,4,5)\n",
    "n=int(input(\"Enter n\"))\n",
    "n=n%len(t)\n",
    "n=len(t)-n-1\n",
    "t_n=t[n+1:]+t[:n+1]\n",
    "print(t_n)"
   ]
  },
  {
   "cell_type": "markdown",
   "id": "1a50810a-1c9d-4ced-8e82-2316fc6d68e0",
   "metadata": {},
   "source": [
    "# 41. Create a tuple of the first 5 Fibonacci numbers."
   ]
  },
  {
   "cell_type": "code",
   "execution_count": 42,
   "id": "507b4faa-ea0d-42da-b02d-74b25fcbf74d",
   "metadata": {},
   "outputs": [
    {
     "name": "stdout",
     "output_type": "stream",
     "text": [
      "(1, 1, 2, 3, 5)\n"
     ]
    }
   ],
   "source": [
    "l=[1,1]\n",
    "[l.append(l[i]+l[i+1]) for i in range(3)]\n",
    "print(tuple(l))"
   ]
  },
  {
   "cell_type": "markdown",
   "id": "e785741b-5752-4f55-bd85-f7e1cdca5fe8",
   "metadata": {},
   "source": [
    "# 42. Create a tuple from user input."
   ]
  },
  {
   "cell_type": "code",
   "execution_count": 43,
   "id": "0baebae8-a581-4e5e-be5c-5bebf2a546c9",
   "metadata": {},
   "outputs": [
    {
     "name": "stdin",
     "output_type": "stream",
     "text": [
      "Enter the no of elements in the tuple 5\n",
      " -10\n",
      " a\n",
      " 4\n",
      " 5\n",
      " g\n"
     ]
    },
    {
     "name": "stdout",
     "output_type": "stream",
     "text": [
      "('-10', 'a', '4', '5', 'g')\n"
     ]
    }
   ],
   "source": [
    "n=int(input(\"Enter the no of elements in the tuple\"))\n",
    "l=[input() for i in range(n)]\n",
    "print(tuple(l))"
   ]
  },
  {
   "cell_type": "markdown",
   "id": "b47b4428-c9b9-4e99-bfa4-1b94f97609f4",
   "metadata": {},
   "source": [
    "# 43. Swap two elements in a tuple.\n"
   ]
  },
  {
   "cell_type": "code",
   "execution_count": 48,
   "id": "7c99b9a9-0d42-49e2-9af7-4384ec3ea078",
   "metadata": {},
   "outputs": [
    {
     "name": "stdout",
     "output_type": "stream",
     "text": [
      "[1, 5, 3, 4, 2]\n"
     ]
    }
   ],
   "source": [
    "def swap(t,n1,n2):\n",
    "    t[n1],t[n2]=t[n2],t[n1]\n",
    "t=[1,2,3,4,5]\n",
    "n1=1\n",
    "n2=4\n",
    "swap(t,n1,n2)\n",
    "print(t)\n"
   ]
  },
  {
   "cell_type": "markdown",
   "id": "536ac410-a442-48d1-9b0e-08af1c7905f4",
   "metadata": {},
   "source": [
    "# 44. Reverse the elements of a tuple."
   ]
  },
  {
   "cell_type": "code",
   "execution_count": 51,
   "id": "824dbc9f-8132-4aff-bbb0-b40e54419a53",
   "metadata": {},
   "outputs": [
    {
     "name": "stdout",
     "output_type": "stream",
     "text": [
      "(5, 4, 3, 2, 1)\n"
     ]
    }
   ],
   "source": [
    "t=(1,2,3,4,5)\n",
    "t_r=t[::-1]\n",
    "print(t_r)"
   ]
  },
  {
   "cell_type": "markdown",
   "id": "5a558504-57b9-4693-a9db-fd295f032797",
   "metadata": {},
   "source": [
    "# 45. Create a tuple of the first `n` powers of 2."
   ]
  },
  {
   "cell_type": "code",
   "execution_count": 53,
   "id": "8c4b3f72-d666-49ac-aac9-b8d18d1f84ed",
   "metadata": {},
   "outputs": [
    {
     "name": "stdin",
     "output_type": "stream",
     "text": [
      " 7\n"
     ]
    },
    {
     "name": "stdout",
     "output_type": "stream",
     "text": [
      "(2, 4, 8, 16, 32, 64, 128)\n"
     ]
    }
   ],
   "source": [
    "n=int(input())\n",
    "t=tuple(2**(i+1) for i in range(n))\n",
    "print(t)"
   ]
  },
  {
   "cell_type": "markdown",
   "id": "00310906-9e39-4721-a877-e94dc2ed3855",
   "metadata": {},
   "source": [
    "# 46. Find the longest string in a tuple of strings."
   ]
  },
  {
   "cell_type": "code",
   "execution_count": 65,
   "id": "8af65447-2dd7-4cc7-8755-ef15f296c556",
   "metadata": {},
   "outputs": [
    {
     "name": "stdout",
     "output_type": "stream",
     "text": [
      "defg*67\n",
      "defg*67\n"
     ]
    }
   ],
   "source": [
    "t=('abc','defg*67','hii','jkl','a','is')\n",
    "print(max(t,key=len))\n",
    "\n",
    "l=t[1]\n",
    "for i in t:\n",
    "    c=len(i)\n",
    "    if c>len(l):\n",
    "        l=i\n",
    "print(l)"
   ]
  },
  {
   "cell_type": "markdown",
   "id": "0e98d719-821e-4338-89ee-7620b6e4890e",
   "metadata": {},
   "source": [
    "# 47. Find the shortest string in a tuple of strings."
   ]
  },
  {
   "cell_type": "code",
   "execution_count": 67,
   "id": "dddd6a4c-c3af-4f78-bde7-89d38784881e",
   "metadata": {},
   "outputs": [
    {
     "name": "stdout",
     "output_type": "stream",
     "text": [
      "1a\n",
      "1a\n"
     ]
    }
   ],
   "source": [
    "t=('abc','defg*67','hii','jkl','1a','iss')\n",
    "print(min(t,key=len))\n",
    "\n",
    "l=t[1]\n",
    "for i in t:\n",
    "    c=len(i)\n",
    "    if c<len(l):\n",
    "        l=i\n",
    "print(l)"
   ]
  },
  {
   "cell_type": "markdown",
   "id": "11d44517-ae93-400b-bfda-30d94f7e24e8",
   "metadata": {},
   "source": [
    "# 48. Create a tuple of the first `n` triangular numbers."
   ]
  },
  {
   "cell_type": "code",
   "execution_count": 73,
   "id": "5ad051df-fd3a-4b89-97d0-feebed96b858",
   "metadata": {},
   "outputs": [
    {
     "name": "stdin",
     "output_type": "stream",
     "text": [
      " 7\n"
     ]
    },
    {
     "name": "stdout",
     "output_type": "stream",
     "text": [
      "(1, 3, 6, 10, 15, 21, 28)\n"
     ]
    }
   ],
   "source": [
    "#fromula for nth triangular number =n(n+1)/2 \n",
    "n=int(input())\n",
    "t=tuple(int(i*(i+1)/2) for i in range(1,n+1))\n",
    "print(t)"
   ]
  },
  {
   "cell_type": "markdown",
   "id": "e47f6fc3-d130-4af4-9ac4-8f1980f8ed9e",
   "metadata": {},
   "source": [
    "# 49. Check if a tuple contains another tuple as a subsequence."
   ]
  },
  {
   "cell_type": "code",
   "execution_count": null,
   "id": "f7dfb4be-2851-4692-9385-b2d0cb2d28b1",
   "metadata": {},
   "outputs": [],
   "source": []
  },
  {
   "cell_type": "markdown",
   "id": "367d5bc1-afa9-49f9-bff5-b20a1546c7e2",
   "metadata": {},
   "source": [
    "# 50. Create a tuple of alternating 1s and 0s of length `n`."
   ]
  },
  {
   "cell_type": "code",
   "execution_count": 70,
   "id": "92e7be31-6fdf-4f72-9846-c8a08aa94e7f",
   "metadata": {},
   "outputs": [
    {
     "name": "stdin",
     "output_type": "stream",
     "text": [
      " 6\n"
     ]
    },
    {
     "name": "stdout",
     "output_type": "stream",
     "text": [
      "(1, 0, 1, 0, 1, 0)\n"
     ]
    }
   ],
   "source": [
    "n=int(input())\n",
    "t=tuple(1 if i%2!=0 else 0 for i in range(1,n+1))\n",
    "print(t)"
   ]
  },
  {
   "cell_type": "markdown",
   "id": "1839903c-28bf-43a0-bff9-d9287ff95a8f",
   "metadata": {},
   "source": [
    "# Set"
   ]
  },
  {
   "cell_type": "markdown",
   "id": "b6352821-9611-45e4-be4a-19f92ee7704f",
   "metadata": {},
   "source": [
    "# 1. Create a set with integers from 1 to 5."
   ]
  },
  {
   "cell_type": "code",
   "execution_count": 4,
   "id": "1367d659-fbe3-4a83-9cf6-5affbf9d9fd5",
   "metadata": {},
   "outputs": [
    {
     "name": "stdout",
     "output_type": "stream",
     "text": [
      "{1, 2, 3, 4, 5}\n"
     ]
    }
   ],
   "source": [
    "s={i+1 for i in range(5)}\n",
    "print(s)"
   ]
  },
  {
   "cell_type": "markdown",
   "id": "0693245c-8e47-4c75-8198-49ab6993be03",
   "metadata": {},
   "source": [
    "# 2. Add an element to a set."
   ]
  },
  {
   "cell_type": "code",
   "execution_count": 5,
   "id": "68d8a118-1f04-466a-a1d4-e9975c059970",
   "metadata": {},
   "outputs": [
    {
     "data": {
      "text/plain": [
       "{1, 2, 3, 4, 5, 12}"
      ]
     },
     "execution_count": 5,
     "metadata": {},
     "output_type": "execute_result"
    }
   ],
   "source": [
    "s={i+1 for i in range(5)}\n",
    "s.add(12)\n",
    "s"
   ]
  },
  {
   "cell_type": "markdown",
   "id": "0b8ae45d-3a6d-4263-8a2b-1ceb99454c10",
   "metadata": {},
   "source": [
    "# 3. Remove an element from a set."
   ]
  },
  {
   "cell_type": "code",
   "execution_count": 8,
   "id": "199d6dc5-a1ec-4600-bef1-ebacc5573446",
   "metadata": {},
   "outputs": [
    {
     "data": {
      "text/plain": [
       "{1, 2, 4, 5, 12}"
      ]
     },
     "execution_count": 8,
     "metadata": {},
     "output_type": "execute_result"
    }
   ],
   "source": [
    "s={i+1 for i in range(5)}\n",
    "s.add(12)\n",
    "s.remove(3)\n",
    "s"
   ]
  },
  {
   "cell_type": "markdown",
   "id": "adee0954-7cb9-4786-83cf-fc5a1916fb12",
   "metadata": {},
   "source": [
    "# 4. Check if an element exists in a set."
   ]
  },
  {
   "cell_type": "code",
   "execution_count": 10,
   "id": "c94f33f2-cb7c-44d6-9fb3-8a4a765193de",
   "metadata": {},
   "outputs": [
    {
     "name": "stdout",
     "output_type": "stream",
     "text": [
      "Exist\n"
     ]
    }
   ],
   "source": [
    "s={i+1 for i in range(5)}\n",
    "s.add(12)\n",
    "if 2 in s:\n",
    "    print(\"Exist\")\n",
    "else:\n",
    "    print(\"Does not exist\")"
   ]
  },
  {
   "cell_type": "markdown",
   "id": "eb8b57c9-dc8f-41e6-836a-472d70b486ca",
   "metadata": {},
   "source": [
    "# 5. Find the length of a set without using the `len()` function."
   ]
  },
  {
   "cell_type": "code",
   "execution_count": 12,
   "id": "c3e69529-33e1-4e9c-9762-83d50989b767",
   "metadata": {},
   "outputs": [
    {
     "name": "stdout",
     "output_type": "stream",
     "text": [
      "No of elements : 6\n"
     ]
    },
    {
     "data": {
      "text/plain": [
       "{1, 2, 3, 4, 5, 12}"
      ]
     },
     "execution_count": 12,
     "metadata": {},
     "output_type": "execute_result"
    }
   ],
   "source": [
    "s={i+1 for i in range(5)}\n",
    "s.add(12)\n",
    "c=0\n",
    "for i in s:\n",
    "    c+=1\n",
    "print(\"No of elements :\",c)\n",
    "s"
   ]
  },
  {
   "cell_type": "markdown",
   "id": "4a79e884-b2bf-44d7-af97-956b6da6b81f",
   "metadata": {},
   "source": [
    "# 6. Clear all elements from a set."
   ]
  },
  {
   "cell_type": "code",
   "execution_count": 13,
   "id": "f778d050-5a83-4963-a11b-96a209d94110",
   "metadata": {},
   "outputs": [
    {
     "data": {
      "text/plain": [
       "set()"
      ]
     },
     "execution_count": 13,
     "metadata": {},
     "output_type": "execute_result"
    }
   ],
   "source": [
    "s={i+1 for i in range(5)}\n",
    "s.add(12)\n",
    "s.clear()\n",
    "s"
   ]
  },
  {
   "cell_type": "markdown",
   "id": "839968b0-6949-448a-a8cc-f4cbecf9253a",
   "metadata": {},
   "source": [
    "# 7. Create a set of even numbers from 1 to 10."
   ]
  },
  {
   "cell_type": "code",
   "execution_count": 14,
   "id": "d85b459b-c2b9-4287-a430-65e7df3d9cb0",
   "metadata": {},
   "outputs": [
    {
     "name": "stdout",
     "output_type": "stream",
     "text": [
      "{2, 4, 6, 8, 10}\n"
     ]
    }
   ],
   "source": [
    "s={i for i in range(1,11) if i%2==0}\n",
    "print(s)"
   ]
  },
  {
   "cell_type": "markdown",
   "id": "fcd42c10-bdcf-45da-9d17-a8fe96041215",
   "metadata": {},
   "source": [
    "# 8. Create a set of odd numbers from 1 to 10."
   ]
  },
  {
   "cell_type": "code",
   "execution_count": 15,
   "id": "703a1086-9857-4537-9693-7f6b94e91515",
   "metadata": {},
   "outputs": [
    {
     "name": "stdout",
     "output_type": "stream",
     "text": [
      "{1, 3, 5, 7, 9}\n"
     ]
    }
   ],
   "source": [
    "s={i for i in range(1,11) if i%2!=0}\n",
    "print(s)"
   ]
  },
  {
   "cell_type": "markdown",
   "id": "ea1c2a72-d429-4a4a-8434-edf5e8f00ee6",
   "metadata": {},
   "source": [
    "# 9. Find the union of two sets."
   ]
  },
  {
   "cell_type": "code",
   "execution_count": 17,
   "id": "7f80c3df-4455-4a16-b516-b4305c4d604a",
   "metadata": {},
   "outputs": [
    {
     "name": "stdout",
     "output_type": "stream",
     "text": [
      "{1, 2, 3, 4, 5, 6, 7, 8, 9, 10}\n"
     ]
    }
   ],
   "source": [
    "s1={2, 4, 6, 8, 10}\n",
    "s2={1, 3, 5, 7, 9}\n",
    "s3=s1.union(s2)\n",
    "print(s3)"
   ]
  },
  {
   "cell_type": "markdown",
   "id": "eacedfa5-7884-4ba0-bf79-6bb05070950e",
   "metadata": {},
   "source": [
    "# 10. Find the intersection of two sets."
   ]
  },
  {
   "cell_type": "code",
   "execution_count": 19,
   "id": "d27867e0-f20c-4b97-8bee-d8b55698eaae",
   "metadata": {},
   "outputs": [
    {
     "data": {
      "text/plain": [
       "{2, 10}"
      ]
     },
     "execution_count": 19,
     "metadata": {},
     "output_type": "execute_result"
    }
   ],
   "source": [
    "s1={2, 4, 6, 8, 10}\n",
    "s2={1, 3, 5, 7, 9,10,2}\n",
    "s3=s1.intersection(s2)\n",
    "s3"
   ]
  },
  {
   "cell_type": "markdown",
   "id": "af2d79a0-3411-4999-88e8-671627e811d8",
   "metadata": {},
   "source": [
    "# 11. Find the difference between two sets."
   ]
  },
  {
   "cell_type": "code",
   "execution_count": 21,
   "id": "f75e7b7d-8bcf-4920-8e88-8d16a355f790",
   "metadata": {},
   "outputs": [
    {
     "name": "stdout",
     "output_type": "stream",
     "text": [
      "{1, 3, 5, 7, 9}\n"
     ]
    }
   ],
   "source": [
    "s1={2, 4, 6, 8, 10}\n",
    "s2={1, 3, 5, 7, 9,10,2}\n",
    "print(s2.difference(s1))"
   ]
  },
  {
   "cell_type": "markdown",
   "id": "5fe52338-adac-4f5d-93ec-8ecff371b2e6",
   "metadata": {},
   "source": [
    "# 12. Check if a set is a subset of another set."
   ]
  },
  {
   "cell_type": "code",
   "execution_count": 27,
   "id": "4704a228-c258-4d1d-bb78-449806b2fe28",
   "metadata": {},
   "outputs": [
    {
     "name": "stdout",
     "output_type": "stream",
     "text": [
      "False\n"
     ]
    }
   ],
   "source": [
    "s1={2, 4, 6, 8, 10}\n",
    "s2={10,2,4,3}\n",
    "print(s2.issubset(s1))"
   ]
  },
  {
   "cell_type": "markdown",
   "id": "319ad975-f202-4c24-818d-6128284f93f7",
   "metadata": {},
   "source": [
    "# 13. Check if a set is a superset of another set."
   ]
  },
  {
   "cell_type": "code",
   "execution_count": 30,
   "id": "e147e2ed-f675-43b8-ad55-f209f03e43a3",
   "metadata": {},
   "outputs": [
    {
     "name": "stdout",
     "output_type": "stream",
     "text": [
      "True\n"
     ]
    }
   ],
   "source": [
    "s1={2, 4, 6, 8, 10}\n",
    "s2={10,2,4}\n",
    "print(s1.issuperset(s2))"
   ]
  },
  {
   "cell_type": "markdown",
   "id": "df1dedc5-64e4-4ed8-8011-11833a719294",
   "metadata": {},
   "source": [
    "# 14. Create a set from a list."
   ]
  },
  {
   "cell_type": "code",
   "execution_count": 31,
   "id": "0e8e8771-f4ba-400c-8f29-4577bf3a2321",
   "metadata": {},
   "outputs": [
    {
     "data": {
      "text/plain": [
       "{0, 1, 2, 3, 4, 5, 6, 7, 8, 9}"
      ]
     },
     "execution_count": 31,
     "metadata": {},
     "output_type": "execute_result"
    }
   ],
   "source": [
    "s=set([i for i in range(10)])\n",
    "s"
   ]
  },
  {
   "cell_type": "markdown",
   "id": "252413c5-b713-47be-aef0-27d105f50a45",
   "metadata": {},
   "source": [
    "# 15. Convert a set to a list."
   ]
  },
  {
   "cell_type": "code",
   "execution_count": 32,
   "id": "d7c6d28c-8838-420d-8792-22d299df9116",
   "metadata": {},
   "outputs": [
    {
     "data": {
      "text/plain": [
       "[0, 1, 2, 3, 4, 5, 6, 7, 8, 9]"
      ]
     },
     "execution_count": 32,
     "metadata": {},
     "output_type": "execute_result"
    }
   ],
   "source": [
    "s={0, 1, 2, 3, 4, 5, 6, 7, 8, 9}\n",
    "l=list(s)\n",
    "l"
   ]
  },
  {
   "cell_type": "markdown",
   "id": "889a8593-d9f6-41a1-9004-44ea346b708e",
   "metadata": {},
   "source": [
    "# 16. Remove a random element from a set."
   ]
  },
  {
   "cell_type": "code",
   "execution_count": 57,
   "id": "64e6705c-84e5-449f-9e63-1acbbb47b389",
   "metadata": {},
   "outputs": [
    {
     "name": "stdout",
     "output_type": "stream",
     "text": [
      "{0, 1, 2, 3, 4, 5, 6, 7, 8}\n"
     ]
    }
   ],
   "source": [
    "import random\n",
    "s={0, 1, 2, 3, 4, 5, 6, 7, 8, 9}\n",
    "r=random.choice(list(s))\n",
    "s.remove(r)\n",
    "print(s)\n"
   ]
  },
  {
   "cell_type": "markdown",
   "id": "b2685fbd-26be-49f7-a12e-5f46f02346da",
   "metadata": {},
   "source": [
    "# 17. Pop an element from a set."
   ]
  },
  {
   "cell_type": "code",
   "execution_count": 39,
   "id": "15603cb4-5b15-44fd-8024-26710c458492",
   "metadata": {},
   "outputs": [
    {
     "name": "stdout",
     "output_type": "stream",
     "text": [
      "{1, 2, 3, 4, 5, 6, 7, 8, 9}\n"
     ]
    },
    {
     "data": {
      "text/plain": [
       "{2, 3, 4, 5, 6, 7, 8, 9}"
      ]
     },
     "execution_count": 39,
     "metadata": {},
     "output_type": "execute_result"
    }
   ],
   "source": [
    "s={0, 1, 2, 3, 4, 5, 6, 7, 8, 9}\n",
    "s.pop()\n",
    "print(s)\n",
    "s.pop()\n",
    "s"
   ]
  },
  {
   "cell_type": "markdown",
   "id": "7d0cd62d-2cf8-4034-b8da-5aab1f3b5e01",
   "metadata": {},
   "source": [
    "# 18. Check if two sets have no elements in common."
   ]
  },
  {
   "cell_type": "code",
   "execution_count": 43,
   "id": "dac78a13-a4d9-4dcf-a9b8-94ffc52bc47c",
   "metadata": {},
   "outputs": [
    {
     "name": "stdout",
     "output_type": "stream",
     "text": [
      "Common Elements\n"
     ]
    }
   ],
   "source": [
    "s1={2, 4, 6, 8, 10}\n",
    "s2={1, 3, 5, 7, 9,10}\n",
    "if len(s1.intersection(s2)) !=0 :\n",
    "    print(\"Common Elements\")\n",
    "else:\n",
    "    print(\"Mo Common Elements\")"
   ]
  },
  {
   "cell_type": "markdown",
   "id": "722a47bf-5f79-40f4-a4a6-5ad6a86bb087",
   "metadata": {},
   "source": [
    "# 19. Find the symmetric difference between two sets."
   ]
  },
  {
   "cell_type": "code",
   "execution_count": 46,
   "id": "04cfa3db-fcff-4dd3-bf2b-7aa46f9bbd0f",
   "metadata": {},
   "outputs": [
    {
     "name": "stdout",
     "output_type": "stream",
     "text": [
      "{2, 4, 5, 6, 7, 9}\n"
     ]
    }
   ],
   "source": [
    "s1={2, 4, 6, 8, 10,1,3}\n",
    "s2={1, 3, 5, 7, 9,10,8}\n",
    "print(s1.symmetric_difference(s2))"
   ]
  },
  {
   "cell_type": "markdown",
   "id": "2af9fd6a-458a-40a6-bf3d-acce509f340f",
   "metadata": {},
   "source": [
    "# 20. Update a set with elements from another set."
   ]
  },
  {
   "cell_type": "code",
   "execution_count": null,
   "id": "03fb86f1-0a18-47ca-9f6c-a46db5959e12",
   "metadata": {},
   "outputs": [],
   "source": [
    "s1={2, 4, 6, 8, 10,1,3}\n",
    "s2={1, 3, 5, 7, 9,10,8}\n",
    "s1.update(s2)"
   ]
  },
  {
   "cell_type": "markdown",
   "id": "e9fe67dd-0c8b-48e2-ac65-366bf835beda",
   "metadata": {},
   "source": [
    "# 21. Create a set of the first 5 prime numbers."
   ]
  },
  {
   "cell_type": "code",
   "execution_count": 12,
   "id": "82a8d4b1-edd6-41fa-b831-8f4e28813e1c",
   "metadata": {},
   "outputs": [
    {
     "data": {
      "text/plain": [
       "{2, 3, 5, 7, 11}"
      ]
     },
     "execution_count": 12,
     "metadata": {},
     "output_type": "execute_result"
    }
   ],
   "source": [
    "def is_prime(num):\n",
    "    if num<=0:\n",
    "        return False\n",
    "    for i in range(2,int(num/2)+1):\n",
    "        if num%i==0:\n",
    "            return False\n",
    "    else:\n",
    "        return True\n",
    "s=set()\n",
    "i=2\n",
    "while(len(s)<5):\n",
    "    if is_prime(i):\n",
    "        s.add(i)\n",
    "    i+=1\n",
    "s"
   ]
  },
  {
   "cell_type": "markdown",
   "id": "fa072ac3-d752-416d-b178-c201045254a4",
   "metadata": {},
   "source": [
    "# 22. Check if two sets are identical."
   ]
  },
  {
   "cell_type": "code",
   "execution_count": 14,
   "id": "58385729-18ab-46c2-bf9f-279f7b4bb331",
   "metadata": {},
   "outputs": [
    {
     "name": "stdout",
     "output_type": "stream",
     "text": [
      "Identical\n"
     ]
    }
   ],
   "source": [
    "s1={5,3, 8, 10}\n",
    "s2={ 3, 5, 10,8}\n",
    "if s1==s2:\n",
    "    print(\"Identical\")\n",
    "else:\n",
    "    print(\"Not identical\")"
   ]
  },
  {
   "cell_type": "markdown",
   "id": "34943bd9-fcb3-415f-b3d9-2fedaa5e3b4f",
   "metadata": {},
   "source": [
    "# 23. Create a frozen set."
   ]
  },
  {
   "cell_type": "code",
   "execution_count": 15,
   "id": "bb4a05d7-5e28-4c84-a117-0b51fd3015ba",
   "metadata": {},
   "outputs": [
    {
     "name": "stdout",
     "output_type": "stream",
     "text": [
      "frozenset({0, 1, 2, 3, 4, 5, 6, 7, 8, 9})\n"
     ]
    }
   ],
   "source": [
    "l=[i for i in range(10)]\n",
    "s=frozenset(l)\n",
    "print(s)"
   ]
  },
  {
   "cell_type": "markdown",
   "id": "d0efef6b-cbfb-4fed-b0af-ba196bf8a7bc",
   "metadata": {},
   "source": [
    "# 24. Check if a set is disjoint with another set."
   ]
  },
  {
   "cell_type": "code",
   "execution_count": 17,
   "id": "00dba8d8-f669-4fe1-92ea-9e54709f6e38",
   "metadata": {},
   "outputs": [
    {
     "name": "stdout",
     "output_type": "stream",
     "text": [
      "Disjoint set\n"
     ]
    }
   ],
   "source": [
    "s1={5,3, 8, 10}\n",
    "s2={2,4,6,9,7}\n",
    "if s1.isdisjoint(s2):\n",
    "    print(\"Disjoint set\")\n",
    "else:\n",
    "    print(\"Not disjoint set\")"
   ]
  },
  {
   "cell_type": "markdown",
   "id": "8f0c70fe-e91d-4faa-abf9-9f8df88c7f29",
   "metadata": {},
   "source": [
    "# 25. Create a set of squares of numbers from 1 to 5."
   ]
  },
  {
   "cell_type": "code",
   "execution_count": 18,
   "id": "173dc770-f064-4701-a2a2-10d7980bb68c",
   "metadata": {},
   "outputs": [
    {
     "data": {
      "text/plain": [
       "{1, 4, 9, 16, 25}"
      ]
     },
     "execution_count": 18,
     "metadata": {},
     "output_type": "execute_result"
    }
   ],
   "source": [
    "s={i*i for i in range(1,6)}\n",
    "s"
   ]
  },
  {
   "cell_type": "markdown",
   "id": "1f352469-a949-42d1-bb4f-47d69e056cc0",
   "metadata": {},
   "source": [
    "# 26. Filter out all even numbers from a set."
   ]
  },
  {
   "cell_type": "code",
   "execution_count": 20,
   "id": "ddf11788-8279-4329-9cb8-2ad194ed5605",
   "metadata": {},
   "outputs": [
    {
     "name": "stdout",
     "output_type": "stream",
     "text": [
      "{0, 1, 2, 3, 4, 5, 6, 7, 8, 9}\n"
     ]
    },
    {
     "data": {
      "text/plain": [
       "{1, 3, 5, 7, 9}"
      ]
     },
     "execution_count": 20,
     "metadata": {},
     "output_type": "execute_result"
    }
   ],
   "source": [
    "s={i for i in range(10)}\n",
    "print(s)\n",
    "s={i for i in s if i%2!=0}\n",
    "s"
   ]
  },
  {
   "cell_type": "markdown",
   "id": "d2d0ae8a-78ac-44cf-9db1-5cc51902f7e6",
   "metadata": {},
   "source": [
    "# 27. Multiply all elements in a set by 2."
   ]
  },
  {
   "cell_type": "code",
   "execution_count": 22,
   "id": "bbb01cf7-d5dc-4ad6-ab90-0f90aca99968",
   "metadata": {},
   "outputs": [
    {
     "data": {
      "text/plain": [
       "{0, 2, 4, 6, 8, 10, 12, 14, 16, 18}"
      ]
     },
     "execution_count": 22,
     "metadata": {},
     "output_type": "execute_result"
    }
   ],
   "source": [
    "s={i for i in range(10)}\n",
    "s={i*2 for i in s}\n",
    "s"
   ]
  },
  {
   "cell_type": "markdown",
   "id": "c8e84b05-b43b-4dfe-84a6-67043f862218",
   "metadata": {},
   "source": [
    "# 28. Create a set of random numbers."
   ]
  },
  {
   "cell_type": "code",
   "execution_count": 24,
   "id": "37fb3c33-ee4f-4abb-8d29-6c005aff562e",
   "metadata": {},
   "outputs": [
    {
     "data": {
      "text/plain": [
       "{8, 27, 30, 38, 47, 74, 78, 79, 100}"
      ]
     },
     "execution_count": 24,
     "metadata": {},
     "output_type": "execute_result"
    }
   ],
   "source": [
    "import random\n",
    "s={random.randint(1,100) for i in range(10)}\n",
    "s"
   ]
  },
  {
   "cell_type": "markdown",
   "id": "c4f6f62a-7121-4af8-a052-9e29f7a785ca",
   "metadata": {},
   "source": [
    "# 29. Check if a set is empty."
   ]
  },
  {
   "cell_type": "code",
   "execution_count": 29,
   "id": "d4a8b5e5-a09c-4b6b-a950-5ba167de7a13",
   "metadata": {},
   "outputs": [
    {
     "name": "stdout",
     "output_type": "stream",
     "text": [
      "Set Empty\n",
      "Set Empty\n"
     ]
    }
   ],
   "source": [
    "s=()\n",
    "if len(s)==0:\n",
    "    print(\"Set Empty\")\n",
    "else:\n",
    "    print(\"Set not Empty\")\n",
    "\n",
    "if not s:\n",
    "       print(\"Set Empty\")\n",
    "else:\n",
    "    print(\"Set not Empty\")"
   ]
  },
  {
   "cell_type": "markdown",
   "id": "773775dc-e2bc-416d-bad6-ab15c246f289",
   "metadata": {},
   "source": [
    "# 30. Create a nested set "
   ]
  },
  {
   "cell_type": "code",
   "execution_count": 34,
   "id": "47091d4e-0a55-46da-a5d7-e93fb5394bf6",
   "metadata": {},
   "outputs": [
    {
     "data": {
      "text/plain": [
       "{frozenset({1, 2, 3, 4, 5}), frozenset({6, 7, 8})}"
      ]
     },
     "execution_count": 34,
     "metadata": {},
     "output_type": "execute_result"
    }
   ],
   "source": [
    "set1={1,2,3,4,5}\n",
    "set2={6,7,8}\n",
    "n_s={frozenset(set1),frozenset(set2)}\n",
    "n_s"
   ]
  },
  {
   "cell_type": "markdown",
   "id": "93df2f80-d3bc-4725-978b-19801b137e80",
   "metadata": {},
   "source": [
    "# 31. Remove an element from a set using the discard method."
   ]
  },
  {
   "cell_type": "code",
   "execution_count": 35,
   "id": "a9381b33-f48a-4004-a1ed-cb40a2b741b3",
   "metadata": {},
   "outputs": [
    {
     "data": {
      "text/plain": [
       "{1, 2, 4, 5}"
      ]
     },
     "execution_count": 35,
     "metadata": {},
     "output_type": "execute_result"
    }
   ],
   "source": [
    "s={1,2,3,4,5}\n",
    "s.discard(3)\n",
    "s"
   ]
  },
  {
   "cell_type": "markdown",
   "id": "32ab8cce-702e-4092-9cfa-db7d516f508b",
   "metadata": {},
   "source": [
    "# 32. Compare two sets."
   ]
  },
  {
   "cell_type": "code",
   "execution_count": 39,
   "id": "8e1ac0fc-07a9-4f46-b403-c47f52698708",
   "metadata": {},
   "outputs": [
    {
     "name": "stdout",
     "output_type": "stream",
     "text": [
      "Is Similar False\n",
      "Is disjoint True\n",
      "Is subset False\n",
      "Is superset False\n",
      "Union : {1, 2, 3, 4, 5, 6, 7, 8}\n",
      "Intersection : set()\n",
      "Diffrenece : {1, 2, 3, 4, 5}\n"
     ]
    }
   ],
   "source": [
    "s1={1,2,3,4,5}\n",
    "s2={6,7,8}\n",
    "is_similar= s1==s2\n",
    "is_disjoint= s1.isdisjoint(s2)\n",
    "is_subset=s2.issubset(s1)\n",
    "is_superset=s1.issuperset(s2)\n",
    "u_s=s1.union(s2)\n",
    "i_s=s1.intersection(s2)\n",
    "d_s=s1.difference(s2)\n",
    "print(\"Is Similar\",is_similar)\n",
    "print(\"Is disjoint\",is_disjoint)\n",
    "print(\"Is subset\",is_subset)\n",
    "print(\"Is superset\",is_superset)\n",
    "print(\"Union :\",u_s)\n",
    "print(\"Intersection :\",i_s)\n",
    "print(\"Diffrenece :\",d_s)"
   ]
  },
  {
   "cell_type": "markdown",
   "id": "bbaa3de1-318d-4162-84e3-b606bda90c0d",
   "metadata": {},
   "source": [
    "# 33. Create a set from a string."
   ]
  },
  {
   "cell_type": "code",
   "execution_count": 40,
   "id": "0996dfaf-8fdb-4d87-bfe7-680d3e4a82c6",
   "metadata": {},
   "outputs": [
    {
     "name": "stdin",
     "output_type": "stream",
     "text": [
      "Enter a string jh at &*5 ai\n"
     ]
    },
    {
     "data": {
      "text/plain": [
       "{' ', '&', '*', '5', 'a', 'h', 'i', 'j', 't'}"
      ]
     },
     "execution_count": 40,
     "metadata": {},
     "output_type": "execute_result"
    }
   ],
   "source": [
    "s=input('Enter a string')\n",
    "s_s={i for i in s}\n",
    "s_s"
   ]
  },
  {
   "cell_type": "markdown",
   "id": "c5ecb94b-6b90-44c5-abe1-821482c5edd3",
   "metadata": {},
   "source": [
    "# 34. Convert a set of strings to a set of integers."
   ]
  },
  {
   "cell_type": "code",
   "execution_count": 41,
   "id": "f5a9afdc-6b48-412e-9e3b-c9f321480fcf",
   "metadata": {},
   "outputs": [
    {
     "data": {
      "text/plain": [
       "{2, 10, 30, 40}"
      ]
     },
     "execution_count": 41,
     "metadata": {},
     "output_type": "execute_result"
    }
   ],
   "source": [
    "s1={'10',\"2\",\"30\",'40'}\n",
    "s2={int(i) for i in s1}\n",
    "s2\n",
    "    "
   ]
  },
  {
   "cell_type": "markdown",
   "id": "29cf84c2-cee4-4058-a491-46aa49c2f91a",
   "metadata": {},
   "source": [
    "# 35. Convert a set of integers to a set of strings."
   ]
  },
  {
   "cell_type": "code",
   "execution_count": 44,
   "id": "74d08752-a940-41fe-b90a-866a603e4626",
   "metadata": {},
   "outputs": [
    {
     "data": {
      "text/plain": [
       "{'1', '2', '3', '4', '5', '6', '7'}"
      ]
     },
     "execution_count": 44,
     "metadata": {},
     "output_type": "execute_result"
    }
   ],
   "source": [
    "s1={1,2,3,4,5,6,6,6,7}\n",
    "s2={str(i) for i in s1}\n",
    "s2"
   ]
  },
  {
   "cell_type": "markdown",
   "id": "31e38700-a148-4f5f-9004-a35dae3ebdfb",
   "metadata": {},
   "source": [
    "# 36. Create a set from a tuple."
   ]
  },
  {
   "cell_type": "code",
   "execution_count": 45,
   "id": "eb6d2108-9805-4336-a4f4-4ebd80024250",
   "metadata": {},
   "outputs": [
    {
     "data": {
      "text/plain": [
       "{0, 1, 2, 3, 4, 5, 6, 7, 8, 9}"
      ]
     },
     "execution_count": 45,
     "metadata": {},
     "output_type": "execute_result"
    }
   ],
   "source": [
    "t=(i for i in range(10))\n",
    "s=set(t)\n",
    "s"
   ]
  },
  {
   "cell_type": "markdown",
   "id": "3c177499-2462-41b6-a072-85788aeec4e2",
   "metadata": {},
   "source": [
    "# 37. Convert a set to a tuple."
   ]
  },
  {
   "cell_type": "code",
   "execution_count": 46,
   "id": "1cf7eeaa-bfd7-429a-9607-eac3062a2b1c",
   "metadata": {},
   "outputs": [
    {
     "data": {
      "text/plain": [
       "(0, 1, 2, 3, 4, 5, 6, 7, 8, 9)"
      ]
     },
     "execution_count": 46,
     "metadata": {},
     "output_type": "execute_result"
    }
   ],
   "source": [
    "s={i for i in range(10)}\n",
    "t=tuple(s)\n",
    "t"
   ]
  },
  {
   "cell_type": "markdown",
   "id": "6f6a3710-b263-45af-98a8-caad4fdf1d78",
   "metadata": {},
   "source": [
    "# 38. Find the maximum value in a set."
   ]
  },
  {
   "cell_type": "code",
   "execution_count": 49,
   "id": "d7f49d1f-263c-4e94-b99c-f51a6f9e1a4b",
   "metadata": {},
   "outputs": [
    {
     "name": "stdout",
     "output_type": "stream",
     "text": [
      "55\n"
     ]
    }
   ],
   "source": [
    "s={22,33,11,55,-10}\n",
    "print(max(s))"
   ]
  },
  {
   "cell_type": "markdown",
   "id": "414d5003-8b65-4b43-8e42-9cc5266302a1",
   "metadata": {},
   "source": [
    "# 39. Find the minimum value in a set."
   ]
  },
  {
   "cell_type": "code",
   "execution_count": 52,
   "id": "1353495c-9e05-4e15-b24c-6822a59953e1",
   "metadata": {},
   "outputs": [
    {
     "name": "stdout",
     "output_type": "stream",
     "text": [
      "-12\n"
     ]
    }
   ],
   "source": [
    "s={22,33,11,55,-10,-12,22}\n",
    "print(min(s))"
   ]
  },
  {
   "cell_type": "markdown",
   "id": "006a6553-02be-4ce6-a009-a9a0c33a4130",
   "metadata": {},
   "source": [
    "# 40. Create a set from user input."
   ]
  },
  {
   "cell_type": "code",
   "execution_count": null,
   "id": "df6e2861-9449-429d-8094-226e64da6078",
   "metadata": {},
   "outputs": [
    {
     "name": "stdin",
     "output_type": "stream",
     "text": [
      "Enter the no of elements 7\n",
      " 4\n",
      " 5\n",
      " 3\n",
      " -10\n",
      " 9\n",
      " 4\n",
      " 5\n"
     ]
    },
    {
     "data": {
      "text/plain": [
       "{'-10', '3', '4', '5', '9'}"
      ]
     },
     "execution_count": 54,
     "metadata": {},
     "output_type": "execute_result"
    }
   ],
   "source": [
    "n=int(input(\"Enter the no of elements\"))\n",
    "s={input() for i in range(n)}\n",
    "s"
   ]
  },
  {
   "cell_type": "markdown",
   "id": "bfbf943d-4e56-429d-aa6e-e4fd54ec17cd",
   "metadata": {},
   "source": [
    "# 41. Check if the intersection of two sets is empty."
   ]
  },
  {
   "cell_type": "code",
   "execution_count": 56,
   "id": "701043f5-e182-4651-acb8-fba7c8ea9d44",
   "metadata": {},
   "outputs": [
    {
     "name": "stdout",
     "output_type": "stream",
     "text": [
      "Intersection set is empty\n"
     ]
    }
   ],
   "source": [
    "s1={22,33,11,55,-10,-12}\n",
    "s2={2,10,-33,12}\n",
    "if len(s1.intersection(s2))==0:\n",
    "    print(\"Intersection set is empty\")\n",
    "else:\n",
    "    print(\"Intersection set is not empty\")"
   ]
  },
  {
   "cell_type": "markdown",
   "id": "6460e1f6-a0a2-4b77-8a7b-a5a90a7de962",
   "metadata": {},
   "source": [
    "# 42. Create a set of the first 5 Fibonacci numbers."
   ]
  },
  {
   "cell_type": "code",
   "execution_count": 59,
   "id": "38e58f2c-77e5-478e-9662-b39b248c7a6f",
   "metadata": {},
   "outputs": [
    {
     "data": {
      "text/plain": [
       "{1, 2, 3, 5, 8, 13, 21}"
      ]
     },
     "execution_count": 59,
     "metadata": {},
     "output_type": "execute_result"
    }
   ],
   "source": [
    "n1=0\n",
    "n2=1\n",
    "s=set()\n",
    "for i in range(7):\n",
    "    n3=n1+n2\n",
    "    s.add(n3)\n",
    "    n1,n2=n2,n3\n",
    "s   "
   ]
  },
  {
   "cell_type": "markdown",
   "id": "4a0f9138-ae18-4f7a-b09a-fa3d6fda7a3e",
   "metadata": {},
   "source": [
    "# 43. Remove duplicates from a list using sets."
   ]
  },
  {
   "cell_type": "code",
   "execution_count": 60,
   "id": "b9a0a566-6adb-4f09-8c9d-1971727b0aa2",
   "metadata": {},
   "outputs": [
    {
     "data": {
      "text/plain": [
       "[1, 2, 3, 4, 5]"
      ]
     },
     "execution_count": 60,
     "metadata": {},
     "output_type": "execute_result"
    }
   ],
   "source": [
    "l=[1,2,3,4,5,4,3,2,1]\n",
    "l_n=list(set(l))\n",
    "l_n"
   ]
  },
  {
   "cell_type": "markdown",
   "id": "4e9add10-33e9-4358-97c2-942acd045e3b",
   "metadata": {},
   "source": [
    "# 44. Check if two sets have the same elements, regardless of their count."
   ]
  },
  {
   "cell_type": "code",
   "execution_count": 63,
   "id": "e4019396-21a0-489e-b2b8-ab1aeb3b91eb",
   "metadata": {},
   "outputs": [
    {
     "name": "stdout",
     "output_type": "stream",
     "text": [
      "False\n"
     ]
    }
   ],
   "source": [
    "l1=[1,2,3,4,5,6,2,3,4,10]\n",
    "l2=[1,2,3,4,5,6]\n",
    "if set(sorted(l1))==set(sorted(l2)):\n",
    "    \n",
    "    print(\"True\")\n",
    "else:\n",
    "    print(\"False\")"
   ]
  },
  {
   "cell_type": "markdown",
   "id": "7a52b4c8-a0a0-4faf-9ed9-a172d3a334ec",
   "metadata": {},
   "source": [
    "# 45. Create a set of the first `n` powers of 2."
   ]
  },
  {
   "cell_type": "code",
   "execution_count": 64,
   "id": "31e85f24-b58b-49db-a77b-71e0e691b6ae",
   "metadata": {},
   "outputs": [
    {
     "name": "stdin",
     "output_type": "stream",
     "text": [
      "enter n 6\n"
     ]
    },
    {
     "data": {
      "text/plain": [
       "{2, 4, 8, 16, 32, 64}"
      ]
     },
     "execution_count": 64,
     "metadata": {},
     "output_type": "execute_result"
    }
   ],
   "source": [
    "n=int(input('enter n'))\n",
    "s={2**i for i in range(1,n+1)}\n",
    "s"
   ]
  },
  {
   "cell_type": "markdown",
   "id": "9aa1c59d-bed8-4d85-8820-1fecff305deb",
   "metadata": {},
   "source": [
    "# 46. Find the common elements between a set and a list."
   ]
  },
  {
   "cell_type": "code",
   "execution_count": 67,
   "id": "ee6a5e32-b871-4d2a-9a8f-23ecc2ae2b61",
   "metadata": {},
   "outputs": [
    {
     "name": "stdout",
     "output_type": "stream",
     "text": [
      "[4, 5, 'a']\n"
     ]
    }
   ],
   "source": [
    "s={1,2,3,4,5,'a','z'}\n",
    "l=[4,5,6,7,10,'a']\n",
    "l=set(l)\n",
    "l1=[i for i in s if i in l]\n",
    "print(l1)"
   ]
  },
  {
   "cell_type": "markdown",
   "id": "a43b3dc6-97ef-42af-9c3a-7ceae736159b",
   "metadata": {},
   "source": [
    "# 47. Create a set of the first `n` triangular numbers."
   ]
  },
  {
   "cell_type": "code",
   "execution_count": 71,
   "id": "6a5e08cd-806d-4f42-8b45-0b4c2ddd4192",
   "metadata": {},
   "outputs": [
    {
     "name": "stdin",
     "output_type": "stream",
     "text": [
      "Enter n 7\n"
     ]
    },
    {
     "data": {
      "text/plain": [
       "{1, 2, 6, 8, 15, 18}"
      ]
     },
     "execution_count": 71,
     "metadata": {},
     "output_type": "execute_result"
    }
   ],
   "source": [
    "n=int(input(\"Enter n\"))\n",
    "s={i*int((i+1)/2) for i in range(1,n)}\n",
    "s"
   ]
  },
  {
   "cell_type": "markdown",
   "id": "125680d3-ccca-4ee2-b7dd-fade62f199fa",
   "metadata": {},
   "source": [
    "# 48. Check if a set contains another set as a subset."
   ]
  },
  {
   "cell_type": "code",
   "execution_count": 75,
   "id": "0f49bd1a-f171-4922-82c1-418727dc6f49",
   "metadata": {},
   "outputs": [
    {
     "name": "stdout",
     "output_type": "stream",
     "text": [
      "Set 2 is not a subset of Set 1\n"
     ]
    }
   ],
   "source": [
    "s1={1,2,3,4,5}\n",
    "s2={5,4,6}\n",
    "if s2.issubset(s1):\n",
    "    print(\"set 2 is a subset of Set 1\")\n",
    "else:\n",
    "    print(\"Set 2 is not a subset of Set 1\") "
   ]
  },
  {
   "cell_type": "markdown",
   "id": "7e5ca034-c361-4f80-b296-95f102f9c5a2",
   "metadata": {},
   "source": [
    "# 49. Create a set of alternating 1s and 0s of length `n`."
   ]
  },
  {
   "cell_type": "code",
   "execution_count": 80,
   "id": "a2e31997-b20b-42fc-8827-7465cc09c897",
   "metadata": {},
   "outputs": [
    {
     "name": "stdin",
     "output_type": "stream",
     "text": [
      "Enter n 7\n"
     ]
    },
    {
     "name": "stdout",
     "output_type": "stream",
     "text": [
      "[1, 0, 1, 0, 1, 0, 1]\n"
     ]
    },
    {
     "data": {
      "text/plain": [
       "{0, 1}"
      ]
     },
     "execution_count": 80,
     "metadata": {},
     "output_type": "execute_result"
    }
   ],
   "source": [
    "n=int(input('Enter n'))\n",
    "l=[0 if i%2!=0 else 1 for i in range(n)]\n",
    "print(l)\n",
    "s={0 if i%2!=0 else 1 for i in range(n)}\n",
    "s"
   ]
  },
  {
   "cell_type": "markdown",
   "id": "55277992-9c98-442c-b689-f2669ddea1c8",
   "metadata": {},
   "source": [
    "# 50. Merge multiple sets into one."
   ]
  },
  {
   "cell_type": "code",
   "execution_count": 81,
   "id": "5e69edbe-c1c1-4db9-a4b9-ca94355eb619",
   "metadata": {},
   "outputs": [
    {
     "name": "stdout",
     "output_type": "stream",
     "text": [
      "{2, 3, 4, 6, 7, 10, 51}\n"
     ]
    }
   ],
   "source": [
    "s1={2,3,4,51}\n",
    "s2={2,3,6,7,10}\n",
    "print(s1.union(s2))"
   ]
  },
  {
   "cell_type": "code",
   "execution_count": null,
   "id": "4736eff7-89b2-41ee-a140-fd46c07271c3",
   "metadata": {},
   "outputs": [],
   "source": []
  }
 ],
 "metadata": {
  "kernelspec": {
   "display_name": "Python 3 (ipykernel)",
   "language": "python",
   "name": "python3"
  },
  "language_info": {
   "codemirror_mode": {
    "name": "ipython",
    "version": 3
   },
   "file_extension": ".py",
   "mimetype": "text/x-python",
   "name": "python",
   "nbconvert_exporter": "python",
   "pygments_lexer": "ipython3",
   "version": "3.10.8"
  }
 },
 "nbformat": 4,
 "nbformat_minor": 5
}
