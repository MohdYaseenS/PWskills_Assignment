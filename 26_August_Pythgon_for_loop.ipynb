{
 "cells": [
  {
   "cell_type": "markdown",
   "id": "3d909533-3308-498c-a040-bc23bb25f486",
   "metadata": {},
   "source": [
    "# for loop assignment"
   ]
  },
  {
   "cell_type": "markdown",
   "id": "65425991-f3ed-45a0-bd9a-ff5244a9573b",
   "metadata": {},
   "source": [
    "# 1. Write a Python program to print the numbers from 1 to 10 using a `for` loop."
   ]
  },
  {
   "cell_type": "code",
   "execution_count": 1,
   "id": "d3d8cd08-6085-4e44-8e51-717ca04727ac",
   "metadata": {},
   "outputs": [
    {
     "name": "stdout",
     "output_type": "stream",
     "text": [
      "1 2 3 4 5 6 7 8 9 10 "
     ]
    }
   ],
   "source": [
    "for i in range(10):\n",
    "    print(i+1,end=\" \")"
   ]
  },
  {
   "cell_type": "markdown",
   "id": "f656f69b-ae29-4de9-931e-0ae3862589d7",
   "metadata": {},
   "source": [
    "# 2. Create a program that calculates the sum of all numbers in a list using a `for` loop."
   ]
  },
  {
   "cell_type": "code",
   "execution_count": 2,
   "id": "7f26d732-2d30-4b2c-8017-48237fa4d0e1",
   "metadata": {},
   "outputs": [
    {
     "name": "stdout",
     "output_type": "stream",
     "text": [
      "Sum= 150\n"
     ]
    }
   ],
   "source": [
    "l=[10,20,30,40,50]\n",
    "s=0\n",
    "for i in l:\n",
    "    s+=i\n",
    "print(\"Sum=\",s)"
   ]
  },
  {
   "cell_type": "markdown",
   "id": "ed4eb881-5862-4302-9ac2-c6169560ad62",
   "metadata": {},
   "source": [
    "# 3. Write a program to print the characters of a string in reverse order using a `for` loop."
   ]
  },
  {
   "cell_type": "code",
   "execution_count": 3,
   "id": "e981f820-5a66-4329-a174-c6608e6cb8e4",
   "metadata": {},
   "outputs": [
    {
     "name": "stdout",
     "output_type": "stream",
     "text": [
      "!!  gnirts\n"
     ]
    }
   ],
   "source": [
    "s=\"string  !!\"\n",
    "s_r=\"\"\n",
    "for i in range(len(s)):\n",
    "    s_r+=s[len(s)-i-1]\n",
    "print(s_r)"
   ]
  },
  {
   "cell_type": "markdown",
   "id": "fcb3f17e-7b9f-4808-bae2-21ef9980cd60",
   "metadata": {},
   "source": [
    "# 4. Develop a program that finds the factorial of a given number using a `for` loop."
   ]
  },
  {
   "cell_type": "code",
   "execution_count": 4,
   "id": "d04642fd-ab5b-48ff-92c9-cfda83ac6402",
   "metadata": {},
   "outputs": [
    {
     "name": "stdin",
     "output_type": "stream",
     "text": [
      "enter a number 6\n"
     ]
    },
    {
     "name": "stdout",
     "output_type": "stream",
     "text": [
      "Factorial = 720\n"
     ]
    }
   ],
   "source": [
    "n=int(input(\"enter a number\"))\n",
    "fact=1\n",
    "for i in range(n):\n",
    "    fact*=(i+1)\n",
    "print(\"Factorial =\",fact)"
   ]
  },
  {
   "cell_type": "markdown",
   "id": "c02c8298-d473-41e7-be8e-287cba43365e",
   "metadata": {},
   "source": [
    "# 5. Create a program to print the multiplication table of a given number using a `for` loop.|"
   ]
  },
  {
   "cell_type": "code",
   "execution_count": 5,
   "id": "24b55212-6f05-4fb3-af48-f428633107fd",
   "metadata": {},
   "outputs": [
    {
     "name": "stdin",
     "output_type": "stream",
     "text": [
      "enter a number 23\n",
      "Enter the no of multiples 6\n"
     ]
    },
    {
     "name": "stdout",
     "output_type": "stream",
     "text": [
      "23 46 69 92 115 138 "
     ]
    }
   ],
   "source": [
    "n=int(input(\"enter a number\"))\n",
    "s=int(input(\"Enter the no of multiples\"))\n",
    "for i in range(s):\n",
    "    print((i+1)*n,end=\" \")\n"
   ]
  },
  {
   "cell_type": "markdown",
   "id": "2150a069-f6e9-4636-8350-732fb3e6637b",
   "metadata": {},
   "source": [
    "# 6. Write a program that counts the number of even and odd numbers in a list using a `for` loop."
   ]
  },
  {
   "cell_type": "code",
   "execution_count": 6,
   "id": "3d79e1f9-395d-4064-a615-b8f0e480e72e",
   "metadata": {},
   "outputs": [
    {
     "name": "stdin",
     "output_type": "stream",
     "text": [
      "enter number of elements in the list 7\n",
      " 1\n",
      " 2\n",
      " 3\n",
      " 4\n",
      " 5\n",
      " 6\n",
      " 7\n"
     ]
    },
    {
     "name": "stdout",
     "output_type": "stream",
     "text": [
      "Even= 3\n",
      "odd= 4\n"
     ]
    }
   ],
   "source": [
    "n=int(input(\"enter number of elements in the list\"))\n",
    "even,odd=0,0\n",
    "l=[int(input())for i in range(n)]\n",
    "for i in l:\n",
    "    if i%2==0:\n",
    "        even+=1\n",
    "    else:\n",
    "        odd+=1\n",
    "print('Even=',even)\n",
    "print(\"odd=\",odd)"
   ]
  },
  {
   "cell_type": "markdown",
   "id": "2e8b00c1-e99f-4bb5-84ef-4b143a5c4991",
   "metadata": {},
   "source": [
    "# 7. Develop a program that prints the squares of numbers from 1 to 5 using a `for` loop."
   ]
  },
  {
   "cell_type": "code",
   "execution_count": 7,
   "id": "c2fd52c0-ab3f-49ab-b777-6d4ded55a8fd",
   "metadata": {},
   "outputs": [
    {
     "name": "stdout",
     "output_type": "stream",
     "text": [
      "1 4 9 16 25 "
     ]
    }
   ],
   "source": [
    "for i in range(5):\n",
    "    print((i+1)**2,end=' ')\n",
    "    "
   ]
  },
  {
   "cell_type": "markdown",
   "id": "6113faca-1405-4b47-9b5d-afcee2208171",
   "metadata": {},
   "source": [
    "# 8. Create a program to find the length of a string without using the `len()` function."
   ]
  },
  {
   "cell_type": "code",
   "execution_count": 8,
   "id": "1862e093-4888-4d94-8100-c550a33aa73e",
   "metadata": {},
   "outputs": [
    {
     "name": "stdin",
     "output_type": "stream",
     "text": [
      "Enter a String gahftf\n"
     ]
    },
    {
     "name": "stdout",
     "output_type": "stream",
     "text": [
      "Length of the string = 6\n"
     ]
    }
   ],
   "source": [
    "input_string=input(\"Enter a String\")\n",
    "l=0\n",
    "for i in input_string:\n",
    "    l+=1\n",
    "print(\"Length of the string =\",l)"
   ]
  },
  {
   "cell_type": "markdown",
   "id": "8404c100-5e49-4a63-a93d-789157028525",
   "metadata": {},
   "source": [
    "# 9. Write a program that calculates the average of a list of numbers using a `for` loop."
   ]
  },
  {
   "cell_type": "code",
   "execution_count": 9,
   "id": "b105f323-5393-4422-bfb9-52cd909e10fb",
   "metadata": {},
   "outputs": [
    {
     "name": "stdin",
     "output_type": "stream",
     "text": [
      "enter number of elements 5\n",
      " 1\n",
      " 2\n",
      " 3\n",
      " 4\n",
      " 5\n"
     ]
    },
    {
     "name": "stdout",
     "output_type": "stream",
     "text": [
      "3.0\n"
     ]
    }
   ],
   "source": [
    "n=int(input(\"enter number of elements\"))\n",
    "avg,s=0,0\n",
    "l=[int(input()) for i in range(n)]\n",
    "for i in l:\n",
    "    s+=i\n",
    "avg=s/n\n",
    "print(avg)"
   ]
  },
  {
   "cell_type": "markdown",
   "id": "7f000269-4e63-4f8b-ba05-38644c8bfb97",
   "metadata": {},
   "source": [
    "# 10. Develop a program that prints the first `n` Fibonacci numbers using a `for` loop."
   ]
  },
  {
   "cell_type": "code",
   "execution_count": 22,
   "id": "805276aa-a339-45ce-a4ff-f8d84c9dcba8",
   "metadata": {},
   "outputs": [
    {
     "name": "stdin",
     "output_type": "stream",
     "text": [
      "Enter n 10\n"
     ]
    },
    {
     "name": "stdout",
     "output_type": "stream",
     "text": [
      "1 1 2 3 5 8 13 21 34 55 "
     ]
    }
   ],
   "source": [
    "n=int(input(\"Enter n\"))\n",
    "n1=1\n",
    "n2=1\n",
    "n3=0\n",
    "print(n1,end=' ')\n",
    "print(n2,end=' ')\n",
    "for i in range(n-2):\n",
    "    n3=n2+n1\n",
    "    n1=n2\n",
    "    n2=n3\n",
    "    print(n3,end=' ')"
   ]
  },
  {
   "cell_type": "markdown",
   "id": "4b0938d2-83ae-4c13-96f3-f572790c1058",
   "metadata": {},
   "source": [
    "# 11. Write a program to check if a given list contains any duplicates using a `for` loop."
   ]
  },
  {
   "cell_type": "code",
   "execution_count": 13,
   "id": "47ab1c79-c6e1-4d42-8c5f-c5000cc2676e",
   "metadata": {},
   "outputs": [
    {
     "name": "stdout",
     "output_type": "stream",
     "text": [
      "The list contains duplicate values\n"
     ]
    }
   ],
   "source": [
    "l=[1,2,5,4,2]\n",
    "l2=l.copy()\n",
    "for i in l:\n",
    "    l.remove(i)\n",
    "    if i not in l:\n",
    "        continue\n",
    "    else:\n",
    "        print(\"The list contains duplicate values\")\n",
    "        break\n",
    "    l=l2\n",
    "else:\n",
    "    print(\"The list does not contain duplicate values\")\n"
   ]
  },
  {
   "cell_type": "markdown",
   "id": "bdf42f4f-5e98-4c3f-88bc-d56fff49c036",
   "metadata": {},
   "source": [
    "# 12. Create a program that prints the prime numbers in a given range using a `for` loop."
   ]
  },
  {
   "cell_type": "code",
   "execution_count": 1,
   "id": "5f91bb67-056d-494e-a472-2efe646c396d",
   "metadata": {},
   "outputs": [
    {
     "name": "stdin",
     "output_type": "stream",
     "text": [
      "Enter the lower and upper range 20\n",
      "Enter the lower and upper range 100\n"
     ]
    },
    {
     "name": "stdout",
     "output_type": "stream",
     "text": [
      "23 29 31 37 41 43 47 53 59 61 67 71 73 79 83 89 97 "
     ]
    }
   ],
   "source": [
    "l=[int(input('Enter the lower and upper range')) for i in range(2)]\n",
    "lower=l[0]\n",
    "upper=l[1]\n",
    "if lower<upper:\n",
    "  for i in range(lower,upper+1):\n",
    "    c=0\n",
    "    for j in range(2,int((i+1)/2)):\n",
    "      if i%j==0:\n",
    "        c+=1\n",
    "    if c==0:\n",
    "      print(i,end=\" \")"
   ]
  },
  {
   "cell_type": "markdown",
   "id": "decfd3ee-b3d0-48fa-9a64-2ed4aca5224e",
   "metadata": {},
   "source": [
    "# 13. Develop a program that counts the number of vowels in a string using a `for` loop."
   ]
  },
  {
   "cell_type": "code",
   "execution_count": 2,
   "id": "1a43025c-5ca4-4e87-9849-194bf1cde004",
   "metadata": {},
   "outputs": [
    {
     "name": "stdin",
     "output_type": "stream",
     "text": [
      " hi there ThiS Is A test .,MessaGE\n"
     ]
    },
    {
     "name": "stdout",
     "output_type": "stream",
     "text": [
      "10\n"
     ]
    }
   ],
   "source": [
    "s=input()\n",
    "c=0\n",
    "for i in s:\n",
    "  if i in 'aeiou' or i in 'AEIOU':\n",
    "    c+=1\n",
    "print(c)"
   ]
  },
  {
   "cell_type": "markdown",
   "id": "ee636e87-b0ad-4b05-b7f0-907ab832fb37",
   "metadata": {},
   "source": [
    "# 14. Write a program to find the maximum element in a 2D list using a nested `for` loop."
   ]
  },
  {
   "cell_type": "code",
   "execution_count": 3,
   "id": "174093c7-48ef-40eb-81e3-6b265683fbed",
   "metadata": {},
   "outputs": [
    {
     "name": "stdout",
     "output_type": "stream",
     "text": [
      "[[1, 22, 34], [45, 87, 32], [1, 1]]\n",
      "87\n"
     ]
    }
   ],
   "source": [
    "l=[[1,22,34],[45,87,32],[1,1]]\n",
    "print(l)\n",
    "lar=l[0][0]\n",
    "for i in range(len(l)):\n",
    "  for j in range(len(l[i])):\n",
    "    if l[i][j]>lar:\n",
    "      lar=l[i][j]\n",
    "print(lar)"
   ]
  },
  {
   "cell_type": "markdown",
   "id": "40690a25-4997-439f-bf9b-38e4140fabbb",
   "metadata": {},
   "source": [
    "# 15. Create a program that removes all occurrences of a specific element from a list using a `for` loop."
   ]
  },
  {
   "cell_type": "code",
   "execution_count": 18,
   "id": "ff068a87-dbfc-497a-9f78-0dd78e2135a9",
   "metadata": {},
   "outputs": [
    {
     "name": "stdout",
     "output_type": "stream",
     "text": [
      "[1, 2, 3, 4, 5]\n"
     ]
    }
   ],
   "source": [
    "l=[1,'a',2,3,'a',4,5,'a','a']\n",
    "l2=l.copy()\n",
    "for i in l2:\n",
    "    if i=='a':\n",
    "        l.remove(i)\n",
    "print(l)"
   ]
  },
  {
   "cell_type": "markdown",
   "id": "f680d814-52fb-4935-8783-7dfacb9b848f",
   "metadata": {},
   "source": [
    "# 16. Develop a program that generates a multiplication table for numbers from 1 to 5 using a nested `for` loop."
   ]
  },
  {
   "cell_type": "code",
   "execution_count": 5,
   "id": "884ff045-1b37-42de-a63c-863c39cc584b",
   "metadata": {},
   "outputs": [
    {
     "name": "stdin",
     "output_type": "stream",
     "text": [
      " 7\n"
     ]
    },
    {
     "name": "stdout",
     "output_type": "stream",
     "text": [
      "1 2 3 4 5 \n",
      "2 4 6 8 10 \n",
      "3 6 9 12 15 \n",
      "4 8 12 16 20 \n",
      "5 10 15 20 25 \n",
      "6 12 18 24 30 \n",
      "7 14 21 28 35 \n"
     ]
    }
   ],
   "source": [
    "n=int(input())\n",
    "for i in range(n):\n",
    "  for j in range(5):\n",
    "    print((i+1)*(j+1),end=' ')\n",
    "  print()"
   ]
  },
  {
   "cell_type": "markdown",
   "id": "de76d292-f534-445d-a320-5c9ca2623c7c",
   "metadata": {},
   "source": [
    "# 17. Write a program that converts a list of Fahrenheit temperatures to Celsius using a `for` loop."
   ]
  },
  {
   "cell_type": "code",
   "execution_count": 6,
   "id": "f04b48b6-5ec1-4e05-8388-68c48c727265",
   "metadata": {},
   "outputs": [
    {
     "name": "stdout",
     "output_type": "stream",
     "text": [
      "[-40, -38, -36, -22, 28, 40, 43]\n"
     ]
    }
   ],
   "source": [
    "f=[-40,-36.4,-32.8,-7.6,82.4,104,109.4]\n",
    "c=[]\n",
    "for i in f:\n",
    "  s=(5/9)*(i-32)\n",
    "  c.append(int(s))\n",
    "print(c)"
   ]
  },
  {
   "cell_type": "markdown",
   "id": "fe2bd7b7-2214-427e-a58f-93853f3d5521",
   "metadata": {},
   "source": [
    "# 18. Create a program to print the common elements from two lists using a `for` loop."
   ]
  },
  {
   "cell_type": "code",
   "execution_count": 12,
   "id": "eedf98e1-ff42-43fe-8a7f-6089b9b6348e",
   "metadata": {},
   "outputs": [
    {
     "name": "stdout",
     "output_type": "stream",
     "text": [
      "[2, 'b', 'p', 5]\n"
     ]
    }
   ],
   "source": [
    "l1=['b',2,3,5,'p','s','p',2]\n",
    "l2=['p',5,4,1,10,2,'b','p']\n",
    "c=[]\n",
    "for i in l1:\n",
    "  for j in l2:\n",
    "    if i==j:\n",
    "      c.append(j)\n",
    "print(list(set(c)))"
   ]
  },
  {
   "cell_type": "markdown",
   "id": "37956cf5-af47-471f-9d6c-a2092193a8da",
   "metadata": {},
   "source": [
    "# 19. Develop a program that prints the pattern of right-angled triangles using a `for` loop. Use ‘*’ to draw the pattern"
   ]
  },
  {
   "cell_type": "code",
   "execution_count": 14,
   "id": "67029fea-ef17-4c77-b0d9-75e76d27ffc3",
   "metadata": {},
   "outputs": [
    {
     "name": "stdin",
     "output_type": "stream",
     "text": [
      " 7\n"
     ]
    },
    {
     "name": "stdout",
     "output_type": "stream",
     "text": [
      "* \n",
      "* * \n",
      "* * * \n",
      "* * * * \n",
      "* * * * * \n",
      "* * * * * * \n",
      "* * * * * * * \n"
     ]
    }
   ],
   "source": [
    "n=int(input())\n",
    "for i in range(n):\n",
    "  for j in range(i+1):\n",
    "    print(\"*\",end=' ')\n",
    "  print()"
   ]
  },
  {
   "cell_type": "markdown",
   "id": "3b119ccb-9234-4b99-8a63-c79acf636d83",
   "metadata": {},
   "source": [
    "# 20. Write a program to find the greatest common divisor (GCD) of two numbers using a `for` loop."
   ]
  },
  {
   "cell_type": "code",
   "execution_count": 19,
   "id": "010e794b-a180-4dde-93bc-566644dee67e",
   "metadata": {},
   "outputs": [
    {
     "name": "stdin",
     "output_type": "stream",
     "text": [
      " 30\n",
      " 126\n"
     ]
    },
    {
     "name": "stdout",
     "output_type": "stream",
     "text": [
      "[1, 2, 3, 5, 6, 10, 15, 30]\n",
      "[1, 2, 3, 6, 7, 9, 14, 18, 21, 42, 63, 126]\n",
      "6\n"
     ]
    }
   ],
   "source": [
    "n1=int(input())\n",
    "n2=int(input())\n",
    "l1=[]\n",
    "l2=[]\n",
    "gcd=0\n",
    "for i in range(1,n1+1):\n",
    "  if n1 % i==0:\n",
    "    l1.append(i)\n",
    "for i in range(1,n2+1):\n",
    "  if n2 % i==0:\n",
    "    l2.append(i)\n",
    "l1.sort()\n",
    "l2.sort()\n",
    "print(l1)\n",
    "print(l2)\n",
    "for i in l1:\n",
    "  for j in l2:\n",
    "    if i==j:\n",
    "      gcd=j\n",
    "print(gcd)"
   ]
  },
  {
   "cell_type": "markdown",
   "id": "d0a26f75-eb82-4697-98b7-5417190a2ebe",
   "metadata": {},
   "source": [
    "# 21. Create a program that calculates the sum of the digits of numbers in a list using a list comprehension."
   ]
  },
  {
   "cell_type": "code",
   "execution_count": 2,
   "id": "edd8f20f-b87b-4472-9766-5e5bb94faf84",
   "metadata": {},
   "outputs": [
    {
     "name": "stdout",
     "output_type": "stream",
     "text": [
      "40\n"
     ]
    }
   ],
   "source": [
    "l=[1,2,3,4,5,10,15]\n",
    "s=0\n",
    "[s:=s+i for i in l]\n",
    "print(s)"
   ]
  },
  {
   "cell_type": "markdown",
   "id": "ddff9dfc-94ed-40de-a6e9-e278e1f03a10",
   "metadata": {},
   "source": [
    "# 22. Write a program to find the prime factors of a given number using a `for` loop and list comprehension."
   ]
  },
  {
   "cell_type": "code",
   "execution_count": 25,
   "id": "ebabeb17-a8a1-40e1-8ddb-c31c10862ad8",
   "metadata": {},
   "outputs": [
    {
     "name": "stdin",
     "output_type": "stream",
     "text": [
      "Enter the number 140\n"
     ]
    },
    {
     "name": "stdout",
     "output_type": "stream",
     "text": [
      "[2, 5, 7]\n"
     ]
    }
   ],
   "source": [
    "def is_prime(num):\n",
    "    if num<=0:\n",
    "        return False\n",
    "    for i in range(2,int(num/2)+1):\n",
    "        if num%i==0:\n",
    "            return False\n",
    "    else:\n",
    "        return True\n",
    "n=int(input(\"Enter the number\"))\n",
    "l=[i for i in range(2,int((n+1)/2)) if n%i==0 and is_prime(i)]\n",
    "print(l)"
   ]
  },
  {
   "cell_type": "markdown",
   "id": "2e0eb0a1-35dd-4798-9e3c-4e189a08b339",
   "metadata": {},
   "source": [
    "# 23. Develop a program that extracts unique elements from a list and stores them in a new list using a list comprehension"
   ]
  },
  {
   "cell_type": "code",
   "execution_count": 45,
   "id": "059cb69c-f9bf-40de-b96c-d00850b0e4c7",
   "metadata": {},
   "outputs": [
    {
     "name": "stdout",
     "output_type": "stream",
     "text": [
      "[1, 2, 3, 'a', ',', 'b']\n"
     ]
    }
   ],
   "source": [
    "l1=[1,2,3,2,1,3,'a','a',',','b']\n",
    "l2=[]\n",
    "[l2.append(x) for x in l1 if x not in l2]\n",
    "print(l2)"
   ]
  },
  {
   "cell_type": "markdown",
   "id": "9fcff3bb-13fd-43d1-9297-fcf0c07e3311",
   "metadata": {},
   "source": [
    "# 24. Create a program that generates a list of all palindromic numbers up to a specified limit using a list comprehension"
   ]
  },
  {
   "cell_type": "code",
   "execution_count": 50,
   "id": "efe2e34e-fcd7-44ce-a55d-2f427098ed10",
   "metadata": {},
   "outputs": [
    {
     "name": "stdin",
     "output_type": "stream",
     "text": [
      "Enter a lower Range 100\n",
      "Enter an upper range 400\n"
     ]
    },
    {
     "name": "stdout",
     "output_type": "stream",
     "text": [
      "[101, 111, 121, 131, 141, 151, 161, 171, 181, 191, 202, 212, 222, 232, 242, 252, 262, 272, 282, 292, 303, 313, 323, 333, 343, 353, 363, 373, 383, 393]\n"
     ]
    }
   ],
   "source": [
    "lower=int(input(\"Enter a lower Range\"))\n",
    "upper=int(input(\"Enter an upper range\"))\n",
    "l=[x for x in range(lower,upper+1) if str(x)==str(x)[::-1]]\n",
    "print(l)"
   ]
  },
  {
   "cell_type": "markdown",
   "id": "79e71888-84fb-446a-8ee8-24000e5d18af",
   "metadata": {},
   "source": [
    "# 25. Write a program to flatten a nested list using list comprehension."
   ]
  },
  {
   "cell_type": "code",
   "execution_count": 55,
   "id": "3b56933b-fbb8-4634-b0a1-3d7f7bc08d7d",
   "metadata": {},
   "outputs": [
    {
     "name": "stdout",
     "output_type": "stream",
     "text": [
      "[1, 2, 3, 4, 5, 6, 'a', 'b', 'c', 'd', 'y', 'z']\n"
     ]
    }
   ],
   "source": [
    "l=[[1,2,3],[4,5,6],['a','b','c','d','y','z']]\n",
    "l_f=[i for x in l for i in x]\n",
    "print(l_f)"
   ]
  },
  {
   "cell_type": "markdown",
   "id": "ecc1a507-760e-470b-956d-af767c65ef66",
   "metadata": {},
   "source": [
    "# 26. Develop a program that computes the sum of even and odd numbers in a list separately using list comprehension.\n"
   ]
  },
  {
   "cell_type": "code",
   "execution_count": 66,
   "id": "bad50da4-bcd0-4909-a8df-0c56c349f066",
   "metadata": {},
   "outputs": [
    {
     "name": "stdout",
     "output_type": "stream",
     "text": [
      "sum of even numbers = 42\n",
      "sum of odd numbers = 36\n"
     ]
    }
   ],
   "source": [
    "s_even=0\n",
    "s_odd=0\n",
    "l=[1,2,3,4,5,6,7,8,9,10,11,12,1]\n",
    "s_e=[s_even+i for i in l if i%2==0]\n",
    "s_o=[s_odd+i for i in l if i%2!=0]\n",
    "print(\"sum of even numbers =\",sum(s_e))\n",
    "print(\"sum of odd numbers =\",sum(s_o))"
   ]
  },
  {
   "cell_type": "markdown",
   "id": "fbba8ee3-85aa-468e-a520-66c74309915d",
   "metadata": {},
   "source": [
    "# 27. Create a program that generates a list of squares of odd numbers between 1 and 10 using list comprehension.\n"
   ]
  },
  {
   "cell_type": "code",
   "execution_count": 2,
   "id": "bad0efc5-4cce-495c-9301-b9e62f46dcc8",
   "metadata": {},
   "outputs": [
    {
     "name": "stdout",
     "output_type": "stream",
     "text": [
      "[1, 9, 25, 49, 81]\n"
     ]
    }
   ],
   "source": [
    "l=[i*i for i in range(10) if i%2!=0]\n",
    "print(l)"
   ]
  },
  {
   "cell_type": "markdown",
   "id": "33804198-9243-4e66-9373-8b0692e62070",
   "metadata": {},
   "source": [
    "# 28. Write a program that combines two lists into a dictionary using list comprehension."
   ]
  },
  {
   "cell_type": "code",
   "execution_count": 10,
   "id": "947dd0f2-e0cf-4f58-8ad5-2070c48ee65b",
   "metadata": {},
   "outputs": [
    {
     "name": "stdout",
     "output_type": "stream",
     "text": [
      "{'a': 5, 'b': 4, 'c': 3, 'd': 2, 'e': 1}\n",
      "{'a': 5, 'b': 4, 'c': 3, 'd': 2, 'e': 1}\n"
     ]
    }
   ],
   "source": [
    "l1=['a','b','c','d','e']\n",
    "l2=[5,4,3,2,1]\n",
    "d={}\n",
    "d={l1[i]:l2[i] for i in range(len(l1))}\n",
    "print(d)\n",
    "\n",
    "d_keys=[i for i in l1]\n",
    "d_values=[i for i in l2]\n",
    "d={d_keys[i]:d_values[i] for i in range(len(d_keys))}\n",
    "print(d)"
   ]
  },
  {
   "cell_type": "markdown",
   "id": "33f643f6-6cd4-469c-8885-a0bc22f8c08d",
   "metadata": {},
   "source": [
    "# 29. Develop a program that extracts the vowels from a string and stores them in a list using list comprehension."
   ]
  },
  {
   "cell_type": "code",
   "execution_count": 14,
   "id": "33579bc4-ee3a-4199-a03e-ce2eaa9d33d6",
   "metadata": {},
   "outputs": [
    {
     "name": "stdin",
     "output_type": "stream",
     "text": [
      "Enter a string AEIOU aeiou aeIOU\n"
     ]
    },
    {
     "name": "stdout",
     "output_type": "stream",
     "text": [
      "['A', 'E', 'I', 'O', 'U', 'a', 'e', 'i', 'o', 'u', 'a', 'e', 'I', 'O', 'U']\n",
      "['A', 'E', 'I', 'O', 'U', 'a', 'e', 'i', 'o', 'u']\n"
     ]
    }
   ],
   "source": [
    "s=input(\"Enter a string\")\n",
    "l=[i for i in s if i in'aeiouAEIOU']\n",
    "print(l)\n",
    "\n",
    "l=[]\n",
    "[l.append(i) for i in s if i in 'aeiouAEIOU' and i not in l]\n",
    "print(l)"
   ]
  },
  {
   "cell_type": "markdown",
   "id": "69fccd22-05e7-44e7-b455-d772f27b1897",
   "metadata": {},
   "source": [
    "# 30. Create a program that removes all non-numeric characters from a list of strings using list comprehension."
   ]
  },
  {
   "cell_type": "code",
   "execution_count": 20,
   "id": "4e696c96-d93b-4cdd-acf7-aa8d2437fed4",
   "metadata": {},
   "outputs": [
    {
     "name": "stdout",
     "output_type": "stream",
     "text": [
      "[1, 2, 3, 6]\n",
      "['a', 'd', '*']\n"
     ]
    }
   ],
   "source": [
    "l=['a',1,2,3,'d','*',6]\n",
    "l_n=[i for i in l if str(i).isdigit()==True]\n",
    "print(l_n)\n",
    "l_a=[i for i in l if str(i).isdigit()==False]\n",
    "print(l_a)"
   ]
  },
  {
   "cell_type": "markdown",
   "id": "5fabb138-8170-4e55-be54-459a25306482",
   "metadata": {},
   "source": [
    "# 31. Write a program to generate a list of prime numbers using the Sieve of Eratosthenes algorithm and list comprehension.\n"
   ]
  },
  {
   "cell_type": "code",
   "execution_count": null,
   "id": "16ef11fa-5535-402c-b61a-ec7e6928a5e5",
   "metadata": {},
   "outputs": [],
   "source": []
  },
  {
   "cell_type": "markdown",
   "id": "b59cf140-e38b-4fb8-8dcb-2a50648681c1",
   "metadata": {},
   "source": [
    "# 32. Create a program that generates a list of all Pythagorean triplets up to a specified limit using list comprehension.\n"
   ]
  },
  {
   "cell_type": "code",
   "execution_count": 1,
   "id": "96acaddb-000c-481c-9d09-709d8e04934b",
   "metadata": {},
   "outputs": [
    {
     "name": "stdin",
     "output_type": "stream",
     "text": [
      "Enter upper limit: 30\n"
     ]
    },
    {
     "name": "stdout",
     "output_type": "stream",
     "text": [
      "3 4 5\n",
      "8 6 10\n",
      "5 12 13\n",
      "15 8 17\n",
      "12 16 20\n",
      "7 24 25\n"
     ]
    }
   ],
   "source": [
    "n=int(input(\"Enter upper limit:\"))\n",
    "c=0\n",
    "m=2\n",
    "while(c<n):\n",
    "    for i in range(1,m+1):\n",
    "        a=m*m-i*i\n",
    "        b=2*m*i\n",
    "        c=m*m+i*i\n",
    "        if(c>n):\n",
    "            break\n",
    "        if(a==0 or b==0 or c==0):\n",
    "            break\n",
    "        print(a,b,c)\n",
    "    m=m+1\n"
   ]
  },
  {
   "cell_type": "markdown",
   "id": "32d96af1-ee08-47f8-898d-5e7fb35d2da3",
   "metadata": {},
   "source": [
    "# 33. Develop a program that generates a list of all possible combinations of two lists using list comprehension."
   ]
  },
  {
   "cell_type": "code",
   "execution_count": 6,
   "id": "72b81b41-656d-4967-9e3f-ffb95252ad15",
   "metadata": {},
   "outputs": [
    {
     "name": "stdout",
     "output_type": "stream",
     "text": [
      "[(1, 3), (1, 4), (1, 5), (2, 3), (2, 4), (2, 5), (3, 3), (3, 4), (3, 5), (4, 3), (4, 4), (4, 5), (5, 3), (5, 4), (5, 5)]\n"
     ]
    }
   ],
   "source": [
    "l1=[1,2,3,4,5]\n",
    "l2=[3,4,5]\n",
    "l3=[tuple([i,j]) for i in l1 for j in l2]\n",
    "print(l3)\n",
    "    "
   ]
  },
  {
   "cell_type": "markdown",
   "id": "6f58f3cb-3b08-4484-81ca-a141a109bae7",
   "metadata": {},
   "source": [
    "# 34. Write a program that calculates the mean, median, and mode of a list of numbers using list comprehension.\n"
   ]
  },
  {
   "cell_type": "code",
   "execution_count": 16,
   "id": "afacdb01-5b7a-4c52-8aa0-85e8b99e294b",
   "metadata": {},
   "outputs": [
    {
     "name": "stdout",
     "output_type": "stream",
     "text": [
      "[1, 1, 2, 3, 3, 3, 3, 3, 3, 4, 4, 5, 9]\n",
      "Mean =  3.3846153846153846\n",
      "Median =  3\n",
      "Mode=  [3]\n"
     ]
    }
   ],
   "source": [
    "l=[1,2,3,3,4,5,3,4,3,3,1,3,9]\n",
    "n=len(l)\n",
    "s=0\n",
    "for i in l:\n",
    "    s+=i\n",
    "mean=s/n\n",
    "l.sort()\n",
    "print(l)\n",
    "if n%2==0:\n",
    "    median=(l[n//2]+l[(n+1)//2])/2\n",
    "else:\n",
    "    median=l[(n+1)//2]\n",
    "d={}\n",
    "for i in l:\n",
    "    if i in d:\n",
    "        d[i]+=1\n",
    "    else:\n",
    "        d[i]=1\n",
    "mode=[i for i in d if d[i]==max(d.values())]\n",
    "print(\"Mean = \",mean)\n",
    "print(\"Median = \",median)\n",
    "print(\"Mode= \",mode)\n",
    "\n"
   ]
  },
  {
   "cell_type": "markdown",
   "id": "76053d53-794c-4627-af84-ce3104d9ee1f",
   "metadata": {},
   "source": [
    "# 35. Create a program that generates Pascal's triangle up to a specified number of rows using list comprehension."
   ]
  },
  {
   "cell_type": "code",
   "execution_count": null,
   "id": "36c12d05-e26e-4212-a7e1-bab69db7c0cc",
   "metadata": {},
   "outputs": [],
   "source": []
  },
  {
   "cell_type": "markdown",
   "id": "db3eed80-cad3-44d8-b652-ec79c1c12723",
   "metadata": {},
   "source": [
    "# 36. Develop a program that calculates the sum of the digits of a factorial of numbers from 1 to 5 using list comprehension."
   ]
  },
  {
   "cell_type": "code",
   "execution_count": 44,
   "id": "d8586172-2bd5-42e0-867d-15fd0d16ac7a",
   "metadata": {},
   "outputs": [
    {
     "data": {
      "text/plain": [
       "[0, 1, 2, 3, 4]"
      ]
     },
     "execution_count": 44,
     "metadata": {},
     "output_type": "execute_result"
    }
   ],
   "source": [
    "def sumDigits(num):\n",
    "    s=0\n",
    "    while(num>0):\n",
    "        s=s+num%10\n",
    "        num=int(num/10)\n",
    "    return s\n",
    "f=1\n",
    "for i in range(1,6):\n",
    "    l=[sumDigits(j) for j in range(i)]\n",
    "l"
   ]
  },
  {
   "cell_type": "markdown",
   "id": "225ddd6a-691f-4438-9586-815591abbb2c",
   "metadata": {},
   "source": [
    "# 37. Write a program that finds the longest word in a sentence using list comprehension."
   ]
  },
  {
   "cell_type": "code",
   "execution_count": 36,
   "id": "eceb01ea-3aae-4d45-adfb-68b8d344e350",
   "metadata": {},
   "outputs": [
    {
     "name": "stdin",
     "output_type": "stream",
     "text": [
      "Enter a string this is the longestt\n"
     ]
    },
    {
     "data": {
      "text/plain": [
       "['longestt']"
      ]
     },
     "execution_count": 36,
     "metadata": {},
     "output_type": "execute_result"
    }
   ],
   "source": [
    "def longest_word(s):\n",
    "    l=''\n",
    "    for i in s.split():\n",
    "         if len(i)>len(l):\n",
    "            l=i\n",
    "    return l\n",
    "s=input(\"Enter a string\")\n",
    "l_s=[i for i in s.split() if longest_word(s)==i]\n",
    "print(l_s)\n",
    "\n",
    "\n",
    "longest_word_length = max(len(word) for word in s.split())\n",
    "longest_word = [word for word in s.split() if len(word) == longest_word_length]\n",
    "print(longest_word)\n",
    "                "
   ]
  },
  {
   "cell_type": "markdown",
   "id": "989c25c3-f4ed-4935-a116-f283175e5922",
   "metadata": {},
   "source": [
    "# 38. Create a program that filters a list of strings to include only those with more than three vowels using list comprehension."
   ]
  },
  {
   "cell_type": "code",
   "execution_count": 31,
   "id": "6a1db50f-7e6a-4b54-a19d-d38f8c3a2035",
   "metadata": {},
   "outputs": [
    {
     "name": "stdin",
     "output_type": "stream",
     "text": [
      "Enter a string hi this is my firstee u pythoneee codeaio\n"
     ]
    },
    {
     "name": "stdout",
     "output_type": "stream",
     "text": [
      "['firstee', 'pythoneee', 'codeaio']\n"
     ]
    }
   ],
   "source": [
    "def no_of_vowels(s):\n",
    "    c=0\n",
    "    for i in s:\n",
    "        if i in 'aeiouAEIOU':\n",
    "            c+=1\n",
    "    return c\n",
    "s=input(\"Enter a string\")\n",
    "s=s.split()\n",
    "l=[i for i in s if no_of_vowels(i)>=3]\n",
    "print(l)"
   ]
  },
  {
   "cell_type": "markdown",
   "id": "9d5621a3-9ce3-4f3e-945a-8c974e507651",
   "metadata": {},
   "source": [
    "# 39. Develop a program that calculates the sum of the digits of numbers from 1 to 1000 using list comprehension.\n"
   ]
  },
  {
   "cell_type": "code",
   "execution_count": 27,
   "id": "57ec6c48-cf2a-4888-82c4-a9c35b71bd70",
   "metadata": {},
   "outputs": [
    {
     "name": "stdout",
     "output_type": "stream",
     "text": [
      "[1, 2, 3, 4, 5, 6, 7, 8, 9, 1, 2, 3, 4, 5, 6, 7, 8, 9, 10, 2, 3, 4, 5, 6, 7, 8, 9, 10, 11, 3, 4, 5, 6, 7, 8, 9, 10, 11, 12, 4, 5, 6, 7, 8, 9, 10, 11, 12, 13]\n"
     ]
    }
   ],
   "source": [
    "def sumDigits(num):\n",
    "    s=0\n",
    "    while(num>0):\n",
    "        s=s+num%10\n",
    "        num=int(num/10)\n",
    "    return s\n",
    "l_s=[sumDigits(i) for i in range(1,50)]\n",
    "print(l_s)"
   ]
  },
  {
   "cell_type": "markdown",
   "id": "9c092c45-fa17-4b64-8d95-3963e6677dc8",
   "metadata": {},
   "source": [
    "# 40. Write a program that generates a list of prime palindromic numbers using list comprehension."
   ]
  },
  {
   "cell_type": "code",
   "execution_count": 7,
   "id": "332bc92e-d146-4e91-8331-74797ac98efe",
   "metadata": {},
   "outputs": [
    {
     "name": "stdin",
     "output_type": "stream",
     "text": [
      " 200\n"
     ]
    },
    {
     "name": "stdout",
     "output_type": "stream",
     "text": [
      "[1, 2, 3, 5, 7, 11, 101, 131, 151, 181, 191]\n"
     ]
    }
   ],
   "source": [
    "n=int(input())\n",
    "def is_prime(num):\n",
    "    if num<=0:\n",
    "        return False\n",
    "    for i in range(2,int(num/2)+1):\n",
    "        if num%i==0:\n",
    "            return False\n",
    "    else:\n",
    "        return True\n",
    "l=[i for i in range(n) if is_prime(i) and str(i)==(str(i)[::-1])]\n",
    "print(l)"
   ]
  },
  {
   "cell_type": "code",
   "execution_count": null,
   "id": "9a2f4402-93a7-4216-8399-a181a61fdadd",
   "metadata": {},
   "outputs": [],
   "source": []
  }
 ],
 "metadata": {
  "kernelspec": {
   "display_name": "Python 3 (ipykernel)",
   "language": "python",
   "name": "python3"
  },
  "language_info": {
   "codemirror_mode": {
    "name": "ipython",
    "version": 3
   },
   "file_extension": ".py",
   "mimetype": "text/x-python",
   "name": "python",
   "nbconvert_exporter": "python",
   "pygments_lexer": "ipython3",
   "version": "3.10.8"
  }
 },
 "nbformat": 4,
 "nbformat_minor": 5
}
