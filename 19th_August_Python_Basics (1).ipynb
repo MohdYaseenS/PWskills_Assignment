{
 "cells": [
  {
   "cell_type": "markdown",
   "id": "4f57d185-4b6d-4f32-8168-3dded0b7e5a4",
   "metadata": {},
   "source": [
    "# 1. Swapping of two variables without using temporary variable\n",
    "In python we can swap two integers, strings, floats etc. just with the assignment operator."
   ]
  },
  {
   "cell_type": "code",
   "execution_count": null,
   "id": "e2a9298a-b31b-4854-b87a-aca968a64d7e",
   "metadata": {},
   "outputs": [],
   "source": [
    "x=int(input(\"Enter the first number 'x'.\"))   # Inputing the first integer\n",
    "y=int(input(\"Enter the second  number 'y'.\")) # inputing the second integer\n",
    "print(\"Before swapping: \",\"x= \",x,\"  y= \",y )\n",
    "x,y=y,x                                       # swapping the two integers\n",
    "print(\"After swapping:  \",\"x= \",x,\"  y= \",y )"
   ]
  },
  {
   "cell_type": "markdown",
   "id": "5d05b69a-6525-4b8b-9e49-901b4250eae6",
   "metadata": {},
   "source": [
    "# 2. Program to find the area of a Rectangle"
   ]
  },
  {
   "cell_type": "code",
   "execution_count": 6,
   "id": "3c6e9403-2a47-40a5-a84a-0235bbdcdb4f",
   "metadata": {},
   "outputs": [
    {
     "name": "stdin",
     "output_type": "stream",
     "text": [
      "Enter the length of the rectangle 10.24\n",
      "Enter the breadth of the rectangle 24.57\n"
     ]
    },
    {
     "name": "stdout",
     "output_type": "stream",
     "text": [
      "Area of the Rectangle with length:  10.24  and breadth:  24.57  = 251.5968\n"
     ]
    }
   ],
   "source": [
    "length=float(input('Enter the length of the rectangle'))\n",
    "breadth=float(input('Enter the breadth of the rectangle'))\n",
    "area=length*breadth\n",
    "print(\"Area of the Rectangle with length: \",length,' and breadth: ',breadth,' = ' + str(area))"
   ]
  },
  {
   "cell_type": "markdown",
   "id": "9127e919-d18d-4df3-83cb-110fbf5ca6b8",
   "metadata": {},
   "source": [
    "# 3. Celsius to Fahrenheit"
   ]
  },
  {
   "cell_type": "code",
   "execution_count": 1,
   "id": "693aab82-8273-4e9e-8b22-5b6899953e90",
   "metadata": {},
   "outputs": [
    {
     "name": "stdin",
     "output_type": "stream",
     "text": [
      "Enter the Temperature in Celsius 234\n"
     ]
    },
    {
     "name": "stdout",
     "output_type": "stream",
     "text": [
      "Temperature  234.0  Celsius =  453.2  Fahrenheit\n"
     ]
    }
   ],
   "source": [
    "c = float(input(\"Enter the Temperature in Celsius\"))\n",
    "f = (c*9/5)+32\n",
    "print(\"Temperature \",c,\" Celsius = \",f,\" Fahrenheit\")"
   ]
  },
  {
   "cell_type": "markdown",
   "id": "a08229f4-db6e-41e2-880f-87cc267f6702",
   "metadata": {},
   "source": [
    "# 4. Program that takes a string as an input and gives its length"
   ]
  },
  {
   "cell_type": "code",
   "execution_count": 3,
   "id": "c2f4fffa-68b7-4b6d-ac99-1056a579c2f8",
   "metadata": {},
   "outputs": [
    {
     "name": "stdin",
     "output_type": "stream",
     "text": [
      "Enter the String gfsdfadagfd\n"
     ]
    },
    {
     "name": "stdout",
     "output_type": "stream",
     "text": [
      "The length of the String =  11\n"
     ]
    }
   ],
   "source": [
    "s=input(\"Enter the String\")\n",
    "length_of_string=len(s)\n",
    "print(\"The length of the String = \", length_of_string)"
   ]
  },
  {
   "cell_type": "markdown",
   "id": "0f969dac-db5a-4ad7-810d-741526e2f604",
   "metadata": {},
   "source": [
    "# 5. Program to count the number of Vowels in a String"
   ]
  },
  {
   "cell_type": "code",
   "execution_count": 9,
   "id": "a4aeacdf-9f1d-4fb9-903c-ea8245591292",
   "metadata": {},
   "outputs": [
    {
     "name": "stdin",
     "output_type": "stream",
     "text": [
      "Enter a String or a Sentence hdgsaAEIo uiufsftae\n"
     ]
    },
    {
     "name": "stdout",
     "output_type": "stream",
     "text": [
      "The number of Vowels in the String =  10\n"
     ]
    }
   ],
   "source": [
    "string=input(\"Enter a String or a Sentence\")\n",
    "count=0        \n",
    "for i in string:\n",
    "    \n",
    "    if (i in 'AEIOU') or (i in  'aeiou'):\n",
    "        count+=1\n",
    "print(\"The number of Vowels in the String = \",count)\n",
    "    "
   ]
  },
  {
   "cell_type": "markdown",
   "id": "3d750ba3-ce82-44fc-a86c-d6fbdc9911cd",
   "metadata": {},
   "source": [
    "# 6. Reverse a string using Slicing"
   ]
  },
  {
   "cell_type": "code",
   "execution_count": 10,
   "id": "0540be01-412f-4afe-8833-a7e665251061",
   "metadata": {},
   "outputs": [
    {
     "name": "stdin",
     "output_type": "stream",
     "text": [
      "Enter a String jgafdas tasrd\n"
     ]
    },
    {
     "name": "stdout",
     "output_type": "stream",
     "text": [
      "Reversed String =  drsat sadfagj\n"
     ]
    }
   ],
   "source": [
    "string=input(\"Enter a String\")\n",
    "reversed_string=string[::-1]\n",
    "print(\"Reversed String = \",reversed_string)"
   ]
  },
  {
   "cell_type": "markdown",
   "id": "12e68680-747d-4e7b-a718-f2d19c348cbb",
   "metadata": {},
   "source": [
    "# 7. Program to check Palindrome of a string"
   ]
  },
  {
   "cell_type": "code",
   "execution_count": 2,
   "id": "0caac55e-6134-479d-84f8-c9b567c990ba",
   "metadata": {},
   "outputs": [
    {
     "name": "stdin",
     "output_type": "stream",
     "text": [
      "Enter a string ahs Th  ht SHA\n"
     ]
    },
    {
     "name": "stdout",
     "output_type": "stream",
     "text": [
      "The string is Palindrome\n"
     ]
    }
   ],
   "source": [
    "string=input(\"Enter a string\")\n",
    "string=string.upper()\n",
    "rev=string[::-1]\n",
    "if string==rev:\n",
    "    print(\"The string is Palindrome\")\n",
    "else:\n",
    "    print(\"The String is not Palindrome\")"
   ]
  },
  {
   "cell_type": "markdown",
   "id": "0a1787a1-c603-4024-8013-1303056384ec",
   "metadata": {},
   "source": [
    "# 8. Program to delete spaces from a String"
   ]
  },
  {
   "cell_type": "code",
   "execution_count": 3,
   "id": "669e08e4-1e7f-4a60-93a0-4c2997c459a1",
   "metadata": {},
   "outputs": [
    {
     "name": "stdin",
     "output_type": "stream",
     "text": [
      "Enter a String asdj 7  hyyy\n"
     ]
    },
    {
     "name": "stdout",
     "output_type": "stream",
     "text": [
      "The output String=  asdj7hyyy\n"
     ]
    }
   ],
   "source": [
    "input_string=input(\"Enter a String\")\n",
    "new_string=input_string.replace(' ','')\n",
    "print(\"The output String= \",new_string)"
   ]
  },
  {
   "cell_type": "code",
   "execution_count": null,
   "id": "bcbb9ef1-6ad6-410a-99d9-2a15b2272755",
   "metadata": {},
   "outputs": [],
   "source": []
  }
 ],
 "metadata": {
  "kernelspec": {
   "display_name": "Python 3 (ipykernel)",
   "language": "python",
   "name": "python3"
  },
  "language_info": {
   "codemirror_mode": {
    "name": "ipython",
    "version": 3
   },
   "file_extension": ".py",
   "mimetype": "text/x-python",
   "name": "python",
   "nbconvert_exporter": "python",
   "pygments_lexer": "ipython3",
   "version": "3.10.8"
  }
 },
 "nbformat": 4,
 "nbformat_minor": 5
}
