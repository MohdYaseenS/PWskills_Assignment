{
 "cells": [
  {
   "cell_type": "code",
   "execution_count": 2,
   "id": "f684fa8e-9fd1-445c-93c1-49f4d1d58996",
   "metadata": {},
   "outputs": [],
   "source": [
    "# Problem 1 :\n",
    "def quicksort(arr):\n",
    "    if len(arr) <= 1:\n",
    "        return arr\n",
    "    pivot = arr[len(arr) // 2]\n",
    "    left = [x for x in arr if x < pivot]\n",
    "    middle = [x for x in arr if x == pivot]\n",
    "    right = [x for x in arr if x > pivot]\n",
    "    return quicksort(left) + middle + quicksort(right)\n",
    "\n"
   ]
  },
  {
   "cell_type": "code",
   "execution_count": null,
   "id": "3d464e4a-dcc4-4f79-8f00-4aa1143f1d5d",
   "metadata": {},
   "outputs": [],
   "source": []
  },
  {
   "cell_type": "code",
   "execution_count": null,
   "id": "c5df6fda-9091-4a33-9690-275637e99e0b",
   "metadata": {},
   "outputs": [],
   "source": [
    "# Problem 2 :\n",
    "def nested_loop_example(matrix):\n",
    "    rows, cols = len(matrix), len(matrix[0])\n",
    "    total = 0\n",
    "    for i in range(rows):\n",
    "        for j in range(cols):\n",
    "            total += matrix[i][j]\n",
    "    return total\n"
   ]
  },
  {
   "cell_type": "code",
   "execution_count": null,
   "id": "a03535df-5cfc-44bb-988b-0fedada53228",
   "metadata": {},
   "outputs": [],
   "source": [
    "O(n*m)\n",
    "where n - number of rows\n",
    "      m - number of columns  "
   ]
  },
  {
   "cell_type": "code",
   "execution_count": null,
   "id": "b30b321e-cf08-4711-af39-d3c3d11b367f",
   "metadata": {},
   "outputs": [],
   "source": [
    "# Problem 3 :\n",
    "def example_function(arr):\n",
    "    result = 0\n",
    "    for element in arr:\n",
    "        result += element\n",
    "    return result"
   ]
  },
  {
   "cell_type": "raw",
   "id": "46e89794-ae21-47e7-85ce-8eb314fff6bc",
   "metadata": {},
   "source": [
    "O(n) where n is the number of elemnts in the array arr"
   ]
  },
  {
   "cell_type": "code",
   "execution_count": 6,
   "id": "92c42f6a-030f-45c8-8cbf-a50325c495e1",
   "metadata": {},
   "outputs": [],
   "source": [
    "# Problem 4 :\n",
    "def longest_increasing_subsequence(nums):\n",
    "    n = len(nums)\n",
    "    lis = [1] * n\n",
    "    for i in range(1, n):\n",
    "        for j in range(0, i):\n",
    "            if nums[i] > nums[j] and lis[i] < lis[j] + 1:\n",
    "                lis[i] = lis[j] + 1\n",
    "    return max(lis)"
   ]
  },
  {
   "cell_type": "raw",
   "id": "44cb385c-e415-402c-9ca4-3928ae2bc418",
   "metadata": {},
   "source": [
    "O(n**2)"
   ]
  },
  {
   "cell_type": "code",
   "execution_count": 7,
   "id": "7784867c-c458-498e-af5f-690e13a0ef34",
   "metadata": {},
   "outputs": [],
   "source": [
    "# Problem 5 :\n",
    "def mysterious_function(arr):\n",
    "    n = len(arr)\n",
    "    result = 0\n",
    "    for i in range(n):\n",
    "        for j in range(i, n):\n",
    "            result += arr[i] * arr[j]\n",
    "    return result"
   ]
  },
  {
   "cell_type": "raw",
   "id": "ef7e75e5-332a-4371-949a-bc3274521172",
   "metadata": {},
   "source": [
    "O(n**2)"
   ]
  },
  {
   "cell_type": "markdown",
   "id": "0ca07bc8-a555-42fe-83e1-1b77904ba396",
   "metadata": {},
   "source": [
    "# Problem 6 : Sum of Digits"
   ]
  },
  {
   "cell_type": "code",
   "execution_count": 4,
   "id": "98c9684f-5515-41f1-a668-90cd1a27957d",
   "metadata": {},
   "outputs": [
    {
     "name": "stdin",
     "output_type": "stream",
     "text": [
      "Enther the number 12344\n"
     ]
    },
    {
     "name": "stdout",
     "output_type": "stream",
     "text": [
      "14\n"
     ]
    }
   ],
   "source": [
    "num=int(input('Enther the number'))\n",
    "def sum_digit(num):\n",
    "    if num<=0:\n",
    "        return 0\n",
    "    return num%10 + sum_digit(int(num/10))\n",
    "print(sum_digit(num))"
   ]
  },
  {
   "cell_type": "markdown",
   "id": "5aee9ce2-10af-42aa-a02c-30abe635bafe",
   "metadata": {},
   "source": [
    "# Problem 7: Fibonacci Series"
   ]
  },
  {
   "cell_type": "code",
   "execution_count": 6,
   "id": "9ccc544d-5058-42dd-a69e-502e61ec4da0",
   "metadata": {},
   "outputs": [
    {
     "name": "stdin",
     "output_type": "stream",
     "text": [
      "Enter a Number 7\n"
     ]
    },
    {
     "name": "stdout",
     "output_type": "stream",
     "text": [
      "0 1 1 2 3 5 8 "
     ]
    }
   ],
   "source": [
    "def fibo(n):\n",
    "    if n==1:\n",
    "        return 1\n",
    "    if n==0:\n",
    "        return 0\n",
    "    return fibo(n-1)+fibo(n-2)\n",
    "n=int(input('Enter a Number'))\n",
    "for i in range(n):\n",
    "    print(fibo(i),end=' ')"
   ]
  },
  {
   "cell_type": "markdown",
   "id": "2e9f7f32-ca77-46c1-9c9d-5f9b7845bd89",
   "metadata": {},
   "source": [
    "# 8. Given a set of positive integers and a target sum, write a recursive function to determine if there exists a subset of the integers that adds up to the target sum."
   ]
  },
  {
   "cell_type": "code",
   "execution_count": 10,
   "id": "5234a23d-2381-4a66-890c-a46cf458266c",
   "metadata": {},
   "outputs": [],
   "source": [
    "def issubset_sum(arr,target):\n",
    "    n=len(arr)\n",
    "    if target==0:\n",
    "        return True\n",
    "    if n==0 and target!=0:\n",
    "        return False\n",
    "    if arr[n-1]>target:\n",
    "        return issubset_sum(arr[:n-1],target)\n",
    "    return issubset_sum(arr[:n-1],target) or issubset_sum(arr[:n-1],target-arr[n-1])"
   ]
  },
  {
   "cell_type": "code",
   "execution_count": 16,
   "id": "3fd7fd7f-e88e-48ab-95dd-40091f752fc6",
   "metadata": {},
   "outputs": [
    {
     "data": {
      "text/plain": [
       "False"
      ]
     },
     "execution_count": 16,
     "metadata": {},
     "output_type": "execute_result"
    }
   ],
   "source": [
    "arr=[3,34,4,12,5,2]\n",
    "target=1\n",
    "issubset_sum(arr,target)"
   ]
  },
  {
   "cell_type": "markdown",
   "id": "1a471c8a-7c68-41e6-9135-38c73f07b3c4",
   "metadata": {},
   "source": [
    "# Problem 9: Word Break"
   ]
  },
  {
   "cell_type": "code",
   "execution_count": 5,
   "id": "02fbaaf9-f8d0-417a-8c41-df3c394d13da",
   "metadata": {},
   "outputs": [
    {
     "name": "stdout",
     "output_type": "stream",
     "text": [
      "False\n"
     ]
    }
   ],
   "source": [
    "def wordbreak(wordlist,word):\n",
    "    if word==\"\":\n",
    "        return True\n",
    "    else:\n",
    "        wordlen=len(word)\n",
    "        for i in range(1,wordlen+1):\n",
    "            if word[:i] in wordlist and wordbreak(wordlist,word[i:]):\n",
    "                return True\n",
    "    return False\n",
    "            \n",
    "wordlist=['i', 'am','sung','sam']\n",
    "word='samksung'\n",
    "print(wordbreak(wordlist,word))\n",
    "                "
   ]
  },
  {
   "cell_type": "markdown",
   "id": "a40dcfe5-89f0-46d4-9e41-3afd20f1cab1",
   "metadata": {},
   "source": [
    "# Problem 10 : N-Queens Implement a recursive function to solve the N Queens problem, where you have to place N queens on an N×N chessboard in such a way that no two queens threaten each other. n_queens(4)"
   ]
  },
  {
   "cell_type": "code",
   "execution_count": 17,
   "id": "e610233f-9773-4b53-8078-238c462f2382",
   "metadata": {},
   "outputs": [
    {
     "name": "stdin",
     "output_type": "stream",
     "text": [
      "Enter the number of queens 8\n"
     ]
    },
    {
     "name": "stdout",
     "output_type": "stream",
     "text": [
      "['Q', '-', '-', '-', '-', '-', '-', '-']\n",
      "['-', '-', '-', '-', 'Q', '-', '-', '-']\n",
      "['-', '-', '-', '-', '-', '-', '-', 'Q']\n",
      "['-', '-', '-', '-', '-', 'Q', '-', '-']\n",
      "['-', '-', 'Q', '-', '-', '-', '-', '-']\n",
      "['-', '-', '-', '-', '-', '-', 'Q', '-']\n",
      "['-', 'Q', '-', '-', '-', '-', '-', '-']\n",
      "['-', '-', '-', 'Q', '-', '-', '-', '-']\n"
     ]
    }
   ],
   "source": [
    "n=int(input('Enter the number of queens'))\n",
    "def issafe(board,row,col):\n",
    "    for i in range(row,-1,-1):\n",
    "        if board[i][col]=='Q':\n",
    "            return False\n",
    "    for i,j in zip(range(row,-1,-1),range(col,-1,-1)):\n",
    "        if board[i][j]=='Q':\n",
    "            return False\n",
    "    for i , j in zip(range(row,-1,-1),range(col,n)):\n",
    "        if board[i][j]=='Q':\n",
    "            return False\n",
    "    return True\n",
    "\n",
    "def nqueens(board,row):\n",
    "    if row==n:\n",
    "        return True\n",
    "    for i in range(n):\n",
    "        if issafe(board,row,i):\n",
    "            board[row][i]='Q'\n",
    "            if nqueens(board,row+1):\n",
    "                return True\n",
    "            board[row][i]='-'\n",
    "    return False\n",
    "\n",
    "board=[['-']*n for i in range(n)]\n",
    "nqueens(board,0)\n",
    "for i in board:\n",
    "    print(i)"
   ]
  }
 ],
 "metadata": {
  "kernelspec": {
   "display_name": "Python 3 (ipykernel)",
   "language": "python",
   "name": "python3"
  },
  "language_info": {
   "codemirror_mode": {
    "name": "ipython",
    "version": 3
   },
   "file_extension": ".py",
   "mimetype": "text/x-python",
   "name": "python",
   "nbconvert_exporter": "python",
   "pygments_lexer": "ipython3",
   "version": "3.10.8"
  }
 },
 "nbformat": 4,
 "nbformat_minor": 5
}
