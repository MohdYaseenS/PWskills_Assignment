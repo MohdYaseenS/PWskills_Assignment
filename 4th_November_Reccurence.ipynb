{
 "cells": [
  {
   "cell_type": "markdown",
   "id": "08b08ebb-c7ca-41b2-b7c2-44acaf372488",
   "metadata": {},
   "source": [
    "# Q.1 Can you explain the logic and working of the Tower of Hanoi algorithm by writing a Java program? How does the recursion work, and how are the movements of disks between rods accomplished?"
   ]
  },
  {
   "cell_type": "code",
   "execution_count": null,
   "id": "3f5bf1ec-4547-4700-ba06-57c00e51de1c",
   "metadata": {},
   "outputs": [],
   "source": [
    "Algorithm:\n",
    "1.\tMove (n-1) discs from A to B using C\n",
    "2.\tMove a disc from A to C\n",
    "3.\tMove (n-1) from B to C using A. \n",
    "Steps:\n",
    "1.\tA to C\n",
    "2.\tA to B\n",
    "3.\tC to B\n",
    "4.\tA to C\n",
    "5.\tB to A\n",
    "6.\tB to C\n",
    "7.\tA to C\n",
    "Pseudocode:\n",
    "Void TOH ( int n, int A, int B, int C ):\n",
    "\t If (n>0) :\n",
    " \t\tTOH ( n-1, A, C, B)\n",
    "\t\tPrint(“Move from A to C”)\n",
    "\t\tTOH (n-1, B, A, C)\n"
   ]
  },
  {
   "cell_type": "markdown",
   "id": "642de7ff-1a56-4f6e-898e-e843ecba2a51",
   "metadata": {},
   "source": [
    "# Q.2 Given two strings word1 and word2, return the minimum number of operations required to convert word1 to word2."
   ]
  },
  {
   "cell_type": "code",
   "execution_count": null,
   "id": "04b5dd78-4cb1-4058-bbc5-7ba845501b10",
   "metadata": {},
   "outputs": [],
   "source": []
  },
  {
   "cell_type": "markdown",
   "id": "87cbf858-d45c-4474-9d32-335ca3094451",
   "metadata": {},
   "source": [
    "# 3 Print the max value of the array [ 13, 1, -3, 22, 5]."
   ]
  },
  {
   "cell_type": "code",
   "execution_count": 5,
   "id": "901ef572-a745-49da-b7c7-a8c270e633d2",
   "metadata": {},
   "outputs": [
    {
     "name": "stdout",
     "output_type": "stream",
     "text": [
      "Largest Element in the array =  22\n"
     ]
    }
   ],
   "source": [
    "# Time Complexity = O(n)\n",
    "# Space Complexity = O(1)\n",
    "a=[13,1,-3,22,5]\n",
    "l=a[0]\n",
    "for i in a:\n",
    "    if i>=l:\n",
    "        l=i\n",
    "print(\"Largest Element in the array = \",l) "
   ]
  },
  {
   "cell_type": "markdown",
   "id": "50d60932-e496-4603-a751-f0d6bb7ab288",
   "metadata": {},
   "source": [
    "# 4 Find the sum of the values of the array [92, 23, 15, -20, 10]."
   ]
  },
  {
   "cell_type": "code",
   "execution_count": 11,
   "id": "67a22226-f624-4ee1-b76e-88793b1b0eba",
   "metadata": {},
   "outputs": [
    {
     "name": "stdout",
     "output_type": "stream",
     "text": [
      "Sum = 120\n"
     ]
    }
   ],
   "source": [
    "# Time Complexity = O(n)\n",
    "# Space Cpomplexity = O(1)\n",
    "a=[92,23,15,-20,10]\n",
    "s=0\n",
    "for i in a:\n",
    "    s+=i\n",
    "print(\"Sum =\",s)"
   ]
  },
  {
   "cell_type": "markdown",
   "id": "808737c1-db60-4103-9ef2-d3c80ce0d127",
   "metadata": {},
   "source": [
    "# 5 Given a number n. Print if it is an armstrong number or not.An armstrong number is a number if the sum of every digit in that number raised to the power of total digits in that number is equal to the number."
   ]
  },
  {
   "cell_type": "code",
   "execution_count": 36,
   "id": "ce4b7c4c-0c49-4df8-ad5c-06f060f92a5d",
   "metadata": {},
   "outputs": [
    {
     "name": "stdin",
     "output_type": "stream",
     "text": [
      "Enter the number 24678050\n"
     ]
    },
    {
     "name": "stdout",
     "output_type": "stream",
     "text": [
      "8\n",
      "24678050\n",
      "The number is Amstrong\n"
     ]
    }
   ],
   "source": [
    "# Time Complexity = O(n)   where n is the no of digits.\n",
    "# Space Complexity = O(1)\n",
    "n=int(input('Enter the number'))\n",
    "c=0\n",
    "n_c=n\n",
    "while n!=0:\n",
    "    n=n//10\n",
    "    c+=1\n",
    "print(c)\n",
    "s=0\n",
    "n=n_c\n",
    "while n!=0:\n",
    "    a=n%10\n",
    "    s+=a**c\n",
    "    n=int(n/10)\n",
    "print(s)\n",
    "if s==n_c:\n",
    "    print(\"The number is Amstrong\")\n",
    "else:\n",
    "    print(\"The number is not Amstrong\")"
   ]
  },
  {
   "cell_type": "markdown",
   "id": "bfa6f338-d092-4550-a2ee-b1a16abd0e1a",
   "metadata": {},
   "source": []
  }
 ],
 "metadata": {
  "kernelspec": {
   "display_name": "Python 3 (ipykernel)",
   "language": "python",
   "name": "python3"
  },
  "language_info": {
   "codemirror_mode": {
    "name": "ipython",
    "version": 3
   },
   "file_extension": ".py",
   "mimetype": "text/x-python",
   "name": "python",
   "nbconvert_exporter": "python",
   "pygments_lexer": "ipython3",
   "version": "3.10.8"
  }
 },
 "nbformat": 4,
 "nbformat_minor": 5
}
